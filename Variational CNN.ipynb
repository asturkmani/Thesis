{
 "cells": [
  {
   "cell_type": "code",
   "execution_count": 1,
   "metadata": {},
   "outputs": [
    {
     "name": "stderr",
     "output_type": "stream",
     "text": [
      "Using TensorFlow backend.\n"
     ]
    }
   ],
   "source": [
    "import numpy as np\n",
    "import tensorflow as tf\n",
    "\n",
    "import pandas as pd\n",
    "from scipy.stats import norm\n",
    "\n",
    "from keras.models import *\n",
    "from keras.layers import *\n",
    "from keras.optimizers import *\n",
    "from keras import regularizers\n",
    "from keras.callbacks import EarlyStopping, ReduceLROnPlateau\n",
    "from keras import backend as K\n",
    "from keras import metrics\n",
    "from keras.datasets import mnist\n",
    "from nn_models import *\n",
    "import pickle\n",
    "\n",
    "from IPython.display import HTML\n",
    "\n",
    "from utils import *\n",
    "from IPython.display import SVG\n",
    "from keras.utils.vis_utils import model_to_dot\n",
    "__date__ = '2017-08-04'"
   ]
  },
  {
   "cell_type": "markdown",
   "metadata": {},
   "source": [
    "# BUILD CONDITIONAL VAE where conditional inputs are Time, Day, and Summary of past events!"
   ]
  },
  {
   "cell_type": "code",
   "execution_count": 5,
   "metadata": {},
   "outputs": [
    {
     "ename": "TypeError",
     "evalue": "Expected int32, got list containing Tensors of type '_Message' instead.",
     "output_type": "error",
     "traceback": [
      "\u001b[0;31m---------------------------------------------------------------------------\u001b[0m",
      "\u001b[0;31mTypeError\u001b[0m                                 Traceback (most recent call last)",
      "\u001b[0;32m<ipython-input-5-eb2e08138b69>\u001b[0m in \u001b[0;36m<module>\u001b[0;34m()\u001b[0m\n\u001b[1;32m     38\u001b[0m \u001b[0msummary_prev\u001b[0m \u001b[0;34m=\u001b[0m \u001b[0mDense\u001b[0m\u001b[0;34m(\u001b[0m\u001b[0moriginal_dim\u001b[0m\u001b[0;34m,\u001b[0m \u001b[0mactivation\u001b[0m\u001b[0;34m=\u001b[0m\u001b[0;34m'relu'\u001b[0m\u001b[0;34m,\u001b[0m\u001b[0mname\u001b[0m\u001b[0;34m=\u001b[0m\u001b[0;34m'Dense_Out2'\u001b[0m\u001b[0;34m)\u001b[0m\u001b[0;34m(\u001b[0m\u001b[0mdense1\u001b[0m\u001b[0;34m)\u001b[0m\u001b[0;34m\u001b[0m\u001b[0m\n\u001b[1;32m     39\u001b[0m \u001b[0;34m\u001b[0m\u001b[0m\n\u001b[0;32m---> 40\u001b[0;31m \u001b[0minputs\u001b[0m \u001b[0;34m=\u001b[0m \u001b[0mConcatenate\u001b[0m\u001b[0;34m(\u001b[0m\u001b[0;34m)\u001b[0m\u001b[0;34m(\u001b[0m\u001b[0;34m[\u001b[0m\u001b[0mX\u001b[0m\u001b[0;34m,\u001b[0m \u001b[0msummary_prev\u001b[0m\u001b[0;34m]\u001b[0m\u001b[0;34m)\u001b[0m\u001b[0;34m\u001b[0m\u001b[0m\n\u001b[0m\u001b[1;32m     41\u001b[0m \u001b[0mencoder_hidden\u001b[0m \u001b[0;34m=\u001b[0m \u001b[0mDense\u001b[0m\u001b[0;34m(\u001b[0m\u001b[0;36m15\u001b[0m\u001b[0;34m,\u001b[0m \u001b[0mactivation\u001b[0m\u001b[0;34m=\u001b[0m\u001b[0;34m'relu'\u001b[0m\u001b[0;34m)\u001b[0m\u001b[0;34m(\u001b[0m\u001b[0minputs\u001b[0m\u001b[0;34m)\u001b[0m\u001b[0;34m\u001b[0m\u001b[0m\n\u001b[1;32m     42\u001b[0m \u001b[0mmu\u001b[0m \u001b[0;34m=\u001b[0m \u001b[0mDense\u001b[0m\u001b[0;34m(\u001b[0m\u001b[0mn_z\u001b[0m\u001b[0;34m,\u001b[0m \u001b[0mactivation\u001b[0m\u001b[0;34m=\u001b[0m\u001b[0;34m'linear'\u001b[0m\u001b[0;34m,\u001b[0m \u001b[0mname\u001b[0m\u001b[0;34m=\u001b[0m\u001b[0;34m'mu'\u001b[0m\u001b[0;34m)\u001b[0m\u001b[0;34m(\u001b[0m\u001b[0mencoder_hidden\u001b[0m\u001b[0;34m)\u001b[0m\u001b[0;34m\u001b[0m\u001b[0m\n",
      "\u001b[0;32m/Users/asturkmani/anaconda3/lib/python3.5/site-packages/keras/engine/topology.py\u001b[0m in \u001b[0;36m__call__\u001b[0;34m(self, inputs, **kwargs)\u001b[0m\n\u001b[1;32m    552\u001b[0m \u001b[0;34m\u001b[0m\u001b[0m\n\u001b[1;32m    553\u001b[0m             \u001b[0;31m# Actually call the layer, collecting output(s), mask(s), and shape(s).\u001b[0m\u001b[0;34m\u001b[0m\u001b[0;34m\u001b[0m\u001b[0m\n\u001b[0;32m--> 554\u001b[0;31m             \u001b[0moutput\u001b[0m \u001b[0;34m=\u001b[0m \u001b[0mself\u001b[0m\u001b[0;34m.\u001b[0m\u001b[0mcall\u001b[0m\u001b[0;34m(\u001b[0m\u001b[0minputs\u001b[0m\u001b[0;34m,\u001b[0m \u001b[0;34m**\u001b[0m\u001b[0mkwargs\u001b[0m\u001b[0;34m)\u001b[0m\u001b[0;34m\u001b[0m\u001b[0m\n\u001b[0m\u001b[1;32m    555\u001b[0m             \u001b[0moutput_mask\u001b[0m \u001b[0;34m=\u001b[0m \u001b[0mself\u001b[0m\u001b[0;34m.\u001b[0m\u001b[0mcompute_mask\u001b[0m\u001b[0;34m(\u001b[0m\u001b[0minputs\u001b[0m\u001b[0;34m,\u001b[0m \u001b[0mprevious_mask\u001b[0m\u001b[0;34m)\u001b[0m\u001b[0;34m\u001b[0m\u001b[0m\n\u001b[1;32m    556\u001b[0m \u001b[0;34m\u001b[0m\u001b[0m\n",
      "\u001b[0;32m/Users/asturkmani/anaconda3/lib/python3.5/site-packages/keras/layers/merge.py\u001b[0m in \u001b[0;36mcall\u001b[0;34m(self, inputs)\u001b[0m\n\u001b[1;32m    164\u001b[0m             raise ValueError('A `Concatenate` layer should be called '\n\u001b[1;32m    165\u001b[0m                              'on a list of inputs.')\n\u001b[0;32m--> 166\u001b[0;31m         \u001b[0;32mreturn\u001b[0m \u001b[0mK\u001b[0m\u001b[0;34m.\u001b[0m\u001b[0mconcatenate\u001b[0m\u001b[0;34m(\u001b[0m\u001b[0minputs\u001b[0m\u001b[0;34m,\u001b[0m \u001b[0maxis\u001b[0m\u001b[0;34m=\u001b[0m\u001b[0mself\u001b[0m\u001b[0;34m.\u001b[0m\u001b[0maxis\u001b[0m\u001b[0;34m)\u001b[0m\u001b[0;34m\u001b[0m\u001b[0m\n\u001b[0m\u001b[1;32m    167\u001b[0m \u001b[0;34m\u001b[0m\u001b[0m\n\u001b[1;32m    168\u001b[0m     \u001b[0;32mdef\u001b[0m \u001b[0mcompute_output_shape\u001b[0m\u001b[0;34m(\u001b[0m\u001b[0mself\u001b[0m\u001b[0;34m,\u001b[0m \u001b[0minput_shape\u001b[0m\u001b[0;34m)\u001b[0m\u001b[0;34m:\u001b[0m\u001b[0;34m\u001b[0m\u001b[0m\n",
      "\u001b[0;32m/Users/asturkmani/anaconda3/lib/python3.5/site-packages/keras/backend/tensorflow_backend.py\u001b[0m in \u001b[0;36mconcatenate\u001b[0;34m(tensors, axis)\u001b[0m\n\u001b[1;32m   1523\u001b[0m         \u001b[0;32mreturn\u001b[0m \u001b[0mtf\u001b[0m\u001b[0;34m.\u001b[0m\u001b[0msparse_concat\u001b[0m\u001b[0;34m(\u001b[0m\u001b[0maxis\u001b[0m\u001b[0;34m,\u001b[0m \u001b[0mtensors\u001b[0m\u001b[0;34m)\u001b[0m\u001b[0;34m\u001b[0m\u001b[0m\n\u001b[1;32m   1524\u001b[0m     \u001b[0;32melse\u001b[0m\u001b[0;34m:\u001b[0m\u001b[0;34m\u001b[0m\u001b[0m\n\u001b[0;32m-> 1525\u001b[0;31m         \u001b[0;32mreturn\u001b[0m \u001b[0mtf\u001b[0m\u001b[0;34m.\u001b[0m\u001b[0mconcat\u001b[0m\u001b[0;34m(\u001b[0m\u001b[0;34m[\u001b[0m\u001b[0mto_dense\u001b[0m\u001b[0;34m(\u001b[0m\u001b[0mx\u001b[0m\u001b[0;34m)\u001b[0m \u001b[0;32mfor\u001b[0m \u001b[0mx\u001b[0m \u001b[0;32min\u001b[0m \u001b[0mtensors\u001b[0m\u001b[0;34m]\u001b[0m\u001b[0;34m,\u001b[0m \u001b[0maxis\u001b[0m\u001b[0;34m)\u001b[0m\u001b[0;34m\u001b[0m\u001b[0m\n\u001b[0m\u001b[1;32m   1526\u001b[0m \u001b[0;34m\u001b[0m\u001b[0m\n\u001b[1;32m   1527\u001b[0m \u001b[0;34m\u001b[0m\u001b[0m\n",
      "\u001b[0;32m/Users/asturkmani/anaconda3/lib/python3.5/site-packages/tensorflow/python/ops/array_ops.py\u001b[0m in \u001b[0;36mconcat\u001b[0;34m(concat_dim, values, name)\u001b[0m\n\u001b[1;32m   1073\u001b[0m       ops.convert_to_tensor(concat_dim,\n\u001b[1;32m   1074\u001b[0m                             \u001b[0mname\u001b[0m\u001b[0;34m=\u001b[0m\u001b[0;34m\"concat_dim\"\u001b[0m\u001b[0;34m,\u001b[0m\u001b[0;34m\u001b[0m\u001b[0m\n\u001b[0;32m-> 1075\u001b[0;31m                             \u001b[0mdtype\u001b[0m\u001b[0;34m=\u001b[0m\u001b[0mdtypes\u001b[0m\u001b[0;34m.\u001b[0m\u001b[0mint32\u001b[0m\u001b[0;34m)\u001b[0m\u001b[0;34m.\u001b[0m\u001b[0mget_shape\u001b[0m\u001b[0;34m(\u001b[0m\u001b[0;34m\u001b[0m\u001b[0m\n\u001b[0m\u001b[1;32m   1076\u001b[0m                             ).assert_is_compatible_with(tensor_shape.scalar())\n\u001b[1;32m   1077\u001b[0m       \u001b[0;32mreturn\u001b[0m \u001b[0midentity\u001b[0m\u001b[0;34m(\u001b[0m\u001b[0mvalues\u001b[0m\u001b[0;34m[\u001b[0m\u001b[0;36m0\u001b[0m\u001b[0;34m]\u001b[0m\u001b[0;34m,\u001b[0m \u001b[0mname\u001b[0m\u001b[0;34m=\u001b[0m\u001b[0mscope\u001b[0m\u001b[0;34m)\u001b[0m\u001b[0;34m\u001b[0m\u001b[0m\n",
      "\u001b[0;32m/Users/asturkmani/anaconda3/lib/python3.5/site-packages/tensorflow/python/framework/ops.py\u001b[0m in \u001b[0;36mconvert_to_tensor\u001b[0;34m(value, dtype, name, as_ref, preferred_dtype)\u001b[0m\n\u001b[1;32m    667\u001b[0m \u001b[0;34m\u001b[0m\u001b[0m\n\u001b[1;32m    668\u001b[0m         \u001b[0;32mif\u001b[0m \u001b[0mret\u001b[0m \u001b[0;32mis\u001b[0m \u001b[0;32mNone\u001b[0m\u001b[0;34m:\u001b[0m\u001b[0;34m\u001b[0m\u001b[0m\n\u001b[0;32m--> 669\u001b[0;31m           \u001b[0mret\u001b[0m \u001b[0;34m=\u001b[0m \u001b[0mconversion_func\u001b[0m\u001b[0;34m(\u001b[0m\u001b[0mvalue\u001b[0m\u001b[0;34m,\u001b[0m \u001b[0mdtype\u001b[0m\u001b[0;34m=\u001b[0m\u001b[0mdtype\u001b[0m\u001b[0;34m,\u001b[0m \u001b[0mname\u001b[0m\u001b[0;34m=\u001b[0m\u001b[0mname\u001b[0m\u001b[0;34m,\u001b[0m \u001b[0mas_ref\u001b[0m\u001b[0;34m=\u001b[0m\u001b[0mas_ref\u001b[0m\u001b[0;34m)\u001b[0m\u001b[0;34m\u001b[0m\u001b[0m\n\u001b[0m\u001b[1;32m    670\u001b[0m \u001b[0;34m\u001b[0m\u001b[0m\n\u001b[1;32m    671\u001b[0m         \u001b[0;32mif\u001b[0m \u001b[0mret\u001b[0m \u001b[0;32mis\u001b[0m \u001b[0mNotImplemented\u001b[0m\u001b[0;34m:\u001b[0m\u001b[0;34m\u001b[0m\u001b[0m\n",
      "\u001b[0;32m/Users/asturkmani/anaconda3/lib/python3.5/site-packages/tensorflow/python/framework/constant_op.py\u001b[0m in \u001b[0;36m_constant_tensor_conversion_function\u001b[0;34m(v, dtype, name, as_ref)\u001b[0m\n\u001b[1;32m    174\u001b[0m                                          as_ref=False):\n\u001b[1;32m    175\u001b[0m   \u001b[0m_\u001b[0m \u001b[0;34m=\u001b[0m \u001b[0mas_ref\u001b[0m\u001b[0;34m\u001b[0m\u001b[0m\n\u001b[0;32m--> 176\u001b[0;31m   \u001b[0;32mreturn\u001b[0m \u001b[0mconstant\u001b[0m\u001b[0;34m(\u001b[0m\u001b[0mv\u001b[0m\u001b[0;34m,\u001b[0m \u001b[0mdtype\u001b[0m\u001b[0;34m=\u001b[0m\u001b[0mdtype\u001b[0m\u001b[0;34m,\u001b[0m \u001b[0mname\u001b[0m\u001b[0;34m=\u001b[0m\u001b[0mname\u001b[0m\u001b[0;34m)\u001b[0m\u001b[0;34m\u001b[0m\u001b[0m\n\u001b[0m\u001b[1;32m    177\u001b[0m \u001b[0;34m\u001b[0m\u001b[0m\n\u001b[1;32m    178\u001b[0m \u001b[0;34m\u001b[0m\u001b[0m\n",
      "\u001b[0;32m/Users/asturkmani/anaconda3/lib/python3.5/site-packages/tensorflow/python/framework/constant_op.py\u001b[0m in \u001b[0;36mconstant\u001b[0;34m(value, dtype, shape, name, verify_shape)\u001b[0m\n\u001b[1;32m    163\u001b[0m   \u001b[0mtensor_value\u001b[0m \u001b[0;34m=\u001b[0m \u001b[0mattr_value_pb2\u001b[0m\u001b[0;34m.\u001b[0m\u001b[0mAttrValue\u001b[0m\u001b[0;34m(\u001b[0m\u001b[0;34m)\u001b[0m\u001b[0;34m\u001b[0m\u001b[0m\n\u001b[1;32m    164\u001b[0m   tensor_value.tensor.CopyFrom(\n\u001b[0;32m--> 165\u001b[0;31m       tensor_util.make_tensor_proto(value, dtype=dtype, shape=shape, verify_shape=verify_shape))\n\u001b[0m\u001b[1;32m    166\u001b[0m   \u001b[0mdtype_value\u001b[0m \u001b[0;34m=\u001b[0m \u001b[0mattr_value_pb2\u001b[0m\u001b[0;34m.\u001b[0m\u001b[0mAttrValue\u001b[0m\u001b[0;34m(\u001b[0m\u001b[0mtype\u001b[0m\u001b[0;34m=\u001b[0m\u001b[0mtensor_value\u001b[0m\u001b[0;34m.\u001b[0m\u001b[0mtensor\u001b[0m\u001b[0;34m.\u001b[0m\u001b[0mdtype\u001b[0m\u001b[0;34m)\u001b[0m\u001b[0;34m\u001b[0m\u001b[0m\n\u001b[1;32m    167\u001b[0m   const_tensor = g.create_op(\n",
      "\u001b[0;32m/Users/asturkmani/anaconda3/lib/python3.5/site-packages/tensorflow/python/framework/tensor_util.py\u001b[0m in \u001b[0;36mmake_tensor_proto\u001b[0;34m(values, dtype, shape, verify_shape)\u001b[0m\n\u001b[1;32m    365\u001b[0m       \u001b[0mnparray\u001b[0m \u001b[0;34m=\u001b[0m \u001b[0mnp\u001b[0m\u001b[0;34m.\u001b[0m\u001b[0mempty\u001b[0m\u001b[0;34m(\u001b[0m\u001b[0mshape\u001b[0m\u001b[0;34m,\u001b[0m \u001b[0mdtype\u001b[0m\u001b[0;34m=\u001b[0m\u001b[0mnp_dt\u001b[0m\u001b[0;34m)\u001b[0m\u001b[0;34m\u001b[0m\u001b[0m\n\u001b[1;32m    366\u001b[0m     \u001b[0;32melse\u001b[0m\u001b[0;34m:\u001b[0m\u001b[0;34m\u001b[0m\u001b[0m\n\u001b[0;32m--> 367\u001b[0;31m       \u001b[0m_AssertCompatible\u001b[0m\u001b[0;34m(\u001b[0m\u001b[0mvalues\u001b[0m\u001b[0;34m,\u001b[0m \u001b[0mdtype\u001b[0m\u001b[0;34m)\u001b[0m\u001b[0;34m\u001b[0m\u001b[0m\n\u001b[0m\u001b[1;32m    368\u001b[0m       \u001b[0mnparray\u001b[0m \u001b[0;34m=\u001b[0m \u001b[0mnp\u001b[0m\u001b[0;34m.\u001b[0m\u001b[0marray\u001b[0m\u001b[0;34m(\u001b[0m\u001b[0mvalues\u001b[0m\u001b[0;34m,\u001b[0m \u001b[0mdtype\u001b[0m\u001b[0;34m=\u001b[0m\u001b[0mnp_dt\u001b[0m\u001b[0;34m)\u001b[0m\u001b[0;34m\u001b[0m\u001b[0m\n\u001b[1;32m    369\u001b[0m       \u001b[0;31m# check to them.\u001b[0m\u001b[0;34m\u001b[0m\u001b[0;34m\u001b[0m\u001b[0m\n",
      "\u001b[0;32m/Users/asturkmani/anaconda3/lib/python3.5/site-packages/tensorflow/python/framework/tensor_util.py\u001b[0m in \u001b[0;36m_AssertCompatible\u001b[0;34m(values, dtype)\u001b[0m\n\u001b[1;32m    300\u001b[0m     \u001b[0;32melse\u001b[0m\u001b[0;34m:\u001b[0m\u001b[0;34m\u001b[0m\u001b[0m\n\u001b[1;32m    301\u001b[0m       raise TypeError(\"Expected %s, got %s of type '%s' instead.\" %\n\u001b[0;32m--> 302\u001b[0;31m                       (dtype.name, repr(mismatch), type(mismatch).__name__))\n\u001b[0m\u001b[1;32m    303\u001b[0m \u001b[0;34m\u001b[0m\u001b[0m\n\u001b[1;32m    304\u001b[0m \u001b[0;34m\u001b[0m\u001b[0m\n",
      "\u001b[0;31mTypeError\u001b[0m: Expected int32, got list containing Tensors of type '_Message' instead."
     ]
    }
   ],
   "source": [
    "def sample_z(args):\n",
    "    mu, l_sigma = args\n",
    "    eps = K.random_normal(shape=(m, n_z), mean=0., stddev=1.)\n",
    "    return mu + K.exp(l_sigma / 2) * eps\n",
    "\n",
    "batch_size = 100\n",
    "original_dim = 15\n",
    "latent_dim = 2\n",
    "m = batch_size # batch size\n",
    "n_z = 2 # latent space size\n",
    "conv_intermediate = 32\n",
    "intermediate_dim = 10\n",
    "decoder_dim = intermediate_dim # dim of decoder hidden layer\n",
    "decoder_out_dim = original_dim # dim of decoder output layer\n",
    "\n",
    "n_x = original_dim\n",
    "n_epoch = 100\n",
    "n_d = 7\n",
    "window_size=6\n",
    "\n",
    "X = Input(shape=(n_x,), name='Input')\n",
    "previous_X = Input(shape=(window_size,n_x), name='Day')\n",
    "\n",
    "filter_length=3\n",
    "nb_input_series=original_dim\n",
    "nb_outputs=latent_dim\n",
    "nb_filter=16\n",
    "\n",
    "conv1 = Conv1D(name='Conv1', \n",
    "               filters=nb_filter, \n",
    "               kernel_size=filter_length, \n",
    "               activation='elu', \n",
    "               input_shape=(window_size, nb_input_series)\n",
    "              )(previous_X)\n",
    "\n",
    "flat1 = Flatten(name='Flatten')(conv1)\n",
    "dense1 = Dense(conv_intermediate, activation='relu', name='Hidden_dense')(flat1)\n",
    "summary_prev = Dense(original_dim, activation='relu',name='Dense_Out2')(dense1)   \n",
    "\n",
    "inputs = Concatenate()([X, summary_prev])\n",
    "encoder_hidden = Dense(15, activation='relu')(inputs)\n",
    "mu = Dense(n_z, activation='linear', name='mu')(encoder_hidden)\n",
    "l_sigma = Dense(original_dim, activation='linear', name='l_sigma')(encoder_hidden)\n",
    "\n",
    "\n",
    "# Sampling latent space\n",
    "z = Lambda(sample_z, output_shape = (n_z, ), name='Sampling')([mu, l_sigma])\n",
    "\n",
    "zc = Concatenate()([z, summary_prev])\n",
    "decoder_hidden = Dense(decoder_dim, activation=activ, name='Decoder_H')\n",
    "decoder_out = Dense(decoder_out_dim, activation='linear', name='Output')\n",
    "d_h = decoder_hidden(zc)\n",
    "outputs = decoder_out(d_h)\n",
    "\n",
    "def vae_loss(y_true, y_pred):\n",
    "    recon = original_dim * metrics.mse(y_pred, y_true)\n",
    "    kl = 0.5 * K.sum(K.exp(l_sigma) + K.square(mu) - 1. - l_sigma, axis=1)\n",
    "    return recon + kl\n",
    "\n",
    "def KL_loss(y_true, y_pred):\n",
    "    return(0.5 * K.sum(K.exp(l_sigma) + K.square(mu) - 1. - l_sigma, axis=1))\n",
    "\n",
    "def recon_loss(y_true, y_pred):\n",
    "    return original_dim * metrics.mse(y_pred, y_true)\n",
    "\n",
    "# build a model to project inputs on the latent space\n",
    "\n",
    "\n",
    "d_in = Input(shape=(n_z+original_dim,))\n",
    "\n",
    "vae = Model([X, previous_X], outputs)\n",
    "encoder = Model([X, previous_X], mu)\n",
    "generator = Model(d_in, d_out)\n",
    "\n",
    "vae.compile(optimizer=optim,\n",
    "    loss=vae_loss,\n",
    "    metrics = [KL_loss, recon_loss])\n",
    "print(vae.summary())"
   ]
  },
  {
   "cell_type": "code",
   "execution_count": 9,
   "metadata": {},
   "outputs": [
    {
     "name": "stderr",
     "output_type": "stream",
     "text": [
      "/Users/asturkmani/Desktop/Thesis/utils.py:253: SettingWithCopyWarning: \n",
      "A value is trying to be set on a copy of a slice from a DataFrame.\n",
      "Try using .loc[row_indexer,col_indexer] = value instead\n",
      "\n",
      "See the caveats in the documentation: http://pandas.pydata.org/pandas-docs/stable/indexing.html#indexing-view-versus-copy\n",
      "  df['timestamp'] = pd.to_datetime(df['Date'])\n"
     ]
    },
    {
     "name": "stdout",
     "output_type": "stream",
     "text": [
      "(41178, 6, 1) (41178,) (41178, 6, 1) (41178,)\n"
     ]
    }
   ],
   "source": [
    "window_size = 6\n",
    "filter_length=3\n",
    "nb_filter=128\n",
    "batch_size = 100\n",
    "data_ = make_clean_data(window_size, batch_size,multiplier=1)\n",
    "\n",
    "time_percentage=0.9\n",
    "time_spent = data_['dataset'].sum(axis=0)/data_['dataset'].sum()*100"
   ]
  },
  {
   "cell_type": "code",
   "execution_count": 10,
   "metadata": {
    "collapsed": true
   },
   "outputs": [],
   "source": [
    "original_dim = data_['x_train_c'].shape[-1]\n",
    "\n",
    "time_dim = data_['time']\n",
    "days_dim = data_['days']\n",
    "latent_dim = 2\n",
    "intermediate_dim = 10\n",
    "epochs = 100"
   ]
  },
  {
   "cell_type": "code",
   "execution_count": 11,
   "metadata": {
    "collapsed": true
   },
   "outputs": [],
   "source": [
    "vae, encoder, generator = build_vae(original_dim,\n",
    "              batch_size = batch_size,\n",
    "              latent_dim = 2,\n",
    "              intermediate_dim = 10,\n",
    "              activ='relu',\n",
    "              optim=Adam(lr=0.0005),\n",
    "              epsilon_std=1.)"
   ]
  },
  {
   "cell_type": "code",
   "execution_count": 12,
   "metadata": {
    "collapsed": true
   },
   "outputs": [],
   "source": [
    "# SVG(model_to_dot(vae, show_shapes=True, show_layer_names=True).create(prog='dot', format='svg'))"
   ]
  },
  {
   "cell_type": "code",
   "execution_count": 13,
   "metadata": {
    "collapsed": true,
    "scrolled": true
   },
   "outputs": [],
   "source": [
    "vae_hist = vae.fit(data_['y_train_c'], \n",
    "                   data_['y_train_c'],\n",
    "                   verbose = 0,\n",
    "                   shuffle=False,\n",
    "                   batch_size=batch_size,\n",
    "                   epochs=epochs,\n",
    "                   validation_data = (\n",
    "                       data_['y_test_c'],\n",
    "                       data_['y_test_c']),\n",
    "                   callbacks = [\n",
    "                       EarlyStopping(patience = 5),\n",
    "                       ]\n",
    "                  )"
   ]
  },
  {
   "cell_type": "code",
   "execution_count": 37,
   "metadata": {},
   "outputs": [
    {
     "data": {
      "text/plain": [
       "array([[ -1.06004496e+01,  -5.50576970e-02],\n",
       "       [ -3.56227922e+00,   2.55234003e+00],\n",
       "       [ -9.67853703e-03,  -1.47561514e+00],\n",
       "       ..., \n",
       "       [ -1.75009787e+00,  -1.33870640e+01],\n",
       "       [ -1.75009787e+00,  -1.33870640e+01],\n",
       "       [ -1.75009787e+00,  -1.33870640e+01]], dtype=float32)"
      ]
     },
     "execution_count": 37,
     "metadata": {},
     "output_type": "execute_result"
    }
   ],
   "source": [
    "y_encoded = encoder.predict(data_['yc'])*1e3\n",
    "y_train_encoded = encoder.predict(data_['y_train_c'])*1e3\n",
    "y_test_encoded = encoder.predict(data_['y_test_c'])*1e3\n",
    "y_test_encoded"
   ]
  },
  {
   "cell_type": "code",
   "execution_count": 38,
   "metadata": {},
   "outputs": [
    {
     "name": "stdout",
     "output_type": "stream",
     "text": [
      "(18200, 6, 2) (14600, 6, 2) (3600, 6, 2)\n"
     ]
    }
   ],
   "source": [
    "X = list()\n",
    "X_train = list()\n",
    "X_test = list()\n",
    "for i in range(6):\n",
    "    X.append(encoder.predict(data_['Xc'][:,i,:])*1e3)\n",
    "    X_train.append(encoder.predict(data_['x_train_c'][:,i,:])*1e3)\n",
    "    X_test.append(encoder.predict(data_['x_test_c'][:,i,:])*1e3)\n",
    "X = np.asarray(X)\n",
    "x_encoded = X.reshape(X.shape[1], X.shape[0], X.shape[2])\n",
    "\n",
    "X_train = np.asarray(X_train)\n",
    "x_train_encoded = X_train.reshape(X_train.shape[1], X_train.shape[0], X_train.shape[2])\n",
    "\n",
    "X_test = np.asarray(X_test)\n",
    "x_test_encoded = X_test.reshape(X_test.shape[1], X_test.shape[0], X_test.shape[2])\n",
    "\n",
    "print(x_encoded.shape, x_train_encoded.shape, x_test_encoded.shape)"
   ]
  },
  {
   "cell_type": "code",
   "execution_count": 42,
   "metadata": {},
   "outputs": [
    {
     "name": "stdout",
     "output_type": "stream",
     "text": [
      "_________________________________________________________________\n",
      "Layer (type)                 Output Shape              Param #   \n",
      "=================================================================\n",
      "Input (InputLayer)           (None, 6, 2)              0         \n",
      "_________________________________________________________________\n",
      "Conv1 (Conv1D)               (None, 4, 16)             112       \n",
      "_________________________________________________________________\n",
      "Flatten (Flatten)            (None, 64)                0         \n",
      "_________________________________________________________________\n",
      "Dense_Out2 (Dense)           (None, 2)                 130       \n",
      "_________________________________________________________________\n",
      "model_5 (Model)              (None, 15)                195       \n",
      "=================================================================\n",
      "Total params: 437.0\n",
      "Trainable params: 437.0\n",
      "Non-trainable params: 0.0\n",
      "_________________________________________________________________\n",
      "None\n"
     ]
    }
   ],
   "source": [
    "window_size=6\n",
    "filter_length=3\n",
    "original_dim = data_['x_train_c'].shape[-1]\n",
    "nb_input_series=original_dim\n",
    "nb_outputs=latent_dim\n",
    "nb_filter=16\n",
    "\n",
    "inputs = Input(shape=(window_size, nb_outputs), name='Input')\n",
    "conv1 = Conv1D(name='Conv1', \n",
    "               filters=nb_filter, \n",
    "               kernel_size=filter_length, \n",
    "               activation='elu', \n",
    "               input_shape=(window_size, nb_input_series)\n",
    "              )(inputs)\n",
    "\n",
    "flat1 = Flatten(name='Flatten')(conv1)\n",
    "output = Dense(nb_outputs, activation='relu',name='Dense_Out2')(flat1)     # For binary classification, change the activation to 'sigmoid'\n",
    " \n",
    "generator.trainable = False\n",
    "outputs = generator(output)\n",
    "conv_encoder = Model(inputs,flat1)\n",
    "conv_model = Model(inputs,outputs)\n",
    "conv_model.compile(loss='mse', optimizer='rmsprop', metrics=['mae'])\n",
    "print(conv_model.summary())\n",
    "# To perform (binary) classification instead:\n",
    "# model.compile(loss='binary_crossentropy', optimizer='adam', metrics=['binary_accuracy'])\n",
    "# SVG(model_to_dot(conv_model, show_shapes=True, show_layer_names=True).create(prog='dot', format='svg'))"
   ]
  },
  {
   "cell_type": "code",
   "execution_count": 43,
   "metadata": {},
   "outputs": [
    {
     "name": "stdout",
     "output_type": "stream",
     "text": [
      "Train on 14600 samples, validate on 3600 samples\n",
      "Epoch 1/1000\n",
      "1s - loss: 0.0238 - mean_absolute_error: 0.0666 - val_loss: 0.0312 - val_mean_absolute_error: 0.0776\n",
      "Epoch 2/1000\n",
      "0s - loss: 0.0238 - mean_absolute_error: 0.0666 - val_loss: 0.0312 - val_mean_absolute_error: 0.0776\n",
      "Epoch 3/1000\n",
      "0s - loss: 0.0238 - mean_absolute_error: 0.0666 - val_loss: 0.0312 - val_mean_absolute_error: 0.0776\n",
      "Epoch 4/1000\n",
      "0s - loss: 0.0238 - mean_absolute_error: 0.0666 - val_loss: 0.0312 - val_mean_absolute_error: 0.0776\n",
      "Epoch 5/1000\n",
      "0s - loss: 0.0238 - mean_absolute_error: 0.0666 - val_loss: 0.0312 - val_mean_absolute_error: 0.0776\n",
      "Epoch 6/1000\n",
      "0s - loss: 0.0238 - mean_absolute_error: 0.0666 - val_loss: 0.0312 - val_mean_absolute_error: 0.0776\n",
      "Epoch 7/1000\n",
      "0s - loss: 0.0238 - mean_absolute_error: 0.0666 - val_loss: 0.0312 - val_mean_absolute_error: 0.0776\n"
     ]
    }
   ],
   "source": [
    "early_stop = EarlyStopping(monitor='val_loss', patience=5)\n",
    "reduce_lr = ReduceLROnPlateau(monitor='val_loss', factor=0.1,patience=2, min_lr=0.000001, verbose=0)\n",
    "conv_model_data = conv_model.fit(\n",
    "    x_train_encoded, \n",
    "    data_['y_train_c'], \n",
    "    verbose=2, \n",
    "    epochs=1000, \n",
    "    batch_size=64, \n",
    "    validation_data=(x_test_encoded, data_['y_test_c']), \n",
    "    callbacks=[reduce_lr,early_stop])"
   ]
  },
  {
   "cell_type": "code",
   "execution_count": 44,
   "metadata": {},
   "outputs": [
    {
     "data": {
      "text/plain": [
       "array([[ 0.12362029,  0.08971555,  0.00652373, ...,  0.00668288,\n",
       "         0.01154327,  0.03645849],\n",
       "       [ 0.12362029,  0.08971555,  0.00652373, ...,  0.00668288,\n",
       "         0.01154327,  0.03645849],\n",
       "       [ 0.12362029,  0.08971555,  0.00652373, ...,  0.00668288,\n",
       "         0.01154327,  0.03645849],\n",
       "       ..., \n",
       "       [ 0.12362029,  0.08971555,  0.00652373, ...,  0.00668288,\n",
       "         0.01154327,  0.03645849],\n",
       "       [ 0.12362029,  0.08971555,  0.00652373, ...,  0.00668288,\n",
       "         0.01154327,  0.03645849],\n",
       "       [ 0.12680992,  0.08694033,  0.00422607, ...,  0.00894357,\n",
       "         0.01058084,  0.03413412]], dtype=float32)"
      ]
     },
     "execution_count": 44,
     "metadata": {},
     "output_type": "execute_result"
    }
   ],
   "source": [
    "y_test_pred = conv_model.predict(x_test_encoded)\n",
    "y_test_pred"
   ]
  },
  {
   "cell_type": "code",
   "execution_count": 9,
   "metadata": {
    "collapsed": true
   },
   "outputs": [],
   "source": [
    "c_vae, c_encoder, c_generator =  buid_cvae(original_dim,\n",
    "              batch_size = 20,\n",
    "              latent_dim = 2,\n",
    "              intermediate_dim = 10,\n",
    "              activ='relu',\n",
    "              optim=Adam(lr=0.0005),\n",
    "              epsilon_std=1.,\n",
    "              time_dim=24,\n",
    "              day_dim=7)"
   ]
  },
  {
   "cell_type": "code",
   "execution_count": 10,
   "metadata": {},
   "outputs": [
    {
     "name": "stdout",
     "output_type": "stream",
     "text": [
      "____________________________________________________________________________________________________\n",
      "Layer (type)                     Output Shape          Param #     Connected to                     \n",
      "====================================================================================================\n",
      "Input (InputLayer)               (None, 15)            0                                            \n",
      "____________________________________________________________________________________________________\n",
      "Day (InputLayer)                 (None, 7)             0                                            \n",
      "____________________________________________________________________________________________________\n",
      "Time (InputLayer)                (None, 24)            0                                            \n",
      "____________________________________________________________________________________________________\n",
      "concatenate_1 (Concatenate)      (None, 46)            0           Input[0][0]                      \n",
      "                                                                   Day[0][0]                        \n",
      "                                                                   Time[0][0]                       \n",
      "____________________________________________________________________________________________________\n",
      "Encoder_H (Dense)                (None, 10)            470         concatenate_1[0][0]              \n",
      "____________________________________________________________________________________________________\n",
      "mu (Dense)                       (None, 2)             22          Encoder_H[0][0]                  \n",
      "____________________________________________________________________________________________________\n",
      "l_sigma (Dense)                  (None, 2)             22          Encoder_H[0][0]                  \n",
      "____________________________________________________________________________________________________\n",
      "Sampling (Lambda)                (None, 2)             0           mu[0][0]                         \n",
      "                                                                   l_sigma[0][0]                    \n",
      "____________________________________________________________________________________________________\n",
      "concatenate_2 (Concatenate)      (None, 33)            0           Sampling[0][0]                   \n",
      "                                                                   Day[0][0]                        \n",
      "                                                                   Time[0][0]                       \n",
      "____________________________________________________________________________________________________\n",
      "Decoder_H (Dense)                (None, 10)            340         concatenate_2[0][0]              \n",
      "____________________________________________________________________________________________________\n",
      "Output (Dense)                   (None, 15)            165         Decoder_H[0][0]                  \n",
      "====================================================================================================\n",
      "Total params: 1,019\n",
      "Trainable params: 1,019\n",
      "Non-trainable params: 0\n",
      "____________________________________________________________________________________________________\n",
      "None\n"
     ]
    }
   ],
   "source": [
    "print(c_vae.summary())"
   ]
  },
  {
   "cell_type": "code",
   "execution_count": 11,
   "metadata": {},
   "outputs": [
    {
     "data": {
      "image/svg+xml": [
       "<svg height=\"636pt\" viewBox=\"0.00 0.00 935.00 636.00\" width=\"935pt\" xmlns=\"http://www.w3.org/2000/svg\" xmlns:xlink=\"http://www.w3.org/1999/xlink\">\n",
       "<g class=\"graph\" id=\"graph0\" transform=\"scale(1 1) rotate(0) translate(4 632)\">\n",
       "<title>G</title>\n",
       "<polygon fill=\"white\" points=\"-4,4 -4,-632 931,-632 931,4 -4,4\" stroke=\"none\"/>\n",
       "<!-- 140605478018632 -->\n",
       "<g class=\"node\" id=\"node1\"><title>140605478018632</title>\n",
       "<polygon fill=\"none\" points=\"303,-581.5 303,-627.5 608,-627.5 608,-581.5 303,-581.5\" stroke=\"black\"/>\n",
       "<text font-family=\"Times,serif\" font-size=\"14.00\" text-anchor=\"middle\" x=\"375.5\" y=\"-600.8\">Input: InputLayer</text>\n",
       "<polyline fill=\"none\" points=\"448,-581.5 448,-627.5 \" stroke=\"black\"/>\n",
       "<text font-family=\"Times,serif\" font-size=\"14.00\" text-anchor=\"middle\" x=\"482\" y=\"-612.3\">input:</text>\n",
       "<polyline fill=\"none\" points=\"448,-604.5 516,-604.5 \" stroke=\"black\"/>\n",
       "<text font-family=\"Times,serif\" font-size=\"14.00\" text-anchor=\"middle\" x=\"482\" y=\"-589.3\">output:</text>\n",
       "<polyline fill=\"none\" points=\"516,-581.5 516,-627.5 \" stroke=\"black\"/>\n",
       "<text font-family=\"Times,serif\" font-size=\"14.00\" text-anchor=\"middle\" x=\"562\" y=\"-612.3\">(None, 15)</text>\n",
       "<polyline fill=\"none\" points=\"516,-604.5 608,-604.5 \" stroke=\"black\"/>\n",
       "<text font-family=\"Times,serif\" font-size=\"14.00\" text-anchor=\"middle\" x=\"562\" y=\"-589.3\">(None, 15)</text>\n",
       "</g>\n",
       "<!-- 140605394670872 -->\n",
       "<g class=\"node\" id=\"node4\"><title>140605394670872</title>\n",
       "<polygon fill=\"none\" points=\"179.5,-498.5 179.5,-544.5 731.5,-544.5 731.5,-498.5 179.5,-498.5\" stroke=\"black\"/>\n",
       "<text font-family=\"Times,serif\" font-size=\"14.00\" text-anchor=\"middle\" x=\"290\" y=\"-517.8\">concatenate_1: Concatenate</text>\n",
       "<polyline fill=\"none\" points=\"400.5,-498.5 400.5,-544.5 \" stroke=\"black\"/>\n",
       "<text font-family=\"Times,serif\" font-size=\"14.00\" text-anchor=\"middle\" x=\"434.5\" y=\"-529.3\">input:</text>\n",
       "<polyline fill=\"none\" points=\"400.5,-521.5 468.5,-521.5 \" stroke=\"black\"/>\n",
       "<text font-family=\"Times,serif\" font-size=\"14.00\" text-anchor=\"middle\" x=\"434.5\" y=\"-506.3\">output:</text>\n",
       "<polyline fill=\"none\" points=\"468.5,-498.5 468.5,-544.5 \" stroke=\"black\"/>\n",
       "<text font-family=\"Times,serif\" font-size=\"14.00\" text-anchor=\"middle\" x=\"600\" y=\"-529.3\">[(None, 15), (None, 7), (None, 24)]</text>\n",
       "<polyline fill=\"none\" points=\"468.5,-521.5 731.5,-521.5 \" stroke=\"black\"/>\n",
       "<text font-family=\"Times,serif\" font-size=\"14.00\" text-anchor=\"middle\" x=\"600\" y=\"-506.3\">(None, 46)</text>\n",
       "</g>\n",
       "<!-- 140605478018632&#45;&gt;140605394670872 -->\n",
       "<g class=\"edge\" id=\"edge1\"><title>140605478018632-&gt;140605394670872</title>\n",
       "<path d=\"M455.5,-581.366C455.5,-573.152 455.5,-563.658 455.5,-554.725\" fill=\"none\" stroke=\"black\"/>\n",
       "<polygon fill=\"black\" points=\"459,-554.607 455.5,-544.607 452,-554.607 459,-554.607\" stroke=\"black\"/>\n",
       "</g>\n",
       "<!-- 140605397770136 -->\n",
       "<g class=\"node\" id=\"node2\"><title>140605397770136</title>\n",
       "<polygon fill=\"none\" points=\"0,-581.5 0,-627.5 285,-627.5 285,-581.5 0,-581.5\" stroke=\"black\"/>\n",
       "<text font-family=\"Times,serif\" font-size=\"14.00\" text-anchor=\"middle\" x=\"67\" y=\"-600.8\">Day: InputLayer</text>\n",
       "<polyline fill=\"none\" points=\"134,-581.5 134,-627.5 \" stroke=\"black\"/>\n",
       "<text font-family=\"Times,serif\" font-size=\"14.00\" text-anchor=\"middle\" x=\"168\" y=\"-612.3\">input:</text>\n",
       "<polyline fill=\"none\" points=\"134,-604.5 202,-604.5 \" stroke=\"black\"/>\n",
       "<text font-family=\"Times,serif\" font-size=\"14.00\" text-anchor=\"middle\" x=\"168\" y=\"-589.3\">output:</text>\n",
       "<polyline fill=\"none\" points=\"202,-581.5 202,-627.5 \" stroke=\"black\"/>\n",
       "<text font-family=\"Times,serif\" font-size=\"14.00\" text-anchor=\"middle\" x=\"243.5\" y=\"-612.3\">(None, 7)</text>\n",
       "<polyline fill=\"none\" points=\"202,-604.5 285,-604.5 \" stroke=\"black\"/>\n",
       "<text font-family=\"Times,serif\" font-size=\"14.00\" text-anchor=\"middle\" x=\"243.5\" y=\"-589.3\">(None, 7)</text>\n",
       "</g>\n",
       "<!-- 140605397770136&#45;&gt;140605394670872 -->\n",
       "<g class=\"edge\" id=\"edge2\"><title>140605397770136-&gt;140605394670872</title>\n",
       "<path d=\"M227.615,-581.473C268.762,-570.825 318.286,-558.009 360.642,-547.048\" fill=\"none\" stroke=\"black\"/>\n",
       "<polygon fill=\"black\" points=\"361.598,-550.416 370.402,-544.522 359.844,-543.639 361.598,-550.416\" stroke=\"black\"/>\n",
       "</g>\n",
       "<!-- 140605475314040 -->\n",
       "<g class=\"node\" id=\"node9\"><title>140605475314040</title>\n",
       "<polygon fill=\"none\" points=\"183,-166.5 183,-212.5 726,-212.5 726,-166.5 183,-166.5\" stroke=\"black\"/>\n",
       "<text font-family=\"Times,serif\" font-size=\"14.00\" text-anchor=\"middle\" x=\"293.5\" y=\"-185.8\">concatenate_2: Concatenate</text>\n",
       "<polyline fill=\"none\" points=\"404,-166.5 404,-212.5 \" stroke=\"black\"/>\n",
       "<text font-family=\"Times,serif\" font-size=\"14.00\" text-anchor=\"middle\" x=\"438\" y=\"-197.3\">input:</text>\n",
       "<polyline fill=\"none\" points=\"404,-189.5 472,-189.5 \" stroke=\"black\"/>\n",
       "<text font-family=\"Times,serif\" font-size=\"14.00\" text-anchor=\"middle\" x=\"438\" y=\"-174.3\">output:</text>\n",
       "<polyline fill=\"none\" points=\"472,-166.5 472,-212.5 \" stroke=\"black\"/>\n",
       "<text font-family=\"Times,serif\" font-size=\"14.00\" text-anchor=\"middle\" x=\"599\" y=\"-197.3\">[(None, 2), (None, 7), (None, 24)]</text>\n",
       "<polyline fill=\"none\" points=\"472,-189.5 726,-189.5 \" stroke=\"black\"/>\n",
       "<text font-family=\"Times,serif\" font-size=\"14.00\" text-anchor=\"middle\" x=\"599\" y=\"-174.3\">(None, 33)</text>\n",
       "</g>\n",
       "<!-- 140605397770136&#45;&gt;140605475314040 -->\n",
       "<g class=\"edge\" id=\"edge10\"><title>140605397770136-&gt;140605475314040</title>\n",
       "<path d=\"M143.378,-581.487C144.555,-550.014 146.5,-490.338 146.5,-439.5 146.5,-439.5 146.5,-439.5 146.5,-354.5 146.5,-278.105 221.239,-237.179 297.083,-215.315\" fill=\"none\" stroke=\"black\"/>\n",
       "<polygon fill=\"black\" points=\"298.116,-218.661 306.815,-212.613 296.243,-211.916 298.116,-218.661\" stroke=\"black\"/>\n",
       "</g>\n",
       "<!-- 140605397766552 -->\n",
       "<g class=\"node\" id=\"node3\"><title>140605397766552</title>\n",
       "<polygon fill=\"none\" points=\"626,-581.5 626,-627.5 927,-627.5 927,-581.5 626,-581.5\" stroke=\"black\"/>\n",
       "<text font-family=\"Times,serif\" font-size=\"14.00\" text-anchor=\"middle\" x=\"696.5\" y=\"-600.8\">Time: InputLayer</text>\n",
       "<polyline fill=\"none\" points=\"767,-581.5 767,-627.5 \" stroke=\"black\"/>\n",
       "<text font-family=\"Times,serif\" font-size=\"14.00\" text-anchor=\"middle\" x=\"801\" y=\"-612.3\">input:</text>\n",
       "<polyline fill=\"none\" points=\"767,-604.5 835,-604.5 \" stroke=\"black\"/>\n",
       "<text font-family=\"Times,serif\" font-size=\"14.00\" text-anchor=\"middle\" x=\"801\" y=\"-589.3\">output:</text>\n",
       "<polyline fill=\"none\" points=\"835,-581.5 835,-627.5 \" stroke=\"black\"/>\n",
       "<text font-family=\"Times,serif\" font-size=\"14.00\" text-anchor=\"middle\" x=\"881\" y=\"-612.3\">(None, 24)</text>\n",
       "<polyline fill=\"none\" points=\"835,-604.5 927,-604.5 \" stroke=\"black\"/>\n",
       "<text font-family=\"Times,serif\" font-size=\"14.00\" text-anchor=\"middle\" x=\"881\" y=\"-589.3\">(None, 24)</text>\n",
       "</g>\n",
       "<!-- 140605397766552&#45;&gt;140605394670872 -->\n",
       "<g class=\"edge\" id=\"edge3\"><title>140605397766552-&gt;140605394670872</title>\n",
       "<path d=\"M689.209,-581.473C646.922,-570.803 596.007,-557.955 552.508,-546.979\" fill=\"none\" stroke=\"black\"/>\n",
       "<polygon fill=\"black\" points=\"553.326,-543.575 542.773,-544.522 551.613,-550.363 553.326,-543.575\" stroke=\"black\"/>\n",
       "</g>\n",
       "<!-- 140605397766552&#45;&gt;140605475314040 -->\n",
       "<g class=\"edge\" id=\"edge11\"><title>140605397766552-&gt;140605475314040</title>\n",
       "<path d=\"M774.503,-581.239C771.851,-549.717 767.5,-490.257 767.5,-439.5 767.5,-439.5 767.5,-439.5 767.5,-354.5 767.5,-278.019 693.271,-237.135 617.11,-215.315\" fill=\"none\" stroke=\"black\"/>\n",
       "<polygon fill=\"black\" points=\"617.903,-211.903 607.332,-212.619 616.042,-218.652 617.903,-211.903\" stroke=\"black\"/>\n",
       "</g>\n",
       "<!-- 140605394671040 -->\n",
       "<g class=\"node\" id=\"node5\"><title>140605394671040</title>\n",
       "<polygon fill=\"none\" points=\"300.5,-415.5 300.5,-461.5 610.5,-461.5 610.5,-415.5 300.5,-415.5\" stroke=\"black\"/>\n",
       "<text font-family=\"Times,serif\" font-size=\"14.00\" text-anchor=\"middle\" x=\"375.5\" y=\"-434.8\">Encoder_H: Dense</text>\n",
       "<polyline fill=\"none\" points=\"450.5,-415.5 450.5,-461.5 \" stroke=\"black\"/>\n",
       "<text font-family=\"Times,serif\" font-size=\"14.00\" text-anchor=\"middle\" x=\"484.5\" y=\"-446.3\">input:</text>\n",
       "<polyline fill=\"none\" points=\"450.5,-438.5 518.5,-438.5 \" stroke=\"black\"/>\n",
       "<text font-family=\"Times,serif\" font-size=\"14.00\" text-anchor=\"middle\" x=\"484.5\" y=\"-423.3\">output:</text>\n",
       "<polyline fill=\"none\" points=\"518.5,-415.5 518.5,-461.5 \" stroke=\"black\"/>\n",
       "<text font-family=\"Times,serif\" font-size=\"14.00\" text-anchor=\"middle\" x=\"564.5\" y=\"-446.3\">(None, 46)</text>\n",
       "<polyline fill=\"none\" points=\"518.5,-438.5 610.5,-438.5 \" stroke=\"black\"/>\n",
       "<text font-family=\"Times,serif\" font-size=\"14.00\" text-anchor=\"middle\" x=\"564.5\" y=\"-423.3\">(None, 10)</text>\n",
       "</g>\n",
       "<!-- 140605394670872&#45;&gt;140605394671040 -->\n",
       "<g class=\"edge\" id=\"edge4\"><title>140605394670872-&gt;140605394671040</title>\n",
       "<path d=\"M455.5,-498.366C455.5,-490.152 455.5,-480.658 455.5,-471.725\" fill=\"none\" stroke=\"black\"/>\n",
       "<polygon fill=\"black\" points=\"459,-471.607 455.5,-461.607 452,-471.607 459,-471.607\" stroke=\"black\"/>\n",
       "</g>\n",
       "<!-- 140605394671544 -->\n",
       "<g class=\"node\" id=\"node6\"><title>140605394671544</title>\n",
       "<polygon fill=\"none\" points=\"181.5,-332.5 181.5,-378.5 433.5,-378.5 433.5,-332.5 181.5,-332.5\" stroke=\"black\"/>\n",
       "<text font-family=\"Times,serif\" font-size=\"14.00\" text-anchor=\"middle\" x=\"227.5\" y=\"-351.8\">mu: Dense</text>\n",
       "<polyline fill=\"none\" points=\"273.5,-332.5 273.5,-378.5 \" stroke=\"black\"/>\n",
       "<text font-family=\"Times,serif\" font-size=\"14.00\" text-anchor=\"middle\" x=\"307.5\" y=\"-363.3\">input:</text>\n",
       "<polyline fill=\"none\" points=\"273.5,-355.5 341.5,-355.5 \" stroke=\"black\"/>\n",
       "<text font-family=\"Times,serif\" font-size=\"14.00\" text-anchor=\"middle\" x=\"307.5\" y=\"-340.3\">output:</text>\n",
       "<polyline fill=\"none\" points=\"341.5,-332.5 341.5,-378.5 \" stroke=\"black\"/>\n",
       "<text font-family=\"Times,serif\" font-size=\"14.00\" text-anchor=\"middle\" x=\"387.5\" y=\"-363.3\">(None, 10)</text>\n",
       "<polyline fill=\"none\" points=\"341.5,-355.5 433.5,-355.5 \" stroke=\"black\"/>\n",
       "<text font-family=\"Times,serif\" font-size=\"14.00\" text-anchor=\"middle\" x=\"387.5\" y=\"-340.3\">(None, 2)</text>\n",
       "</g>\n",
       "<!-- 140605394671040&#45;&gt;140605394671544 -->\n",
       "<g class=\"edge\" id=\"edge5\"><title>140605394671040-&gt;140605394671544</title>\n",
       "<path d=\"M415.058,-415.366C397.03,-405.5 375.631,-393.788 356.686,-383.419\" fill=\"none\" stroke=\"black\"/>\n",
       "<polygon fill=\"black\" points=\"358.345,-380.338 347.893,-378.607 354.985,-386.478 358.345,-380.338\" stroke=\"black\"/>\n",
       "</g>\n",
       "<!-- 140605475348152 -->\n",
       "<g class=\"node\" id=\"node7\"><title>140605475348152</title>\n",
       "<polygon fill=\"none\" points=\"452,-332.5 452,-378.5 737,-378.5 737,-332.5 452,-332.5\" stroke=\"black\"/>\n",
       "<text font-family=\"Times,serif\" font-size=\"14.00\" text-anchor=\"middle\" x=\"514.5\" y=\"-351.8\">l_sigma: Dense</text>\n",
       "<polyline fill=\"none\" points=\"577,-332.5 577,-378.5 \" stroke=\"black\"/>\n",
       "<text font-family=\"Times,serif\" font-size=\"14.00\" text-anchor=\"middle\" x=\"611\" y=\"-363.3\">input:</text>\n",
       "<polyline fill=\"none\" points=\"577,-355.5 645,-355.5 \" stroke=\"black\"/>\n",
       "<text font-family=\"Times,serif\" font-size=\"14.00\" text-anchor=\"middle\" x=\"611\" y=\"-340.3\">output:</text>\n",
       "<polyline fill=\"none\" points=\"645,-332.5 645,-378.5 \" stroke=\"black\"/>\n",
       "<text font-family=\"Times,serif\" font-size=\"14.00\" text-anchor=\"middle\" x=\"691\" y=\"-363.3\">(None, 10)</text>\n",
       "<polyline fill=\"none\" points=\"645,-355.5 737,-355.5 \" stroke=\"black\"/>\n",
       "<text font-family=\"Times,serif\" font-size=\"14.00\" text-anchor=\"middle\" x=\"691\" y=\"-340.3\">(None, 2)</text>\n",
       "</g>\n",
       "<!-- 140605394671040&#45;&gt;140605475348152 -->\n",
       "<g class=\"edge\" id=\"edge6\"><title>140605394671040-&gt;140605475348152</title>\n",
       "<path d=\"M493.482,-415.366C510.184,-405.634 529.967,-394.106 547.579,-383.842\" fill=\"none\" stroke=\"black\"/>\n",
       "<polygon fill=\"black\" points=\"549.686,-386.666 556.564,-378.607 546.161,-380.618 549.686,-386.666\" stroke=\"black\"/>\n",
       "</g>\n",
       "<!-- 140605475313648 -->\n",
       "<g class=\"node\" id=\"node8\"><title>140605475313648</title>\n",
       "<polygon fill=\"none\" points=\"260.5,-249.5 260.5,-295.5 648.5,-295.5 648.5,-249.5 260.5,-249.5\" stroke=\"black\"/>\n",
       "<text font-family=\"Times,serif\" font-size=\"14.00\" text-anchor=\"middle\" x=\"335.5\" y=\"-268.8\">Sampling: Lambda</text>\n",
       "<polyline fill=\"none\" points=\"410.5,-249.5 410.5,-295.5 \" stroke=\"black\"/>\n",
       "<text font-family=\"Times,serif\" font-size=\"14.00\" text-anchor=\"middle\" x=\"444.5\" y=\"-280.3\">input:</text>\n",
       "<polyline fill=\"none\" points=\"410.5,-272.5 478.5,-272.5 \" stroke=\"black\"/>\n",
       "<text font-family=\"Times,serif\" font-size=\"14.00\" text-anchor=\"middle\" x=\"444.5\" y=\"-257.3\">output:</text>\n",
       "<polyline fill=\"none\" points=\"478.5,-249.5 478.5,-295.5 \" stroke=\"black\"/>\n",
       "<text font-family=\"Times,serif\" font-size=\"14.00\" text-anchor=\"middle\" x=\"563.5\" y=\"-280.3\">[(None, 2), (None, 2)]</text>\n",
       "<polyline fill=\"none\" points=\"478.5,-272.5 648.5,-272.5 \" stroke=\"black\"/>\n",
       "<text font-family=\"Times,serif\" font-size=\"14.00\" text-anchor=\"middle\" x=\"563.5\" y=\"-257.3\">(None, 2)</text>\n",
       "</g>\n",
       "<!-- 140605394671544&#45;&gt;140605475313648 -->\n",
       "<g class=\"edge\" id=\"edge7\"><title>140605394671544-&gt;140605475313648</title>\n",
       "<path d=\"M347.668,-332.366C365.493,-322.544 386.637,-310.894 405.391,-300.56\" fill=\"none\" stroke=\"black\"/>\n",
       "<polygon fill=\"black\" points=\"407.311,-303.498 414.38,-295.607 403.933,-297.368 407.311,-303.498\" stroke=\"black\"/>\n",
       "</g>\n",
       "<!-- 140605475348152&#45;&gt;140605475313648 -->\n",
       "<g class=\"edge\" id=\"edge8\"><title>140605475348152-&gt;140605475313648</title>\n",
       "<path d=\"M556.244,-332.366C539.422,-322.634 519.497,-311.106 501.758,-300.842\" fill=\"none\" stroke=\"black\"/>\n",
       "<polygon fill=\"black\" points=\"503.118,-297.585 492.709,-295.607 499.612,-303.644 503.118,-297.585\" stroke=\"black\"/>\n",
       "</g>\n",
       "<!-- 140605475313648&#45;&gt;140605475314040 -->\n",
       "<g class=\"edge\" id=\"edge9\"><title>140605475313648-&gt;140605475314040</title>\n",
       "<path d=\"M454.5,-249.366C454.5,-241.152 454.5,-231.658 454.5,-222.725\" fill=\"none\" stroke=\"black\"/>\n",
       "<polygon fill=\"black\" points=\"458,-222.607 454.5,-212.607 451,-222.607 458,-222.607\" stroke=\"black\"/>\n",
       "</g>\n",
       "<!-- 140605475315664 -->\n",
       "<g class=\"node\" id=\"node10\"><title>140605475315664</title>\n",
       "<polygon fill=\"none\" points=\"299.5,-83.5 299.5,-129.5 609.5,-129.5 609.5,-83.5 299.5,-83.5\" stroke=\"black\"/>\n",
       "<text font-family=\"Times,serif\" font-size=\"14.00\" text-anchor=\"middle\" x=\"374.5\" y=\"-102.8\">Decoder_H: Dense</text>\n",
       "<polyline fill=\"none\" points=\"449.5,-83.5 449.5,-129.5 \" stroke=\"black\"/>\n",
       "<text font-family=\"Times,serif\" font-size=\"14.00\" text-anchor=\"middle\" x=\"483.5\" y=\"-114.3\">input:</text>\n",
       "<polyline fill=\"none\" points=\"449.5,-106.5 517.5,-106.5 \" stroke=\"black\"/>\n",
       "<text font-family=\"Times,serif\" font-size=\"14.00\" text-anchor=\"middle\" x=\"483.5\" y=\"-91.3\">output:</text>\n",
       "<polyline fill=\"none\" points=\"517.5,-83.5 517.5,-129.5 \" stroke=\"black\"/>\n",
       "<text font-family=\"Times,serif\" font-size=\"14.00\" text-anchor=\"middle\" x=\"563.5\" y=\"-114.3\">(None, 33)</text>\n",
       "<polyline fill=\"none\" points=\"517.5,-106.5 609.5,-106.5 \" stroke=\"black\"/>\n",
       "<text font-family=\"Times,serif\" font-size=\"14.00\" text-anchor=\"middle\" x=\"563.5\" y=\"-91.3\">(None, 10)</text>\n",
       "</g>\n",
       "<!-- 140605475314040&#45;&gt;140605475315664 -->\n",
       "<g class=\"edge\" id=\"edge12\"><title>140605475314040-&gt;140605475315664</title>\n",
       "<path d=\"M454.5,-166.366C454.5,-158.152 454.5,-148.658 454.5,-139.725\" fill=\"none\" stroke=\"black\"/>\n",
       "<polygon fill=\"black\" points=\"458,-139.607 454.5,-129.607 451,-139.607 458,-139.607\" stroke=\"black\"/>\n",
       "</g>\n",
       "<!-- 140605475324704 -->\n",
       "<g class=\"node\" id=\"node11\"><title>140605475324704</title>\n",
       "<polygon fill=\"none\" points=\"314.5,-0.5 314.5,-46.5 594.5,-46.5 594.5,-0.5 314.5,-0.5\" stroke=\"black\"/>\n",
       "<text font-family=\"Times,serif\" font-size=\"14.00\" text-anchor=\"middle\" x=\"374.5\" y=\"-19.8\">Output: Dense</text>\n",
       "<polyline fill=\"none\" points=\"434.5,-0.5 434.5,-46.5 \" stroke=\"black\"/>\n",
       "<text font-family=\"Times,serif\" font-size=\"14.00\" text-anchor=\"middle\" x=\"468.5\" y=\"-31.3\">input:</text>\n",
       "<polyline fill=\"none\" points=\"434.5,-23.5 502.5,-23.5 \" stroke=\"black\"/>\n",
       "<text font-family=\"Times,serif\" font-size=\"14.00\" text-anchor=\"middle\" x=\"468.5\" y=\"-8.3\">output:</text>\n",
       "<polyline fill=\"none\" points=\"502.5,-0.5 502.5,-46.5 \" stroke=\"black\"/>\n",
       "<text font-family=\"Times,serif\" font-size=\"14.00\" text-anchor=\"middle\" x=\"548.5\" y=\"-31.3\">(None, 10)</text>\n",
       "<polyline fill=\"none\" points=\"502.5,-23.5 594.5,-23.5 \" stroke=\"black\"/>\n",
       "<text font-family=\"Times,serif\" font-size=\"14.00\" text-anchor=\"middle\" x=\"548.5\" y=\"-8.3\">(None, 15)</text>\n",
       "</g>\n",
       "<!-- 140605475315664&#45;&gt;140605475324704 -->\n",
       "<g class=\"edge\" id=\"edge13\"><title>140605475315664-&gt;140605475324704</title>\n",
       "<path d=\"M454.5,-83.3664C454.5,-75.1516 454.5,-65.6579 454.5,-56.7252\" fill=\"none\" stroke=\"black\"/>\n",
       "<polygon fill=\"black\" points=\"458,-56.6068 454.5,-46.6068 451,-56.6069 458,-56.6068\" stroke=\"black\"/>\n",
       "</g>\n",
       "</g>\n",
       "</svg>"
      ],
      "text/plain": [
       "<IPython.core.display.SVG object>"
      ]
     },
     "execution_count": 11,
     "metadata": {},
     "output_type": "execute_result"
    }
   ],
   "source": [
    "SVG(model_to_dot(c_vae, show_shapes=True, show_layer_names=True).create(prog='dot', format='svg'))"
   ]
  },
  {
   "cell_type": "code",
   "execution_count": 14,
   "metadata": {},
   "outputs": [
    {
     "data": {
      "application/vnd.jupyter.widget-view+json": {
       "model_id": "6f3244167274450db55bfc2129a7e3a8"
      }
     },
     "metadata": {},
     "output_type": "display_data"
    },
    {
     "data": {
      "application/vnd.jupyter.widget-view+json": {
       "model_id": "9f3841ecf5ce4496800ff973907ce0e3"
      }
     },
     "metadata": {},
     "output_type": "display_data"
    },
    {
     "data": {
      "application/vnd.jupyter.widget-view+json": {
       "model_id": "877e0e18ea1a4f64a87bbc5e966cec03"
      }
     },
     "metadata": {},
     "output_type": "display_data"
    },
    {
     "data": {
      "application/vnd.jupyter.widget-view+json": {
       "model_id": "5d0f3bf6bacc4116a505e7145cec8754"
      }
     },
     "metadata": {},
     "output_type": "display_data"
    },
    {
     "data": {
      "application/vnd.jupyter.widget-view+json": {
       "model_id": "4e764dc5c5fa47b7b93b9c77b7ebd8e3"
      }
     },
     "metadata": {},
     "output_type": "display_data"
    },
    {
     "data": {
      "application/vnd.jupyter.widget-view+json": {
       "model_id": "f3b46a30cf4b405aa8448392ee79b7c5"
      }
     },
     "metadata": {},
     "output_type": "display_data"
    },
    {
     "data": {
      "application/vnd.jupyter.widget-view+json": {
       "model_id": "855093a7e70d4f1ea854609ac17e3b34"
      }
     },
     "metadata": {},
     "output_type": "display_data"
    },
    {
     "data": {
      "application/vnd.jupyter.widget-view+json": {
       "model_id": "4383cb13f35d455f9e38ef869b33bc8b"
      }
     },
     "metadata": {},
     "output_type": "display_data"
    },
    {
     "data": {
      "application/vnd.jupyter.widget-view+json": {
       "model_id": "5bb51bade729482385523b09f681605a"
      }
     },
     "metadata": {},
     "output_type": "display_data"
    },
    {
     "name": "stdout",
     "output_type": "stream",
     "text": [
      "\n"
     ]
    }
   ],
   "source": [
    "# compile and fit\n",
    "c_vae_hist = c_vae.fit([data_['y_train_c'], to_categorical(data_['y_train_d']), to_categorical(data_['y_train_t'])], \n",
    "                            data_['y_train_c'], \n",
    "                            verbose = 0, \n",
    "                            shuffle=False,\n",
    "                            batch_size=batch_size, \n",
    "                            epochs=epochs,\n",
    "                            validation_data = (\n",
    "                                [data_['y_test_c'], to_categorical(data_['y_test_d']),to_categorical(data_['y_test_t'])], \n",
    "                                data_['y_test_c']),\n",
    "                            callbacks = [EarlyStopping(patience = 5),\n",
    "                                         TQDMNotebookCallback(metric_format=\"{name}: {value:0.4f}\",\n",
    "                                                              leave_outer=True,\n",
    "                                                              leave_inner=True)])"
   ]
  },
  {
   "cell_type": "code",
   "execution_count": 17,
   "metadata": {},
   "outputs": [
    {
     "name": "stdout",
     "output_type": "stream",
     "text": [
      "(18280, 2)\n"
     ]
    }
   ],
   "source": [
    "z_train = c_encoder.predict([data_['yc'], to_categorical(data_['yd']), to_categorical(data_['yt'])])\n",
    "c_encoding = np.asarray(z_train)\n",
    "print(c_encoding.shape)"
   ]
  },
  {
   "cell_type": "code",
   "execution_count": 18,
   "metadata": {},
   "outputs": [
    {
     "data": {
      "text/html": [
       "<iframe id=\"igraph\" scrolling=\"no\" style=\"border:none;\" seamless=\"seamless\" src=\"https://plot.ly/~AbdelWahabTurkmani/91.embed\" height=\"525px\" width=\"100%\"></iframe>"
      ],
      "text/plain": [
       "<plotly.tools.PlotlyDisplay object>"
      ]
     },
     "execution_count": 18,
     "metadata": {},
     "output_type": "execute_result"
    }
   ],
   "source": [
    "x = c_encoding[:,0]\n",
    "y = c_encoding[:,1]\n",
    "t = ['<br>'.join(json.dumps(x).split(',')) for x in data_['y_labels']]\n",
    "\n",
    "trace1 = go.Scatter(\n",
    "    x=x,\n",
    "    y=y, \n",
    "    mode='markers',\n",
    "    marker=dict(color = data_['yc_colors'], opacity=0.8),\n",
    "    text = t\n",
    ")\n",
    "data = [trace1]\n",
    "layout = go.Layout(margin=dict(l=0,r=0,b=0,t=0))\n",
    "fig = go.Figure(data=data, layout=layout)\n",
    "py.iplot(fig, filename='C_d_VAE-Data')\n",
    "\n",
    "# plt.figure(figsize=(7, 7))\n",
    "# plt.scatter(encodings[:, 0], encodings[:, 1], c=data_['yc_colors'])\n",
    "# plt.show()"
   ]
  },
  {
   "cell_type": "code",
   "execution_count": 10,
   "metadata": {},
   "outputs": [
    {
     "name": "stdout",
     "output_type": "stream",
     "text": [
      "_________________________________________________________________\n",
      "Layer (type)                 Output Shape              Param #   \n",
      "=================================================================\n",
      "Input (InputLayer)           (None, 6, 15)             0         \n",
      "_________________________________________________________________\n",
      "Conv1 (Conv1D)               (None, 4, 96)             4416      \n",
      "_________________________________________________________________\n",
      "Flatten (Flatten)            (None, 384)               0         \n",
      "_________________________________________________________________\n",
      "Dense_Out2 (Dense)           (None, 15)                5775      \n",
      "=================================================================\n",
      "Total params: 10,191\n",
      "Trainable params: 10,191\n",
      "Non-trainable params: 0\n",
      "_________________________________________________________________\n",
      "None\n"
     ]
    }
   ],
   "source": [
    "window_size=6\n",
    "filter_length=3\n",
    "nb_input_series=original_dim\n",
    "nb_outputs=original_dim\n",
    "nb_filter=96\n",
    "\n",
    "inputs = Input(shape=(window_size, original_dim), name='Input')\n",
    "conv1 = Conv1D(name='Conv1', \n",
    "               filters=nb_filter, \n",
    "               kernel_size=filter_length, \n",
    "               activation='elu', \n",
    "               input_shape=(window_size, nb_input_series)\n",
    "              )(inputs)\n",
    "\n",
    "flat1 = Flatten(name='Flatten')(conv1)\n",
    "output = Dense(nb_outputs, activation='linear',name='Dense_Out2')(flat1)     # For binary classification, change the activation to 'sigmoid'\n",
    " \n",
    "conv_encoder = Model(inputs,flat1)\n",
    "conv_model = Model(inputs,output)\n",
    "conv_model.compile(loss='mse', optimizer='adam', metrics=['mae'])\n",
    "print(conv_model.summary())\n",
    "# To perform (binary) classification instead:\n",
    "# model.compile(loss='binary_crossentropy', optimizer='adam', metrics=['binary_accuracy'])"
   ]
  },
  {
   "cell_type": "code",
   "execution_count": 11,
   "metadata": {},
   "outputs": [
    {
     "data": {
      "image/svg+xml": [
       "<svg height=\"304pt\" viewBox=\"0.00 0.00 334.00 304.00\" width=\"334pt\" xmlns=\"http://www.w3.org/2000/svg\" xmlns:xlink=\"http://www.w3.org/1999/xlink\">\n",
       "<g class=\"graph\" id=\"graph0\" transform=\"scale(1 1) rotate(0) translate(4 300)\">\n",
       "<title>G</title>\n",
       "<polygon fill=\"white\" points=\"-4,4 -4,-300 330,-300 330,4 -4,4\" stroke=\"none\"/>\n",
       "<!-- 140507734099224 -->\n",
       "<g class=\"node\" id=\"node1\"><title>140507734099224</title>\n",
       "<polygon fill=\"none\" points=\"1.5,-249.5 1.5,-295.5 324.5,-295.5 324.5,-249.5 1.5,-249.5\" stroke=\"black\"/>\n",
       "<text font-family=\"Times,serif\" font-size=\"14.00\" text-anchor=\"middle\" x=\"74\" y=\"-268.8\">Input: InputLayer</text>\n",
       "<polyline fill=\"none\" points=\"146.5,-249.5 146.5,-295.5 \" stroke=\"black\"/>\n",
       "<text font-family=\"Times,serif\" font-size=\"14.00\" text-anchor=\"middle\" x=\"180.5\" y=\"-280.3\">input:</text>\n",
       "<polyline fill=\"none\" points=\"146.5,-272.5 214.5,-272.5 \" stroke=\"black\"/>\n",
       "<text font-family=\"Times,serif\" font-size=\"14.00\" text-anchor=\"middle\" x=\"180.5\" y=\"-257.3\">output:</text>\n",
       "<polyline fill=\"none\" points=\"214.5,-249.5 214.5,-295.5 \" stroke=\"black\"/>\n",
       "<text font-family=\"Times,serif\" font-size=\"14.00\" text-anchor=\"middle\" x=\"269.5\" y=\"-280.3\">(None, 6, 15)</text>\n",
       "<polyline fill=\"none\" points=\"214.5,-272.5 324.5,-272.5 \" stroke=\"black\"/>\n",
       "<text font-family=\"Times,serif\" font-size=\"14.00\" text-anchor=\"middle\" x=\"269.5\" y=\"-257.3\">(None, 6, 15)</text>\n",
       "</g>\n",
       "<!-- 140507734099336 -->\n",
       "<g class=\"node\" id=\"node2\"><title>140507734099336</title>\n",
       "<polygon fill=\"none\" points=\"10,-166.5 10,-212.5 316,-212.5 316,-166.5 10,-166.5\" stroke=\"black\"/>\n",
       "<text font-family=\"Times,serif\" font-size=\"14.00\" text-anchor=\"middle\" x=\"74\" y=\"-185.8\">Conv1: Conv1D</text>\n",
       "<polyline fill=\"none\" points=\"138,-166.5 138,-212.5 \" stroke=\"black\"/>\n",
       "<text font-family=\"Times,serif\" font-size=\"14.00\" text-anchor=\"middle\" x=\"172\" y=\"-197.3\">input:</text>\n",
       "<polyline fill=\"none\" points=\"138,-189.5 206,-189.5 \" stroke=\"black\"/>\n",
       "<text font-family=\"Times,serif\" font-size=\"14.00\" text-anchor=\"middle\" x=\"172\" y=\"-174.3\">output:</text>\n",
       "<polyline fill=\"none\" points=\"206,-166.5 206,-212.5 \" stroke=\"black\"/>\n",
       "<text font-family=\"Times,serif\" font-size=\"14.00\" text-anchor=\"middle\" x=\"261\" y=\"-197.3\">(None, 6, 15)</text>\n",
       "<polyline fill=\"none\" points=\"206,-189.5 316,-189.5 \" stroke=\"black\"/>\n",
       "<text font-family=\"Times,serif\" font-size=\"14.00\" text-anchor=\"middle\" x=\"261\" y=\"-174.3\">(None, 4, 96)</text>\n",
       "</g>\n",
       "<!-- 140507734099224&#45;&gt;140507734099336 -->\n",
       "<g class=\"edge\" id=\"edge1\"><title>140507734099224-&gt;140507734099336</title>\n",
       "<path d=\"M163,-249.366C163,-241.152 163,-231.658 163,-222.725\" fill=\"none\" stroke=\"black\"/>\n",
       "<polygon fill=\"black\" points=\"166.5,-222.607 163,-212.607 159.5,-222.607 166.5,-222.607\" stroke=\"black\"/>\n",
       "</g>\n",
       "<!-- 140507752596144 -->\n",
       "<g class=\"node\" id=\"node3\"><title>140507752596144</title>\n",
       "<polygon fill=\"none\" points=\"9.5,-83.5 9.5,-129.5 316.5,-129.5 316.5,-83.5 9.5,-83.5\" stroke=\"black\"/>\n",
       "<text font-family=\"Times,serif\" font-size=\"14.00\" text-anchor=\"middle\" x=\"74\" y=\"-102.8\">Flatten: Flatten</text>\n",
       "<polyline fill=\"none\" points=\"138.5,-83.5 138.5,-129.5 \" stroke=\"black\"/>\n",
       "<text font-family=\"Times,serif\" font-size=\"14.00\" text-anchor=\"middle\" x=\"172.5\" y=\"-114.3\">input:</text>\n",
       "<polyline fill=\"none\" points=\"138.5,-106.5 206.5,-106.5 \" stroke=\"black\"/>\n",
       "<text font-family=\"Times,serif\" font-size=\"14.00\" text-anchor=\"middle\" x=\"172.5\" y=\"-91.3\">output:</text>\n",
       "<polyline fill=\"none\" points=\"206.5,-83.5 206.5,-129.5 \" stroke=\"black\"/>\n",
       "<text font-family=\"Times,serif\" font-size=\"14.00\" text-anchor=\"middle\" x=\"261.5\" y=\"-114.3\">(None, 4, 96)</text>\n",
       "<polyline fill=\"none\" points=\"206.5,-106.5 316.5,-106.5 \" stroke=\"black\"/>\n",
       "<text font-family=\"Times,serif\" font-size=\"14.00\" text-anchor=\"middle\" x=\"261.5\" y=\"-91.3\">(None, 384)</text>\n",
       "</g>\n",
       "<!-- 140507734099336&#45;&gt;140507752596144 -->\n",
       "<g class=\"edge\" id=\"edge2\"><title>140507734099336-&gt;140507752596144</title>\n",
       "<path d=\"M163,-166.366C163,-158.152 163,-148.658 163,-139.725\" fill=\"none\" stroke=\"black\"/>\n",
       "<polygon fill=\"black\" points=\"166.5,-139.607 163,-129.607 159.5,-139.607 166.5,-139.607\" stroke=\"black\"/>\n",
       "</g>\n",
       "<!-- 140507734167336 -->\n",
       "<g class=\"node\" id=\"node4\"><title>140507734167336</title>\n",
       "<polygon fill=\"none\" points=\"0,-0.5 0,-46.5 326,-46.5 326,-0.5 0,-0.5\" stroke=\"black\"/>\n",
       "<text font-family=\"Times,serif\" font-size=\"14.00\" text-anchor=\"middle\" x=\"78.5\" y=\"-19.8\">Dense_Out2: Dense</text>\n",
       "<polyline fill=\"none\" points=\"157,-0.5 157,-46.5 \" stroke=\"black\"/>\n",
       "<text font-family=\"Times,serif\" font-size=\"14.00\" text-anchor=\"middle\" x=\"191\" y=\"-31.3\">input:</text>\n",
       "<polyline fill=\"none\" points=\"157,-23.5 225,-23.5 \" stroke=\"black\"/>\n",
       "<text font-family=\"Times,serif\" font-size=\"14.00\" text-anchor=\"middle\" x=\"191\" y=\"-8.3\">output:</text>\n",
       "<polyline fill=\"none\" points=\"225,-0.5 225,-46.5 \" stroke=\"black\"/>\n",
       "<text font-family=\"Times,serif\" font-size=\"14.00\" text-anchor=\"middle\" x=\"275.5\" y=\"-31.3\">(None, 384)</text>\n",
       "<polyline fill=\"none\" points=\"225,-23.5 326,-23.5 \" stroke=\"black\"/>\n",
       "<text font-family=\"Times,serif\" font-size=\"14.00\" text-anchor=\"middle\" x=\"275.5\" y=\"-8.3\">(None, 15)</text>\n",
       "</g>\n",
       "<!-- 140507752596144&#45;&gt;140507734167336 -->\n",
       "<g class=\"edge\" id=\"edge3\"><title>140507752596144-&gt;140507734167336</title>\n",
       "<path d=\"M163,-83.3664C163,-75.1516 163,-65.6579 163,-56.7252\" fill=\"none\" stroke=\"black\"/>\n",
       "<polygon fill=\"black\" points=\"166.5,-56.6068 163,-46.6068 159.5,-56.6069 166.5,-56.6068\" stroke=\"black\"/>\n",
       "</g>\n",
       "</g>\n",
       "</svg>"
      ],
      "text/plain": [
       "<IPython.core.display.SVG object>"
      ]
     },
     "execution_count": 11,
     "metadata": {},
     "output_type": "execute_result"
    }
   ],
   "source": [
    "SVG(model_to_dot(conv_model, show_shapes=True, show_layer_names=True).create(prog='dot', format='svg'))"
   ]
  },
  {
   "cell_type": "code",
   "execution_count": 12,
   "metadata": {
    "scrolled": true
   },
   "outputs": [
    {
     "name": "stdout",
     "output_type": "stream",
     "text": [
      "Train on 14620 samples, validate on 3640 samples\n",
      "Epoch 1/1000\n",
      "14620/14620 [==============================] - 0s - loss: 0.0166 - mean_absolute_error: 0.0607 - val_loss: 0.0152 - val_mean_absolute_error: 0.0587\n",
      "Epoch 2/1000\n",
      "14620/14620 [==============================] - 0s - loss: 0.0126 - mean_absolute_error: 0.0466 - val_loss: 0.0135 - val_mean_absolute_error: 0.0520\n",
      "Epoch 3/1000\n",
      "14620/14620 [==============================] - 0s - loss: 0.0123 - mean_absolute_error: 0.0446 - val_loss: 0.0133 - val_mean_absolute_error: 0.0514\n",
      "Epoch 4/1000\n",
      "14620/14620 [==============================] - 0s - loss: 0.0122 - mean_absolute_error: 0.0439 - val_loss: 0.0135 - val_mean_absolute_error: 0.0522\n",
      "Epoch 5/1000\n",
      "14620/14620 [==============================] - 0s - loss: 0.0122 - mean_absolute_error: 0.0439 - val_loss: 0.0127 - val_mean_absolute_error: 0.0491\n",
      "Epoch 6/1000\n",
      "14620/14620 [==============================] - 0s - loss: 0.0122 - mean_absolute_error: 0.0438 - val_loss: 0.0132 - val_mean_absolute_error: 0.0500\n",
      "Epoch 7/1000\n",
      "14620/14620 [==============================] - 0s - loss: 0.0121 - mean_absolute_error: 0.0437 - val_loss: 0.0128 - val_mean_absolute_error: 0.0504\n",
      "Epoch 8/1000\n",
      "14620/14620 [==============================] - 0s - loss: 0.0121 - mean_absolute_error: 0.0437 - val_loss: 0.0126 - val_mean_absolute_error: 0.0490\n",
      "Epoch 9/1000\n",
      "14620/14620 [==============================] - 0s - loss: 0.0121 - mean_absolute_error: 0.0438 - val_loss: 0.0129 - val_mean_absolute_error: 0.0492\n",
      "Epoch 10/1000\n",
      "14620/14620 [==============================] - 0s - loss: 0.0121 - mean_absolute_error: 0.0436 - val_loss: 0.0136 - val_mean_absolute_error: 0.0521\n",
      "Epoch 11/1000\n",
      "14620/14620 [==============================] - 0s - loss: 0.0121 - mean_absolute_error: 0.0436 - val_loss: 0.0129 - val_mean_absolute_error: 0.0495\n",
      "Epoch 12/1000\n",
      "14620/14620 [==============================] - 0s - loss: 0.0120 - mean_absolute_error: 0.0426 - val_loss: 0.0130 - val_mean_absolute_error: 0.0486\n",
      "Epoch 13/1000\n",
      "14620/14620 [==============================] - 0s - loss: 0.0120 - mean_absolute_error: 0.0424 - val_loss: 0.0130 - val_mean_absolute_error: 0.0485\n",
      "Epoch 14/1000\n",
      "14620/14620 [==============================] - 0s - loss: 0.0120 - mean_absolute_error: 0.0420 - val_loss: 0.0128 - val_mean_absolute_error: 0.0478\n"
     ]
    }
   ],
   "source": [
    "early_stop = EarlyStopping(monitor='val_loss', patience=5)\n",
    "reduce_lr = ReduceLROnPlateau(monitor='val_loss', factor=0.5,patience=2, min_lr=0.000001, verbose=0)\n",
    "conv_model_data = conv_model.fit(data_['x_train_c'], data_['y_train_c'], verbose=1, epochs=1000, batch_size=128, validation_data=(data_['x_test_c'], data_['y_test_c']), callbacks=[reduce_lr,early_stop])\n",
    "\n"
   ]
  },
  {
   "cell_type": "code",
   "execution_count": 13,
   "metadata": {
    "collapsed": true
   },
   "outputs": [],
   "source": [
    "x_train_encoded_conv = conv_encoder.predict(data_['x_train_c'])\n",
    "x_test_encoded_conv = conv_encoder.predict(data_['x_test_c'])"
   ]
  },
  {
   "cell_type": "code",
   "execution_count": 14,
   "metadata": {},
   "outputs": [
    {
     "name": "stdout",
     "output_type": "stream",
     "text": [
      "(14620, 384)\n",
      "(3640, 384)\n",
      "(18260, 384)\n"
     ]
    }
   ],
   "source": [
    "print(x_train_encoded_conv.shape)\n",
    "print(x_test_encoded_conv.shape)\n",
    "x_encoded = np.concatenate((x_train_encoded_conv,x_test_encoded_conv),axis=0)\n",
    "print(x_encoded.shape)"
   ]
  },
  {
   "cell_type": "code",
   "execution_count": 15,
   "metadata": {
    "scrolled": false
   },
   "outputs": [
    {
     "ename": "ValueError",
     "evalue": "too many values to unpack (expected 2)",
     "output_type": "error",
     "traceback": [
      "\u001b[0;31m---------------------------------------------------------------------------\u001b[0m",
      "\u001b[0;31mValueError\u001b[0m                                Traceback (most recent call last)",
      "\u001b[0;32m<ipython-input-15-d3a3a907641d>\u001b[0m in \u001b[0;36m<module>\u001b[0;34m()\u001b[0m\n\u001b[1;32m      1\u001b[0m encoder_vae_conv,vae_conv = build_vae(original_dim = x_encoded.shape[-1],\n\u001b[1;32m      2\u001b[0m                         \u001b[0mlatent_dim\u001b[0m \u001b[0;34m=\u001b[0m \u001b[0;36m2\u001b[0m\u001b[0;34m,\u001b[0m\u001b[0;34m\u001b[0m\u001b[0m\n\u001b[0;32m----> 3\u001b[0;31m                         \u001b[0mintermediate_dim\u001b[0m \u001b[0;34m=\u001b[0m \u001b[0;36m128\u001b[0m\u001b[0;34m\u001b[0m\u001b[0m\n\u001b[0m\u001b[1;32m      4\u001b[0m                        )\n",
      "\u001b[0;31mValueError\u001b[0m: too many values to unpack (expected 2)"
     ]
    }
   ],
   "source": [
    "encoder_vae_conv,vae_conv = build_vae(original_dim = x_encoded.shape[-1],\n",
    "                        latent_dim = 2,\n",
    "                        intermediate_dim = 128\n",
    "                       )"
   ]
  },
  {
   "cell_type": "code",
   "execution_count": null,
   "metadata": {
    "collapsed": true
   },
   "outputs": [],
   "source": [
    "SVG(model_to_dot(vae_conv, show_shapes=True, show_layer_names=True).create(prog='dot', format='svg'))"
   ]
  },
  {
   "cell_type": "code",
   "execution_count": null,
   "metadata": {
    "collapsed": true,
    "scrolled": true
   },
   "outputs": [],
   "source": [
    "early_stop = EarlyStopping(monitor='val_loss', patience=3)\n",
    "reduce_lr = ReduceLROnPlateau(monitor='val_loss', factor=0.1,patience=2, min_lr=0.000001, verbose=0)\n",
    "vae_conv.compile(optimizer=RMSprop(lr=0.01), loss=None)\n",
    "vae_conv.fit(x_train_encoded_conv,\n",
    "        shuffle=True,\n",
    "        epochs=epochs,\n",
    "        batch_size=batch_size,\n",
    "        validation_data=(x_test_encoded_conv,x_test_encoded_conv),\n",
    "       callbacks=[early_stop,reduce_lr])"
   ]
  },
  {
   "cell_type": "code",
   "execution_count": 21,
   "metadata": {},
   "outputs": [
    {
     "data": {
      "text/html": [
       "<div style=\"background-color:rgb(178,24,43);height:20px;width:20px;display:inline-block;\"></div><div style=\"background-color:rgb(239,138,98);height:20px;width:20px;display:inline-block;\"></div><div style=\"background-color:rgb(253,219,199);height:20px;width:20px;display:inline-block;\"></div><div style=\"background-color:rgb(209,229,240);height:20px;width:20px;display:inline-block;\"></div><div style=\"background-color:rgb(103,169,207);height:20px;width:20px;display:inline-block;\"></div><div style=\"background-color:rgb(33,102,172);height:20px;width:20px;display:inline-block;\"></div>"
      ],
      "text/plain": [
       "<IPython.core.display.HTML object>"
      ]
     },
     "execution_count": 21,
     "metadata": {},
     "output_type": "execute_result"
    }
   ],
   "source": [
    "bupu = cl.scales['6']['div']['RdBu']\n",
    "# bupu = cl.interp( bupu, 30 )\n",
    "HTML( cl.to_html( bupu ) )"
   ]
  },
  {
   "cell_type": "code",
   "execution_count": null,
   "metadata": {
    "collapsed": true
   },
   "outputs": [],
   "source": [
    "# display a 2D plot of the digit classes in the latent space\n",
    "x_encoded_vae = encoder_vae_conv.predict(x_encoded, batch_size=batch_size)"
   ]
  },
  {
   "cell_type": "code",
   "execution_count": null,
   "metadata": {
    "collapsed": true
   },
   "outputs": [],
   "source": [
    "x_encoded_vae[1200]"
   ]
  },
  {
   "cell_type": "code",
   "execution_count": null,
   "metadata": {
    "collapsed": true,
    "scrolled": true
   },
   "outputs": [],
   "source": [
    "gmm_scaled = GaussianMixture(n_components = 7, covariance_type='tied',random_state=24)\n",
    "gmm_scaled.fit(x_encoded_vae)\n",
    "gmm_scaled_labels = gmm_scaled.predict(x_encoded_vae)\n"
   ]
  },
  {
   "cell_type": "code",
   "execution_count": null,
   "metadata": {
    "collapsed": true
   },
   "outputs": [],
   "source": [
    "inertia = np.zeros(9)\n",
    "for i in range(2,10):\n",
    "    kmeans = KMeans(n_clusters=i)\n",
    "    kmeans.fit(x_encoded_vae)\n",
    "    inertia[i-2] = kmeans.inertia_\n",
    "    \n",
    "trace = go.Scatter(x=[i for i in range(0,9)], y=inertia, mode='markers')\n",
    "data= [trace]\n",
    "py.iplot(data, filename='K-Means inerta')"
   ]
  },
  {
   "cell_type": "code",
   "execution_count": null,
   "metadata": {
    "collapsed": true
   },
   "outputs": [],
   "source": [
    "kmeans = KMeans(n_clusters=6, random_state=0).fit(x_encoded_vae)"
   ]
  },
  {
   "cell_type": "code",
   "execution_count": null,
   "metadata": {
    "collapsed": true
   },
   "outputs": [],
   "source": [
    "# c = [bupu[x] for x in gmm_scaled_labels] #[bupu[x] for x in data_['time_categorical']]\n",
    "c = [bupu[x] for x in kmeans.labels_]\n",
    "x = x_encoded_vae[:,0]\n",
    "y = x_encoded_vae[:,1]\n",
    "t = ['<br>'.join(json.dumps(x).split(',')) for x in y_labels]\n",
    "\n",
    "trace1 = go.Scatter(\n",
    "    x=x,\n",
    "    y=y, \n",
    "    mode='markers',\n",
    "    marker=dict(color=c,opacity=0.8),\n",
    "    text = t\n",
    ")\n",
    "data = [trace1]\n",
    "layout = go.Layout(margin=dict(l=0,r=0,b=0,t=0))\n",
    "fig = go.Figure(data=data, layout=layout)\n",
    "py.iplot(fig, filename='MNIST')"
   ]
  },
  {
   "cell_type": "markdown",
   "metadata": {},
   "source": [
    "# LSTM"
   ]
  },
  {
   "cell_type": "code",
   "execution_count": null,
   "metadata": {
    "collapsed": true
   },
   "outputs": [],
   "source": [
    "inputs = Input(shape=(window_size, original_dim), name='Inputs')\n",
    "# inputs_masked = Masking(mask_value=0., name='Masking')(inputs)\n",
    "encoded = GRU(32, name='GRU1', activation='linear')(inputs)\n",
    "output = Dense(original_dim, activation='linear')(encoded)\n",
    "\n",
    "rnn_encoder = Model(inputs, encoded)\n",
    "rnn_model = Model(inputs, output)\n",
    "\n",
    "rnn_model.compile(loss='mse', metrics=['mae'], optimizer='rmsprop')\n",
    "print(rnn_model.summary())"
   ]
  },
  {
   "cell_type": "code",
   "execution_count": null,
   "metadata": {
    "collapsed": true
   },
   "outputs": [],
   "source": [
    "SVG(model_to_dot(rnn_model, show_shapes=True, show_layer_names=True).create(prog='dot', format='svg'))"
   ]
  },
  {
   "cell_type": "code",
   "execution_count": null,
   "metadata": {
    "collapsed": true,
    "scrolled": true
   },
   "outputs": [],
   "source": [
    "early_stop = EarlyStopping(monitor='val_loss', patience=5)\n",
    "reduce_lr = ReduceLROnPlateau(monitor='val_loss', factor=0.5,patience=2, min_lr=0.000001, verbose=0)\n",
    "rnn_model_data = rnn_model.fit(data_['x_train_c'], data_['y_train_c'], verbose=1, epochs=1000, batch_size=128, validation_data=(data_['x_test_c'], data_['y_test_c']), callbacks=[reduce_lr,early_stop])"
   ]
  },
  {
   "cell_type": "code",
   "execution_count": null,
   "metadata": {
    "collapsed": true
   },
   "outputs": [],
   "source": [
    "x_train_encoded_rnn = rnn_encoder.predict(data_['x_train_c'])\n",
    "x_test_encoded_rnn = rnn_encoder.predict(data_['x_test_c'])"
   ]
  },
  {
   "cell_type": "code",
   "execution_count": null,
   "metadata": {
    "collapsed": true
   },
   "outputs": [],
   "source": [
    "print(x_train_encoded_rnn.shape)\n",
    "print(x_test_encoded_rnn.shape)\n",
    "x_encoded_rnn = np.concatenate((x_train_encoded_rnn,x_test_encoded_rnn),axis=0)\n",
    "print(x_encoded_rnn.shape)"
   ]
  },
  {
   "cell_type": "code",
   "execution_count": null,
   "metadata": {
    "collapsed": true
   },
   "outputs": [],
   "source": [
    "m = 20 # batch size\n",
    "n_z = 2 # latent space size\n",
    "encoder_dim1 = 10 # dim of encoder hidden layer\n",
    "decoder_dim = 10 # dim of decoder hidden layer\n",
    "decoder_out_dim = len(data_['popular_apps']) # dim of decoder output layer\n",
    "activ = 'relu'\n",
    "optim = Adam(lr=0.0005)\n",
    "\n",
    "\n",
    "n_x = x_encoded_rnn.shape[1]\n",
    "# n_y = y_train.shape[1]\n",
    "\n",
    "\n",
    "n_epoch = 100\n",
    "def sample_z(args):\n",
    "    mu, l_sigma = args\n",
    "    eps = K.random_normal(shape=(m, n_z), mean=0., stddev=1.)\n",
    "    return mu + K.exp(l_sigma / 2) * eps"
   ]
  },
  {
   "cell_type": "code",
   "execution_count": null,
   "metadata": {
    "collapsed": true
   },
   "outputs": [],
   "source": [
    "X = Input(shape=(n_x,), name='Input')\n",
    "# activity_regularizer = 'l2',\n",
    "encoder_h = Dense(encoder_dim1, activation=activ,  name='Encoder_H')(X)\n",
    "mu = Dense(n_z, activation='linear', name='mu')(encoder_h)\n",
    "l_sigma = Dense(n_z, activation='linear', name='l_sigma')(encoder_h)\n",
    "\n",
    "\n",
    "# Sampling latent space\n",
    "z = Lambda(sample_z, output_shape = (n_z, ), name='Sampling')([mu, l_sigma])\n",
    "\n",
    "decoder_hidden = Dense(decoder_dim, activation=activ, name='Decoder_H')\n",
    "decoder_out = Dense(decoder_out_dim, activation='sigmoid', name='Output')\n",
    "h_p = decoder_hidden(z)\n",
    "outputs = decoder_out(h_p)\n",
    "\n",
    "def vae_loss(y_true, y_pred):\n",
    "    recon = K.sum(K.binary_crossentropy(y_pred, y_true), axis=1)\n",
    "    kl = 0.5 * K.sum(K.exp(l_sigma) + K.square(mu) - 1. - l_sigma, axis=1)\n",
    "    return recon + kl\n",
    "\n",
    "def KL_loss(y_true, y_pred):\n",
    "    return(0.5 * K.sum(K.exp(l_sigma) + K.square(mu) - 1. - l_sigma, axis=1))\n",
    "\n",
    "def recon_loss(y_true, y_pred):\n",
    "    return(K.sum(K.binary_crossentropy(y_pred, y_true), axis=1))\n",
    "\n",
    "# build a model to project inputs on the latent space\n",
    "vae_rnn = Model(X, outputs)\n",
    "vae_rnn_encoder = Model(X, mu)\n",
    "print(vae.summary())"
   ]
  },
  {
   "cell_type": "code",
   "execution_count": null,
   "metadata": {
    "collapsed": true,
    "scrolled": true
   },
   "outputs": [],
   "source": [
    "early_stop = EarlyStopping(monitor='val_loss', patience=2)\n",
    "reduce_lr = ReduceLROnPlateau(monitor='val_loss', factor=0.1,patience=1, min_lr=0.000001, verbose=0)\n",
    "\n",
    "vae_rnn.compile(optimizer=RMSprop(lr=0.001), loss=vae_loss, metrics=[KL_loss, recon_loss])\n",
    "vae_rnn.fit(x_train_encoded_rnn,\n",
    "        shuffle=True,\n",
    "        epochs=epochs,\n",
    "        batch_size=batch_size,\n",
    "        validation_data=(x_test_encoded_rnn,x_test_encoded_rnn),\n",
    "       callbacks=[early_stop,reduce_lr])"
   ]
  },
  {
   "cell_type": "code",
   "execution_count": null,
   "metadata": {
    "collapsed": true
   },
   "outputs": [],
   "source": [
    "xrnn_encoded_vae = encoder_vae_rnn.predict(x_encoded_rnn, batch_size=batch_size)\n",
    "print(xrnn_encoded_vae.shape)"
   ]
  },
  {
   "cell_type": "code",
   "execution_count": null,
   "metadata": {
    "collapsed": true
   },
   "outputs": [],
   "source": [
    "kmeans = KMeans(n_clusters=6, random_state=0).fit(xrnn_encoded_vae)\n",
    "\n",
    "# Fit a Dirichlet process Gaussian mixture using five components\n",
    "gmm = GaussianMixture(n_components=6, \n",
    "                      covariance_type='tied').fit(xrnn_encoded_vae)\n",
    "gmm_labels = gmm.predict(xrnn_encoded_vae)"
   ]
  },
  {
   "cell_type": "code",
   "execution_count": null,
   "metadata": {
    "collapsed": true
   },
   "outputs": [],
   "source": [
    "c = [bupu[x] for x in gmm_labels]\n",
    "# c = [bupu[x] for x in gmm_scaled_labels] #[bupu[x] for x in data_['time_categorical']]\n",
    "# c = [bupu[x] for x in kmeans.labels_]\n",
    "x = xrnn_encoded_vae[:,0]\n",
    "y = xrnn_encoded_vae[:,1]\n",
    "t = ['<br>'.join(json.dumps(x).split(',')) for x in y_labels]\n",
    "\n",
    "trace1 = go.Scatter(\n",
    "    x=x,\n",
    "    y=y, \n",
    "    mode='markers',\n",
    "    marker=dict(color=c,opacity=0.8),\n",
    "    text = t\n",
    ")\n",
    "data = [trace1]\n",
    "layout = go.Layout(margin=dict(l=0,r=0,b=0,t=0))\n",
    "fig = go.Figure(data=data, layout=layout)\n",
    "py.iplot(fig, filename='MNIST')"
   ]
  },
  {
   "cell_type": "markdown",
   "metadata": {
    "collapsed": true
   },
   "source": [
    "# Conv1D + VAE"
   ]
  },
  {
   "cell_type": "code",
   "execution_count": null,
   "metadata": {
    "collapsed": true
   },
   "outputs": [],
   "source": [
    "'''\n",
    "    (None, window_size, original_dim) -> Conv1D -> (None, 384)\n",
    "    (None, 384) -> Dense -> (None, 15)\n",
    "    (None, 15) -> VAE Encoder -> (None, 2) -> VAE Decoder (None,15)\n",
    "    loss = KL(Encoded, Standard Normal) + Reconstruction(Decoded, Dense_out) + MAE(Decoded, Y_True)\n",
    "\n",
    "'''\n",
    "epochs = 50\n",
    "\n",
    "window_size=6\n",
    "filter_length=3\n",
    "nb_input_series=original_dim\n",
    "nb_outputs=original_dim\n",
    "nb_filter=96\n",
    "\n",
    "batch_size = 20\n",
    "latent_dim = 2\n",
    "dense1 = 15\n",
    "intermediate_dim = 10\n",
    "epsilon_std = 1.0\n",
    "\n",
    "inputs = Input(shape=(window_size, original_dim), name='Input')\n",
    "# labels = Input(shape=(original_dim,), name='Labels')\n",
    "\n",
    "conv1 = Conv1D(name='Conv1', \n",
    "               filters=nb_filter, \n",
    "               kernel_size=filter_length, \n",
    "               activation='relu', \n",
    "               input_shape=(window_size, nb_input_series)\n",
    "              )(inputs)\n",
    "\n",
    "flat1 = Flatten(name='Conv_output')(conv1)\n",
    "#output1\n",
    "conv_output = Dense(nb_outputs, activation='linear',name='Pre_Output')(flat1)\n",
    "\n",
    "\n",
    "\n",
    "# x = Input(batch_shape=(batch_size, original_dim))\n",
    "\n",
    "#Encoder\n",
    "h = Dense(intermediate_dim, activation='elu', name='Encoder_Int1')(conv_output)\n",
    "z_mean = Dense(latent_dim, activation='elu', name='Z_Mean')(h)\n",
    "z_log_var = Dense(latent_dim, activation='elu', name='Z_Log_Var')(h)\n",
    "\n",
    "\n",
    "\n",
    "# Sample\n",
    "z = Lambda(sampling, name='Sampling')([z_mean, z_log_var])\n",
    "\n",
    "# Reconstruction Decoder\n",
    "decoder_h = Dense(intermediate_dim, activation='elu', name='Decoder_Int1')\n",
    "decoder_mean = Dense(nb_outputs, activation='elu', name='Decoder_Out_Reconstruction')\n",
    "h_decoded = decoder_h(z)\n",
    "x_decoded_mean = decoder_mean(h_decoded)\n",
    "\n",
    "# Prediction Decoder\n",
    "# decoder_h = Dense(original_dim, activation='elu', name='Decoder_Int1')\n",
    "# prediction_mean = Dense(original_dim, activation='elu', name='Decoder_Out_Prediction')\n",
    "# # h_decoded = decoder_h(h_decoded)\n",
    "# output = prediction_mean(z)\n",
    "\n",
    "\n",
    "# Custom loss layer\n",
    "class CustomVariationalLayer(Layer):\n",
    "    def __init__(self, **kwargs):\n",
    "        self.is_placeholder = True\n",
    "        super(CustomVariationalLayer, self).__init__(**kwargs)\n",
    "\n",
    "    def vae_loss(self, x, x_decoded_mean):\n",
    "        xent_loss = metrics.binary_crossentropy(x, x_decoded_mean)\n",
    "        kl_loss = - 0.5 * K.sum(1 + z_log_var - K.square(z_mean) - K.exp(z_log_var), axis=-1)\n",
    "\n",
    "        return 0.2*K.mean(xent_loss + kl_loss)\n",
    "\n",
    "    def call(self, inputs):\n",
    "        x = inputs[0]\n",
    "        x_decoded_mean = inputs[1]\n",
    "        loss = self.vae_loss(x, x_decoded_mean)\n",
    "        self.add_loss(loss, inputs=inputs)\n",
    "        # We won't actually use the output.\n",
    "        return x\n",
    "\n",
    "y = CustomVariationalLayer()([conv_output, x_decoded_mean])\n",
    "    \n",
    "# encoder = Model(inputs,z_mean)\n",
    "cnn_vae = Model(inputs, [x_decoded_mean, y])\n",
    "\n",
    "\n",
    "def pred_loss(y_true, y_pred):\n",
    "    pred_loss = original_dim*metrics.mse(y_true, y_pred)\n",
    "    return 0.8*K.mean(pred_loss)\n",
    "\n",
    "    \n",
    "cnn_vae.compile(optimizer=RMSprop(lr=0.01), loss=[pred_loss, None], metrics=['mae'])\n",
    "    \n",
    "# encoder_conv = Model(inputs, pre_output)\n",
    "# vae_encoder = Model(inputs, z_mean)\n",
    "# upper_bound = Model(inputs, x_decoded_mean_upper)\n",
    "# lower_bound = Model(inputs, x_decoded_mean_lower)\n",
    "print(cnn_vae.summary())"
   ]
  },
  {
   "cell_type": "code",
   "execution_count": null,
   "metadata": {
    "collapsed": true
   },
   "outputs": [],
   "source": [
    "SVG(model_to_dot(cnn_vae, show_shapes=True, show_layer_names=True).create(prog='dot', format='svg'))"
   ]
  },
  {
   "cell_type": "code",
   "execution_count": null,
   "metadata": {
    "collapsed": true,
    "scrolled": true
   },
   "outputs": [],
   "source": [
    "early_stop = EarlyStopping(monitor='val_loss', patience=10)\n",
    "reduce_lr = ReduceLROnPlateau(monitor='val_loss', factor=0.5,patience=3, min_lr=0.000001, verbose=0)\n",
    "\n",
    "cnn_vae.fit(x=data_['x_train_c'], y=data_['y_train_c'],\n",
    "             verbose=1,\n",
    "             epochs=300,\n",
    "             batch_size=20,\n",
    "            validation_data=(data_['x_test_c'],data_['y_test_c']),\n",
    "           callbacks=[early_stop,reduce_lr]\n",
    "            )"
   ]
  },
  {
   "cell_type": "code",
   "execution_count": null,
   "metadata": {
    "collapsed": true
   },
   "outputs": [],
   "source": []
  },
  {
   "cell_type": "code",
   "execution_count": null,
   "metadata": {
    "collapsed": true
   },
   "outputs": [],
   "source": [
    "np.round(x_prediction[0][2010]*300)"
   ]
  },
  {
   "cell_type": "code",
   "execution_count": null,
   "metadata": {
    "collapsed": true
   },
   "outputs": [],
   "source": [
    "np.round(data_['y_train_c'][2010]*300)"
   ]
  },
  {
   "cell_type": "code",
   "execution_count": null,
   "metadata": {
    "collapsed": true
   },
   "outputs": [],
   "source": [
    "y_pred = cnn_vae.predict(data_['x_test_c'], batch_size=20)[0]\n",
    "Y_test = data_['y_test_c']\n",
    "for i in range(0,Y_test.shape[0],10):\n",
    "    print(\"=== Prediction ===\", \"\\n\")\n",
    "    print(np.round(y_pred[i]*300), \"\\n\")\n",
    "    print(\"=== True value ===\",\"\\n\")\n",
    "    print(np.round(Y_test[i]*300), \"\\n\")"
   ]
  },
  {
   "cell_type": "markdown",
   "metadata": {},
   "source": [
    "## LSTM_VAE"
   ]
  },
  {
   "cell_type": "code",
   "execution_count": null,
   "metadata": {
    "collapsed": true
   },
   "outputs": [],
   "source": [
    "'''\n",
    "    (None, window_size, original_dim) -> Conv1D -> (None, 384)\n",
    "    (None, 384) -> Dense -> (None, 15)\n",
    "    (None, 15) -> VAE Encoder -> (None, 2) -> VAE Decoder (None,15)\n",
    "    loss = KL(Encoded, Standard Normal) + Reconstruction(Decoded, Dense_out) + MAE(Decoded, Y_True)\n",
    "\n",
    "'''\n",
    "epochs = 50\n",
    "\n",
    "window_size=6\n",
    "filter_length=3\n",
    "nb_input_series=original_dim\n",
    "nb_outputs=original_dim\n",
    "\n",
    "batch_size = 20\n",
    "latent_dim = 3\n",
    "hidden_size = 15\n",
    "epsilon_std = 1.0\n",
    "\n",
    "inputs = Input(shape=(window_size, original_dim), name='Input')\n",
    "# labels = Input(shape=(original_dim,), name='Labels')\n",
    "\n",
    "encoded = GRU(hidden_size, name='GRU1', activation='linear')(inputs)\n",
    "\n",
    "\n",
    "z_mean = Dense(latent_dim,  name='Z_Mean')(encoded)\n",
    "z_log_var = Dense(latent_dim, name='Z_Log_Var')(encoded)\n",
    "z = Lambda(sampling, name='Sampling')([z_mean, z_log_var])\n",
    "\n",
    "def get_upper(z_mean, z_log_var):\n",
    "    return z_mean + K.exp(z_log_var/2)\n",
    "\n",
    "def get_lower(z_mean, z_log_var):\n",
    "    return z_mean - K.exp(z_log_var/2)\n",
    "\n",
    "decoder_h1 = Dense(nb_outputs,  name='Sampled_output')\n",
    "\n",
    "sampled_out_upper = decoder_h1(get_upper(z_mean,z_log_var))\n",
    "sampled_out = decoder_h1(z)\n",
    "sampled_out_lower = decoder_h1(get_lower(z_mean,z_log_var))\n",
    "\n",
    "# Custom loss layer\n",
    "class CustomVariationalLayer(Layer):\n",
    "    def __init__(self, **kwargs):\n",
    "        self.is_placeholder = True\n",
    "        super(CustomVariationalLayer, self).__init__(**kwargs)\n",
    "\n",
    "    def vae_loss(self, x, x_decoded_mean):\n",
    "        xent_loss = metrics.mse(x, x_decoded_mean)\n",
    "        kl_loss = - 0.5 * K.sum(1 + z_log_var - K.square(z_mean) - K.exp(z_log_var), axis=-1)\n",
    "\n",
    "        return K.mean(xent_loss + kl_loss)\n",
    "\n",
    "    def call(self, inputs):\n",
    "        x = inputs[0]\n",
    "        x_decoded_mean = inputs[1]\n",
    "        loss = self.vae_loss(x, x_decoded_mean)\n",
    "        self.add_loss(loss, inputs=inputs)\n",
    "        # We won't actually use the output.\n",
    "        return x\n",
    "\n",
    "y = CustomVariationalLayer()([encoded, sampled_out])\n",
    "    \n",
    "# encoder = Model(inputs,z_mean)\n",
    "rnn_vae = Model(inputs, [sampled_out, y])\n",
    "\n",
    "\n",
    "def pred_loss(y_true, y_pred):\n",
    "    pred_loss = metrics.mse(y_true, y_pred)\n",
    "    return K.mean(pred_loss)\n",
    "\n",
    "# def accuracy(y_true, y_pred):\n",
    "#     loss = (y_true < sampled_out_upper) && (y_true > sampled_out_lower)\n",
    "#     return K.mean(loss)\n",
    "\n",
    "rnn_vae.compile(optimizer='rmsprop', loss=[pred_loss, None], metrics=['accuracy'])\n",
    "    \n",
    "# encoder_conv = Model(inputs, pre_output)\n",
    "# vae_encoder = Model(inputs, z_mean)\n",
    "# upper_bound = Model(inputs, x_decoded_mean_upper)\n",
    "# lower_bound = Model(inputs, x_decoded_mean_lower)\n",
    "print(rnn_vae.summary())"
   ]
  },
  {
   "cell_type": "code",
   "execution_count": null,
   "metadata": {
    "collapsed": true,
    "scrolled": false
   },
   "outputs": [],
   "source": [
    "SVG(model_to_dot(rnn_vae, show_shapes=True, show_layer_names=True).create(prog='dot', format='svg'))"
   ]
  },
  {
   "cell_type": "code",
   "execution_count": null,
   "metadata": {
    "collapsed": true
   },
   "outputs": [],
   "source": [
    "early_stop = EarlyStopping(monitor='val_loss', patience=5)\n",
    "reduce_lr = ReduceLROnPlateau(monitor='val_loss', factor=0.5,patience=2, min_lr=0.000001, verbose=0)\n",
    "\n",
    "rnn_vae.fit(x=data_['x_train_c'], y=data_['y_train_c'],\n",
    "             verbose=1,\n",
    "             epochs=300,\n",
    "             batch_size=20,\n",
    "            validation_data=(data_['x_test_c'],data_['y_test_c']),\n",
    "           callbacks=[early_stop,reduce_lr]\n",
    "            )"
   ]
  },
  {
   "cell_type": "code",
   "execution_count": null,
   "metadata": {
    "collapsed": true
   },
   "outputs": [],
   "source": []
  }
 ],
 "metadata": {
  "kernelspec": {
   "display_name": "Python [default]",
   "language": "python",
   "name": "python3"
  },
  "language_info": {
   "codemirror_mode": {
    "name": "ipython",
    "version": 3
   },
   "file_extension": ".py",
   "mimetype": "text/x-python",
   "name": "python",
   "nbconvert_exporter": "python",
   "pygments_lexer": "ipython3",
   "version": "3.5.3"
  }
 },
 "nbformat": 4,
 "nbformat_minor": 2
}
