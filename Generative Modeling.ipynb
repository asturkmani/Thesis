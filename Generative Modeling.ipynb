{
 "cells": [
  {
   "cell_type": "markdown",
   "metadata": {},
   "source": [
    "## Goal\n",
    "\n",
    "#### This thesis will aim to examine temporal app-usage data and achieve two goals:       \n",
    "    1) Model the data by clustering groups of activities into states        \n",
    "    2) Make predictions on the next state given the current state  "
   ]
  },
  {
   "cell_type": "markdown",
   "metadata": {},
   "source": [
    "To do this, a baseline model will first be created, and subsequently improved models will be built that aim to surpass the quality of modelling and prediction       \n",
    "        \n",
    "##### Baseline:      \n",
    "    1) Dimensionality reduction with PCA: Done\n",
    "    2) HMM for next-state/app usage prediction\n",
    "    \n",
    "    \n",
    "#### Advanced model:\n",
    "    1) RNN\n",
    "    2) Sequence-to-sequence RNN\n",
    "    3) S-to-S RNN with attention\n",
    "    4) VAE for dimensionality reduction followed by RNN for prediction"
   ]
  },
  {
   "cell_type": "markdown",
   "metadata": {},
   "source": [
    "### Get cleaned data"
   ]
  },
  {
   "cell_type": "code",
   "execution_count": 1,
   "metadata": {},
   "outputs": [],
   "source": [
    "from importlib import reload\n",
    "from utils import *\n",
    "import pandas as pd\n",
    "\n",
    "time_percentage = 0.9\n",
    "explained_variance = 0.9\n",
    "df = pd.read_csv(\"data/rescuetime_data-ac-min.csv\")\n",
    "data_pd = Clean_DF(df)\n",
    "data_pd.clean_data(time_percentage=time_percentage)\n",
    "data_pd.clean_df = data_pd.clean_df.reset_index()\n",
    "data_pd.get_pca(explained_variance=explained_variance)\n",
    "data_pd.get_day_time()"
   ]
  },
  {
   "cell_type": "code",
   "execution_count": 5,
   "metadata": {},
   "outputs": [
    {
     "name": "stdout",
     "output_type": "stream",
     "text": [
      "Dataset size: (10983, 9) \n",
      "\n",
      "Number of apps that consume 90.0 % of all users time:  91 \n",
      "\n",
      "Cleaned dataset columns: \n",
      " ['Date' 'Time Spent (seconds)' 'Activity' 'Category' 'Productivity'\n",
      " 'Activity Vector' 'Productivity Score' 'Day' 'Time'] \n",
      "\n",
      "Number of components that explain 90.0 % of the data:  31 \n",
      "\n"
     ]
    }
   ],
   "source": [
    "print(\"Dataset size:\", data_pd.clean_df.shape,'\\n')\n",
    "print(\"Number of apps that consume\", time_percentage*100, \"% of all users time: \",len(data_pd.popular_apps), '\\n')\n",
    "print(\"Cleaned dataset columns:\",'\\n', data_pd.clean_df.columns.values, '\\n')\n",
    "print(\"Number of components that explain\", explained_variance*100,\"% of the data: \",data_pd.pca_data.shape[1], '\\n')"
   ]
  },
  {
   "cell_type": "markdown",
   "metadata": {},
   "source": [
    "### Compute Principal Components and visualize top-3 modes"
   ]
  },
  {
   "cell_type": "code",
   "execution_count": 6,
   "metadata": {},
   "outputs": [
    {
     "data": {
      "text/html": [
       "<iframe id=\"igraph\" scrolling=\"no\" style=\"border:none;\" seamless=\"seamless\" src=\"https://plot.ly/~asturkmani/6.embed\" height=\"525px\" width=\"100%\"></iframe>"
      ],
      "text/plain": [
       "<plotly.tools.PlotlyDisplay object>"
      ]
     },
     "execution_count": 6,
     "metadata": {},
     "output_type": "execute_result"
    }
   ],
   "source": [
    "import plotly.plotly as py\n",
    "import plotly.graph_objs as go\n",
    "\n",
    "data_pd.get_pca(explained_variance=explained_variance)\n",
    "\n",
    "c = data_pd.clean_df['Productivity Score']\n",
    "x = data_pd.pca_data[:,0]\n",
    "y = data_pd.pca_data[:,1]\n",
    "z = data_pd.pca_data[:,2]\n",
    "t = data_pd.clean_df['Activity']\n",
    "t = data_pd.clean_df['Activity'].tolist()\n",
    "t = ['-'.join(x) for x in t]\n",
    "\n",
    "trace1 = go.Scatter3d(x=x,y=y,z=z,text=t,mode='markers',marker=dict(size=12,color=c, colorscale='RdYlGn',opacity=0.8))\n",
    "data = [trace1]\n",
    "layout = go.Layout(margin=dict(l=0,r=0,b=0,t=0))\n",
    "fig = go.Figure(data=data, layout=layout)\n",
    "py.iplot(fig, filename='PCA-3 Visualization')"
   ]
  },
  {
   "cell_type": "markdown",
   "metadata": {},
   "source": [
    "### Visualize entire PCA dimensional space using t-SNE"
   ]
  },
  {
   "cell_type": "code",
   "execution_count": 7,
   "metadata": {
    "collapsed": true
   },
   "outputs": [],
   "source": [
    "from sklearn.manifold import TSNE\n",
    "tsne30 = TSNE(n_components=3, verbose=0, perplexity=30, n_iter=5000)\n",
    "tsne_results30 = tsne30.fit_transform(data_pd.pca_data)"
   ]
  },
  {
   "cell_type": "code",
   "execution_count": 8,
   "metadata": {},
   "outputs": [
    {
     "data": {
      "text/html": [
       "<iframe id=\"igraph\" scrolling=\"no\" style=\"border:none;\" seamless=\"seamless\" src=\"https://plot.ly/~asturkmani/10.embed\" height=\"525px\" width=\"100%\"></iframe>"
      ],
      "text/plain": [
       "<plotly.tools.PlotlyDisplay object>"
      ]
     },
     "execution_count": 8,
     "metadata": {},
     "output_type": "execute_result"
    }
   ],
   "source": [
    "c = data_pd.clean_df['Productivity Score']\n",
    "x = tsne_results30[:,0]\n",
    "y = tsne_results30[:,1]\n",
    "z = tsne_results30[:,2]\n",
    "t = data_pd.clean_df['Activity']\n",
    "t = data_pd.clean_df['Activity'].tolist()\n",
    "t = ['-'.join(x) for x in t]\n",
    "\n",
    "trace1 = go.Scatter3d(x=x,y=y,z=z,text=t,mode='markers',marker=dict(size=12,color=c, colorscale='RdYlGn',opacity=0.8))\n",
    "data = [trace1]\n",
    "layout = go.Layout(margin=dict(l=0,r=0,b=0,t=0))\n",
    "fig = go.Figure(data=data, layout=layout)\n",
    "py.iplot(fig, filename='t-SNE PCA 90% variance Visualization')"
   ]
  },
  {
   "cell_type": "markdown",
   "metadata": {},
   "source": [
    "## Clustering data in PCA dimensions"
   ]
  },
  {
   "cell_type": "markdown",
   "metadata": {},
   "source": [
    "### Clustering data using the elbow method\n",
    "\n",
    "    1) Run Kmeans for N iterations recording the inertia for each\n",
    "    2) At each iteration save the error\n",
    "    3) When viewing the errors, pick the iteration that is at the elbow of the error curve\n"
   ]
  },
  {
   "cell_type": "code",
   "execution_count": 9,
   "metadata": {
    "collapsed": true
   },
   "outputs": [],
   "source": [
    "from sklearn.cluster import KMeans\n",
    "inertia = np.zeros(25)\n",
    "for i in range(2,26):\n",
    "    kmeans = KMeans(n_clusters=i)\n",
    "    kmeans.fit(data_pd.pca_data)\n",
    "    inertia[i-2] = kmeans.inertia_"
   ]
  },
  {
   "cell_type": "code",
   "execution_count": 10,
   "metadata": {},
   "outputs": [
    {
     "data": {
      "text/html": [
       "<iframe id=\"igraph\" scrolling=\"no\" style=\"border:none;\" seamless=\"seamless\" src=\"https://plot.ly/~asturkmani/12.embed\" height=\"525px\" width=\"100%\"></iframe>"
      ],
      "text/plain": [
       "<plotly.tools.PlotlyDisplay object>"
      ]
     },
     "execution_count": 10,
     "metadata": {},
     "output_type": "execute_result"
    }
   ],
   "source": [
    "trace = go.Scatter(x=[i for i in range(0,25)], y=inertia, mode='markers')\n",
    "data= [trace]\n",
    "py.iplot(data, filename='K-Means inerta')"
   ]
  },
  {
   "cell_type": "markdown",
   "metadata": {},
   "source": [
    "### Visualize top-3 PCA data with k-Means labels"
   ]
  },
  {
   "cell_type": "code",
   "execution_count": 16,
   "metadata": {},
   "outputs": [
    {
     "name": "stdout",
     "output_type": "stream",
     "text": [
      "{0, 1, 2, 3, 4, 5, 6, 7, 8}\n",
      "3113\n",
      "4854\n",
      "276\n",
      "507\n",
      "993\n",
      "373\n",
      "258\n",
      "313\n",
      "296\n"
     ]
    }
   ],
   "source": [
    "kmeans = KMeans(n_clusters=9)\n",
    "kmeans.fit(data_pd.pca_data)\n",
    "print(set(kmeans.labels_))\n",
    "for i in range(0,9):\n",
    "    print(list(kmeans.labels_).count(i))"
   ]
  },
  {
   "cell_type": "code",
   "execution_count": 17,
   "metadata": {},
   "outputs": [
    {
     "data": {
      "text/html": [
       "<iframe id=\"igraph\" scrolling=\"no\" style=\"border:none;\" seamless=\"seamless\" src=\"https://plot.ly/~asturkmani/16.embed\" height=\"525px\" width=\"100%\"></iframe>"
      ],
      "text/plain": [
       "<plotly.tools.PlotlyDisplay object>"
      ]
     },
     "execution_count": 17,
     "metadata": {},
     "output_type": "execute_result"
    }
   ],
   "source": [
    "c = kmeans.labels_\n",
    "x = data_pd.pca_data[:,0]\n",
    "y = data_pd.pca_data[:,1]\n",
    "z = data_pd.pca_data[:,2]\n",
    "t = data_pd.clean_df['Activity']\n",
    "t = data_pd.clean_df['Activity'].tolist()\n",
    "t = ['-'.join(x) for x in t]\n",
    "for i in range(0,len(t)):\n",
    "    t[i] = str(kmeans.labels_[i]) + '---' + t[i]\n",
    "    \n",
    "trace1 = go.Scatter3d(x=x,y=y,z=z,text=t,mode='markers',marker=dict(size=12,color=c, colorscale='Viridis',opacity=0.8))\n",
    "data = [trace1]\n",
    "layout = go.Layout(margin=dict(l=0,r=0,b=0,t=0))\n",
    "fig = go.Figure(data=data, layout=layout)\n",
    "py.iplot(fig, filename='PCA-3 Visualization with k-Means')"
   ]
  },
  {
   "cell_type": "markdown",
   "metadata": {},
   "source": [
    "### Visualize PCA data using t-SNE  with k-Means labels"
   ]
  },
  {
   "cell_type": "code",
   "execution_count": 18,
   "metadata": {},
   "outputs": [
    {
     "data": {
      "text/html": [
       "<iframe id=\"igraph\" scrolling=\"no\" style=\"border:none;\" seamless=\"seamless\" src=\"https://plot.ly/~asturkmani/18.embed\" height=\"525px\" width=\"100%\"></iframe>"
      ],
      "text/plain": [
       "<plotly.tools.PlotlyDisplay object>"
      ]
     },
     "execution_count": 18,
     "metadata": {},
     "output_type": "execute_result"
    }
   ],
   "source": [
    "c = kmeans.labels_\n",
    "x = tsne_results30[:,0]\n",
    "y = tsne_results30[:,1]\n",
    "z = tsne_results30[:,2]\n",
    "t = data_pd.clean_df['Activity']\n",
    "t = data_pd.clean_df['Activity'].tolist()\n",
    "t = ['-'.join(x) for x in t]\n",
    "for i in range(0,len(t)):\n",
    "    t[i] = str(kmeans.labels_[i]) + '---' + t[i]\n",
    "\n",
    "trace1 = go.Scatter3d(x=x,y=y,z=z,text=t, mode='markers',marker=dict(size=12,color=c, colorscale = 'Viridis', opacity=0.8))\n",
    "data = [trace1]\n",
    "layout = go.Layout(margin=dict(l=0,r=0,b=0,t=0))\n",
    "fig = go.Figure(data=data, layout=layout)\n",
    "py.iplot(fig, filename='t-SNE PCA with k-Means')\n"
   ]
  },
  {
   "cell_type": "markdown",
   "metadata": {},
   "source": [
    "## G-Means clustering"
   ]
  },
  {
   "cell_type": "code",
   "execution_count": 2,
   "metadata": {},
   "outputs": [
    {
     "name": "stderr",
     "output_type": "stream",
     "text": [
      "/Users/asturkmani/anaconda3/lib/python3.5/site-packages/scipy/stats/morestats.py:1427: RuntimeWarning: invalid value encountered in true_divide\n",
      "  w = (y - xbar) / s\n",
      "/Users/asturkmani/anaconda3/lib/python3.5/site-packages/scipy/stats/_distn_infrastructure.py:879: RuntimeWarning: invalid value encountered in greater\n",
      "  return (self.a < x) & (x < self.b)\n",
      "/Users/asturkmani/anaconda3/lib/python3.5/site-packages/scipy/stats/_distn_infrastructure.py:879: RuntimeWarning: invalid value encountered in less\n",
      "  return (self.a < x) & (x < self.b)\n",
      "/Users/asturkmani/anaconda3/lib/python3.5/site-packages/scipy/stats/_distn_infrastructure.py:1776: RuntimeWarning: invalid value encountered in greater_equal\n",
      "  cond2 = (x >= self.b) & cond0\n",
      "/Users/asturkmani/anaconda3/lib/python3.5/site-packages/scipy/stats/_distn_infrastructure.py:1862: RuntimeWarning: invalid value encountered in less_equal\n",
      "  cond2 = cond0 & (x <= self.a)\n"
     ]
    },
    {
     "data": {
      "text/plain": [
       "array([65142166818, 65142166818, 71689898406, ..., 87124497404,\n",
       "       12376507826, 22562532922])"
      ]
     },
     "execution_count": 2,
     "metadata": {},
     "output_type": "execute_result"
    }
   ],
   "source": [
    "from gmeans import *\n",
    "from scipy.cluster.vq import whiten\n",
    "whitened = whiten(data_pd.pca_data)\n",
    "# print(whitened)\n",
    "gmeans = GMeans(min_obs=100,\n",
    "    max_depth=500,\n",
    "    random_state=1010,\n",
    "    strictness=3)\n",
    "gmeans.fit(data_pd.pca_data)\n",
    "gmeans.labels_"
   ]
  },
  {
   "cell_type": "code",
   "execution_count": null,
   "metadata": {
    "collapsed": true
   },
   "outputs": [],
   "source": [
    "# print(data_pd.clean_df['Day'], data_pd.clean_df['Time'], pd.Series(c))"
   ]
  }
 ],
 "metadata": {
  "kernelspec": {
   "display_name": "Python [conda root]",
   "language": "python",
   "name": "conda-root-py"
  },
  "language_info": {
   "codemirror_mode": {
    "name": "ipython",
    "version": 3
   },
   "file_extension": ".py",
   "mimetype": "text/x-python",
   "name": "python",
   "nbconvert_exporter": "python",
   "pygments_lexer": "ipython3",
   "version": "3.5.3"
  }
 },
 "nbformat": 4,
 "nbformat_minor": 2
}
