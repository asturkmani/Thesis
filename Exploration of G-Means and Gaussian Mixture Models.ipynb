{
 "cells": [
  {
   "cell_type": "markdown",
   "metadata": {},
   "source": [
    "### Stage 2: App behaviour is normally distributed\n",
    "\n",
    "    1) The activity vectors are sampled from a Gaussian distribution\n",
    "    2) The clusters with normal distributions represent samples generated from a hidden Markov process\n",
    "    3) To test this, we must first observe whether the data can be split into clusters with Gaussian distributions at a significance level of 0.001\n",
    "    4) This test will be done via the G-Means algorithm [1]\n",
    "    \n",
    "[1] Hamerly, G., & Elkan, C. (n.d.). Learning the k in k -means.\n"
   ]
  },
  {
   "cell_type": "code",
   "execution_count": 1,
   "metadata": {
    "collapsed": true
   },
   "outputs": [],
   "source": [
    "import plotly "
   ]
  },
  {
   "cell_type": "code",
   "execution_count": 28,
   "metadata": {
    "collapsed": true
   },
   "outputs": [],
   "source": [
    "import numpy as np\n",
    "import itertools\n",
    "\n",
    "from scipy import linalg\n",
    "import matplotlib.pyplot as plt\n",
    "import matplotlib as mpl\n",
    "\n",
    "from sklearn.mixture import GaussianMixture\n",
    "\n",
    "from utils import *\n",
    "from gmm_means_mahalanobis2 import *\n",
    "import pandas as pd\n",
    "\n",
    "import plotly.plotly as py\n",
    "import plotly.graph_objs as go\n",
    "\n",
    "from sklearn.cluster import KMeans\n",
    "import pickle\n",
    "plotly.tools.set_credentials_file(username='asturkmani', api_key='bR0Ez8evmzcHY6m4XG7B')"
   ]
  },
  {
   "cell_type": "code",
   "execution_count": 3,
   "metadata": {
    "collapsed": true
   },
   "outputs": [],
   "source": [
    "# time_percentage = 0.95\n",
    "# explained_variance = 0.9\n",
    "# df = pd.read_csv(\"data/rescuetime_data-ac-min.csv\")\n",
    "# data_pd = Clean_DF(df)\n",
    "# data_pd.clean_data(time_percentage=time_percentage)\n",
    "# data_pd.clean_df = data_pd.clean_df.reset_index()\n",
    "# data_pd.get_pca(explained_variance=explained_variance)\n",
    "# data_pd.get_day_time()\n",
    "\n",
    "with open('data_pd.pickle', 'rb') as f:  # Python 3: open(..., 'rb')\n",
    "    data_pd = pickle.load(f)"
   ]
  },
  {
   "cell_type": "code",
   "execution_count": 4,
   "metadata": {},
   "outputs": [
    {
     "data": {
      "text/plain": [
       "array(['Date', 'Time Spent (seconds)', 'Activity', 'Category',\n",
       "       'Productivity', 'Activity Vector', 'Productivity Score', 'Day',\n",
       "       'Time'], dtype=object)"
      ]
     },
     "execution_count": 4,
     "metadata": {},
     "output_type": "execute_result"
    }
   ],
   "source": [
    "data_pd.clean_df.columns.values"
   ]
  },
  {
   "cell_type": "markdown",
   "metadata": {},
   "source": [
    "    "
   ]
  },
  {
   "cell_type": "code",
   "execution_count": 5,
   "metadata": {
    "collapsed": true
   },
   "outputs": [],
   "source": [
    "# from sklearn.decomposition import KernelPCA\n",
    "# kpca = KernelPCA(n_components=15, kernel='rbf', degree=5)\n",
    "# kpca.fit(data_pd.activity_vector)\n",
    "# pca_kernel = kpca.transform(data_pd.activity_vector)\n",
    "\n",
    "gmm = GaussianMixture(n_components = 4)\n",
    "gmm.fit(data_pd.pca_data)\n",
    "\n",
    "gmm_labels = gmm.predict(data_pd.pca_data)"
   ]
  },
  {
   "cell_type": "code",
   "execution_count": 9,
   "metadata": {},
   "outputs": [
    {
     "data": {
      "text/html": [
       "<iframe id=\"igraph\" scrolling=\"no\" style=\"border:none;\" seamless=\"seamless\" src=\"https://plot.ly/~AbdelWahabTurkmani/40.embed\" height=\"525px\" width=\"100%\"></iframe>"
      ],
      "text/plain": [
       "<plotly.tools.PlotlyDisplay object>"
      ]
     },
     "execution_count": 9,
     "metadata": {},
     "output_type": "execute_result"
    }
   ],
   "source": [
    "c = gmm_labels\n",
    "x = data_pd.pca_data[:,2]\n",
    "y = data_pd.pca_data[:,3]\n",
    "z = data_pd.pca_data[:,4]\n",
    "t = data_pd.clean_df['Activity']\n",
    "t = data_pd.clean_df['Activity'].tolist()\n",
    "t = ['-'.join(x) for x in t]\n",
    "for i in range(0,len(t)):\n",
    "    t[i] = str(gmm_labels[i]) + '---' + t[i]\n",
    "    \n",
    "trace1 = go.Scatter3d(x=x,y=y,z=z,text=t,mode='markers',marker=dict(size=12,color=c, colorscale='Viridis',opacity=0.8))\n",
    "data = [trace1]\n",
    "layout = go.Layout(margin=dict(l=0,r=0,b=0,t=0))\n",
    "fig = go.Figure(data=data, layout=layout)\n",
    "py.iplot(fig, filename='GMM PCA unscaled data')"
   ]
  },
  {
   "cell_type": "code",
   "execution_count": 7,
   "metadata": {
    "collapsed": true
   },
   "outputs": [],
   "source": [
    "from sklearn import preprocessing\n",
    "\n",
    "X = preprocessing.scale(data_pd.pca_data)\n",
    "gmm_scaled = GaussianMixture(n_components = 4)\n",
    "gmm_scaled.fit(X)\n",
    "gmm_scaled_labels = gmm_scaled.predict(X)"
   ]
  },
  {
   "cell_type": "code",
   "execution_count": 10,
   "metadata": {},
   "outputs": [
    {
     "data": {
      "text/html": [
       "<iframe id=\"igraph\" scrolling=\"no\" style=\"border:none;\" seamless=\"seamless\" src=\"https://plot.ly/~AbdelWahabTurkmani/42.embed\" height=\"525px\" width=\"100%\"></iframe>"
      ],
      "text/plain": [
       "<plotly.tools.PlotlyDisplay object>"
      ]
     },
     "execution_count": 10,
     "metadata": {},
     "output_type": "execute_result"
    }
   ],
   "source": [
    "c = gmm_scaled_labels\n",
    "x = data_pd.pca_data[:,2]\n",
    "y = data_pd.pca_data[:,3]\n",
    "z = data_pd.pca_data[:,4]\n",
    "t = data_pd.clean_df['Activity']\n",
    "t = data_pd.clean_df['Activity'].tolist()\n",
    "t = ['-'.join(x) for x in t]\n",
    "for i in range(0,len(t)):\n",
    "    t[i] = str(gmm_labels[i]) + '---' + t[i]\n",
    "    \n",
    "trace1 = go.Scatter3d(x=x,y=y,z=z,text=t,mode='markers',marker=dict(size=12,color=c, colorscale='Viridis',opacity=0.8))\n",
    "data = [trace1]\n",
    "layout = go.Layout(margin=dict(l=0,r=0,b=0,t=0))\n",
    "fig = go.Figure(data=data, layout=layout)\n",
    "py.iplot(fig, filename='GMM PCA Scaled data')"
   ]
  },
  {
   "cell_type": "code",
   "execution_count": 11,
   "metadata": {},
   "outputs": [
    {
     "data": {
      "text/html": [
       "<iframe id=\"igraph\" scrolling=\"no\" style=\"border:none;\" seamless=\"seamless\" src=\"https://plot.ly/~AbdelWahabTurkmani/44.embed\" height=\"525px\" width=\"100%\"></iframe>"
      ],
      "text/plain": [
       "<plotly.tools.PlotlyDisplay object>"
      ]
     },
     "execution_count": 11,
     "metadata": {},
     "output_type": "execute_result"
    }
   ],
   "source": [
    "data = [go.Scatter(x=data_pd.clean_df.Date, y=gmm_labels)]\n",
    "\n",
    "py.iplot(data)"
   ]
  },
  {
   "cell_type": "code",
   "execution_count": 12,
   "metadata": {},
   "outputs": [
    {
     "data": {
      "text/plain": [
       "{0: 4695, 1: 4618, 2: 2482, 3: 4909}"
      ]
     },
     "execution_count": 12,
     "metadata": {},
     "output_type": "execute_result"
    }
   ],
   "source": [
    "unique, counts = np.unique(gmm_labels, return_counts=True)\n",
    "dict(zip(unique, counts))"
   ]
  },
  {
   "cell_type": "code",
   "execution_count": 13,
   "metadata": {
    "scrolled": false
   },
   "outputs": [],
   "source": [
    "with open('tsne_results_pca.pickle', 'rb') as f:  # Python 3: open(..., 'rb')\n",
    "    tsne_results_pca = pickle.load(f)"
   ]
  },
  {
   "cell_type": "markdown",
   "metadata": {},
   "source": [
    "### Here GMM-Means is able to find the main clusters, but also distinguishes more between the nuances"
   ]
  },
  {
   "cell_type": "code",
   "execution_count": 18,
   "metadata": {},
   "outputs": [
    {
     "name": "stdout",
     "output_type": "stream",
     "text": [
      "GMM-Means with unscaled data finds:  4  clusters\n"
     ]
    }
   ],
   "source": [
    "gmmm_means_unscaled = GMMMeans(critical_value=1.8692, verbose=0, recalculate_points=False)\n",
    "gmmm_means_unscaled.fit(data_pd.activity_vector)\n",
    "print(\"GMM-Means with unscaled data finds: \", len(gmmm_means_unscaled.cluster_centers_),\" clusters\")"
   ]
  },
  {
   "cell_type": "code",
   "execution_count": 22,
   "metadata": {},
   "outputs": [
    {
     "data": {
      "text/html": [
       "<iframe id=\"igraph\" scrolling=\"no\" style=\"border:none;\" seamless=\"seamless\" src=\"https://plot.ly/~AbdelWahabTurkmani/46.embed\" height=\"525px\" width=\"100%\"></iframe>"
      ],
      "text/plain": [
       "<plotly.tools.PlotlyDisplay object>"
      ]
     },
     "execution_count": 22,
     "metadata": {},
     "output_type": "execute_result"
    }
   ],
   "source": [
    "c = gmmm_means_unscaled.labels_\n",
    "x = data_pd.pca_data[:,2]\n",
    "y = data_pd.pca_data[:,3]\n",
    "z = data_pd.pca_data[:,4]\n",
    "t = data_pd.clean_df['Activity']\n",
    "t = data_pd.clean_df['Activity'].tolist()\n",
    "t = ['-'.join(x) for x in t]\n",
    "for i in range(0,len(t)):\n",
    "    t[i] = str(gmm_labels[i]) + '---' + t[i]\n",
    "    \n",
    "trace1 = go.Scatter3d(x=x,y=y,z=z,text=t,mode='markers',marker=dict(size=12,color=c,colorscale='Viridis',opacity=0.8))\n",
    "data = [trace1]\n",
    "layout = go.Layout(margin=dict(l=0,r=0,b=0,t=0))\n",
    "fig = go.Figure(data=data, layout=layout)\n",
    "py.iplot(fig, filename='GMM-Means with unscaled data')"
   ]
  },
  {
   "cell_type": "code",
   "execution_count": 20,
   "metadata": {},
   "outputs": [
    {
     "name": "stdout",
     "output_type": "stream",
     "text": [
      "GMM-Means with scaled data finds:  10  clusters\n"
     ]
    }
   ],
   "source": [
    "gmmm_means_scaled = GMMMeans(critical_value=1.8692, verbose=0, recalculate_points=False)\n",
    "gmmm_means_scaled.fit(data_pd.activity_vector)\n",
    "print(\"GMM-Means with scaled data finds: \", len(gmmm_means_scaled.cluster_centers_),\" clusters\")"
   ]
  },
  {
   "cell_type": "code",
   "execution_count": 49,
   "metadata": {},
   "outputs": [
    {
     "data": {
      "text/plain": [
       "{1: 5010, 2: 2835, 3: 8858, 5: 1}"
      ]
     },
     "execution_count": 49,
     "metadata": {},
     "output_type": "execute_result"
    }
   ],
   "source": [
    "unique, counts = np.unique(gmmm_means_scaled.labels_, return_counts=True)\n",
    "dict(zip(unique, counts))"
   ]
  },
  {
   "cell_type": "code",
   "execution_count": 24,
   "metadata": {},
   "outputs": [
    {
     "data": {
      "text/html": [
       "<iframe id=\"igraph\" scrolling=\"no\" style=\"border:none;\" seamless=\"seamless\" src=\"https://plot.ly/~AbdelWahabTurkmani/48.embed\" height=\"525px\" width=\"100%\"></iframe>"
      ],
      "text/plain": [
       "<plotly.tools.PlotlyDisplay object>"
      ]
     },
     "execution_count": 24,
     "metadata": {},
     "output_type": "execute_result"
    }
   ],
   "source": [
    "c = gmmm_means_scaled.labels_\n",
    "x = data_pd.pca_data[:,2]\n",
    "y = data_pd.pca_data[:,3]\n",
    "z = data_pd.pca_data[:,4]\n",
    "t = data_pd.clean_df['Activity']\n",
    "t = data_pd.clean_df['Activity'].tolist()\n",
    "t = ['-'.join(x) for x in t]\n",
    "for i in range(0,len(t)):\n",
    "    t[i] = str(gmm_labels[i]) + '---' + t[i]\n",
    "    \n",
    "trace1 = go.Scatter3d(x=x,y=y,z=z,text=t,mode='markers',marker=dict(size=12,color=c, colorscale='Viridis', opacity=0.8))\n",
    "data = [trace1]\n",
    "layout = go.Layout(margin=dict(l=0,r=0,b=0,t=0))\n",
    "fig = go.Figure(data=data, layout=layout)\n",
    "py.iplot(fig, filename='GMM-Means with scaled data')"
   ]
  },
  {
   "cell_type": "code",
   "execution_count": 36,
   "metadata": {},
   "outputs": [
    {
     "name": "stderr",
     "output_type": "stream",
     "text": [
      "/Users/asturkmani/Desktop/Code/gmm_means_mahalanobis2.py:41: RuntimeWarning:\n",
      "\n",
      "invalid value encountered in less\n",
      "\n"
     ]
    },
    {
     "name": "stdout",
     "output_type": "stream",
     "text": [
      "GMM-Means with scaled data finds:  2  clusters\n"
     ]
    }
   ],
   "source": [
    "gmmpp_means_unscaled = GMMMeans(critical_value=1.1692, verbose=0, recalculate_points=True)\n",
    "gmmpp_means_unscaled.fit(data_pd.activity_vector)\n",
    "print(\"GMM-Means with scaled data finds: \", len(gmmpp_means_unscaled.cluster_centers_),\" clusters\")"
   ]
  },
  {
   "cell_type": "code",
   "execution_count": 37,
   "metadata": {},
   "outputs": [
    {
     "data": {
      "text/plain": [
       "{0: 10899, 1: 5805}"
      ]
     },
     "execution_count": 37,
     "metadata": {},
     "output_type": "execute_result"
    }
   ],
   "source": [
    "unique, counts = np.unique(gmmpp_means_unscaled.labels_, return_counts=True)\n",
    "dict(zip(unique, counts))"
   ]
  },
  {
   "cell_type": "code",
   "execution_count": 38,
   "metadata": {},
   "outputs": [
    {
     "data": {
      "text/html": [
       "<iframe id=\"igraph\" scrolling=\"no\" style=\"border:none;\" seamless=\"seamless\" src=\"https://plot.ly/~asturkmani/24.embed\" height=\"525px\" width=\"100%\"></iframe>"
      ],
      "text/plain": [
       "<plotly.tools.PlotlyDisplay object>"
      ]
     },
     "execution_count": 38,
     "metadata": {},
     "output_type": "execute_result"
    }
   ],
   "source": [
    "c = gmmpp_means_unscaled.labels_\n",
    "x = data_pd.pca_data[:,2]\n",
    "y = data_pd.pca_data[:,3]\n",
    "z = data_pd.pca_data[:,4]\n",
    "t = data_pd.clean_df['Activity']\n",
    "t = data_pd.clean_df['Activity'].tolist()\n",
    "t = ['-'.join(x) for x in t]\n",
    "for i in range(0,len(t)):\n",
    "    t[i] = str(gmm_labels[i]) + '---' + t[i]\n",
    "    \n",
    "trace1 = go.Scatter3d(x=x,y=y,z=z,text=t,mode='markers',marker=dict(size=12,color=c, colorscale='Viridis', opacity=0.8))\n",
    "data = [trace1]\n",
    "layout = go.Layout(margin=dict(l=0,r=0,b=0,t=0))\n",
    "fig = go.Figure(data=data, layout=layout)\n",
    "py.iplot(fig, filename='GMM-Means++ with unscaled data')"
   ]
  },
  {
   "cell_type": "code",
   "execution_count": 47,
   "metadata": {},
   "outputs": [
    {
     "name": "stdout",
     "output_type": "stream",
     "text": [
      "GMM-Means with scaled data finds:  2  clusters\n"
     ]
    }
   ],
   "source": [
    "gmmpp_means_scaled = GMMMeans(critical_value=0.5692, verbose=0, recalculate_points=True)\n",
    "gmmpp_means_scaled.fit(scale(data_pd.activity_vector))\n",
    "print(\"GMM-Means with scaled data finds: \", len(gmmpp_means_scaled.cluster_centers_),\" clusters\")"
   ]
  },
  {
   "cell_type": "code",
   "execution_count": 48,
   "metadata": {},
   "outputs": [
    {
     "data": {
      "text/html": [
       "<iframe id=\"igraph\" scrolling=\"no\" style=\"border:none;\" seamless=\"seamless\" src=\"https://plot.ly/~asturkmani/26.embed\" height=\"525px\" width=\"100%\"></iframe>"
      ],
      "text/plain": [
       "<plotly.tools.PlotlyDisplay object>"
      ]
     },
     "execution_count": 48,
     "metadata": {},
     "output_type": "execute_result"
    }
   ],
   "source": [
    "c = gmmpp_means_scaled.labels_\n",
    "x = data_pd.pca_data[:,2]\n",
    "y = data_pd.pca_data[:,3]\n",
    "z = data_pd.pca_data[:,4]\n",
    "t = data_pd.clean_df['Activity']\n",
    "t = data_pd.clean_df['Activity'].tolist()\n",
    "t = ['-'.join(x) for x in t]\n",
    "for i in range(0,len(t)):\n",
    "    t[i] = str(gmm_labels[i]) + '---' + t[i]\n",
    "    \n",
    "trace1 = go.Scatter3d(x=x,y=y,z=z,text=t,mode='markers',marker=dict(size=12,color=c, colorscale='Viridis', opacity=0.8))\n",
    "data = [trace1]\n",
    "layout = go.Layout(margin=dict(l=0,r=0,b=0,t=0))\n",
    "fig = go.Figure(data=data, layout=layout)\n",
    "py.iplot(fig, filename='GMM-Means++ with scaled data')"
   ]
  }
 ],
 "metadata": {
  "kernelspec": {
   "display_name": "Python [conda root]",
   "language": "python",
   "name": "conda-root-py"
  },
  "language_info": {
   "codemirror_mode": {
    "name": "ipython",
    "version": 3
   },
   "file_extension": ".py",
   "mimetype": "text/x-python",
   "name": "python",
   "nbconvert_exporter": "python",
   "pygments_lexer": "ipython3",
   "version": "3.5.3"
  }
 },
 "nbformat": 4,
 "nbformat_minor": 2
}
