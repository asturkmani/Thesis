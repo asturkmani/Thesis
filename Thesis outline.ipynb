{
 "cells": [
  {
   "cell_type": "markdown",
   "metadata": {},
   "source": [
    "## Goal\n",
    "\n",
    "#### This thesis will aim to examine temporal app-usage data and achieve two goals:       \n",
    "    1) Model the data by clustering groups of activities into states        \n",
    "    2) Make predictions on the next state given the current state  "
   ]
  },
  {
   "cell_type": "markdown",
   "metadata": {},
   "source": [
    "To do this, a baseline model will first be created, and subsequently improved models will be built that aim to surpass the quality of modelling and prediction       \n",
    "        \n",
    "##### Baseline:      \n",
    "    1) PCA to reduce data dimensionality followed by k-means clustering to discover clusters in data.     \n",
    "    2) Add idle time to data and do above\n",
    "    3) Perform temporal dimensionality reduction\n",
    "    4) Perform temporal clustering\n",
    "    5) Use RNNs\n",
    "    \n",
    "    \n",
    "#### To Do:\n",
    "    1) Clustering vs K: Done\n",
    "    2) G-means"
   ]
  },
  {
   "cell_type": "markdown",
   "metadata": {},
   "source": [
    "### Get cleaned data"
   ]
  },
  {
   "cell_type": "code",
   "execution_count": 1,
   "metadata": {},
   "outputs": [],
   "source": [
    "from importlib import reload\n",
    "from utils import *\n",
    "import pandas as pd\n",
    "\n",
    "time_percentage = 0.9\n",
    "explained_variance = 0.9\n",
    "df = pd.read_csv(\"rescuetime_data-ac-min.csv\")\n",
    "data_pd = Clean_DF(df)\n",
    "data_pd.clean_data(time_percentage=time_percentage)\n",
    "data_pd.clean_df = data_pd.clean_df.reset_index()\n",
    "data_pd.get_pca(explained_variance=explained_variance)\n",
    "data_pd.get_day_time()"
   ]
  },
  {
   "cell_type": "code",
   "execution_count": 2,
   "metadata": {},
   "outputs": [
    {
     "name": "stdout",
     "output_type": "stream",
     "text": [
      "Dataset size: (10983, 7) \n",
      "\n",
      "Number of apps that consume 90.0 % of all users time:  91 \n",
      "\n",
      "Cleaned dataset columns: \n",
      " ['Date' 'Time Spent (seconds)' 'Activity' 'Category' 'Productivity'\n",
      " 'Activity Vector' 'Productivity Score'] \n",
      "\n",
      "Number of components that explain 90.0 % of the data:  31 \n",
      "\n"
     ]
    }
   ],
   "source": [
    "print(\"Dataset size:\", data_pd.clean_df.shape,'\\n')\n",
    "print(\"Number of apps that consume\", time_percentage*100, \"% of all users time: \",len(data_pd.popular_apps), '\\n')\n",
    "print(\"Cleaned dataset columns:\",'\\n', data_pd.clean_df.columns.values, '\\n')\n",
    "print(\"Number of components that explain\", explained_variance*100,\"% of the data: \",data_pd.pca_data.shape[1], '\\n')"
   ]
  },
  {
   "cell_type": "markdown",
   "metadata": {},
   "source": [
    "### Compute Principal Components and visualize top-3 modes"
   ]
  },
  {
   "cell_type": "code",
   "execution_count": 3,
   "metadata": {},
   "outputs": [
    {
     "data": {
      "text/html": [
       "<iframe id=\"igraph\" scrolling=\"no\" style=\"border:none;\" seamless=\"seamless\" src=\"https://plot.ly/~asturkmani/6.embed\" height=\"525px\" width=\"100%\"></iframe>"
      ],
      "text/plain": [
       "<plotly.tools.PlotlyDisplay object>"
      ]
     },
     "execution_count": 3,
     "metadata": {},
     "output_type": "execute_result"
    }
   ],
   "source": [
    "import plotly.plotly as py\n",
    "import plotly.graph_objs as go\n",
    "\n",
    "data_pd.get_pca(explained_variance=explained_variance)\n",
    "\n",
    "c = data_pd.clean_df['Productivity Score']\n",
    "x = data_pd.pca_data[:,0]\n",
    "y = data_pd.pca_data[:,1]\n",
    "z = data_pd.pca_data[:,2]\n",
    "t = data_pd.clean_df['Activity']\n",
    "t = data_pd.clean_df['Activity'].tolist()\n",
    "t = ['-'.join(x) for x in t]\n",
    "\n",
    "trace1 = go.Scatter3d(x=x,y=y,z=z,text=t,mode='markers',marker=dict(size=12,color=c, colorscale='RdYlGn',opacity=0.8))\n",
    "data = [trace1]\n",
    "layout = go.Layout(margin=dict(l=0,r=0,b=0,t=0))\n",
    "fig = go.Figure(data=data, layout=layout)\n",
    "py.iplot(fig, filename='PCA-3 Visualization')"
   ]
  },
  {
   "cell_type": "markdown",
   "metadata": {},
   "source": [
    "### Visualize entire PCA dimensional space using t-SNE"
   ]
  },
  {
   "cell_type": "code",
   "execution_count": 4,
   "metadata": {},
   "outputs": [],
   "source": [
    "from sklearn.manifold import TSNE\n",
    "tsne30 = TSNE(n_components=3, verbose=0, perplexity=30, n_iter=5000)\n",
    "tsne_results30 = tsne30.fit_transform(data_pd.pca_data)"
   ]
  },
  {
   "cell_type": "code",
   "execution_count": 5,
   "metadata": {},
   "outputs": [
    {
     "data": {
      "text/html": [
       "<iframe id=\"igraph\" scrolling=\"no\" style=\"border:none;\" seamless=\"seamless\" src=\"https://plot.ly/~asturkmani/10.embed\" height=\"525px\" width=\"100%\"></iframe>"
      ],
      "text/plain": [
       "<plotly.tools.PlotlyDisplay object>"
      ]
     },
     "execution_count": 5,
     "metadata": {},
     "output_type": "execute_result"
    }
   ],
   "source": [
    "c = data_pd.clean_df['Productivity Score']\n",
    "x = tsne_results30[:,0]\n",
    "y = tsne_results30[:,1]\n",
    "z = tsne_results30[:,2]\n",
    "t = data_pd.clean_df['Activity']\n",
    "t = data_pd.clean_df['Activity'].tolist()\n",
    "t = ['-'.join(x) for x in t]\n",
    "\n",
    "trace1 = go.Scatter3d(x=x,y=y,z=z,text=t,mode='markers',marker=dict(size=12,color=c, colorscale='RdYlGn',opacity=0.8))\n",
    "data = [trace1]\n",
    "layout = go.Layout(margin=dict(l=0,r=0,b=0,t=0))\n",
    "fig = go.Figure(data=data, layout=layout)\n",
    "py.iplot(fig, filename='t-SNE PCA 90% variance Visualization')"
   ]
  },
  {
   "cell_type": "markdown",
   "metadata": {},
   "source": [
    "## Clustering data in PCA dimensions"
   ]
  },
  {
   "cell_type": "markdown",
   "metadata": {},
   "source": [
    "### Clustering data using the elbow method\n",
    "\n",
    "    1) Run Kmeans for N iterations recording the inertia for each\n",
    "    2) At each iteration save the error\n",
    "    3) When viewing the errors, pick the iteration that is at the elbow of the error curve\n"
   ]
  },
  {
   "cell_type": "code",
   "execution_count": 7,
   "metadata": {},
   "outputs": [],
   "source": [
    "from sklearn.cluster import KMeans\n",
    "inertia = np.zeros(25)\n",
    "for i in range(2,26):\n",
    "    kmeans = KMeans(n_clusters=i)\n",
    "    kmeans.fit(data_pd.pca_data)\n",
    "    inertia[i-2] = kmeans.inertia_"
   ]
  },
  {
   "cell_type": "code",
   "execution_count": 8,
   "metadata": {},
   "outputs": [
    {
     "data": {
      "text/html": [
       "<iframe id=\"igraph\" scrolling=\"no\" style=\"border:none;\" seamless=\"seamless\" src=\"https://plot.ly/~asturkmani/12.embed\" height=\"525px\" width=\"100%\"></iframe>"
      ],
      "text/plain": [
       "<plotly.tools.PlotlyDisplay object>"
      ]
     },
     "execution_count": 8,
     "metadata": {},
     "output_type": "execute_result"
    }
   ],
   "source": [
    "trace = go.Scatter(x=[i for i in range(0,25)], y=inertia, mode='markers')\n",
    "data= [trace]\n",
    "py.iplot(data, filename='K-Means inerta')"
   ]
  },
  {
   "cell_type": "markdown",
   "metadata": {},
   "source": [
    "### Plot PCA data with k-Means labels"
   ]
  },
  {
   "cell_type": "code",
   "execution_count": 14,
   "metadata": {},
   "outputs": [
    {
     "name": "stdout",
     "output_type": "stream",
     "text": [
      "4851\n",
      "3088\n",
      "373\n",
      "988\n",
      "506\n",
      "303\n",
      "280\n",
      "311\n",
      "283\n",
      "0\n"
     ]
    }
   ],
   "source": [
    "for i in range(0,10):\n",
    "    print(list(kmeans.labels_).count(i))"
   ]
  },
  {
   "cell_type": "code",
   "execution_count": 16,
   "metadata": {},
   "outputs": [
    {
     "name": "stdout",
     "output_type": "stream",
     "text": [
      "{0, 1, 2, 3, 4, 5, 6, 7, 8}\n"
     ]
    },
    {
     "data": {
      "text/html": [
       "<iframe id=\"igraph\" scrolling=\"no\" style=\"border:none;\" seamless=\"seamless\" src=\"https://plot.ly/~asturkmani/14.embed\" height=\"525px\" width=\"100%\"></iframe>"
      ],
      "text/plain": [
       "<plotly.tools.PlotlyDisplay object>"
      ]
     },
     "execution_count": 16,
     "metadata": {},
     "output_type": "execute_result"
    }
   ],
   "source": [
    "kmeans = KMeans(n_clusters=9)\n",
    "kmeans.fit(data_pd.pca_data)\n",
    "print(set(kmeans.labels_))\n",
    "c = kmeans.labels_\n",
    "x = tsne_results30[:,0]\n",
    "y = tsne_results30[:,1]\n",
    "z = tsne_results30[:,2]\n",
    "t = data_pd.clean_df['Activity']\n",
    "t = data_pd.clean_df['Activity'].tolist()\n",
    "t = ['-'.join(x) for x in t]\n",
    "for i in range(0,len(t)):\n",
    "    t[i] = str(kmeans.labels_[i]) + '---' + t[i]\n",
    "\n",
    "trace1 = go.Scatter3d(x=x,y=y,z=z,text=t, mode='markers',marker=dict(size=12,color=c, colorscale = 'Viridis', opacity=0.8))\n",
    "data = [trace1]\n",
    "layout = go.Layout(margin=dict(l=0,r=0,b=0,t=0))\n",
    "fig = go.Figure(data=data, layout=layout)\n",
    "py.iplot(fig, filename='t-SNE PCA k-means elbow')\n"
   ]
  },
  {
   "cell_type": "markdown",
   "metadata": {},
   "source": [
    "## Generate heatmap of daily activities"
   ]
  },
  {
   "cell_type": "code",
   "execution_count": 23,
   "metadata": {},
   "outputs": [
    {
     "name": "stdout",
     "output_type": "stream",
     "text": [
      "0        2017-04-06\n",
      "1        2017-04-06\n",
      "2        2017-04-06\n",
      "3        2017-04-06\n",
      "4        2017-04-06\n",
      "5        2017-04-06\n",
      "6        2017-04-06\n",
      "7        2017-04-06\n",
      "8        2017-04-06\n",
      "9        2017-04-06\n",
      "10       2017-04-06\n",
      "11       2017-04-06\n",
      "12       2017-04-06\n",
      "13       2017-04-06\n",
      "14       2017-04-06\n",
      "15       2017-04-06\n",
      "16       2017-04-06\n",
      "17       2017-04-06\n",
      "18       2017-04-06\n",
      "19       2017-04-06\n",
      "20       2017-04-06\n",
      "21       2017-04-06\n",
      "22       2017-04-06\n",
      "23       2017-04-06\n",
      "24       2017-04-06\n",
      "25       2017-04-06\n",
      "26       2017-04-06\n",
      "27       2017-04-06\n",
      "28       2017-04-06\n",
      "29       2017-04-06\n",
      "            ...    \n",
      "10953    2017-07-01\n",
      "10954    2017-07-01\n",
      "10955    2017-07-01\n",
      "10956    2017-07-01\n",
      "10957    2017-07-01\n",
      "10958    2017-07-01\n",
      "10959    2017-07-01\n",
      "10960    2017-07-01\n",
      "10961    2017-07-01\n",
      "10962    2017-07-01\n",
      "10963    2017-07-01\n",
      "10964    2017-07-01\n",
      "10965    2017-07-01\n",
      "10966    2017-07-01\n",
      "10967    2017-07-01\n",
      "10968    2017-07-01\n",
      "10969    2017-07-01\n",
      "10970    2017-07-01\n",
      "10971    2017-07-01\n",
      "10972    2017-07-01\n",
      "10973    2017-07-01\n",
      "10974    2017-07-01\n",
      "10975    2017-07-01\n",
      "10976    2017-07-01\n",
      "10977    2017-07-01\n",
      "10978    2017-07-01\n",
      "10979    2017-07-01\n",
      "10980    2017-07-01\n",
      "10981    2017-07-01\n",
      "10982    2017-07-01\n",
      "Name: Day, Length: 10983, dtype: object 0        00:30:00\n",
      "1        00:35:00\n",
      "2        00:40:00\n",
      "3        00:50:00\n",
      "4        00:55:00\n",
      "5        08:55:00\n",
      "6        09:00:00\n",
      "7        09:05:00\n",
      "8        09:10:00\n",
      "9        09:15:00\n",
      "10       09:20:00\n",
      "11       09:30:00\n",
      "12       09:40:00\n",
      "13       09:55:00\n",
      "14       10:00:00\n",
      "15       10:05:00\n",
      "16       10:10:00\n",
      "17       10:15:00\n",
      "18       10:20:00\n",
      "19       10:35:00\n",
      "20       10:40:00\n",
      "21       10:45:00\n",
      "22       10:50:00\n",
      "23       10:55:00\n",
      "24       11:00:00\n",
      "25       11:05:00\n",
      "26       11:10:00\n",
      "27       11:15:00\n",
      "28       11:20:00\n",
      "29       11:25:00\n",
      "           ...   \n",
      "10953    19:55:00\n",
      "10954    20:00:00\n",
      "10955    20:05:00\n",
      "10956    20:10:00\n",
      "10957    20:20:00\n",
      "10958    20:25:00\n",
      "10959    20:30:00\n",
      "10960    20:35:00\n",
      "10961    20:40:00\n",
      "10962    20:45:00\n",
      "10963    20:50:00\n",
      "10964    20:55:00\n",
      "10965    21:10:00\n",
      "10966    21:15:00\n",
      "10967    21:25:00\n",
      "10968    21:35:00\n",
      "10969    21:45:00\n",
      "10970    21:50:00\n",
      "10971    21:55:00\n",
      "10972    22:00:00\n",
      "10973    22:05:00\n",
      "10974    22:10:00\n",
      "10975    22:15:00\n",
      "10976    22:20:00\n",
      "10977    22:30:00\n",
      "10978    22:35:00\n",
      "10979    22:45:00\n",
      "10980    23:35:00\n",
      "10981    23:50:00\n",
      "10982    23:55:00\n",
      "Name: Time, Length: 10983, dtype: object 0        5\n",
      "1        5\n",
      "2        7\n",
      "3        0\n",
      "4        0\n",
      "5        7\n",
      "6        7\n",
      "7        0\n",
      "8        1\n",
      "9        6\n",
      "10       7\n",
      "11       0\n",
      "12       0\n",
      "13       7\n",
      "14       5\n",
      "15       5\n",
      "16       5\n",
      "17       5\n",
      "18       7\n",
      "19       7\n",
      "20       5\n",
      "21       5\n",
      "22       5\n",
      "23       7\n",
      "24       7\n",
      "25       1\n",
      "26       5\n",
      "27       5\n",
      "28       5\n",
      "29       5\n",
      "        ..\n",
      "10953    1\n",
      "10954    1\n",
      "10955    1\n",
      "10956    1\n",
      "10957    7\n",
      "10958    1\n",
      "10959    1\n",
      "10960    1\n",
      "10961    1\n",
      "10962    1\n",
      "10963    1\n",
      "10964    0\n",
      "10965    0\n",
      "10966    0\n",
      "10967    7\n",
      "10968    0\n",
      "10969    0\n",
      "10970    0\n",
      "10971    0\n",
      "10972    0\n",
      "10973    0\n",
      "10974    0\n",
      "10975    7\n",
      "10976    0\n",
      "10977    0\n",
      "10978    7\n",
      "10979    0\n",
      "10980    7\n",
      "10981    0\n",
      "10982    0\n",
      "Length: 10983, dtype: int32\n"
     ]
    }
   ],
   "source": [
    "print(data_pd.clean_df['Day'], data_pd.clean_df['Time'], pd.Series(c))"
   ]
  },
  {
   "cell_type": "code",
   "execution_count": null,
   "metadata": {
    "collapsed": true
   },
   "outputs": [],
   "source": []
  }
 ],
 "metadata": {
  "kernelspec": {
   "display_name": "Python [conda root]",
   "language": "python",
   "name": "conda-root-py"
  },
  "language_info": {
   "codemirror_mode": {
    "name": "ipython",
    "version": 3
   },
   "file_extension": ".py",
   "mimetype": "text/x-python",
   "name": "python",
   "nbconvert_exporter": "python",
   "pygments_lexer": "ipython3",
   "version": "3.5.3"
  }
 },
 "nbformat": 4,
 "nbformat_minor": 2
}
