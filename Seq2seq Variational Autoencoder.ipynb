{
 "cells": [
  {
   "cell_type": "code",
   "execution_count": 1,
   "metadata": {},
   "outputs": [
    {
     "name": "stderr",
     "output_type": "stream",
     "text": [
      "Using TensorFlow backend.\n"
     ]
    }
   ],
   "source": [
    "import numpy as np\n",
    "import tensorflow as tf\n",
    "import pickle\n",
    "import pickle\n",
    "import pandas as pd\n",
    "\n",
    "from random import randint\n",
    "import datetime\n",
    "import colorlover as cl\n",
    "from IPython.display import SVG\n",
    "from IPython.display import HTML\n",
    "from keras.utils.vis_utils import model_to_dot\n",
    "\n",
    "from sklearn.decomposition import PCA\n",
    "from sklearn.manifold import TSNE\n",
    "from scipy.stats import norm\n",
    "\n",
    "import plotly.plotly as py\n",
    "import plotly.graph_objs as go\n",
    "import plotly\n",
    "import matplotlib.pyplot as plt\n",
    "\n",
    "from keras.models import *\n",
    "from keras.layers import *\n",
    "from keras.optimizers import *\n",
    "from keras.layers.merge import *\n",
    "from keras.utils import to_categorical\n",
    "from keras import objectives\n",
    "\n",
    "from utils import *\n",
    "\n",
    "from keras.callbacks import EarlyStopping, ReduceLROnPlateau\n",
    "from keras_tqdm import TQDMNotebookCallback\n",
    "from keras import regularizers\n",
    "from keras import backend as K\n",
    "from keras import metrics\n",
    "\n",
    "plotly.tools.set_credentials_file(username='AbdelWahabTurkmani', api_key='zTY632QGUJbqSVFms8bQ')\n",
    "# plotly.tools.set_credentials_file(username='asturkmani', api_key='bR0Ez8evmzcHY6m4XG7B')\n",
    "# plotly.tools.set_credentials_file(username='asturkmanics', api_key='GaUFc6cWCQVW0eCz6K75')"
   ]
  },
  {
   "cell_type": "code",
   "execution_count": 2,
   "metadata": {},
   "outputs": [
    {
     "name": "stderr",
     "output_type": "stream",
     "text": [
      "/home/asturkmani/Thesis/utils.py:253: SettingWithCopyWarning:\n",
      "\n",
      "\n",
      "A value is trying to be set on a copy of a slice from a DataFrame.\n",
      "Try using .loc[row_indexer,col_indexer] = value instead\n",
      "\n",
      "See the caveats in the documentation: http://pandas.pydata.org/pandas-docs/stable/indexing.html#indexing-view-versus-copy\n",
      "\n"
     ]
    }
   ],
   "source": [
    "window_size = 6\n",
    "time_percentage = 0.9\n",
    "batch_size = 20\n",
    "data_ = make_clean_data(window_size, batch_size,multiplier=1, process=False)\n",
    "\n",
    "def sampling(args):\n",
    "    z_mean, z_log_sigma = args\n",
    "    eps = K.random_normal(shape=(batch_size, latent_dim), mean=0., stddev=1.)\n",
    "    return z_mean + K.exp(z_log_sigma / 2) * 1."
   ]
  },
  {
   "cell_type": "code",
   "execution_count": 10,
   "metadata": {},
   "outputs": [
    {
     "name": "stdout",
     "output_type": "stream",
     "text": [
      "Dataset size: (18280, 15) \n",
      "\n",
      "Number of apps that consume 90.0 % of all users time:  15 \n",
      "\n"
     ]
    },
    {
     "data": {
      "text/html": [
       "<iframe id=\"igraph\" scrolling=\"no\" style=\"border:none;\" seamless=\"seamless\" src=\"https://plot.ly/~AbdelWahabTurkmani/83.embed\" height=\"525px\" width=\"100%\"></iframe>"
      ],
      "text/plain": [
       "<plotly.tools.PlotlyDisplay object>"
      ]
     },
     "execution_count": 10,
     "metadata": {},
     "output_type": "execute_result"
    }
   ],
   "source": [
    "time_spent = data_['dataset'].sum(axis=0)/data_['dataset'].sum()*100\n",
    "\n",
    "print(\"Dataset size:\", data_['yc'].shape,'\\n')\n",
    "print(\"Number of apps that consume\", time_percentage*100, \"% of all users time: \",len(data_['popular_apps']), '\\n')\n",
    "\n",
    "graphdata = [go.Bar(\n",
    "            x=data_['popular_apps'],\n",
    "            y=time_spent,\n",
    "            marker=dict(\n",
    "        color= data_['data_colors']),\n",
    "    )]\n",
    "\n",
    "py.iplot(graphdata, filename='basic-bar')"
   ]
  },
  {
   "cell_type": "markdown",
   "metadata": {},
   "source": [
    "# Seq2Seq Variational Autoencoder\n",
    "\n",
    "- [Building Autoencoders in Keras] (https://blog.keras.io/building-autoencoders-in-keras.html)\n",
    "- [Generating sentences from a continuous space] (https://arxiv.org/abs/1511.06349)\n",
    "- [Keras VAE LSTM ] (https://github.com/twairball/keras_lstm_vae)\n",
    "\n",
    "    \n",
    "# --- include variational CNN code below ---"
   ]
  },
  {
   "cell_type": "code",
   "execution_count": 143,
   "metadata": {},
   "outputs": [
    {
     "name": "stdout",
     "output_type": "stream",
     "text": [
      "____________________________________________________________________________________________________\n",
      "Layer (type)                     Output Shape          Param #     Connected to                     \n",
      "====================================================================================================\n",
      "input_46 (InputLayer)            (None, 6, 15)         0                                            \n",
      "____________________________________________________________________________________________________\n",
      "lstm_75 (LSTM)                   (None, 32)            6144        input_46[0][0]                   \n",
      "____________________________________________________________________________________________________\n",
      "dense_41 (Dense)                 (None, 2)             66          lstm_75[0][0]                    \n",
      "____________________________________________________________________________________________________\n",
      "dense_42 (Dense)                 (None, 2)             66          lstm_75[0][0]                    \n",
      "____________________________________________________________________________________________________\n",
      "lambda_26 (Lambda)               (None, 2)             0           dense_41[0][0]                   \n",
      "                                                                   dense_42[0][0]                   \n",
      "____________________________________________________________________________________________________\n",
      "repeat_vector_60 (RepeatVector)  (None, 6, 2)          0           lambda_26[0][0]                  \n",
      "____________________________________________________________________________________________________\n",
      "lstm_76 (LSTM)                   (None, 6, 32)         4480        repeat_vector_60[0][0]           \n",
      "____________________________________________________________________________________________________\n",
      "lstm_77 (LSTM)                   (None, 6, 15)         2880        lstm_76[0][0]                    \n",
      "====================================================================================================\n",
      "Total params: 13,636\n",
      "Trainable params: 13,636\n",
      "Non-trainable params: 0\n",
      "____________________________________________________________________________________________________\n",
      "None\n"
     ]
    }
   ],
   "source": [
    "activ = 'relu'\n",
    "optim = Adam(lr=0.0005)\n",
    "\n",
    "input_dim = data_['x_train_c'].shape[-1] # 13\n",
    "timesteps = data_['x_train_c'].shape[1] # 3\n",
    "batch_size = 20\n",
    "latent_dim = 2\n",
    "intermediate_dim=32\n",
    "epsilon_std = 1.\n",
    "\n",
    "\"\"\"\n",
    "Creates an LSTM Variational Autoencoder (VAE). Returns VAE, Encoder, Generator. \n",
    "# Arguments\n",
    "    input_dim: int.\n",
    "    timesteps: int, input timestep dimension.\n",
    "    batch_size: int.\n",
    "    intermediate_dim: int, output shape of LSTM. \n",
    "    latent_dim: int, latent z-layer shape. \n",
    "    epsilon_std: float, z-layer sigma.\n",
    "# References\n",
    "    - [Building Autoencoders in Keras](https://blog.keras.io/building-autoencoders-in-keras.html)\n",
    "    - [Generating sentences from a continuous space](https://arxiv.org/abs/1511.06349)\n",
    "\"\"\"\n",
    "x = Input(shape=(timesteps, input_dim,))\n",
    "\n",
    "# LSTM encoding\n",
    "h = LSTM(intermediate_dim, activation=activ)(x)\n",
    "\n",
    "# VAE Z layer\n",
    "z_mean = Dense(latent_dim, activation='linear')(h)\n",
    "z_log_sigma = Dense(latent_dim, activation='linear')(h)\n",
    "\n",
    "def sampling(args):\n",
    "    z_mean, z_log_sigma = args\n",
    "    epsilon = K.random_normal(shape=(batch_size, latent_dim),\n",
    "                              mean=0., stddev=epsilon_std)\n",
    "    return z_mean + K.exp(z_log_sigma) * epsilon_std\n",
    "\n",
    "# note that \"output_shape\" isn't necessary with the TensorFlow backend\n",
    "# so you could write `Lambda(sampling)([z_mean, z_log_sigma])`\n",
    "z = Lambda(sampling, output_shape=(latent_dim,))([z_mean, z_log_sigma])\n",
    "\n",
    "# decoded LSTM layer\n",
    "decoder_h = LSTM(intermediate_dim, activation=activ, return_sequences=True)\n",
    "decoder_mean = LSTM(input_dim, activation='sigmoid',return_sequences=True)\n",
    "\n",
    "h_decoded = RepeatVector(timesteps)(z)\n",
    "h_decoded = decoder_h(h_decoded)\n",
    "\n",
    "# decoded layer\n",
    "x_decoded_mean = decoder_mean(h_decoded)\n",
    "\n",
    "# end-to-end autoencoder\n",
    "vae = Model(x, x_decoded_mean)\n",
    "\n",
    "# encoder, from inputs to latent space\n",
    "encoder = Model(x, z_mean)\n",
    "\n",
    "# generator, from latent space to reconstructed inputs\n",
    "decoder_input = Input(shape=(latent_dim,))\n",
    "\n",
    "_h_decoded = RepeatVector(timesteps)(decoder_input)\n",
    "_h_decoded = decoder_h(_h_decoded)\n",
    "\n",
    "_x_decoded_mean = decoder_mean(_h_decoded)\n",
    "generator = Model(decoder_input, _x_decoded_mean)\n",
    "\n",
    "\n",
    "def vae_loss(x, x_decoded_mean):\n",
    "    xent_loss = objectives.binary_crossentropy(x, x_decoded_mean)\n",
    "    kl_loss = - 0.5 * K.mean(1 + z_log_sigma - K.square(z_mean) - K.exp(z_log_sigma))\n",
    "    loss = xent_loss + kl_loss\n",
    "    return loss\n",
    "\n",
    "def recon_loss(x, x_decoded_mean):\n",
    "    xent_loss = objectives.binary_crossentropy(x, x_decoded_mean)\n",
    "    return xent_loss\n",
    "\n",
    "def KL_loss(x, x_decoded_mean):\n",
    "    kl_loss = - 0.5 * K.mean(1 + z_log_sigma - K.square(z_mean) - K.exp(z_log_sigma))\n",
    "    return kl_loss\n",
    "\n",
    "vae.compile(optimizer=optim, loss=vae_loss, metrics=[KL_loss, recon_loss])\n",
    "print(vae.summary())"
   ]
  },
  {
   "cell_type": "code",
   "execution_count": 84,
   "metadata": {},
   "outputs": [
    {
     "data": {
      "image/svg+xml": [
       "<svg height=\"553pt\" viewBox=\"0.00 0.00 620.00 553.00\" width=\"620pt\" xmlns=\"http://www.w3.org/2000/svg\" xmlns:xlink=\"http://www.w3.org/1999/xlink\">\n",
       "<g class=\"graph\" id=\"graph0\" transform=\"scale(1 1) rotate(0) translate(4 549)\">\n",
       "<title>G</title>\n",
       "<polygon fill=\"white\" points=\"-4,4 -4,-549 616,-549 616,4 -4,4\" stroke=\"none\"/>\n",
       "<!-- 140091963677216 -->\n",
       "<g class=\"node\" id=\"node1\"><title>140091963677216</title>\n",
       "<polygon fill=\"none\" points=\"132,-498.5 132,-544.5 479,-544.5 479,-498.5 132,-498.5\" stroke=\"black\"/>\n",
       "<text font-family=\"Times,serif\" font-size=\"14.00\" text-anchor=\"middle\" x=\"216.5\" y=\"-517.8\">input_30: InputLayer</text>\n",
       "<polyline fill=\"none\" points=\"301,-498.5 301,-544.5 \" stroke=\"black\"/>\n",
       "<text font-family=\"Times,serif\" font-size=\"14.00\" text-anchor=\"middle\" x=\"335\" y=\"-529.3\">input:</text>\n",
       "<polyline fill=\"none\" points=\"301,-521.5 369,-521.5 \" stroke=\"black\"/>\n",
       "<text font-family=\"Times,serif\" font-size=\"14.00\" text-anchor=\"middle\" x=\"335\" y=\"-506.3\">output:</text>\n",
       "<polyline fill=\"none\" points=\"369,-498.5 369,-544.5 \" stroke=\"black\"/>\n",
       "<text font-family=\"Times,serif\" font-size=\"14.00\" text-anchor=\"middle\" x=\"424\" y=\"-529.3\">(None, 6, 15)</text>\n",
       "<polyline fill=\"none\" points=\"369,-521.5 479,-521.5 \" stroke=\"black\"/>\n",
       "<text font-family=\"Times,serif\" font-size=\"14.00\" text-anchor=\"middle\" x=\"424\" y=\"-506.3\">(None, 6, 15)</text>\n",
       "</g>\n",
       "<!-- 140091950463296 -->\n",
       "<g class=\"node\" id=\"node2\"><title>140091950463296</title>\n",
       "<polygon fill=\"none\" points=\"154,-415.5 154,-461.5 457,-461.5 457,-415.5 154,-415.5\" stroke=\"black\"/>\n",
       "<text font-family=\"Times,serif\" font-size=\"14.00\" text-anchor=\"middle\" x=\"216.5\" y=\"-434.8\">lstm_44: LSTM</text>\n",
       "<polyline fill=\"none\" points=\"279,-415.5 279,-461.5 \" stroke=\"black\"/>\n",
       "<text font-family=\"Times,serif\" font-size=\"14.00\" text-anchor=\"middle\" x=\"313\" y=\"-446.3\">input:</text>\n",
       "<polyline fill=\"none\" points=\"279,-438.5 347,-438.5 \" stroke=\"black\"/>\n",
       "<text font-family=\"Times,serif\" font-size=\"14.00\" text-anchor=\"middle\" x=\"313\" y=\"-423.3\">output:</text>\n",
       "<polyline fill=\"none\" points=\"347,-415.5 347,-461.5 \" stroke=\"black\"/>\n",
       "<text font-family=\"Times,serif\" font-size=\"14.00\" text-anchor=\"middle\" x=\"402\" y=\"-446.3\">(None, 6, 15)</text>\n",
       "<polyline fill=\"none\" points=\"347,-438.5 457,-438.5 \" stroke=\"black\"/>\n",
       "<text font-family=\"Times,serif\" font-size=\"14.00\" text-anchor=\"middle\" x=\"402\" y=\"-423.3\">(None, 32)</text>\n",
       "</g>\n",
       "<!-- 140091963677216&#45;&gt;140091950463296 -->\n",
       "<g class=\"edge\" id=\"edge1\"><title>140091963677216-&gt;140091950463296</title>\n",
       "<path d=\"M305.5,-498.366C305.5,-490.152 305.5,-480.658 305.5,-471.725\" fill=\"none\" stroke=\"black\"/>\n",
       "<polygon fill=\"black\" points=\"309,-471.607 305.5,-461.607 302,-471.607 309,-471.607\" stroke=\"black\"/>\n",
       "</g>\n",
       "<!-- 140091950873400 -->\n",
       "<g class=\"node\" id=\"node3\"><title>140091950873400</title>\n",
       "<polygon fill=\"none\" points=\"0,-332.5 0,-378.5 297,-378.5 297,-332.5 0,-332.5\" stroke=\"black\"/>\n",
       "<text font-family=\"Times,serif\" font-size=\"14.00\" text-anchor=\"middle\" x=\"68.5\" y=\"-351.8\">dense_31: Dense</text>\n",
       "<polyline fill=\"none\" points=\"137,-332.5 137,-378.5 \" stroke=\"black\"/>\n",
       "<text font-family=\"Times,serif\" font-size=\"14.00\" text-anchor=\"middle\" x=\"171\" y=\"-363.3\">input:</text>\n",
       "<polyline fill=\"none\" points=\"137,-355.5 205,-355.5 \" stroke=\"black\"/>\n",
       "<text font-family=\"Times,serif\" font-size=\"14.00\" text-anchor=\"middle\" x=\"171\" y=\"-340.3\">output:</text>\n",
       "<polyline fill=\"none\" points=\"205,-332.5 205,-378.5 \" stroke=\"black\"/>\n",
       "<text font-family=\"Times,serif\" font-size=\"14.00\" text-anchor=\"middle\" x=\"251\" y=\"-363.3\">(None, 32)</text>\n",
       "<polyline fill=\"none\" points=\"205,-355.5 297,-355.5 \" stroke=\"black\"/>\n",
       "<text font-family=\"Times,serif\" font-size=\"14.00\" text-anchor=\"middle\" x=\"251\" y=\"-340.3\">(None, 2)</text>\n",
       "</g>\n",
       "<!-- 140091950463296&#45;&gt;140091950873400 -->\n",
       "<g class=\"edge\" id=\"edge2\"><title>140091950463296-&gt;140091950873400</title>\n",
       "<path d=\"M262.599,-415.366C243.388,-405.455 220.569,-393.682 200.404,-383.279\" fill=\"none\" stroke=\"black\"/>\n",
       "<polygon fill=\"black\" points=\"201.841,-380.081 191.349,-378.607 198.631,-386.302 201.841,-380.081\" stroke=\"black\"/>\n",
       "</g>\n",
       "<!-- 140091950526024 -->\n",
       "<g class=\"node\" id=\"node4\"><title>140091950526024</title>\n",
       "<polygon fill=\"none\" points=\"315,-332.5 315,-378.5 612,-378.5 612,-332.5 315,-332.5\" stroke=\"black\"/>\n",
       "<text font-family=\"Times,serif\" font-size=\"14.00\" text-anchor=\"middle\" x=\"383.5\" y=\"-351.8\">dense_32: Dense</text>\n",
       "<polyline fill=\"none\" points=\"452,-332.5 452,-378.5 \" stroke=\"black\"/>\n",
       "<text font-family=\"Times,serif\" font-size=\"14.00\" text-anchor=\"middle\" x=\"486\" y=\"-363.3\">input:</text>\n",
       "<polyline fill=\"none\" points=\"452,-355.5 520,-355.5 \" stroke=\"black\"/>\n",
       "<text font-family=\"Times,serif\" font-size=\"14.00\" text-anchor=\"middle\" x=\"486\" y=\"-340.3\">output:</text>\n",
       "<polyline fill=\"none\" points=\"520,-332.5 520,-378.5 \" stroke=\"black\"/>\n",
       "<text font-family=\"Times,serif\" font-size=\"14.00\" text-anchor=\"middle\" x=\"566\" y=\"-363.3\">(None, 32)</text>\n",
       "<polyline fill=\"none\" points=\"520,-355.5 612,-355.5 \" stroke=\"black\"/>\n",
       "<text font-family=\"Times,serif\" font-size=\"14.00\" text-anchor=\"middle\" x=\"566\" y=\"-340.3\">(None, 2)</text>\n",
       "</g>\n",
       "<!-- 140091950463296&#45;&gt;140091950526024 -->\n",
       "<g class=\"edge\" id=\"edge3\"><title>140091950463296-&gt;140091950526024</title>\n",
       "<path d=\"M348.674,-415.366C368.007,-405.455 390.972,-393.682 411.265,-383.279\" fill=\"none\" stroke=\"black\"/>\n",
       "<polygon fill=\"black\" points=\"413.076,-386.283 420.378,-378.607 409.883,-380.054 413.076,-386.283\" stroke=\"black\"/>\n",
       "</g>\n",
       "<!-- 140091949051800 -->\n",
       "<g class=\"node\" id=\"node5\"><title>140091949051800</title>\n",
       "<polygon fill=\"none\" points=\"106,-249.5 106,-295.5 505,-295.5 505,-249.5 106,-249.5\" stroke=\"black\"/>\n",
       "<text font-family=\"Times,serif\" font-size=\"14.00\" text-anchor=\"middle\" x=\"186.5\" y=\"-268.8\">lambda_16: Lambda</text>\n",
       "<polyline fill=\"none\" points=\"267,-249.5 267,-295.5 \" stroke=\"black\"/>\n",
       "<text font-family=\"Times,serif\" font-size=\"14.00\" text-anchor=\"middle\" x=\"301\" y=\"-280.3\">input:</text>\n",
       "<polyline fill=\"none\" points=\"267,-272.5 335,-272.5 \" stroke=\"black\"/>\n",
       "<text font-family=\"Times,serif\" font-size=\"14.00\" text-anchor=\"middle\" x=\"301\" y=\"-257.3\">output:</text>\n",
       "<polyline fill=\"none\" points=\"335,-249.5 335,-295.5 \" stroke=\"black\"/>\n",
       "<text font-family=\"Times,serif\" font-size=\"14.00\" text-anchor=\"middle\" x=\"420\" y=\"-280.3\">[(None, 2), (None, 2)]</text>\n",
       "<polyline fill=\"none\" points=\"335,-272.5 505,-272.5 \" stroke=\"black\"/>\n",
       "<text font-family=\"Times,serif\" font-size=\"14.00\" text-anchor=\"middle\" x=\"420\" y=\"-257.3\">(None, 2)</text>\n",
       "</g>\n",
       "<!-- 140091950873400&#45;&gt;140091949051800 -->\n",
       "<g class=\"edge\" id=\"edge4\"><title>140091950873400-&gt;140091949051800</title>\n",
       "<path d=\"M191.401,-332.366C210.612,-322.455 233.431,-310.682 253.596,-300.279\" fill=\"none\" stroke=\"black\"/>\n",
       "<polygon fill=\"black\" points=\"255.369,-303.302 262.651,-295.607 252.159,-297.081 255.369,-303.302\" stroke=\"black\"/>\n",
       "</g>\n",
       "<!-- 140091950526024&#45;&gt;140091949051800 -->\n",
       "<g class=\"edge\" id=\"edge5\"><title>140091950526024-&gt;140091949051800</title>\n",
       "<path d=\"M420.326,-332.366C400.993,-322.455 378.028,-310.682 357.735,-300.279\" fill=\"none\" stroke=\"black\"/>\n",
       "<polygon fill=\"black\" points=\"359.117,-297.054 348.622,-295.607 355.924,-303.283 359.117,-297.054\" stroke=\"black\"/>\n",
       "</g>\n",
       "<!-- 140091946643240 -->\n",
       "<g class=\"node\" id=\"node6\"><title>140091946643240</title>\n",
       "<polygon fill=\"none\" points=\"97,-166.5 97,-212.5 514,-212.5 514,-166.5 97,-166.5\" stroke=\"black\"/>\n",
       "<text font-family=\"Times,serif\" font-size=\"14.00\" text-anchor=\"middle\" x=\"221\" y=\"-185.8\">repeat_vector_29: RepeatVector</text>\n",
       "<polyline fill=\"none\" points=\"345,-166.5 345,-212.5 \" stroke=\"black\"/>\n",
       "<text font-family=\"Times,serif\" font-size=\"14.00\" text-anchor=\"middle\" x=\"379\" y=\"-197.3\">input:</text>\n",
       "<polyline fill=\"none\" points=\"345,-189.5 413,-189.5 \" stroke=\"black\"/>\n",
       "<text font-family=\"Times,serif\" font-size=\"14.00\" text-anchor=\"middle\" x=\"379\" y=\"-174.3\">output:</text>\n",
       "<polyline fill=\"none\" points=\"413,-166.5 413,-212.5 \" stroke=\"black\"/>\n",
       "<text font-family=\"Times,serif\" font-size=\"14.00\" text-anchor=\"middle\" x=\"463.5\" y=\"-197.3\">(None, 2)</text>\n",
       "<polyline fill=\"none\" points=\"413,-189.5 514,-189.5 \" stroke=\"black\"/>\n",
       "<text font-family=\"Times,serif\" font-size=\"14.00\" text-anchor=\"middle\" x=\"463.5\" y=\"-174.3\">(None, 6, 2)</text>\n",
       "</g>\n",
       "<!-- 140091949051800&#45;&gt;140091946643240 -->\n",
       "<g class=\"edge\" id=\"edge6\"><title>140091949051800-&gt;140091946643240</title>\n",
       "<path d=\"M305.5,-249.366C305.5,-241.152 305.5,-231.658 305.5,-222.725\" fill=\"none\" stroke=\"black\"/>\n",
       "<polygon fill=\"black\" points=\"309,-222.607 305.5,-212.607 302,-222.607 309,-222.607\" stroke=\"black\"/>\n",
       "</g>\n",
       "<!-- 140091948101024 -->\n",
       "<g class=\"node\" id=\"node7\"><title>140091948101024</title>\n",
       "<polygon fill=\"none\" points=\"154,-83.5 154,-129.5 457,-129.5 457,-83.5 154,-83.5\" stroke=\"black\"/>\n",
       "<text font-family=\"Times,serif\" font-size=\"14.00\" text-anchor=\"middle\" x=\"216.5\" y=\"-102.8\">lstm_45: LSTM</text>\n",
       "<polyline fill=\"none\" points=\"279,-83.5 279,-129.5 \" stroke=\"black\"/>\n",
       "<text font-family=\"Times,serif\" font-size=\"14.00\" text-anchor=\"middle\" x=\"313\" y=\"-114.3\">input:</text>\n",
       "<polyline fill=\"none\" points=\"279,-106.5 347,-106.5 \" stroke=\"black\"/>\n",
       "<text font-family=\"Times,serif\" font-size=\"14.00\" text-anchor=\"middle\" x=\"313\" y=\"-91.3\">output:</text>\n",
       "<polyline fill=\"none\" points=\"347,-83.5 347,-129.5 \" stroke=\"black\"/>\n",
       "<text font-family=\"Times,serif\" font-size=\"14.00\" text-anchor=\"middle\" x=\"402\" y=\"-114.3\">(None, 6, 2)</text>\n",
       "<polyline fill=\"none\" points=\"347,-106.5 457,-106.5 \" stroke=\"black\"/>\n",
       "<text font-family=\"Times,serif\" font-size=\"14.00\" text-anchor=\"middle\" x=\"402\" y=\"-91.3\">(None, 6, 32)</text>\n",
       "</g>\n",
       "<!-- 140091946643240&#45;&gt;140091948101024 -->\n",
       "<g class=\"edge\" id=\"edge7\"><title>140091946643240-&gt;140091948101024</title>\n",
       "<path d=\"M305.5,-166.366C305.5,-158.152 305.5,-148.658 305.5,-139.725\" fill=\"none\" stroke=\"black\"/>\n",
       "<polygon fill=\"black\" points=\"309,-139.607 305.5,-129.607 302,-139.607 309,-139.607\" stroke=\"black\"/>\n",
       "</g>\n",
       "<!-- 140091946814824 -->\n",
       "<g class=\"node\" id=\"node8\"><title>140091946814824</title>\n",
       "<polygon fill=\"none\" points=\"154,-0.5 154,-46.5 457,-46.5 457,-0.5 154,-0.5\" stroke=\"black\"/>\n",
       "<text font-family=\"Times,serif\" font-size=\"14.00\" text-anchor=\"middle\" x=\"216.5\" y=\"-19.8\">lstm_46: LSTM</text>\n",
       "<polyline fill=\"none\" points=\"279,-0.5 279,-46.5 \" stroke=\"black\"/>\n",
       "<text font-family=\"Times,serif\" font-size=\"14.00\" text-anchor=\"middle\" x=\"313\" y=\"-31.3\">input:</text>\n",
       "<polyline fill=\"none\" points=\"279,-23.5 347,-23.5 \" stroke=\"black\"/>\n",
       "<text font-family=\"Times,serif\" font-size=\"14.00\" text-anchor=\"middle\" x=\"313\" y=\"-8.3\">output:</text>\n",
       "<polyline fill=\"none\" points=\"347,-0.5 347,-46.5 \" stroke=\"black\"/>\n",
       "<text font-family=\"Times,serif\" font-size=\"14.00\" text-anchor=\"middle\" x=\"402\" y=\"-31.3\">(None, 6, 32)</text>\n",
       "<polyline fill=\"none\" points=\"347,-23.5 457,-23.5 \" stroke=\"black\"/>\n",
       "<text font-family=\"Times,serif\" font-size=\"14.00\" text-anchor=\"middle\" x=\"402\" y=\"-8.3\">(None, 6, 15)</text>\n",
       "</g>\n",
       "<!-- 140091948101024&#45;&gt;140091946814824 -->\n",
       "<g class=\"edge\" id=\"edge8\"><title>140091948101024-&gt;140091946814824</title>\n",
       "<path d=\"M305.5,-83.3664C305.5,-75.1516 305.5,-65.6579 305.5,-56.7252\" fill=\"none\" stroke=\"black\"/>\n",
       "<polygon fill=\"black\" points=\"309,-56.6068 305.5,-46.6068 302,-56.6069 309,-56.6068\" stroke=\"black\"/>\n",
       "</g>\n",
       "</g>\n",
       "</svg>"
      ],
      "text/plain": [
       "<IPython.core.display.SVG object>"
      ]
     },
     "execution_count": 84,
     "metadata": {},
     "output_type": "execute_result"
    }
   ],
   "source": [
    "SVG(model_to_dot(vae, show_shapes=True, show_layer_names=True).create(prog='dot', format='svg'))"
   ]
  },
  {
   "cell_type": "code",
   "execution_count": 85,
   "metadata": {},
   "outputs": [
    {
     "name": "stderr",
     "output_type": "stream",
     "text": [
      "Widget Javascript not detected.  It may not be installed or enabled properly.\n"
     ]
    },
    {
     "data": {
      "application/vnd.jupyter.widget-view+json": {
       "model_id": "0a76e73039e548e1bd244510b3d9d38b"
      }
     },
     "metadata": {},
     "output_type": "display_data"
    },
    {
     "name": "stderr",
     "output_type": "stream",
     "text": [
      "Widget Javascript not detected.  It may not be installed or enabled properly.\n"
     ]
    },
    {
     "data": {
      "application/vnd.jupyter.widget-view+json": {
       "model_id": "c0334a3dbfba41a3881a328f52e10355"
      }
     },
     "metadata": {},
     "output_type": "display_data"
    },
    {
     "name": "stderr",
     "output_type": "stream",
     "text": [
      "Widget Javascript not detected.  It may not be installed or enabled properly.\n"
     ]
    },
    {
     "data": {
      "application/vnd.jupyter.widget-view+json": {
       "model_id": "db0b1ee98c2e41a3a3d48c51642ad9fb"
      }
     },
     "metadata": {},
     "output_type": "display_data"
    },
    {
     "name": "stderr",
     "output_type": "stream",
     "text": [
      "Widget Javascript not detected.  It may not be installed or enabled properly.\n"
     ]
    },
    {
     "data": {
      "application/vnd.jupyter.widget-view+json": {
       "model_id": "aa99fddaf4c24cdf9a3733fa3e244f73"
      }
     },
     "metadata": {},
     "output_type": "display_data"
    },
    {
     "name": "stderr",
     "output_type": "stream",
     "text": [
      "Widget Javascript not detected.  It may not be installed or enabled properly.\n"
     ]
    },
    {
     "data": {
      "application/vnd.jupyter.widget-view+json": {
       "model_id": "7adc857731a441e0b65f9f33ddf729be"
      }
     },
     "metadata": {},
     "output_type": "display_data"
    },
    {
     "name": "stderr",
     "output_type": "stream",
     "text": [
      "Widget Javascript not detected.  It may not be installed or enabled properly.\n"
     ]
    },
    {
     "data": {
      "application/vnd.jupyter.widget-view+json": {
       "model_id": "96abdea7acb74bba934e41ee4218c623"
      }
     },
     "metadata": {},
     "output_type": "display_data"
    },
    {
     "name": "stderr",
     "output_type": "stream",
     "text": [
      "Widget Javascript not detected.  It may not be installed or enabled properly.\n"
     ]
    },
    {
     "data": {
      "application/vnd.jupyter.widget-view+json": {
       "model_id": "352934043127459f940148ba4d5e1f75"
      }
     },
     "metadata": {},
     "output_type": "display_data"
    },
    {
     "name": "stderr",
     "output_type": "stream",
     "text": [
      "Widget Javascript not detected.  It may not be installed or enabled properly.\n"
     ]
    },
    {
     "data": {
      "application/vnd.jupyter.widget-view+json": {
       "model_id": "c83776ee8aa34636895dc5f850665509"
      }
     },
     "metadata": {},
     "output_type": "display_data"
    },
    {
     "name": "stderr",
     "output_type": "stream",
     "text": [
      "Widget Javascript not detected.  It may not be installed or enabled properly.\n"
     ]
    },
    {
     "data": {
      "application/vnd.jupyter.widget-view+json": {
       "model_id": "52a7340c813c437a8568f05e1c539179"
      }
     },
     "metadata": {},
     "output_type": "display_data"
    },
    {
     "name": "stderr",
     "output_type": "stream",
     "text": [
      "Widget Javascript not detected.  It may not be installed or enabled properly.\n"
     ]
    },
    {
     "data": {
      "application/vnd.jupyter.widget-view+json": {
       "model_id": "eaa4abd19e3a4f97bece6a1815c2179b"
      }
     },
     "metadata": {},
     "output_type": "display_data"
    },
    {
     "name": "stderr",
     "output_type": "stream",
     "text": [
      "Widget Javascript not detected.  It may not be installed or enabled properly.\n"
     ]
    },
    {
     "data": {
      "application/vnd.jupyter.widget-view+json": {
       "model_id": "6cae67062a254fe683437000cbbcbe38"
      }
     },
     "metadata": {},
     "output_type": "display_data"
    },
    {
     "name": "stderr",
     "output_type": "stream",
     "text": [
      "Widget Javascript not detected.  It may not be installed or enabled properly.\n"
     ]
    },
    {
     "data": {
      "application/vnd.jupyter.widget-view+json": {
       "model_id": "b744a2030eec405c9471e6e03a7c7bb5"
      }
     },
     "metadata": {},
     "output_type": "display_data"
    },
    {
     "name": "stderr",
     "output_type": "stream",
     "text": [
      "Widget Javascript not detected.  It may not be installed or enabled properly.\n"
     ]
    },
    {
     "data": {
      "application/vnd.jupyter.widget-view+json": {
       "model_id": "28752f1556ee4d5ca722315d5ea252be"
      }
     },
     "metadata": {},
     "output_type": "display_data"
    },
    {
     "name": "stderr",
     "output_type": "stream",
     "text": [
      "Widget Javascript not detected.  It may not be installed or enabled properly.\n"
     ]
    },
    {
     "data": {
      "application/vnd.jupyter.widget-view+json": {
       "model_id": "c2d81960d578484397551da64e57f322"
      }
     },
     "metadata": {},
     "output_type": "display_data"
    },
    {
     "name": "stderr",
     "output_type": "stream",
     "text": [
      "Widget Javascript not detected.  It may not be installed or enabled properly.\n"
     ]
    },
    {
     "data": {
      "application/vnd.jupyter.widget-view+json": {
       "model_id": "6db9c531ffe6464ea9cf3f48df39ad0e"
      }
     },
     "metadata": {},
     "output_type": "display_data"
    },
    {
     "name": "stderr",
     "output_type": "stream",
     "text": [
      "Widget Javascript not detected.  It may not be installed or enabled properly.\n"
     ]
    },
    {
     "data": {
      "application/vnd.jupyter.widget-view+json": {
       "model_id": "6de19cbd855047eabe495b729282d4bc"
      }
     },
     "metadata": {},
     "output_type": "display_data"
    },
    {
     "name": "stderr",
     "output_type": "stream",
     "text": [
      "Widget Javascript not detected.  It may not be installed or enabled properly.\n"
     ]
    },
    {
     "data": {
      "application/vnd.jupyter.widget-view+json": {
       "model_id": "13c708782c304abb8095987f5f4b9a23"
      }
     },
     "metadata": {},
     "output_type": "display_data"
    },
    {
     "name": "stderr",
     "output_type": "stream",
     "text": [
      "Widget Javascript not detected.  It may not be installed or enabled properly.\n"
     ]
    },
    {
     "data": {
      "application/vnd.jupyter.widget-view+json": {
       "model_id": "11a816933a0645a6bcaaab8ad16d1995"
      }
     },
     "metadata": {},
     "output_type": "display_data"
    },
    {
     "name": "stderr",
     "output_type": "stream",
     "text": [
      "Widget Javascript not detected.  It may not be installed or enabled properly.\n"
     ]
    },
    {
     "data": {
      "application/vnd.jupyter.widget-view+json": {
       "model_id": "4ac64fd1286d406789aa6a8164a0e19f"
      }
     },
     "metadata": {},
     "output_type": "display_data"
    },
    {
     "data": {
      "text/plain": [
       "<keras.callbacks.History at 0x7f69affe1780>"
      ]
     },
     "execution_count": 85,
     "metadata": {},
     "output_type": "execute_result"
    }
   ],
   "source": [
    "vae.fit(x=data_['x_train_c'], \n",
    "                   y=data_['x_train_c'],\n",
    "                   verbose = 0,\n",
    "                   shuffle=False,\n",
    "                   batch_size=batch_size,\n",
    "                   epochs=100,\n",
    "                   validation_data = (\n",
    "                       data_['x_test_c'],\n",
    "                       data_['x_test_c']),\n",
    "                   callbacks = [EarlyStopping(patience = 5),]\n",
    "                  )"
   ]
  },
  {
   "cell_type": "code",
   "execution_count": 86,
   "metadata": {},
   "outputs": [
    {
     "name": "stdout",
     "output_type": "stream",
     "text": [
      "(18280, 2)\n"
     ]
    }
   ],
   "source": [
    "z_train = enc.predict(data_['Xc'])\n",
    "encodings= np.asarray(z_train)\n",
    "encodings = encodings.reshape(data_['Xc'].shape[0], latent_dim)\n",
    "print(encodings.shape)"
   ]
  },
  {
   "cell_type": "code",
   "execution_count": 87,
   "metadata": {
    "collapsed": true
   },
   "outputs": [],
   "source": [
    "new_l = len(encodings)-1\n",
    "encodings_shifted = encodings[-new_l:]\n",
    "\n",
    "colors_shifted = data_['yc_colors'][:new_l]"
   ]
  },
  {
   "cell_type": "code",
   "execution_count": 88,
   "metadata": {},
   "outputs": [
    {
     "data": {
      "text/html": [
       "<iframe id=\"igraph\" scrolling=\"no\" style=\"border:none;\" seamless=\"seamless\" src=\"https://plot.ly/~AbdelWahabTurkmani/85.embed\" height=\"525px\" width=\"100%\"></iframe>"
      ],
      "text/plain": [
       "<plotly.tools.PlotlyDisplay object>"
      ]
     },
     "execution_count": 88,
     "metadata": {},
     "output_type": "execute_result"
    }
   ],
   "source": [
    "x = encodings_shifted[:,0]\n",
    "y = encodings_shifted[:,1]\n",
    "t = ['<br>'.join(json.dumps(x).split(',')) for x in data_['y_labels']]\n",
    "\n",
    "trace1 = go.Scatter(\n",
    "    x=x,\n",
    "    y=y, \n",
    "    mode='markers',\n",
    "    marker=dict(color = colors_shifted, opacity=0.8),\n",
    "    text = t\n",
    ")\n",
    "data = [trace1]\n",
    "layout = go.Layout(margin=dict(l=0,r=0,b=0,t=0))\n",
    "fig = go.Figure(data=data, layout=layout)\n",
    "py.iplot(fig, filename='VAE-LSTM-Data')"
   ]
  },
  {
   "cell_type": "markdown",
   "metadata": {},
   "source": [
    "## Seq2seq with Time and Day"
   ]
  },
  {
   "cell_type": "code",
   "execution_count": 145,
   "metadata": {},
   "outputs": [
    {
     "name": "stdout",
     "output_type": "stream",
     "text": [
      "____________________________________________________________________________________________________\n",
      "Layer (type)                     Output Shape          Param #     Connected to                     \n",
      "====================================================================================================\n",
      "Input (InputLayer)               (None, 6, 15)         0                                            \n",
      "____________________________________________________________________________________________________\n",
      "Day (InputLayer)                 (None, 6, 7)          0                                            \n",
      "____________________________________________________________________________________________________\n",
      "Time (InputLayer)                (None, 6, 24)         0                                            \n",
      "____________________________________________________________________________________________________\n",
      "concatenate_32 (Concatenate)     (None, 6, 46)         0           Input[0][0]                      \n",
      "                                                                   Day[0][0]                        \n",
      "                                                                   Time[0][0]                       \n",
      "____________________________________________________________________________________________________\n",
      "LSTM_Encoder (LSTM)              (None, 32)            10112       concatenate_32[0][0]             \n",
      "____________________________________________________________________________________________________\n",
      "Z_Mean (Dense)                   (None, 2)             66          LSTM_Encoder[0][0]               \n",
      "____________________________________________________________________________________________________\n",
      "Z_log_sigma (Dense)              (None, 2)             66          LSTM_Encoder[0][0]               \n",
      "____________________________________________________________________________________________________\n",
      "Sampling (Lambda)                (None, 2)             0           Z_Mean[0][0]                     \n",
      "                                                                   Z_log_sigma[0][0]                \n",
      "____________________________________________________________________________________________________\n",
      "lambda_27 (Lambda)               (None, 7)             0           Day[0][0]                        \n",
      "____________________________________________________________________________________________________\n",
      "lambda_28 (Lambda)               (None, 24)            0           Time[0][0]                       \n",
      "____________________________________________________________________________________________________\n",
      "concatenate_33 (Concatenate)     (None, 33)            0           Sampling[0][0]                   \n",
      "                                                                   lambda_27[0][0]                  \n",
      "                                                                   lambda_28[0][0]                  \n",
      "____________________________________________________________________________________________________\n",
      "repeat_vector_62 (RepeatVector)  (None, 6, 33)         0           concatenate_33[0][0]             \n",
      "____________________________________________________________________________________________________\n",
      "lstm_78 (LSTM)                   (None, 6, 32)         8448        repeat_vector_62[0][0]           \n",
      "____________________________________________________________________________________________________\n",
      "lstm_79 (LSTM)                   (None, 6, 15)         2880        lstm_78[0][0]                    \n",
      "====================================================================================================\n",
      "Total params: 21,572\n",
      "Trainable params: 21,572\n",
      "Non-trainable params: 0\n",
      "____________________________________________________________________________________________________\n",
      "None\n"
     ]
    }
   ],
   "source": [
    "activ = 'relu'\n",
    "optim = Adam(lr=0.0005)\n",
    "\n",
    "input_dim = data_['x_train_c'].shape[-1] # 13\n",
    "timesteps = data_['x_train_c'].shape[1] # 3\n",
    "time_dim = data_['time']\n",
    "day_dim = data_['days']\n",
    "\n",
    "batch_size = 20\n",
    "latent_dim = 2\n",
    "intermediate_dim=32\n",
    "epsilon_std = 1.\n",
    "\n",
    "\"\"\"\n",
    "Creates an LSTM Variational Autoencoder (VAE). Returns VAE, Encoder, Generator. \n",
    "# Arguments\n",
    "    input_dim: int.\n",
    "    timesteps: int, input timestep dimension.\n",
    "    batch_size: int.\n",
    "    intermediate_dim: int, output shape of LSTM. \n",
    "    latent_dim: int, latent z-layer shape. \n",
    "    epsilon_std: float, z-layer sigma.\n",
    "# References\n",
    "    - [Building Autoencoders in Keras](https://blog.keras.io/building-autoencoders-in-keras.html)\n",
    "    - [Generating sentences from a continuous space](https://arxiv.org/abs/1511.06349)\n",
    "\"\"\"\n",
    "x = Input(shape=(timesteps, input_dim,), name='Input')\n",
    "day = Input(shape=(timesteps, day_dim,), name='Day')\n",
    "time = Input(shape=(timesteps, time_dim,), name='Time')\n",
    "\n",
    "inputs = Concatenate()([x, day, time])\n",
    "# LSTM encoding\n",
    "h = LSTM(intermediate_dim, activation=activ, name='LSTM_Encoder')(inputs)\n",
    "\n",
    "# VAE Z layer\n",
    "z_mean = Dense(latent_dim, activation='linear', name='Z_Mean')(h)\n",
    "z_log_sigma = Dense(latent_dim, activation='linear', name='Z_log_sigma')(h)\n",
    "\n",
    "def sampling(args):\n",
    "    z_mean, z_log_sigma = args\n",
    "    epsilon = K.random_normal(shape=(batch_size, latent_dim),\n",
    "                              mean=0., stddev=epsilon_std)\n",
    "    return z_mean + K.exp(z_log_sigma) * epsilon_std\n",
    "\n",
    "z = Lambda(sampling, output_shape=(latent_dim,), name='Sampling')([z_mean, z_log_sigma])\n",
    "\n",
    "def get_last(x):\n",
    "    return x[:, -1]\n",
    "\n",
    "zc = Concatenate()([z, Lambda(get_last)(day), Lambda(get_last)(time)])\n",
    "# decoded LSTM layer\n",
    "decoder_h = LSTM(intermediate_dim, activation=activ, return_sequences=True)\n",
    "decoder_mean = LSTM(input_dim, activation='sigmoid',return_sequences=True)\n",
    "\n",
    "h_decoded = RepeatVector(timesteps)(zc)\n",
    "h_decoded = decoder_h(h_decoded)\n",
    "\n",
    "# decoded layer\n",
    "x_decoded_mean = decoder_mean(h_decoded)\n",
    "\n",
    "# end-to-end autoencoder\n",
    "c_lstm_vae_td = Model([x, day, time], x_decoded_mean)\n",
    "\n",
    "# encoder, from inputs to latent space\n",
    "c_lstm_encoder_td = Model([x, day, time], z_mean)\n",
    "\n",
    "# generator, from latent space to reconstructed inputs\n",
    "decoder_input = Input(shape=(latent_dim+time_dim+day_dim,))\n",
    "\n",
    "_h_decoded = RepeatVector(timesteps)(decoder_input)\n",
    "_h_decoded = decoder_h(_h_decoded)\n",
    "\n",
    "_x_decoded_mean = decoder_mean(_h_decoded)\n",
    "c_lstm_generator_td = Model(decoder_input, _x_decoded_mean)\n",
    "\n",
    "\n",
    "def vae_loss(x, x_decoded_mean):\n",
    "    xent_loss = objectives.binary_crossentropy(x, x_decoded_mean)\n",
    "    kl_loss = - 0.5 * K.mean(1 + z_log_sigma - K.square(z_mean) - K.exp(z_log_sigma))\n",
    "    loss = xent_loss + kl_loss\n",
    "    return loss\n",
    "\n",
    "def recon_loss(x, x_decoded_mean):\n",
    "    xent_loss = objectives.binary_crossentropy(x, x_decoded_mean)\n",
    "    return xent_loss\n",
    "\n",
    "def KL_loss(x, x_decoded_mean):\n",
    "    kl_loss = - 0.5 * K.mean(1 + z_log_sigma - K.square(z_mean) - K.exp(z_log_sigma))\n",
    "    return kl_loss\n",
    "\n",
    "c_lstm_vae_td.compile(optimizer=optim, loss=vae_loss, metrics=[KL_loss, recon_loss])\n",
    "print(c_lstm_vae_td.summary())"
   ]
  },
  {
   "cell_type": "code",
   "execution_count": 146,
   "metadata": {},
   "outputs": [
    {
     "data": {
      "image/svg+xml": [
       "<svg height=\"719pt\" viewBox=\"0.00 0.00 1014.50 719.00\" width=\"1015pt\" xmlns=\"http://www.w3.org/2000/svg\" xmlns:xlink=\"http://www.w3.org/1999/xlink\">\n",
       "<g class=\"graph\" id=\"graph0\" transform=\"scale(1 1) rotate(0) translate(4 715)\">\n",
       "<title>G</title>\n",
       "<polygon fill=\"white\" points=\"-4,4 -4,-715 1010.5,-715 1010.5,4 -4,4\" stroke=\"none\"/>\n",
       "<!-- 140091541827768 -->\n",
       "<g class=\"node\" id=\"node1\"><title>140091541827768</title>\n",
       "<polygon fill=\"none\" points=\"346.5,-664.5 346.5,-710.5 669.5,-710.5 669.5,-664.5 346.5,-664.5\" stroke=\"black\"/>\n",
       "<text font-family=\"Times,serif\" font-size=\"14.00\" text-anchor=\"middle\" x=\"419\" y=\"-683.8\">Input: InputLayer</text>\n",
       "<polyline fill=\"none\" points=\"491.5,-664.5 491.5,-710.5 \" stroke=\"black\"/>\n",
       "<text font-family=\"Times,serif\" font-size=\"14.00\" text-anchor=\"middle\" x=\"525.5\" y=\"-695.3\">input:</text>\n",
       "<polyline fill=\"none\" points=\"491.5,-687.5 559.5,-687.5 \" stroke=\"black\"/>\n",
       "<text font-family=\"Times,serif\" font-size=\"14.00\" text-anchor=\"middle\" x=\"525.5\" y=\"-672.3\">output:</text>\n",
       "<polyline fill=\"none\" points=\"559.5,-664.5 559.5,-710.5 \" stroke=\"black\"/>\n",
       "<text font-family=\"Times,serif\" font-size=\"14.00\" text-anchor=\"middle\" x=\"614.5\" y=\"-695.3\">(None, 6, 15)</text>\n",
       "<polyline fill=\"none\" points=\"559.5,-687.5 669.5,-687.5 \" stroke=\"black\"/>\n",
       "<text font-family=\"Times,serif\" font-size=\"14.00\" text-anchor=\"middle\" x=\"614.5\" y=\"-672.3\">(None, 6, 15)</text>\n",
       "</g>\n",
       "<!-- 140091543820272 -->\n",
       "<g class=\"node\" id=\"node4\"><title>140091543820272</title>\n",
       "<polygon fill=\"none\" points=\"202.5,-581.5 202.5,-627.5 817.5,-627.5 817.5,-581.5 202.5,-581.5\" stroke=\"black\"/>\n",
       "<text font-family=\"Times,serif\" font-size=\"14.00\" text-anchor=\"middle\" x=\"317.5\" y=\"-600.8\">concatenate_32: Concatenate</text>\n",
       "<polyline fill=\"none\" points=\"432.5,-581.5 432.5,-627.5 \" stroke=\"black\"/>\n",
       "<text font-family=\"Times,serif\" font-size=\"14.00\" text-anchor=\"middle\" x=\"466.5\" y=\"-612.3\">input:</text>\n",
       "<polyline fill=\"none\" points=\"432.5,-604.5 500.5,-604.5 \" stroke=\"black\"/>\n",
       "<text font-family=\"Times,serif\" font-size=\"14.00\" text-anchor=\"middle\" x=\"466.5\" y=\"-589.3\">output:</text>\n",
       "<polyline fill=\"none\" points=\"500.5,-581.5 500.5,-627.5 \" stroke=\"black\"/>\n",
       "<text font-family=\"Times,serif\" font-size=\"14.00\" text-anchor=\"middle\" x=\"659\" y=\"-612.3\">[(None, 6, 15), (None, 6, 7), (None, 6, 24)]</text>\n",
       "<polyline fill=\"none\" points=\"500.5,-604.5 817.5,-604.5 \" stroke=\"black\"/>\n",
       "<text font-family=\"Times,serif\" font-size=\"14.00\" text-anchor=\"middle\" x=\"659\" y=\"-589.3\">(None, 6, 46)</text>\n",
       "</g>\n",
       "<!-- 140091541827768&#45;&gt;140091543820272 -->\n",
       "<g class=\"edge\" id=\"edge1\"><title>140091541827768-&gt;140091543820272</title>\n",
       "<path d=\"M508.547,-664.366C508.749,-656.152 508.984,-646.658 509.204,-637.725\" fill=\"none\" stroke=\"black\"/>\n",
       "<polygon fill=\"black\" points=\"512.706,-637.69 509.454,-627.607 505.708,-637.517 512.706,-637.69\" stroke=\"black\"/>\n",
       "</g>\n",
       "<!-- 140091541772440 -->\n",
       "<g class=\"node\" id=\"node2\"><title>140091541772440</title>\n",
       "<polygon fill=\"none\" points=\"21.5,-664.5 21.5,-710.5 324.5,-710.5 324.5,-664.5 21.5,-664.5\" stroke=\"black\"/>\n",
       "<text font-family=\"Times,serif\" font-size=\"14.00\" text-anchor=\"middle\" x=\"88.5\" y=\"-683.8\">Day: InputLayer</text>\n",
       "<polyline fill=\"none\" points=\"155.5,-664.5 155.5,-710.5 \" stroke=\"black\"/>\n",
       "<text font-family=\"Times,serif\" font-size=\"14.00\" text-anchor=\"middle\" x=\"189.5\" y=\"-695.3\">input:</text>\n",
       "<polyline fill=\"none\" points=\"155.5,-687.5 223.5,-687.5 \" stroke=\"black\"/>\n",
       "<text font-family=\"Times,serif\" font-size=\"14.00\" text-anchor=\"middle\" x=\"189.5\" y=\"-672.3\">output:</text>\n",
       "<polyline fill=\"none\" points=\"223.5,-664.5 223.5,-710.5 \" stroke=\"black\"/>\n",
       "<text font-family=\"Times,serif\" font-size=\"14.00\" text-anchor=\"middle\" x=\"274\" y=\"-695.3\">(None, 6, 7)</text>\n",
       "<polyline fill=\"none\" points=\"223.5,-687.5 324.5,-687.5 \" stroke=\"black\"/>\n",
       "<text font-family=\"Times,serif\" font-size=\"14.00\" text-anchor=\"middle\" x=\"274\" y=\"-672.3\">(None, 6, 7)</text>\n",
       "</g>\n",
       "<!-- 140091541772440&#45;&gt;140091543820272 -->\n",
       "<g class=\"edge\" id=\"edge2\"><title>140091541772440-&gt;140091543820272</title>\n",
       "<path d=\"M264.642,-664.473C309.129,-653.78 362.715,-640.901 408.444,-629.91\" fill=\"none\" stroke=\"black\"/>\n",
       "<polygon fill=\"black\" points=\"409.472,-633.262 418.377,-627.522 407.836,-626.456 409.472,-633.262\" stroke=\"black\"/>\n",
       "</g>\n",
       "<!-- 140091535493664 -->\n",
       "<g class=\"node\" id=\"node9\"><title>140091535493664</title>\n",
       "<polygon fill=\"none\" points=\"0,-498.5 0,-544.5 330,-544.5 330,-498.5 0,-498.5\" stroke=\"black\"/>\n",
       "<text font-family=\"Times,serif\" font-size=\"14.00\" text-anchor=\"middle\" x=\"80.5\" y=\"-517.8\">lambda_27: Lambda</text>\n",
       "<polyline fill=\"none\" points=\"161,-498.5 161,-544.5 \" stroke=\"black\"/>\n",
       "<text font-family=\"Times,serif\" font-size=\"14.00\" text-anchor=\"middle\" x=\"195\" y=\"-529.3\">input:</text>\n",
       "<polyline fill=\"none\" points=\"161,-521.5 229,-521.5 \" stroke=\"black\"/>\n",
       "<text font-family=\"Times,serif\" font-size=\"14.00\" text-anchor=\"middle\" x=\"195\" y=\"-506.3\">output:</text>\n",
       "<polyline fill=\"none\" points=\"229,-498.5 229,-544.5 \" stroke=\"black\"/>\n",
       "<text font-family=\"Times,serif\" font-size=\"14.00\" text-anchor=\"middle\" x=\"279.5\" y=\"-529.3\">(None, 6, 7)</text>\n",
       "<polyline fill=\"none\" points=\"229,-521.5 330,-521.5 \" stroke=\"black\"/>\n",
       "<text font-family=\"Times,serif\" font-size=\"14.00\" text-anchor=\"middle\" x=\"279.5\" y=\"-506.3\">(None, 7)</text>\n",
       "</g>\n",
       "<!-- 140091541772440&#45;&gt;140091535493664 -->\n",
       "<g class=\"edge\" id=\"edge9\"><title>140091541772440-&gt;140091535493664</title>\n",
       "<path d=\"M171.921,-664.382C170.545,-636.182 168.156,-587.206 166.577,-554.821\" fill=\"none\" stroke=\"black\"/>\n",
       "<polygon fill=\"black\" points=\"170.058,-554.346 166.075,-544.529 163.066,-554.687 170.058,-554.346\" stroke=\"black\"/>\n",
       "</g>\n",
       "<!-- 140091541940152 -->\n",
       "<g class=\"node\" id=\"node3\"><title>140091541940152</title>\n",
       "<polygon fill=\"none\" points=\"687.5,-664.5 687.5,-710.5 1006.5,-710.5 1006.5,-664.5 687.5,-664.5\" stroke=\"black\"/>\n",
       "<text font-family=\"Times,serif\" font-size=\"14.00\" text-anchor=\"middle\" x=\"758\" y=\"-683.8\">Time: InputLayer</text>\n",
       "<polyline fill=\"none\" points=\"828.5,-664.5 828.5,-710.5 \" stroke=\"black\"/>\n",
       "<text font-family=\"Times,serif\" font-size=\"14.00\" text-anchor=\"middle\" x=\"862.5\" y=\"-695.3\">input:</text>\n",
       "<polyline fill=\"none\" points=\"828.5,-687.5 896.5,-687.5 \" stroke=\"black\"/>\n",
       "<text font-family=\"Times,serif\" font-size=\"14.00\" text-anchor=\"middle\" x=\"862.5\" y=\"-672.3\">output:</text>\n",
       "<polyline fill=\"none\" points=\"896.5,-664.5 896.5,-710.5 \" stroke=\"black\"/>\n",
       "<text font-family=\"Times,serif\" font-size=\"14.00\" text-anchor=\"middle\" x=\"951.5\" y=\"-695.3\">(None, 6, 24)</text>\n",
       "<polyline fill=\"none\" points=\"896.5,-687.5 1006.5,-687.5 \" stroke=\"black\"/>\n",
       "<text font-family=\"Times,serif\" font-size=\"14.00\" text-anchor=\"middle\" x=\"951.5\" y=\"-672.3\">(None, 6, 24)</text>\n",
       "</g>\n",
       "<!-- 140091541940152&#45;&gt;140091543820272 -->\n",
       "<g class=\"edge\" id=\"edge3\"><title>140091541940152-&gt;140091543820272</title>\n",
       "<path d=\"M755.358,-664.473C710.871,-653.78 657.285,-640.901 611.556,-629.91\" fill=\"none\" stroke=\"black\"/>\n",
       "<polygon fill=\"black\" points=\"612.164,-626.456 601.623,-627.522 610.528,-633.262 612.164,-626.456\" stroke=\"black\"/>\n",
       "</g>\n",
       "<!-- 140091534685856 -->\n",
       "<g class=\"node\" id=\"node10\"><title>140091534685856</title>\n",
       "<polygon fill=\"none\" points=\"657.5,-332.5 657.5,-378.5 996.5,-378.5 996.5,-332.5 657.5,-332.5\" stroke=\"black\"/>\n",
       "<text font-family=\"Times,serif\" font-size=\"14.00\" text-anchor=\"middle\" x=\"738\" y=\"-351.8\">lambda_28: Lambda</text>\n",
       "<polyline fill=\"none\" points=\"818.5,-332.5 818.5,-378.5 \" stroke=\"black\"/>\n",
       "<text font-family=\"Times,serif\" font-size=\"14.00\" text-anchor=\"middle\" x=\"852.5\" y=\"-363.3\">input:</text>\n",
       "<polyline fill=\"none\" points=\"818.5,-355.5 886.5,-355.5 \" stroke=\"black\"/>\n",
       "<text font-family=\"Times,serif\" font-size=\"14.00\" text-anchor=\"middle\" x=\"852.5\" y=\"-340.3\">output:</text>\n",
       "<polyline fill=\"none\" points=\"886.5,-332.5 886.5,-378.5 \" stroke=\"black\"/>\n",
       "<text font-family=\"Times,serif\" font-size=\"14.00\" text-anchor=\"middle\" x=\"941.5\" y=\"-363.3\">(None, 6, 24)</text>\n",
       "<polyline fill=\"none\" points=\"886.5,-355.5 996.5,-355.5 \" stroke=\"black\"/>\n",
       "<text font-family=\"Times,serif\" font-size=\"14.00\" text-anchor=\"middle\" x=\"941.5\" y=\"-340.3\">(None, 24)</text>\n",
       "</g>\n",
       "<!-- 140091541940152&#45;&gt;140091534685856 -->\n",
       "<g class=\"edge\" id=\"edge10\"><title>140091541940152-&gt;140091534685856</title>\n",
       "<path d=\"M845.657,-664.335C842.205,-607.389 833.015,-455.749 828.964,-388.911\" fill=\"none\" stroke=\"black\"/>\n",
       "<polygon fill=\"black\" points=\"832.436,-388.338 828.337,-378.568 825.449,-388.762 832.436,-388.338\" stroke=\"black\"/>\n",
       "</g>\n",
       "<!-- 140091543885584 -->\n",
       "<g class=\"node\" id=\"node5\"><title>140091543885584</title>\n",
       "<polygon fill=\"none\" points=\"348.5,-498.5 348.5,-544.5 705.5,-544.5 705.5,-498.5 348.5,-498.5\" stroke=\"black\"/>\n",
       "<text font-family=\"Times,serif\" font-size=\"14.00\" text-anchor=\"middle\" x=\"438\" y=\"-517.8\">LSTM_Encoder: LSTM</text>\n",
       "<polyline fill=\"none\" points=\"527.5,-498.5 527.5,-544.5 \" stroke=\"black\"/>\n",
       "<text font-family=\"Times,serif\" font-size=\"14.00\" text-anchor=\"middle\" x=\"561.5\" y=\"-529.3\">input:</text>\n",
       "<polyline fill=\"none\" points=\"527.5,-521.5 595.5,-521.5 \" stroke=\"black\"/>\n",
       "<text font-family=\"Times,serif\" font-size=\"14.00\" text-anchor=\"middle\" x=\"561.5\" y=\"-506.3\">output:</text>\n",
       "<polyline fill=\"none\" points=\"595.5,-498.5 595.5,-544.5 \" stroke=\"black\"/>\n",
       "<text font-family=\"Times,serif\" font-size=\"14.00\" text-anchor=\"middle\" x=\"650.5\" y=\"-529.3\">(None, 6, 46)</text>\n",
       "<polyline fill=\"none\" points=\"595.5,-521.5 705.5,-521.5 \" stroke=\"black\"/>\n",
       "<text font-family=\"Times,serif\" font-size=\"14.00\" text-anchor=\"middle\" x=\"650.5\" y=\"-506.3\">(None, 32)</text>\n",
       "</g>\n",
       "<!-- 140091543820272&#45;&gt;140091543885584 -->\n",
       "<g class=\"edge\" id=\"edge4\"><title>140091543820272-&gt;140091543885584</title>\n",
       "<path d=\"M514.645,-581.366C516.388,-573.062 518.405,-563.451 520.298,-554.434\" fill=\"none\" stroke=\"black\"/>\n",
       "<polygon fill=\"black\" points=\"523.732,-555.113 522.36,-544.607 516.881,-553.675 523.732,-555.113\" stroke=\"black\"/>\n",
       "</g>\n",
       "<!-- 140091541940096 -->\n",
       "<g class=\"node\" id=\"node6\"><title>140091541940096</title>\n",
       "<polygon fill=\"none\" points=\"193,-415.5 193,-461.5 481,-461.5 481,-415.5 193,-415.5\" stroke=\"black\"/>\n",
       "<text font-family=\"Times,serif\" font-size=\"14.00\" text-anchor=\"middle\" x=\"257\" y=\"-434.8\">Z_Mean: Dense</text>\n",
       "<polyline fill=\"none\" points=\"321,-415.5 321,-461.5 \" stroke=\"black\"/>\n",
       "<text font-family=\"Times,serif\" font-size=\"14.00\" text-anchor=\"middle\" x=\"355\" y=\"-446.3\">input:</text>\n",
       "<polyline fill=\"none\" points=\"321,-438.5 389,-438.5 \" stroke=\"black\"/>\n",
       "<text font-family=\"Times,serif\" font-size=\"14.00\" text-anchor=\"middle\" x=\"355\" y=\"-423.3\">output:</text>\n",
       "<polyline fill=\"none\" points=\"389,-415.5 389,-461.5 \" stroke=\"black\"/>\n",
       "<text font-family=\"Times,serif\" font-size=\"14.00\" text-anchor=\"middle\" x=\"435\" y=\"-446.3\">(None, 32)</text>\n",
       "<polyline fill=\"none\" points=\"389,-438.5 481,-438.5 \" stroke=\"black\"/>\n",
       "<text font-family=\"Times,serif\" font-size=\"14.00\" text-anchor=\"middle\" x=\"435\" y=\"-423.3\">(None, 2)</text>\n",
       "</g>\n",
       "<!-- 140091543885584&#45;&gt;140091541940096 -->\n",
       "<g class=\"edge\" id=\"edge5\"><title>140091543885584-&gt;140091541940096</title>\n",
       "<path d=\"M475.333,-498.473C451.46,-488.296 422.941,-476.138 398.016,-465.512\" fill=\"none\" stroke=\"black\"/>\n",
       "<polygon fill=\"black\" points=\"399.229,-462.224 388.657,-461.522 396.483,-468.664 399.229,-462.224\" stroke=\"black\"/>\n",
       "</g>\n",
       "<!-- 140091543885976 -->\n",
       "<g class=\"node\" id=\"node7\"><title>140091543885976</title>\n",
       "<polygon fill=\"none\" points=\"499.5,-415.5 499.5,-461.5 818.5,-461.5 818.5,-415.5 499.5,-415.5\" stroke=\"black\"/>\n",
       "<text font-family=\"Times,serif\" font-size=\"14.00\" text-anchor=\"middle\" x=\"579\" y=\"-434.8\">Z_log_sigma: Dense</text>\n",
       "<polyline fill=\"none\" points=\"658.5,-415.5 658.5,-461.5 \" stroke=\"black\"/>\n",
       "<text font-family=\"Times,serif\" font-size=\"14.00\" text-anchor=\"middle\" x=\"692.5\" y=\"-446.3\">input:</text>\n",
       "<polyline fill=\"none\" points=\"658.5,-438.5 726.5,-438.5 \" stroke=\"black\"/>\n",
       "<text font-family=\"Times,serif\" font-size=\"14.00\" text-anchor=\"middle\" x=\"692.5\" y=\"-423.3\">output:</text>\n",
       "<polyline fill=\"none\" points=\"726.5,-415.5 726.5,-461.5 \" stroke=\"black\"/>\n",
       "<text font-family=\"Times,serif\" font-size=\"14.00\" text-anchor=\"middle\" x=\"772.5\" y=\"-446.3\">(None, 32)</text>\n",
       "<polyline fill=\"none\" points=\"726.5,-438.5 818.5,-438.5 \" stroke=\"black\"/>\n",
       "<text font-family=\"Times,serif\" font-size=\"14.00\" text-anchor=\"middle\" x=\"772.5\" y=\"-423.3\">(None, 2)</text>\n",
       "</g>\n",
       "<!-- 140091543885584&#45;&gt;140091543885976 -->\n",
       "<g class=\"edge\" id=\"edge6\"><title>140091543885584-&gt;140091543885976</title>\n",
       "<path d=\"M563.07,-498.366C578.93,-488.634 597.717,-477.106 614.442,-466.842\" fill=\"none\" stroke=\"black\"/>\n",
       "<polygon fill=\"black\" points=\"616.281,-469.82 622.974,-461.607 612.62,-463.854 616.281,-469.82\" stroke=\"black\"/>\n",
       "</g>\n",
       "<!-- 140091539427112 -->\n",
       "<g class=\"node\" id=\"node8\"><title>140091539427112</title>\n",
       "<polygon fill=\"none\" points=\"212,-332.5 212,-378.5 600,-378.5 600,-332.5 212,-332.5\" stroke=\"black\"/>\n",
       "<text font-family=\"Times,serif\" font-size=\"14.00\" text-anchor=\"middle\" x=\"287\" y=\"-351.8\">Sampling: Lambda</text>\n",
       "<polyline fill=\"none\" points=\"362,-332.5 362,-378.5 \" stroke=\"black\"/>\n",
       "<text font-family=\"Times,serif\" font-size=\"14.00\" text-anchor=\"middle\" x=\"396\" y=\"-363.3\">input:</text>\n",
       "<polyline fill=\"none\" points=\"362,-355.5 430,-355.5 \" stroke=\"black\"/>\n",
       "<text font-family=\"Times,serif\" font-size=\"14.00\" text-anchor=\"middle\" x=\"396\" y=\"-340.3\">output:</text>\n",
       "<polyline fill=\"none\" points=\"430,-332.5 430,-378.5 \" stroke=\"black\"/>\n",
       "<text font-family=\"Times,serif\" font-size=\"14.00\" text-anchor=\"middle\" x=\"515\" y=\"-363.3\">[(None, 2), (None, 2)]</text>\n",
       "<polyline fill=\"none\" points=\"430,-355.5 600,-355.5 \" stroke=\"black\"/>\n",
       "<text font-family=\"Times,serif\" font-size=\"14.00\" text-anchor=\"middle\" x=\"515\" y=\"-340.3\">(None, 2)</text>\n",
       "</g>\n",
       "<!-- 140091541940096&#45;&gt;140091539427112 -->\n",
       "<g class=\"edge\" id=\"edge7\"><title>140091541940096-&gt;140091539427112</title>\n",
       "<path d=\"M355.855,-415.366C363.461,-406.437 372.354,-395.997 380.522,-386.409\" fill=\"none\" stroke=\"black\"/>\n",
       "<polygon fill=\"black\" points=\"383.348,-388.489 387.168,-378.607 378.019,-383.95 383.348,-388.489\" stroke=\"black\"/>\n",
       "</g>\n",
       "<!-- 140091543885976&#45;&gt;140091539427112 -->\n",
       "<g class=\"edge\" id=\"edge8\"><title>140091543885976-&gt;140091539427112</title>\n",
       "<path d=\"M590.201,-415.473C557.572,-405.027 518.425,-392.494 484.627,-381.673\" fill=\"none\" stroke=\"black\"/>\n",
       "<polygon fill=\"black\" points=\"485.377,-378.238 474.785,-378.522 483.242,-384.905 485.377,-378.238\" stroke=\"black\"/>\n",
       "</g>\n",
       "<!-- 140091535493160 -->\n",
       "<g class=\"node\" id=\"node11\"><title>140091535493160</title>\n",
       "<polygon fill=\"none\" points=\"130,-249.5 130,-295.5 682,-295.5 682,-249.5 130,-249.5\" stroke=\"black\"/>\n",
       "<text font-family=\"Times,serif\" font-size=\"14.00\" text-anchor=\"middle\" x=\"245\" y=\"-268.8\">concatenate_33: Concatenate</text>\n",
       "<polyline fill=\"none\" points=\"360,-249.5 360,-295.5 \" stroke=\"black\"/>\n",
       "<text font-family=\"Times,serif\" font-size=\"14.00\" text-anchor=\"middle\" x=\"394\" y=\"-280.3\">input:</text>\n",
       "<polyline fill=\"none\" points=\"360,-272.5 428,-272.5 \" stroke=\"black\"/>\n",
       "<text font-family=\"Times,serif\" font-size=\"14.00\" text-anchor=\"middle\" x=\"394\" y=\"-257.3\">output:</text>\n",
       "<polyline fill=\"none\" points=\"428,-249.5 428,-295.5 \" stroke=\"black\"/>\n",
       "<text font-family=\"Times,serif\" font-size=\"14.00\" text-anchor=\"middle\" x=\"555\" y=\"-280.3\">[(None, 2), (None, 7), (None, 24)]</text>\n",
       "<polyline fill=\"none\" points=\"428,-272.5 682,-272.5 \" stroke=\"black\"/>\n",
       "<text font-family=\"Times,serif\" font-size=\"14.00\" text-anchor=\"middle\" x=\"555\" y=\"-257.3\">(None, 33)</text>\n",
       "</g>\n",
       "<!-- 140091539427112&#45;&gt;140091535493160 -->\n",
       "<g class=\"edge\" id=\"edge11\"><title>140091539427112-&gt;140091535493160</title>\n",
       "<path d=\"M406,-332.366C406,-324.152 406,-314.658 406,-305.725\" fill=\"none\" stroke=\"black\"/>\n",
       "<polygon fill=\"black\" points=\"409.5,-305.607 406,-295.607 402.5,-305.607 409.5,-305.607\" stroke=\"black\"/>\n",
       "</g>\n",
       "<!-- 140091535493664&#45;&gt;140091535493160 -->\n",
       "<g class=\"edge\" id=\"edge12\"><title>140091535493664-&gt;140091535493160</title>\n",
       "<path d=\"M162.56,-498.253C159.592,-459.165 159.526,-377.958 203,-332 215.866,-318.399 231.673,-307.896 248.736,-299.796\" fill=\"none\" stroke=\"black\"/>\n",
       "<polygon fill=\"black\" points=\"250.611,-302.793 258.333,-295.539 247.773,-296.394 250.611,-302.793\" stroke=\"black\"/>\n",
       "</g>\n",
       "<!-- 140091534685856&#45;&gt;140091535493160 -->\n",
       "<g class=\"edge\" id=\"edge13\"><title>140091534685856-&gt;140091535493160</title>\n",
       "<path d=\"M712.516,-332.473C656.124,-321.624 588.03,-308.522 530.361,-297.427\" fill=\"none\" stroke=\"black\"/>\n",
       "<polygon fill=\"black\" points=\"530.942,-293.975 520.461,-295.522 529.62,-300.849 530.942,-293.975\" stroke=\"black\"/>\n",
       "</g>\n",
       "<!-- 140091534091152 -->\n",
       "<g class=\"node\" id=\"node12\"><title>140091534091152</title>\n",
       "<polygon fill=\"none\" points=\"193,-166.5 193,-212.5 619,-212.5 619,-166.5 193,-166.5\" stroke=\"black\"/>\n",
       "<text font-family=\"Times,serif\" font-size=\"14.00\" text-anchor=\"middle\" x=\"317\" y=\"-185.8\">repeat_vector_62: RepeatVector</text>\n",
       "<polyline fill=\"none\" points=\"441,-166.5 441,-212.5 \" stroke=\"black\"/>\n",
       "<text font-family=\"Times,serif\" font-size=\"14.00\" text-anchor=\"middle\" x=\"475\" y=\"-197.3\">input:</text>\n",
       "<polyline fill=\"none\" points=\"441,-189.5 509,-189.5 \" stroke=\"black\"/>\n",
       "<text font-family=\"Times,serif\" font-size=\"14.00\" text-anchor=\"middle\" x=\"475\" y=\"-174.3\">output:</text>\n",
       "<polyline fill=\"none\" points=\"509,-166.5 509,-212.5 \" stroke=\"black\"/>\n",
       "<text font-family=\"Times,serif\" font-size=\"14.00\" text-anchor=\"middle\" x=\"564\" y=\"-197.3\">(None, 33)</text>\n",
       "<polyline fill=\"none\" points=\"509,-189.5 619,-189.5 \" stroke=\"black\"/>\n",
       "<text font-family=\"Times,serif\" font-size=\"14.00\" text-anchor=\"middle\" x=\"564\" y=\"-174.3\">(None, 6, 33)</text>\n",
       "</g>\n",
       "<!-- 140091535493160&#45;&gt;140091534091152 -->\n",
       "<g class=\"edge\" id=\"edge14\"><title>140091535493160-&gt;140091534091152</title>\n",
       "<path d=\"M406,-249.366C406,-241.152 406,-231.658 406,-222.725\" fill=\"none\" stroke=\"black\"/>\n",
       "<polygon fill=\"black\" points=\"409.5,-222.607 406,-212.607 402.5,-222.607 409.5,-222.607\" stroke=\"black\"/>\n",
       "</g>\n",
       "<!-- 140091540726728 -->\n",
       "<g class=\"node\" id=\"node13\"><title>140091540726728</title>\n",
       "<polygon fill=\"none\" points=\"254.5,-83.5 254.5,-129.5 557.5,-129.5 557.5,-83.5 254.5,-83.5\" stroke=\"black\"/>\n",
       "<text font-family=\"Times,serif\" font-size=\"14.00\" text-anchor=\"middle\" x=\"317\" y=\"-102.8\">lstm_78: LSTM</text>\n",
       "<polyline fill=\"none\" points=\"379.5,-83.5 379.5,-129.5 \" stroke=\"black\"/>\n",
       "<text font-family=\"Times,serif\" font-size=\"14.00\" text-anchor=\"middle\" x=\"413.5\" y=\"-114.3\">input:</text>\n",
       "<polyline fill=\"none\" points=\"379.5,-106.5 447.5,-106.5 \" stroke=\"black\"/>\n",
       "<text font-family=\"Times,serif\" font-size=\"14.00\" text-anchor=\"middle\" x=\"413.5\" y=\"-91.3\">output:</text>\n",
       "<polyline fill=\"none\" points=\"447.5,-83.5 447.5,-129.5 \" stroke=\"black\"/>\n",
       "<text font-family=\"Times,serif\" font-size=\"14.00\" text-anchor=\"middle\" x=\"502.5\" y=\"-114.3\">(None, 6, 33)</text>\n",
       "<polyline fill=\"none\" points=\"447.5,-106.5 557.5,-106.5 \" stroke=\"black\"/>\n",
       "<text font-family=\"Times,serif\" font-size=\"14.00\" text-anchor=\"middle\" x=\"502.5\" y=\"-91.3\">(None, 6, 32)</text>\n",
       "</g>\n",
       "<!-- 140091534091152&#45;&gt;140091540726728 -->\n",
       "<g class=\"edge\" id=\"edge15\"><title>140091534091152-&gt;140091540726728</title>\n",
       "<path d=\"M406,-166.366C406,-158.152 406,-148.658 406,-139.725\" fill=\"none\" stroke=\"black\"/>\n",
       "<polygon fill=\"black\" points=\"409.5,-139.607 406,-129.607 402.5,-139.607 409.5,-139.607\" stroke=\"black\"/>\n",
       "</g>\n",
       "<!-- 140091534686248 -->\n",
       "<g class=\"node\" id=\"node14\"><title>140091534686248</title>\n",
       "<polygon fill=\"none\" points=\"254.5,-0.5 254.5,-46.5 557.5,-46.5 557.5,-0.5 254.5,-0.5\" stroke=\"black\"/>\n",
       "<text font-family=\"Times,serif\" font-size=\"14.00\" text-anchor=\"middle\" x=\"317\" y=\"-19.8\">lstm_79: LSTM</text>\n",
       "<polyline fill=\"none\" points=\"379.5,-0.5 379.5,-46.5 \" stroke=\"black\"/>\n",
       "<text font-family=\"Times,serif\" font-size=\"14.00\" text-anchor=\"middle\" x=\"413.5\" y=\"-31.3\">input:</text>\n",
       "<polyline fill=\"none\" points=\"379.5,-23.5 447.5,-23.5 \" stroke=\"black\"/>\n",
       "<text font-family=\"Times,serif\" font-size=\"14.00\" text-anchor=\"middle\" x=\"413.5\" y=\"-8.3\">output:</text>\n",
       "<polyline fill=\"none\" points=\"447.5,-0.5 447.5,-46.5 \" stroke=\"black\"/>\n",
       "<text font-family=\"Times,serif\" font-size=\"14.00\" text-anchor=\"middle\" x=\"502.5\" y=\"-31.3\">(None, 6, 32)</text>\n",
       "<polyline fill=\"none\" points=\"447.5,-23.5 557.5,-23.5 \" stroke=\"black\"/>\n",
       "<text font-family=\"Times,serif\" font-size=\"14.00\" text-anchor=\"middle\" x=\"502.5\" y=\"-8.3\">(None, 6, 15)</text>\n",
       "</g>\n",
       "<!-- 140091540726728&#45;&gt;140091534686248 -->\n",
       "<g class=\"edge\" id=\"edge16\"><title>140091540726728-&gt;140091534686248</title>\n",
       "<path d=\"M406,-83.3664C406,-75.1516 406,-65.6579 406,-56.7252\" fill=\"none\" stroke=\"black\"/>\n",
       "<polygon fill=\"black\" points=\"409.5,-56.6068 406,-46.6068 402.5,-56.6069 409.5,-56.6068\" stroke=\"black\"/>\n",
       "</g>\n",
       "</g>\n",
       "</svg>"
      ],
      "text/plain": [
       "<IPython.core.display.SVG object>"
      ]
     },
     "execution_count": 146,
     "metadata": {},
     "output_type": "execute_result"
    }
   ],
   "source": [
    "SVG(model_to_dot(c_lstm_vae_td, show_shapes=True, show_layer_names=True).create(prog='dot', format='svg'))"
   ]
  },
  {
   "cell_type": "code",
   "execution_count": 157,
   "metadata": {},
   "outputs": [
    {
     "data": {
      "text/plain": [
       "(3640, 6, 24)"
      ]
     },
     "execution_count": 157,
     "metadata": {},
     "output_type": "execute_result"
    }
   ],
   "source": [
    "x_d = np.asarray([to_categorical(x, num_classes=data_['days']) for x in data_['Xd']])\n",
    "x_t = np.asarray([to_categorical(x, num_classes=data_['time']) for x in data_['Xt']])\n",
    "\n",
    "x_train_d = np.asarray([to_categorical(x, num_classes=data_['days']) for x in data_['x_train_d']])\n",
    "x_train_t = np.asarray([to_categorical(x, num_classes=data_['time']) for x in data_['x_train_t']])\n",
    "\n",
    "x_test_d = np.asarray([to_categorical(x, num_classes=data_['days']) for x in data_['x_test_d']])\n",
    "x_test_t = np.asarray([to_categorical(x, num_classes=data_['time']) for x in data_['x_test_t']])\n",
    "\n",
    "x_test_t.shape"
   ]
  },
  {
   "cell_type": "code",
   "execution_count": 158,
   "metadata": {},
   "outputs": [
    {
     "name": "stderr",
     "output_type": "stream",
     "text": [
      "Widget Javascript not detected.  It may not be installed or enabled properly.\n"
     ]
    },
    {
     "data": {
      "application/vnd.jupyter.widget-view+json": {
       "model_id": "77f25642e4d247319ef99f554944b61f"
      }
     },
     "metadata": {},
     "output_type": "display_data"
    },
    {
     "name": "stderr",
     "output_type": "stream",
     "text": [
      "Widget Javascript not detected.  It may not be installed or enabled properly.\n"
     ]
    },
    {
     "data": {
      "application/vnd.jupyter.widget-view+json": {
       "model_id": "39a04f049ff24e6fa0d6bb639a9ecc30"
      }
     },
     "metadata": {},
     "output_type": "display_data"
    },
    {
     "name": "stderr",
     "output_type": "stream",
     "text": [
      "Widget Javascript not detected.  It may not be installed or enabled properly.\n"
     ]
    },
    {
     "data": {
      "application/vnd.jupyter.widget-view+json": {
       "model_id": "2ba9f689d32745ccafea1fc08baf5677"
      }
     },
     "metadata": {},
     "output_type": "display_data"
    },
    {
     "name": "stderr",
     "output_type": "stream",
     "text": [
      "Widget Javascript not detected.  It may not be installed or enabled properly.\n"
     ]
    },
    {
     "data": {
      "application/vnd.jupyter.widget-view+json": {
       "model_id": "94b91a4f2f244696a5cac2b69c9c217a"
      }
     },
     "metadata": {},
     "output_type": "display_data"
    },
    {
     "name": "stderr",
     "output_type": "stream",
     "text": [
      "Widget Javascript not detected.  It may not be installed or enabled properly.\n"
     ]
    },
    {
     "data": {
      "application/vnd.jupyter.widget-view+json": {
       "model_id": "5a4ac609e989450dba92fd61171aaf93"
      }
     },
     "metadata": {},
     "output_type": "display_data"
    },
    {
     "name": "stderr",
     "output_type": "stream",
     "text": [
      "Widget Javascript not detected.  It may not be installed or enabled properly.\n"
     ]
    },
    {
     "data": {
      "application/vnd.jupyter.widget-view+json": {
       "model_id": "62aa861ed9e943928632f256b6892559"
      }
     },
     "metadata": {},
     "output_type": "display_data"
    },
    {
     "name": "stderr",
     "output_type": "stream",
     "text": [
      "Widget Javascript not detected.  It may not be installed or enabled properly.\n"
     ]
    },
    {
     "data": {
      "application/vnd.jupyter.widget-view+json": {
       "model_id": "b08ad85b0cf042eab4127b0dc9df0050"
      }
     },
     "metadata": {},
     "output_type": "display_data"
    },
    {
     "name": "stderr",
     "output_type": "stream",
     "text": [
      "Widget Javascript not detected.  It may not be installed or enabled properly.\n"
     ]
    },
    {
     "data": {
      "application/vnd.jupyter.widget-view+json": {
       "model_id": "43dc9cac7a084091af1ed11ffb45c02e"
      }
     },
     "metadata": {},
     "output_type": "display_data"
    },
    {
     "name": "stderr",
     "output_type": "stream",
     "text": [
      "Widget Javascript not detected.  It may not be installed or enabled properly.\n"
     ]
    },
    {
     "data": {
      "application/vnd.jupyter.widget-view+json": {
       "model_id": "bb2be80ee3bc4fb1b485e8817a93e2af"
      }
     },
     "metadata": {},
     "output_type": "display_data"
    },
    {
     "name": "stderr",
     "output_type": "stream",
     "text": [
      "Widget Javascript not detected.  It may not be installed or enabled properly.\n"
     ]
    },
    {
     "data": {
      "application/vnd.jupyter.widget-view+json": {
       "model_id": "547582bed3bf48e5a3590eb8f3907ee1"
      }
     },
     "metadata": {},
     "output_type": "display_data"
    },
    {
     "name": "stderr",
     "output_type": "stream",
     "text": [
      "Widget Javascript not detected.  It may not be installed or enabled properly.\n"
     ]
    },
    {
     "data": {
      "application/vnd.jupyter.widget-view+json": {
       "model_id": "0073d73694814fadbceb79d26fe98dae"
      }
     },
     "metadata": {},
     "output_type": "display_data"
    },
    {
     "name": "stderr",
     "output_type": "stream",
     "text": [
      "Widget Javascript not detected.  It may not be installed or enabled properly.\n"
     ]
    },
    {
     "data": {
      "application/vnd.jupyter.widget-view+json": {
       "model_id": "35435fc2e484427ba05062deb426ce1b"
      }
     },
     "metadata": {},
     "output_type": "display_data"
    },
    {
     "name": "stderr",
     "output_type": "stream",
     "text": [
      "Widget Javascript not detected.  It may not be installed or enabled properly.\n"
     ]
    },
    {
     "data": {
      "application/vnd.jupyter.widget-view+json": {
       "model_id": "4fe46f54863f4041b91df5cf33d548f3"
      }
     },
     "metadata": {},
     "output_type": "display_data"
    },
    {
     "name": "stderr",
     "output_type": "stream",
     "text": [
      "Widget Javascript not detected.  It may not be installed or enabled properly.\n"
     ]
    },
    {
     "data": {
      "application/vnd.jupyter.widget-view+json": {
       "model_id": "2c7896755c884a89a7f8d8330931be2f"
      }
     },
     "metadata": {},
     "output_type": "display_data"
    },
    {
     "name": "stderr",
     "output_type": "stream",
     "text": [
      "Widget Javascript not detected.  It may not be installed or enabled properly.\n"
     ]
    },
    {
     "data": {
      "application/vnd.jupyter.widget-view+json": {
       "model_id": "69ee1fae6cfc4eb9ac6ef5dd88892f0c"
      }
     },
     "metadata": {},
     "output_type": "display_data"
    },
    {
     "name": "stderr",
     "output_type": "stream",
     "text": [
      "Widget Javascript not detected.  It may not be installed or enabled properly.\n"
     ]
    },
    {
     "data": {
      "application/vnd.jupyter.widget-view+json": {
       "model_id": "bcdc21229b884dc1b88327670cd409ae"
      }
     },
     "metadata": {},
     "output_type": "display_data"
    },
    {
     "name": "stderr",
     "output_type": "stream",
     "text": [
      "Widget Javascript not detected.  It may not be installed or enabled properly.\n"
     ]
    },
    {
     "data": {
      "application/vnd.jupyter.widget-view+json": {
       "model_id": "76203f121cb1432a8588f6323586947c"
      }
     },
     "metadata": {},
     "output_type": "display_data"
    },
    {
     "name": "stderr",
     "output_type": "stream",
     "text": [
      "Widget Javascript not detected.  It may not be installed or enabled properly.\n"
     ]
    },
    {
     "data": {
      "application/vnd.jupyter.widget-view+json": {
       "model_id": "38c854741ae3416886f017325a9c0266"
      }
     },
     "metadata": {},
     "output_type": "display_data"
    },
    {
     "name": "stderr",
     "output_type": "stream",
     "text": [
      "Widget Javascript not detected.  It may not be installed or enabled properly.\n"
     ]
    },
    {
     "data": {
      "application/vnd.jupyter.widget-view+json": {
       "model_id": "791d2e87538a4cbe950a2f6d99890d88"
      }
     },
     "metadata": {},
     "output_type": "display_data"
    },
    {
     "name": "stderr",
     "output_type": "stream",
     "text": [
      "Widget Javascript not detected.  It may not be installed or enabled properly.\n"
     ]
    },
    {
     "data": {
      "application/vnd.jupyter.widget-view+json": {
       "model_id": "2459c3ac99974d8ab69083575a744c04"
      }
     },
     "metadata": {},
     "output_type": "display_data"
    },
    {
     "name": "stderr",
     "output_type": "stream",
     "text": [
      "Widget Javascript not detected.  It may not be installed or enabled properly.\n"
     ]
    },
    {
     "data": {
      "application/vnd.jupyter.widget-view+json": {
       "model_id": "207beca2ae8d4ab5a601f4966873f986"
      }
     },
     "metadata": {},
     "output_type": "display_data"
    }
   ],
   "source": [
    "# compile and fit\n",
    "c_lstm_vae_td.compile(optimizer=optim, loss=vae_loss, metrics = [KL_loss, recon_loss])\n",
    "c_lstm_vae_td_hist = c_lstm_vae_td.fit(\n",
    "    [data_['x_train_c'], x_train_d, x_train_t], \n",
    "    data_['x_train_c'], \n",
    "    verbose = 0, \n",
    "    batch_size=batch_size, \n",
    "    epochs=100,\n",
    "    validation_data = ([data_['x_test_c'], x_test_d,x_test_t], \n",
    "                        data_['x_test_c']),\n",
    "    callbacks = [EarlyStopping(patience = 5),TQDMNotebookCallback(metric_format=\"{name}: {value:0.4f}\")])"
   ]
  },
  {
   "cell_type": "code",
   "execution_count": 159,
   "metadata": {
    "collapsed": true
   },
   "outputs": [],
   "source": [
    "z_train = c_lstm_encoder_td.predict([data_['Xc'], x_d, x_t])\n",
    "encodings= np.asarray(z_train)\n",
    "# encodings = encodings.reshape(data_['Xc'].shape[0], latent_dim)\n",
    "\n",
    "new_l = len(encodings)-1\n",
    "encodings_shifted = encodings[-new_l:]\n",
    "\n",
    "colors_shifted = data_['yc_colors'][:new_l]"
   ]
  },
  {
   "cell_type": "code",
   "execution_count": 160,
   "metadata": {},
   "outputs": [
    {
     "data": {
      "text/html": [
       "<iframe id=\"igraph\" scrolling=\"no\" style=\"border:none;\" seamless=\"seamless\" src=\"https://plot.ly/~AbdelWahabTurkmani/87.embed\" height=\"525px\" width=\"100%\"></iframe>"
      ],
      "text/plain": [
       "<plotly.tools.PlotlyDisplay object>"
      ]
     },
     "execution_count": 160,
     "metadata": {},
     "output_type": "execute_result"
    }
   ],
   "source": [
    "x = encodings_shifted[:,0]\n",
    "y = encodings_shifted[:,1]\n",
    "t = ['<br>'.join(json.dumps(x).split(',')) for x in data_['y_labels']]\n",
    "\n",
    "trace1 = go.Scatter(\n",
    "    x=x,\n",
    "    y=y, \n",
    "    mode='markers',\n",
    "    marker=dict(color = colors_shifted, opacity=0.8),\n",
    "    text = t\n",
    ")\n",
    "data = [trace1]\n",
    "layout = go.Layout(margin=dict(l=0,r=0,b=0,t=0))\n",
    "fig = go.Figure(data=data, layout=layout)\n",
    "py.iplot(fig, filename='VAE-LSTM_TD_-Data')"
   ]
  },
  {
   "cell_type": "markdown",
   "metadata": {},
   "source": [
    "# Analysis:\n",
    "\n",
    "We note that with the LSTM VAE we observe a more gaussian shape, however the VAE still tries to separate the data into clusters concentrated by the specific apps\n",
    "\n",
    "In the LSTM_VAE conditioned on Time & Day - we see an even better Gaussian latent space with the interesting property that apps that tend to be used together and clustered in the same area, for example Purple & Pink (S.Eng and Writing) are on the left and (Video & IM) on the right"
   ]
  },
  {
   "cell_type": "code",
   "execution_count": null,
   "metadata": {
    "collapsed": true
   },
   "outputs": [],
   "source": []
  }
 ],
 "metadata": {
  "kernelspec": {
   "display_name": "Python 3",
   "language": "python",
   "name": "python3"
  },
  "language_info": {
   "codemirror_mode": {
    "name": "ipython",
    "version": 3
   },
   "file_extension": ".py",
   "mimetype": "text/x-python",
   "name": "python",
   "nbconvert_exporter": "python",
   "pygments_lexer": "ipython3",
   "version": "3.6.1"
  }
 },
 "nbformat": 4,
 "nbformat_minor": 2
}
