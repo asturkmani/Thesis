{
 "cells": [
  {
   "cell_type": "code",
   "execution_count": 1,
   "metadata": {},
   "outputs": [
    {
     "name": "stderr",
     "output_type": "stream",
     "text": [
      "Using TensorFlow backend.\n"
     ]
    }
   ],
   "source": [
    "import numpy as np\n",
    "import tensorflow as tf\n",
    "import pickle\n",
    "import pickle\n",
    "import pandas as pd\n",
    "\n",
    "from random import randint\n",
    "import datetime\n",
    "from IPython.display import SVG\n",
    "from IPython.display import HTML\n",
    "from keras.utils.vis_utils import model_to_dot\n",
    "\n",
    "from sklearn.decomposition import PCA\n",
    "from sklearn.manifold import TSNE\n",
    "from scipy.stats import norm\n",
    "\n",
    "import matplotlib.pyplot as plt\n",
    "\n",
    "from keras.models import *\n",
    "from keras.layers import *\n",
    "from keras.optimizers import *\n",
    "from keras.layers.merge import *\n",
    "from keras.utils import to_categorical\n",
    "\n",
    "from utils import *\n",
    "\n",
    "from keras.callbacks import EarlyStopping, ReduceLROnPlateau\n",
    "from keras import regularizers\n",
    "from keras import backend as K\n",
    "from keras import metrics\n",
    "%matplotlib inline"
   ]
  },
  {
   "cell_type": "markdown",
   "metadata": {},
   "source": [
    "# MNIST EXPERIMENTS"
   ]
  },
  {
   "cell_type": "code",
   "execution_count": 2,
   "metadata": {},
   "outputs": [
    {
     "ename": "TypeError",
     "evalue": "Expected int32, got list containing Tensors of type '_Message' instead.",
     "output_type": "error",
     "traceback": [
      "\u001b[0;31m---------------------------------------------------------------------------\u001b[0m",
      "\u001b[0;31mTypeError\u001b[0m                                 Traceback (most recent call last)",
      "\u001b[0;32m<ipython-input-2-69e7d28c1e31>\u001b[0m in \u001b[0;36m<module>\u001b[0;34m()\u001b[0m\n\u001b[1;32m     22\u001b[0m \u001b[0mx\u001b[0m \u001b[0;34m=\u001b[0m \u001b[0mInput\u001b[0m\u001b[0;34m(\u001b[0m\u001b[0mbatch_shape\u001b[0m\u001b[0;34m=\u001b[0m\u001b[0;34m(\u001b[0m\u001b[0mbatch_size\u001b[0m\u001b[0;34m,\u001b[0m \u001b[0moriginal_dim\u001b[0m\u001b[0;34m)\u001b[0m\u001b[0;34m)\u001b[0m\u001b[0;34m\u001b[0m\u001b[0m\n\u001b[1;32m     23\u001b[0m \u001b[0mlabel\u001b[0m \u001b[0;34m=\u001b[0m \u001b[0mInput\u001b[0m\u001b[0;34m(\u001b[0m\u001b[0mbatch_shape\u001b[0m\u001b[0;34m=\u001b[0m\u001b[0;34m(\u001b[0m\u001b[0mbatch_size\u001b[0m\u001b[0;34m,\u001b[0m \u001b[0;36m10\u001b[0m\u001b[0;34m)\u001b[0m\u001b[0;34m)\u001b[0m\u001b[0;34m\u001b[0m\u001b[0m\n\u001b[0;32m---> 24\u001b[0;31m \u001b[0minputs\u001b[0m \u001b[0;34m=\u001b[0m \u001b[0mConcatenate\u001b[0m\u001b[0;34m(\u001b[0m\u001b[0;34m)\u001b[0m\u001b[0;34m(\u001b[0m\u001b[0;34m[\u001b[0m\u001b[0mx\u001b[0m\u001b[0;34m,\u001b[0m\u001b[0mlabel\u001b[0m\u001b[0;34m]\u001b[0m\u001b[0;34m)\u001b[0m\u001b[0;34m\u001b[0m\u001b[0m\n\u001b[0m\u001b[1;32m     25\u001b[0m \u001b[0mh\u001b[0m \u001b[0;34m=\u001b[0m \u001b[0mDense\u001b[0m\u001b[0;34m(\u001b[0m\u001b[0mintermediate_dim\u001b[0m\u001b[0;34m,\u001b[0m \u001b[0mactivation\u001b[0m\u001b[0;34m=\u001b[0m\u001b[0;34m'relu'\u001b[0m\u001b[0;34m)\u001b[0m\u001b[0;34m(\u001b[0m\u001b[0mx\u001b[0m\u001b[0;34m)\u001b[0m\u001b[0;34m\u001b[0m\u001b[0m\n\u001b[1;32m     26\u001b[0m \u001b[0mz_mean\u001b[0m \u001b[0;34m=\u001b[0m \u001b[0mDense\u001b[0m\u001b[0;34m(\u001b[0m\u001b[0mlatent_dim\u001b[0m\u001b[0;34m)\u001b[0m\u001b[0;34m(\u001b[0m\u001b[0mh\u001b[0m\u001b[0;34m)\u001b[0m\u001b[0;34m\u001b[0m\u001b[0m\n",
      "\u001b[0;32m/Users/asturkmani/anaconda3/lib/python3.5/site-packages/keras/engine/topology.py\u001b[0m in \u001b[0;36m__call__\u001b[0;34m(self, inputs, **kwargs)\u001b[0m\n\u001b[1;32m    552\u001b[0m \u001b[0;34m\u001b[0m\u001b[0m\n\u001b[1;32m    553\u001b[0m             \u001b[0;31m# Actually call the layer, collecting output(s), mask(s), and shape(s).\u001b[0m\u001b[0;34m\u001b[0m\u001b[0;34m\u001b[0m\u001b[0m\n\u001b[0;32m--> 554\u001b[0;31m             \u001b[0moutput\u001b[0m \u001b[0;34m=\u001b[0m \u001b[0mself\u001b[0m\u001b[0;34m.\u001b[0m\u001b[0mcall\u001b[0m\u001b[0;34m(\u001b[0m\u001b[0minputs\u001b[0m\u001b[0;34m,\u001b[0m \u001b[0;34m**\u001b[0m\u001b[0mkwargs\u001b[0m\u001b[0;34m)\u001b[0m\u001b[0;34m\u001b[0m\u001b[0m\n\u001b[0m\u001b[1;32m    555\u001b[0m             \u001b[0moutput_mask\u001b[0m \u001b[0;34m=\u001b[0m \u001b[0mself\u001b[0m\u001b[0;34m.\u001b[0m\u001b[0mcompute_mask\u001b[0m\u001b[0;34m(\u001b[0m\u001b[0minputs\u001b[0m\u001b[0;34m,\u001b[0m \u001b[0mprevious_mask\u001b[0m\u001b[0;34m)\u001b[0m\u001b[0;34m\u001b[0m\u001b[0m\n\u001b[1;32m    556\u001b[0m \u001b[0;34m\u001b[0m\u001b[0m\n",
      "\u001b[0;32m/Users/asturkmani/anaconda3/lib/python3.5/site-packages/keras/layers/merge.py\u001b[0m in \u001b[0;36mcall\u001b[0;34m(self, inputs)\u001b[0m\n\u001b[1;32m    164\u001b[0m             raise ValueError('A `Concatenate` layer should be called '\n\u001b[1;32m    165\u001b[0m                              'on a list of inputs.')\n\u001b[0;32m--> 166\u001b[0;31m         \u001b[0;32mreturn\u001b[0m \u001b[0mK\u001b[0m\u001b[0;34m.\u001b[0m\u001b[0mconcatenate\u001b[0m\u001b[0;34m(\u001b[0m\u001b[0minputs\u001b[0m\u001b[0;34m,\u001b[0m \u001b[0maxis\u001b[0m\u001b[0;34m=\u001b[0m\u001b[0mself\u001b[0m\u001b[0;34m.\u001b[0m\u001b[0maxis\u001b[0m\u001b[0;34m)\u001b[0m\u001b[0;34m\u001b[0m\u001b[0m\n\u001b[0m\u001b[1;32m    167\u001b[0m \u001b[0;34m\u001b[0m\u001b[0m\n\u001b[1;32m    168\u001b[0m     \u001b[0;32mdef\u001b[0m \u001b[0mcompute_output_shape\u001b[0m\u001b[0;34m(\u001b[0m\u001b[0mself\u001b[0m\u001b[0;34m,\u001b[0m \u001b[0minput_shape\u001b[0m\u001b[0;34m)\u001b[0m\u001b[0;34m:\u001b[0m\u001b[0;34m\u001b[0m\u001b[0m\n",
      "\u001b[0;32m/Users/asturkmani/anaconda3/lib/python3.5/site-packages/keras/backend/tensorflow_backend.py\u001b[0m in \u001b[0;36mconcatenate\u001b[0;34m(tensors, axis)\u001b[0m\n\u001b[1;32m   1523\u001b[0m         \u001b[0;32mreturn\u001b[0m \u001b[0mtf\u001b[0m\u001b[0;34m.\u001b[0m\u001b[0msparse_concat\u001b[0m\u001b[0;34m(\u001b[0m\u001b[0maxis\u001b[0m\u001b[0;34m,\u001b[0m \u001b[0mtensors\u001b[0m\u001b[0;34m)\u001b[0m\u001b[0;34m\u001b[0m\u001b[0m\n\u001b[1;32m   1524\u001b[0m     \u001b[0;32melse\u001b[0m\u001b[0;34m:\u001b[0m\u001b[0;34m\u001b[0m\u001b[0m\n\u001b[0;32m-> 1525\u001b[0;31m         \u001b[0;32mreturn\u001b[0m \u001b[0mtf\u001b[0m\u001b[0;34m.\u001b[0m\u001b[0mconcat\u001b[0m\u001b[0;34m(\u001b[0m\u001b[0;34m[\u001b[0m\u001b[0mto_dense\u001b[0m\u001b[0;34m(\u001b[0m\u001b[0mx\u001b[0m\u001b[0;34m)\u001b[0m \u001b[0;32mfor\u001b[0m \u001b[0mx\u001b[0m \u001b[0;32min\u001b[0m \u001b[0mtensors\u001b[0m\u001b[0;34m]\u001b[0m\u001b[0;34m,\u001b[0m \u001b[0maxis\u001b[0m\u001b[0;34m)\u001b[0m\u001b[0;34m\u001b[0m\u001b[0m\n\u001b[0m\u001b[1;32m   1526\u001b[0m \u001b[0;34m\u001b[0m\u001b[0m\n\u001b[1;32m   1527\u001b[0m \u001b[0;34m\u001b[0m\u001b[0m\n",
      "\u001b[0;32m/Users/asturkmani/anaconda3/lib/python3.5/site-packages/tensorflow/python/ops/array_ops.py\u001b[0m in \u001b[0;36mconcat\u001b[0;34m(concat_dim, values, name)\u001b[0m\n\u001b[1;32m   1073\u001b[0m       ops.convert_to_tensor(concat_dim,\n\u001b[1;32m   1074\u001b[0m                             \u001b[0mname\u001b[0m\u001b[0;34m=\u001b[0m\u001b[0;34m\"concat_dim\"\u001b[0m\u001b[0;34m,\u001b[0m\u001b[0;34m\u001b[0m\u001b[0m\n\u001b[0;32m-> 1075\u001b[0;31m                             \u001b[0mdtype\u001b[0m\u001b[0;34m=\u001b[0m\u001b[0mdtypes\u001b[0m\u001b[0;34m.\u001b[0m\u001b[0mint32\u001b[0m\u001b[0;34m)\u001b[0m\u001b[0;34m.\u001b[0m\u001b[0mget_shape\u001b[0m\u001b[0;34m(\u001b[0m\u001b[0;34m\u001b[0m\u001b[0m\n\u001b[0m\u001b[1;32m   1076\u001b[0m                             ).assert_is_compatible_with(tensor_shape.scalar())\n\u001b[1;32m   1077\u001b[0m       \u001b[0;32mreturn\u001b[0m \u001b[0midentity\u001b[0m\u001b[0;34m(\u001b[0m\u001b[0mvalues\u001b[0m\u001b[0;34m[\u001b[0m\u001b[0;36m0\u001b[0m\u001b[0;34m]\u001b[0m\u001b[0;34m,\u001b[0m \u001b[0mname\u001b[0m\u001b[0;34m=\u001b[0m\u001b[0mscope\u001b[0m\u001b[0;34m)\u001b[0m\u001b[0;34m\u001b[0m\u001b[0m\n",
      "\u001b[0;32m/Users/asturkmani/anaconda3/lib/python3.5/site-packages/tensorflow/python/framework/ops.py\u001b[0m in \u001b[0;36mconvert_to_tensor\u001b[0;34m(value, dtype, name, as_ref, preferred_dtype)\u001b[0m\n\u001b[1;32m    667\u001b[0m \u001b[0;34m\u001b[0m\u001b[0m\n\u001b[1;32m    668\u001b[0m         \u001b[0;32mif\u001b[0m \u001b[0mret\u001b[0m \u001b[0;32mis\u001b[0m \u001b[0;32mNone\u001b[0m\u001b[0;34m:\u001b[0m\u001b[0;34m\u001b[0m\u001b[0m\n\u001b[0;32m--> 669\u001b[0;31m           \u001b[0mret\u001b[0m \u001b[0;34m=\u001b[0m \u001b[0mconversion_func\u001b[0m\u001b[0;34m(\u001b[0m\u001b[0mvalue\u001b[0m\u001b[0;34m,\u001b[0m \u001b[0mdtype\u001b[0m\u001b[0;34m=\u001b[0m\u001b[0mdtype\u001b[0m\u001b[0;34m,\u001b[0m \u001b[0mname\u001b[0m\u001b[0;34m=\u001b[0m\u001b[0mname\u001b[0m\u001b[0;34m,\u001b[0m \u001b[0mas_ref\u001b[0m\u001b[0;34m=\u001b[0m\u001b[0mas_ref\u001b[0m\u001b[0;34m)\u001b[0m\u001b[0;34m\u001b[0m\u001b[0m\n\u001b[0m\u001b[1;32m    670\u001b[0m \u001b[0;34m\u001b[0m\u001b[0m\n\u001b[1;32m    671\u001b[0m         \u001b[0;32mif\u001b[0m \u001b[0mret\u001b[0m \u001b[0;32mis\u001b[0m \u001b[0mNotImplemented\u001b[0m\u001b[0;34m:\u001b[0m\u001b[0;34m\u001b[0m\u001b[0m\n",
      "\u001b[0;32m/Users/asturkmani/anaconda3/lib/python3.5/site-packages/tensorflow/python/framework/constant_op.py\u001b[0m in \u001b[0;36m_constant_tensor_conversion_function\u001b[0;34m(v, dtype, name, as_ref)\u001b[0m\n\u001b[1;32m    174\u001b[0m                                          as_ref=False):\n\u001b[1;32m    175\u001b[0m   \u001b[0m_\u001b[0m \u001b[0;34m=\u001b[0m \u001b[0mas_ref\u001b[0m\u001b[0;34m\u001b[0m\u001b[0m\n\u001b[0;32m--> 176\u001b[0;31m   \u001b[0;32mreturn\u001b[0m \u001b[0mconstant\u001b[0m\u001b[0;34m(\u001b[0m\u001b[0mv\u001b[0m\u001b[0;34m,\u001b[0m \u001b[0mdtype\u001b[0m\u001b[0;34m=\u001b[0m\u001b[0mdtype\u001b[0m\u001b[0;34m,\u001b[0m \u001b[0mname\u001b[0m\u001b[0;34m=\u001b[0m\u001b[0mname\u001b[0m\u001b[0;34m)\u001b[0m\u001b[0;34m\u001b[0m\u001b[0m\n\u001b[0m\u001b[1;32m    177\u001b[0m \u001b[0;34m\u001b[0m\u001b[0m\n\u001b[1;32m    178\u001b[0m \u001b[0;34m\u001b[0m\u001b[0m\n",
      "\u001b[0;32m/Users/asturkmani/anaconda3/lib/python3.5/site-packages/tensorflow/python/framework/constant_op.py\u001b[0m in \u001b[0;36mconstant\u001b[0;34m(value, dtype, shape, name, verify_shape)\u001b[0m\n\u001b[1;32m    163\u001b[0m   \u001b[0mtensor_value\u001b[0m \u001b[0;34m=\u001b[0m \u001b[0mattr_value_pb2\u001b[0m\u001b[0;34m.\u001b[0m\u001b[0mAttrValue\u001b[0m\u001b[0;34m(\u001b[0m\u001b[0;34m)\u001b[0m\u001b[0;34m\u001b[0m\u001b[0m\n\u001b[1;32m    164\u001b[0m   tensor_value.tensor.CopyFrom(\n\u001b[0;32m--> 165\u001b[0;31m       tensor_util.make_tensor_proto(value, dtype=dtype, shape=shape, verify_shape=verify_shape))\n\u001b[0m\u001b[1;32m    166\u001b[0m   \u001b[0mdtype_value\u001b[0m \u001b[0;34m=\u001b[0m \u001b[0mattr_value_pb2\u001b[0m\u001b[0;34m.\u001b[0m\u001b[0mAttrValue\u001b[0m\u001b[0;34m(\u001b[0m\u001b[0mtype\u001b[0m\u001b[0;34m=\u001b[0m\u001b[0mtensor_value\u001b[0m\u001b[0;34m.\u001b[0m\u001b[0mtensor\u001b[0m\u001b[0;34m.\u001b[0m\u001b[0mdtype\u001b[0m\u001b[0;34m)\u001b[0m\u001b[0;34m\u001b[0m\u001b[0m\n\u001b[1;32m    167\u001b[0m   const_tensor = g.create_op(\n",
      "\u001b[0;32m/Users/asturkmani/anaconda3/lib/python3.5/site-packages/tensorflow/python/framework/tensor_util.py\u001b[0m in \u001b[0;36mmake_tensor_proto\u001b[0;34m(values, dtype, shape, verify_shape)\u001b[0m\n\u001b[1;32m    365\u001b[0m       \u001b[0mnparray\u001b[0m \u001b[0;34m=\u001b[0m \u001b[0mnp\u001b[0m\u001b[0;34m.\u001b[0m\u001b[0mempty\u001b[0m\u001b[0;34m(\u001b[0m\u001b[0mshape\u001b[0m\u001b[0;34m,\u001b[0m \u001b[0mdtype\u001b[0m\u001b[0;34m=\u001b[0m\u001b[0mnp_dt\u001b[0m\u001b[0;34m)\u001b[0m\u001b[0;34m\u001b[0m\u001b[0m\n\u001b[1;32m    366\u001b[0m     \u001b[0;32melse\u001b[0m\u001b[0;34m:\u001b[0m\u001b[0;34m\u001b[0m\u001b[0m\n\u001b[0;32m--> 367\u001b[0;31m       \u001b[0m_AssertCompatible\u001b[0m\u001b[0;34m(\u001b[0m\u001b[0mvalues\u001b[0m\u001b[0;34m,\u001b[0m \u001b[0mdtype\u001b[0m\u001b[0;34m)\u001b[0m\u001b[0;34m\u001b[0m\u001b[0m\n\u001b[0m\u001b[1;32m    368\u001b[0m       \u001b[0mnparray\u001b[0m \u001b[0;34m=\u001b[0m \u001b[0mnp\u001b[0m\u001b[0;34m.\u001b[0m\u001b[0marray\u001b[0m\u001b[0;34m(\u001b[0m\u001b[0mvalues\u001b[0m\u001b[0;34m,\u001b[0m \u001b[0mdtype\u001b[0m\u001b[0;34m=\u001b[0m\u001b[0mnp_dt\u001b[0m\u001b[0;34m)\u001b[0m\u001b[0;34m\u001b[0m\u001b[0m\n\u001b[1;32m    369\u001b[0m       \u001b[0;31m# check to them.\u001b[0m\u001b[0;34m\u001b[0m\u001b[0;34m\u001b[0m\u001b[0m\n",
      "\u001b[0;32m/Users/asturkmani/anaconda3/lib/python3.5/site-packages/tensorflow/python/framework/tensor_util.py\u001b[0m in \u001b[0;36m_AssertCompatible\u001b[0;34m(values, dtype)\u001b[0m\n\u001b[1;32m    300\u001b[0m     \u001b[0;32melse\u001b[0m\u001b[0;34m:\u001b[0m\u001b[0;34m\u001b[0m\u001b[0m\n\u001b[1;32m    301\u001b[0m       raise TypeError(\"Expected %s, got %s of type '%s' instead.\" %\n\u001b[0;32m--> 302\u001b[0;31m                       (dtype.name, repr(mismatch), type(mismatch).__name__))\n\u001b[0m\u001b[1;32m    303\u001b[0m \u001b[0;34m\u001b[0m\u001b[0m\n\u001b[1;32m    304\u001b[0m \u001b[0;34m\u001b[0m\u001b[0m\n",
      "\u001b[0;31mTypeError\u001b[0m: Expected int32, got list containing Tensors of type '_Message' instead."
     ]
    }
   ],
   "source": [
    "'''This script demonstrates how to build a variational autoencoder with Keras.\n",
    "Reference: \"Auto-Encoding Variational Bayes\" https://arxiv.org/abs/1312.6114\n",
    "'''\n",
    "import numpy as np\n",
    "import matplotlib.pyplot as plt\n",
    "from scipy.stats import norm\n",
    "\n",
    "from keras.layers import Input, Dense, Lambda, Layer\n",
    "from keras.models import Model\n",
    "from keras import backend as K\n",
    "from keras import metrics\n",
    "from keras.datasets import mnist\n",
    "\n",
    "batch_size = 100\n",
    "original_dim = 784\n",
    "latent_dim = 2\n",
    "intermediate_dim = 256\n",
    "epochs = 50\n",
    "epsilon_std = 1.0\n",
    "\n",
    "\n",
    "x = Input(batch_shape=(batch_size, original_dim))\n",
    "label = Input(batch_shape=(batch_size, 10))\n",
    "inputs = Concatenate()([x,label])\n",
    "h = Dense(intermediate_dim, activation='relu')(x)\n",
    "z_mean = Dense(latent_dim)(h)\n",
    "z_log_var = Dense(latent_dim)(h)\n",
    "\n",
    "\n",
    "def sampling(args):\n",
    "    z_mean, z_log_var = args\n",
    "    epsilon = K.random_normal(shape=(batch_size, latent_dim), mean=0.,\n",
    "                              stddev=epsilon_std)\n",
    "    return z_mean + K.exp(z_log_var / 2) * epsilon\n",
    "\n",
    "# note that \"output_shape\" isn't necessary with the TensorFlow backend\n",
    "z = Lambda(sampling, output_shape=(latent_dim,))([z_mean, z_log_var])\n",
    "# zc = Concatenate()([z,label])\n",
    "# we instantiate these layers separately so as to reuse them later\n",
    "decoder_h = Dense(intermediate_dim, activation='relu')\n",
    "decoder_mean = Dense(original_dim, activation='sigmoid')\n",
    "h_decoded = decoder_h(z)\n",
    "x_decoded_mean = decoder_mean(h_decoded)\n",
    "\n",
    "\n",
    "# Custom loss layer\n",
    "class CustomVariationalLayer(Layer):\n",
    "    def __init__(self, **kwargs):\n",
    "        self.is_placeholder = True\n",
    "        super(CustomVariationalLayer, self).__init__(**kwargs)\n",
    "\n",
    "    def vae_loss(self, x, x_decoded_mean):\n",
    "        xent_loss = original_dim * metrics.binary_crossentropy(x, x_decoded_mean)\n",
    "        kl_loss = - 0.5 * K.sum(1 + z_log_var - K.square(z_mean) - K.exp(z_log_var), axis=-1)\n",
    "        return K.mean(xent_loss + kl_loss)\n",
    "\n",
    "    def call(self, inputs):\n",
    "        x = inputs[0]\n",
    "        x_decoded_mean = inputs[1]\n",
    "        loss = self.vae_loss(x, x_decoded_mean)\n",
    "        self.add_loss(loss, inputs=inputs)\n",
    "        # We won't actually use the output.\n",
    "        return x\n",
    "\n",
    "y = CustomVariationalLayer()([x, x_decoded_mean])\n",
    "vae = Model([x], y)\n",
    "vae.compile(optimizer='adam', loss=None)\n",
    "\n",
    "\n",
    "# train the VAE on MNIST digits\n",
    "(x_train, y_train), (x_test, y_test) = mnist.load_data()\n",
    "y_train = to_categorical(y_train)\n",
    "y_test = to_categorical(y_test)\n",
    "\n",
    "x_train = x_train.astype('float32') / 255.\n",
    "x_test = x_test.astype('float32') / 255.\n",
    "x_train = x_train.reshape((len(x_train), np.prod(x_train.shape[1:])))\n",
    "x_test = x_test.reshape((len(x_test), np.prod(x_test.shape[1:])))\n",
    "\n",
    "vae.fit([x_train],\n",
    "        shuffle=True,\n",
    "        epochs=epochs,\n",
    "        batch_size=batch_size,\n",
    "        validation_data=([x_test], x_test),\n",
    "       callbacks=[EarlyStopping(patience=5)])\n",
    "\n",
    "# build a model to project inputs on the latent space\n",
    "encoder = Model(x, z_mean)\n",
    "\n",
    "(x_train, y_train), (x_test, y_test) = mnist.load_data()\n",
    "x_train = x_train.astype('float32') / 255.\n",
    "x_test = x_test.astype('float32') / 255.\n",
    "x_train = x_train.reshape((len(x_train), np.prod(x_train.shape[1:])))\n",
    "x_test = x_test.reshape((len(x_test), np.prod(x_test.shape[1:])))\n",
    "\n",
    "labels = to_categorical(y_test)\n",
    "# display a 2D plot of the digit classes in the latent space\n",
    "x_test_encoded = encoder.predict([x_test], batch_size=batch_size)\n",
    "fig = plt.figure(figsize=(15,7))\n",
    "x = x_test_encoded[:, 0]\n",
    "y = x_test_encoded[:, 1]\n",
    "x_max = max(abs(x))*1.1\n",
    "y_max = max(abs(y))*1.1\n",
    "sns.set_style(\"whitegrid\")\n",
    "plt.scatter(x=x, y=y, c=y_test, cmap='jet', s=50, edgecolors='black')\n",
    "plt.xlim([x_max, -x_max])\n",
    "plt.ylim([y_max, -y_max])\n",
    "plt.colorbar()\n",
    "# plt.autoscale()\n",
    "plt.tight_layout()\n",
    "plt.title('Latent Space')\n",
    "plt.xlabel('Z_X')\n",
    "plt.ylabel('Z_Y')\n",
    "plt.savefig('MNIST_VAE.png', format='png', dpi=1000)"
   ]
  },
  {
   "cell_type": "code",
   "execution_count": 4,
   "metadata": {
    "collapsed": true
   },
   "outputs": [],
   "source": [
    "filename = 'data.pickle'\n",
    "with open(filename, 'rb') as f:  # Python 3: open(..., 'rb')\n",
    "    data = pickle.load(f)\n",
    "        \n",
    "#Plot distribution of time across activity sorted by most popular\n",
    "ts_np1 = data.app_cdf[:25]\n",
    "x = np.arange(len(ts_np1))+1\n",
    "sns.set_style(\"whitegrid\")\n",
    "df = pd.DataFrame.from_dict({'x' : x, 'y' : ts_np1})\n",
    "fig = plt.figure(figsize=(15,10))\n",
    "ax = sns.barplot(x='x', y='y', data=df)\n",
    "plt.bar(x, ts_np1, alpha=1, color='blue')\n",
    "plt.ylabel(\"% total time\",fontsize = 20)\n",
    "plt.xlabel(\"Most time-consuming categories\",fontsize = 20)\n",
    "plt.title(\"Cumulative percentage of time spent\",fontsize = 20)\n",
    "plt.xticks(fontsize = 15)\n",
    "plt.yticks(fontsize = 15)\n",
    "plt.tight_layout()\n",
    "plt.savefig('../images/time_spent.png', format='png', dpi=1000)"
   ]
  },
  {
   "cell_type": "code",
   "execution_count": 2,
   "metadata": {},
   "outputs": [
    {
     "name": "stderr",
     "output_type": "stream",
     "text": [
      "/Users/asturkmani/Desktop/Thesis/utils.py:253: SettingWithCopyWarning: \n",
      "A value is trying to be set on a copy of a slice from a DataFrame.\n",
      "Try using .loc[row_indexer,col_indexer] = value instead\n",
      "\n",
      "See the caveats in the documentation: http://pandas.pydata.org/pandas-docs/stable/indexing.html#indexing-view-versus-copy\n",
      "  df['timestamp'] = pd.to_datetime(df['Date'])\n"
     ]
    },
    {
     "name": "stdout",
     "output_type": "stream",
     "text": [
      "(41178, 6, 1) (41178,) (41178, 6, 1) (41178,)\n"
     ]
    }
   ],
   "source": [
    "window_size = 6\n",
    "time_percentage = 0.9\n",
    "batch_size = 20\n",
    "data_ = make_clean_data(window_size, batch_size,multiplier=1, process=False)\n",
    "\n",
    "def sample_z(args):\n",
    "    mu, l_sigma = args\n",
    "    eps = K.random_normal(shape=(m, n_z), mean=0., stddev=1.)\n",
    "    return mu + K.exp(l_sigma / 2) * eps"
   ]
  },
  {
   "cell_type": "code",
   "execution_count": 3,
   "metadata": {},
   "outputs": [
    {
     "name": "stdout",
     "output_type": "stream",
     "text": [
      "Dataset size: (18280, 15) \n",
      "\n",
      "Number of apps that consume 90.0 % of all users time:  15 \n",
      "\n"
     ]
    }
   ],
   "source": [
    "time_spent = data_['dataset'].sum(axis=0)/data_['dataset'].sum()*100\n",
    "\n",
    "print(\"Dataset size:\", data_['yc'].shape,'\\n')\n",
    "print(\"Number of apps that consume\", time_percentage*100, \"% of all users time: \",len(data_['popular_apps']), '\\n')"
   ]
  },
  {
   "cell_type": "code",
   "execution_count": null,
   "metadata": {
    "collapsed": true
   },
   "outputs": [],
   "source": []
  },
  {
   "cell_type": "markdown",
   "metadata": {},
   "source": [
    "# Visualising the data through PCA\n",
    "Main components are:\n",
    "    1. Video\n",
    "    2. Software Development\n",
    "    3. Instant Messaging & Social Networking"
   ]
  },
  {
   "cell_type": "code",
   "execution_count": 4,
   "metadata": {
    "collapsed": true
   },
   "outputs": [],
   "source": [
    "data_pca = PCA(n_components=2, whiten=True)\n",
    "data_pca = data_pca.fit_transform(data_['yc'])"
   ]
  },
  {
   "cell_type": "code",
   "execution_count": 5,
   "metadata": {},
   "outputs": [
    {
     "data": {
      "text/html": [
       "<iframe id=\"igraph\" scrolling=\"no\" style=\"border:none;\" seamless=\"seamless\" src=\"https://plot.ly/~asturkmanics/69.embed\" height=\"525px\" width=\"100%\"></iframe>"
      ],
      "text/plain": [
       "<plotly.tools.PlotlyDisplay object>"
      ]
     },
     "execution_count": 5,
     "metadata": {},
     "output_type": "execute_result"
    }
   ],
   "source": [
    "x = data_pca[:,0]\n",
    "y = data_pca[:,1]\n",
    "t = ['<br>'.join(json.dumps(x).split(',')) for x in data_['y_labels']]\n",
    "\n",
    "trace1 = go.Scatter(\n",
    "    x=x,\n",
    "    y=y, \n",
    "    mode='markers',\n",
    "    marker=dict(color = data_['yc_colors'], opacity=0.8),\n",
    "    text = t\n",
    ")\n",
    "data = [trace1]\n",
    "layout = go.Layout(margin=dict(l=0,r=0,b=0,t=0))\n",
    "fig = go.Figure(data=data, layout=layout)\n",
    "py.iplot(fig, filename='PCA-Data')"
   ]
  },
  {
   "cell_type": "markdown",
   "metadata": {},
   "source": [
    "# Visualizing using Variational Autoencoder\n",
    "    1. PCA is limited in the information it can encode, i.e. 2D is very lossy. Also, it just shows the main modes of app usage.\n",
    "    2. A VAE will represent the latent generative space which is more interesting as it allows us to know which apps are related as they will be encoded close to each other in this generative space. More structure is prevalent in the z space"
   ]
  },
  {
   "cell_type": "code",
   "execution_count": 6,
   "metadata": {
    "collapsed": true
   },
   "outputs": [],
   "source": [
    "m = 20 # batch size\n",
    "n_z = 2 # latent space size\n",
    "encoder_dim1 = 10 # dim of encoder hidden layer\n",
    "decoder_dim = 10 # dim of decoder hidden layer\n",
    "decoder_out_dim = len(data_['popular_apps']) # dim of decoder output layer\n",
    "activ = 'relu'\n",
    "optim = Adam(lr=0.0005)\n",
    "\n",
    "\n",
    "n_x = len(data_['popular_apps'])\n",
    "# n_y = y_train.shape[1]\n",
    "\n",
    "\n",
    "n_epoch = 100"
   ]
  },
  {
   "cell_type": "code",
   "execution_count": 7,
   "metadata": {
    "collapsed": true
   },
   "outputs": [],
   "source": [
    "X = Input(shape=(n_x,), name='Input')\n",
    "# activity_regularizer = 'l2',\n",
    "encoder_h = Dense(encoder_dim1, activation=activ,  name='Encoder_H')(X)\n",
    "mu = Dense(n_z, activation='linear', name='mu')(encoder_h)\n",
    "l_sigma = Dense(n_z, activation='linear', name='l_sigma')(encoder_h)\n",
    "\n",
    "\n",
    "# Sampling latent space\n",
    "z = Lambda(sample_z, output_shape = (n_z, ), name='Sampling')([mu, l_sigma])\n",
    "\n",
    "decoder_hidden = Dense(decoder_dim, activation=activ, name='Decoder_H')\n",
    "decoder_out = Dense(decoder_out_dim, activation='sigmoid', name='Output')\n",
    "h_p = decoder_hidden(z)\n",
    "outputs = decoder_out(h_p)\n",
    "\n",
    "def vae_loss(y_true, y_pred):\n",
    "    recon = K.sum(K.binary_crossentropy(y_pred, y_true), axis=1)\n",
    "    kl = 0.5 * K.sum(K.exp(l_sigma) + K.square(mu) - 1. - l_sigma, axis=1)\n",
    "    return recon + kl\n",
    "\n",
    "def KL_loss(y_true, y_pred):\n",
    "    return(0.5 * K.sum(K.exp(l_sigma) + K.square(mu) - 1. - l_sigma, axis=1))\n",
    "\n",
    "def recon_loss(y_true, y_pred):\n",
    "    return(K.sum(K.binary_crossentropy(y_pred, y_true), axis=1))\n",
    "\n",
    "# build a model to project inputs on the latent space\n",
    "vae = Model(X, outputs)\n",
    "print(vae.summary())"
   ]
  },
  {
   "cell_type": "code",
   "execution_count": 8,
   "metadata": {},
   "outputs": [
    {
     "data": {
      "image/svg+xml": [
       "<svg height=\"470pt\" viewBox=\"0.00 0.00 563.50 470.00\" width=\"564pt\" xmlns=\"http://www.w3.org/2000/svg\" xmlns:xlink=\"http://www.w3.org/1999/xlink\">\n",
       "<g class=\"graph\" id=\"graph0\" transform=\"scale(1 1) rotate(0) translate(4 466)\">\n",
       "<title>G</title>\n",
       "<polygon fill=\"white\" points=\"-4,4 -4,-466 559.5,-466 559.5,4 -4,4\" stroke=\"none\"/>\n",
       "<!-- 140153497522528 -->\n",
       "<g class=\"node\" id=\"node1\"><title>140153497522528</title>\n",
       "<polygon fill=\"none\" points=\"116.5,-415.5 116.5,-461.5 421.5,-461.5 421.5,-415.5 116.5,-415.5\" stroke=\"black\"/>\n",
       "<text font-family=\"Times,serif\" font-size=\"14.00\" text-anchor=\"middle\" x=\"189\" y=\"-434.8\">Input: InputLayer</text>\n",
       "<polyline fill=\"none\" points=\"261.5,-415.5 261.5,-461.5 \" stroke=\"black\"/>\n",
       "<text font-family=\"Times,serif\" font-size=\"14.00\" text-anchor=\"middle\" x=\"295.5\" y=\"-446.3\">input:</text>\n",
       "<polyline fill=\"none\" points=\"261.5,-438.5 329.5,-438.5 \" stroke=\"black\"/>\n",
       "<text font-family=\"Times,serif\" font-size=\"14.00\" text-anchor=\"middle\" x=\"295.5\" y=\"-423.3\">output:</text>\n",
       "<polyline fill=\"none\" points=\"329.5,-415.5 329.5,-461.5 \" stroke=\"black\"/>\n",
       "<text font-family=\"Times,serif\" font-size=\"14.00\" text-anchor=\"middle\" x=\"375.5\" y=\"-446.3\">(None, 15)</text>\n",
       "<polyline fill=\"none\" points=\"329.5,-438.5 421.5,-438.5 \" stroke=\"black\"/>\n",
       "<text font-family=\"Times,serif\" font-size=\"14.00\" text-anchor=\"middle\" x=\"375.5\" y=\"-423.3\">(None, 15)</text>\n",
       "</g>\n",
       "<!-- 140153497522640 -->\n",
       "<g class=\"node\" id=\"node2\"><title>140153497522640</title>\n",
       "<polygon fill=\"none\" points=\"114,-332.5 114,-378.5 424,-378.5 424,-332.5 114,-332.5\" stroke=\"black\"/>\n",
       "<text font-family=\"Times,serif\" font-size=\"14.00\" text-anchor=\"middle\" x=\"189\" y=\"-351.8\">Encoder_H: Dense</text>\n",
       "<polyline fill=\"none\" points=\"264,-332.5 264,-378.5 \" stroke=\"black\"/>\n",
       "<text font-family=\"Times,serif\" font-size=\"14.00\" text-anchor=\"middle\" x=\"298\" y=\"-363.3\">input:</text>\n",
       "<polyline fill=\"none\" points=\"264,-355.5 332,-355.5 \" stroke=\"black\"/>\n",
       "<text font-family=\"Times,serif\" font-size=\"14.00\" text-anchor=\"middle\" x=\"298\" y=\"-340.3\">output:</text>\n",
       "<polyline fill=\"none\" points=\"332,-332.5 332,-378.5 \" stroke=\"black\"/>\n",
       "<text font-family=\"Times,serif\" font-size=\"14.00\" text-anchor=\"middle\" x=\"378\" y=\"-363.3\">(None, 15)</text>\n",
       "<polyline fill=\"none\" points=\"332,-355.5 424,-355.5 \" stroke=\"black\"/>\n",
       "<text font-family=\"Times,serif\" font-size=\"14.00\" text-anchor=\"middle\" x=\"378\" y=\"-340.3\">(None, 10)</text>\n",
       "</g>\n",
       "<!-- 140153497522528&#45;&gt;140153497522640 -->\n",
       "<g class=\"edge\" id=\"edge1\"><title>140153497522528-&gt;140153497522640</title>\n",
       "<path d=\"M269,-415.366C269,-407.152 269,-397.658 269,-388.725\" fill=\"none\" stroke=\"black\"/>\n",
       "<polygon fill=\"black\" points=\"272.5,-388.607 269,-378.607 265.5,-388.607 272.5,-388.607\" stroke=\"black\"/>\n",
       "</g>\n",
       "<!-- 140154710489128 -->\n",
       "<g class=\"node\" id=\"node3\"><title>140154710489128</title>\n",
       "<polygon fill=\"none\" points=\"0,-249.5 0,-295.5 252,-295.5 252,-249.5 0,-249.5\" stroke=\"black\"/>\n",
       "<text font-family=\"Times,serif\" font-size=\"14.00\" text-anchor=\"middle\" x=\"46\" y=\"-268.8\">mu: Dense</text>\n",
       "<polyline fill=\"none\" points=\"92,-249.5 92,-295.5 \" stroke=\"black\"/>\n",
       "<text font-family=\"Times,serif\" font-size=\"14.00\" text-anchor=\"middle\" x=\"126\" y=\"-280.3\">input:</text>\n",
       "<polyline fill=\"none\" points=\"92,-272.5 160,-272.5 \" stroke=\"black\"/>\n",
       "<text font-family=\"Times,serif\" font-size=\"14.00\" text-anchor=\"middle\" x=\"126\" y=\"-257.3\">output:</text>\n",
       "<polyline fill=\"none\" points=\"160,-249.5 160,-295.5 \" stroke=\"black\"/>\n",
       "<text font-family=\"Times,serif\" font-size=\"14.00\" text-anchor=\"middle\" x=\"206\" y=\"-280.3\">(None, 10)</text>\n",
       "<polyline fill=\"none\" points=\"160,-272.5 252,-272.5 \" stroke=\"black\"/>\n",
       "<text font-family=\"Times,serif\" font-size=\"14.00\" text-anchor=\"middle\" x=\"206\" y=\"-257.3\">(None, 2)</text>\n",
       "</g>\n",
       "<!-- 140153497522640&#45;&gt;140154710489128 -->\n",
       "<g class=\"edge\" id=\"edge2\"><title>140153497522640-&gt;140154710489128</title>\n",
       "<path d=\"M229.925,-332.366C212.585,-322.544 192.017,-310.894 173.773,-300.56\" fill=\"none\" stroke=\"black\"/>\n",
       "<polygon fill=\"black\" points=\"175.454,-297.49 165.028,-295.607 172.004,-303.581 175.454,-297.49\" stroke=\"black\"/>\n",
       "</g>\n",
       "<!-- 140153497517192 -->\n",
       "<g class=\"node\" id=\"node4\"><title>140153497517192</title>\n",
       "<polygon fill=\"none\" points=\"270.5,-249.5 270.5,-295.5 555.5,-295.5 555.5,-249.5 270.5,-249.5\" stroke=\"black\"/>\n",
       "<text font-family=\"Times,serif\" font-size=\"14.00\" text-anchor=\"middle\" x=\"333\" y=\"-268.8\">l_sigma: Dense</text>\n",
       "<polyline fill=\"none\" points=\"395.5,-249.5 395.5,-295.5 \" stroke=\"black\"/>\n",
       "<text font-family=\"Times,serif\" font-size=\"14.00\" text-anchor=\"middle\" x=\"429.5\" y=\"-280.3\">input:</text>\n",
       "<polyline fill=\"none\" points=\"395.5,-272.5 463.5,-272.5 \" stroke=\"black\"/>\n",
       "<text font-family=\"Times,serif\" font-size=\"14.00\" text-anchor=\"middle\" x=\"429.5\" y=\"-257.3\">output:</text>\n",
       "<polyline fill=\"none\" points=\"463.5,-249.5 463.5,-295.5 \" stroke=\"black\"/>\n",
       "<text font-family=\"Times,serif\" font-size=\"14.00\" text-anchor=\"middle\" x=\"509.5\" y=\"-280.3\">(None, 10)</text>\n",
       "<polyline fill=\"none\" points=\"463.5,-272.5 555.5,-272.5 \" stroke=\"black\"/>\n",
       "<text font-family=\"Times,serif\" font-size=\"14.00\" text-anchor=\"middle\" x=\"509.5\" y=\"-257.3\">(None, 2)</text>\n",
       "</g>\n",
       "<!-- 140153497522640&#45;&gt;140153497517192 -->\n",
       "<g class=\"edge\" id=\"edge3\"><title>140153497522640-&gt;140153497517192</title>\n",
       "<path d=\"M308.349,-332.366C325.81,-322.544 346.522,-310.894 364.893,-300.56\" fill=\"none\" stroke=\"black\"/>\n",
       "<polygon fill=\"black\" points=\"366.699,-303.56 373.699,-295.607 363.267,-297.459 366.699,-303.56\" stroke=\"black\"/>\n",
       "</g>\n",
       "<!-- 140153497522752 -->\n",
       "<g class=\"node\" id=\"node5\"><title>140153497522752</title>\n",
       "<polygon fill=\"none\" points=\"75,-166.5 75,-212.5 463,-212.5 463,-166.5 75,-166.5\" stroke=\"black\"/>\n",
       "<text font-family=\"Times,serif\" font-size=\"14.00\" text-anchor=\"middle\" x=\"150\" y=\"-185.8\">Sampling: Lambda</text>\n",
       "<polyline fill=\"none\" points=\"225,-166.5 225,-212.5 \" stroke=\"black\"/>\n",
       "<text font-family=\"Times,serif\" font-size=\"14.00\" text-anchor=\"middle\" x=\"259\" y=\"-197.3\">input:</text>\n",
       "<polyline fill=\"none\" points=\"225,-189.5 293,-189.5 \" stroke=\"black\"/>\n",
       "<text font-family=\"Times,serif\" font-size=\"14.00\" text-anchor=\"middle\" x=\"259\" y=\"-174.3\">output:</text>\n",
       "<polyline fill=\"none\" points=\"293,-166.5 293,-212.5 \" stroke=\"black\"/>\n",
       "<text font-family=\"Times,serif\" font-size=\"14.00\" text-anchor=\"middle\" x=\"378\" y=\"-197.3\">[(None, 2), (None, 2)]</text>\n",
       "<polyline fill=\"none\" points=\"293,-189.5 463,-189.5 \" stroke=\"black\"/>\n",
       "<text font-family=\"Times,serif\" font-size=\"14.00\" text-anchor=\"middle\" x=\"378\" y=\"-174.3\">(None, 2)</text>\n",
       "</g>\n",
       "<!-- 140154710489128&#45;&gt;140153497522752 -->\n",
       "<g class=\"edge\" id=\"edge4\"><title>140154710489128-&gt;140153497522752</title>\n",
       "<path d=\"M165.075,-249.366C182.415,-239.544 202.983,-227.894 221.227,-217.56\" fill=\"none\" stroke=\"black\"/>\n",
       "<polygon fill=\"black\" points=\"222.996,-220.581 229.972,-212.607 219.546,-214.49 222.996,-220.581\" stroke=\"black\"/>\n",
       "</g>\n",
       "<!-- 140153497517192&#45;&gt;140153497522752 -->\n",
       "<g class=\"edge\" id=\"edge5\"><title>140153497517192-&gt;140153497522752</title>\n",
       "<path d=\"M373.651,-249.366C356.19,-239.544 335.478,-227.894 317.107,-217.56\" fill=\"none\" stroke=\"black\"/>\n",
       "<polygon fill=\"black\" points=\"318.733,-214.459 308.301,-212.607 315.301,-220.56 318.733,-214.459\" stroke=\"black\"/>\n",
       "</g>\n",
       "<!-- 140156192702536 -->\n",
       "<g class=\"node\" id=\"node6\"><title>140156192702536</title>\n",
       "<polygon fill=\"none\" points=\"114,-83.5 114,-129.5 424,-129.5 424,-83.5 114,-83.5\" stroke=\"black\"/>\n",
       "<text font-family=\"Times,serif\" font-size=\"14.00\" text-anchor=\"middle\" x=\"189\" y=\"-102.8\">Decoder_H: Dense</text>\n",
       "<polyline fill=\"none\" points=\"264,-83.5 264,-129.5 \" stroke=\"black\"/>\n",
       "<text font-family=\"Times,serif\" font-size=\"14.00\" text-anchor=\"middle\" x=\"298\" y=\"-114.3\">input:</text>\n",
       "<polyline fill=\"none\" points=\"264,-106.5 332,-106.5 \" stroke=\"black\"/>\n",
       "<text font-family=\"Times,serif\" font-size=\"14.00\" text-anchor=\"middle\" x=\"298\" y=\"-91.3\">output:</text>\n",
       "<polyline fill=\"none\" points=\"332,-83.5 332,-129.5 \" stroke=\"black\"/>\n",
       "<text font-family=\"Times,serif\" font-size=\"14.00\" text-anchor=\"middle\" x=\"378\" y=\"-114.3\">(None, 2)</text>\n",
       "<polyline fill=\"none\" points=\"332,-106.5 424,-106.5 \" stroke=\"black\"/>\n",
       "<text font-family=\"Times,serif\" font-size=\"14.00\" text-anchor=\"middle\" x=\"378\" y=\"-91.3\">(None, 10)</text>\n",
       "</g>\n",
       "<!-- 140153497522752&#45;&gt;140156192702536 -->\n",
       "<g class=\"edge\" id=\"edge6\"><title>140153497522752-&gt;140156192702536</title>\n",
       "<path d=\"M269,-166.366C269,-158.152 269,-148.658 269,-139.725\" fill=\"none\" stroke=\"black\"/>\n",
       "<polygon fill=\"black\" points=\"272.5,-139.607 269,-129.607 265.5,-139.607 272.5,-139.607\" stroke=\"black\"/>\n",
       "</g>\n",
       "<!-- 140156192702816 -->\n",
       "<g class=\"node\" id=\"node7\"><title>140156192702816</title>\n",
       "<polygon fill=\"none\" points=\"129,-0.5 129,-46.5 409,-46.5 409,-0.5 129,-0.5\" stroke=\"black\"/>\n",
       "<text font-family=\"Times,serif\" font-size=\"14.00\" text-anchor=\"middle\" x=\"189\" y=\"-19.8\">Output: Dense</text>\n",
       "<polyline fill=\"none\" points=\"249,-0.5 249,-46.5 \" stroke=\"black\"/>\n",
       "<text font-family=\"Times,serif\" font-size=\"14.00\" text-anchor=\"middle\" x=\"283\" y=\"-31.3\">input:</text>\n",
       "<polyline fill=\"none\" points=\"249,-23.5 317,-23.5 \" stroke=\"black\"/>\n",
       "<text font-family=\"Times,serif\" font-size=\"14.00\" text-anchor=\"middle\" x=\"283\" y=\"-8.3\">output:</text>\n",
       "<polyline fill=\"none\" points=\"317,-0.5 317,-46.5 \" stroke=\"black\"/>\n",
       "<text font-family=\"Times,serif\" font-size=\"14.00\" text-anchor=\"middle\" x=\"363\" y=\"-31.3\">(None, 10)</text>\n",
       "<polyline fill=\"none\" points=\"317,-23.5 409,-23.5 \" stroke=\"black\"/>\n",
       "<text font-family=\"Times,serif\" font-size=\"14.00\" text-anchor=\"middle\" x=\"363\" y=\"-8.3\">(None, 15)</text>\n",
       "</g>\n",
       "<!-- 140156192702536&#45;&gt;140156192702816 -->\n",
       "<g class=\"edge\" id=\"edge7\"><title>140156192702536-&gt;140156192702816</title>\n",
       "<path d=\"M269,-83.3664C269,-75.1516 269,-65.6579 269,-56.7252\" fill=\"none\" stroke=\"black\"/>\n",
       "<polygon fill=\"black\" points=\"272.5,-56.6068 269,-46.6068 265.5,-56.6069 272.5,-56.6068\" stroke=\"black\"/>\n",
       "</g>\n",
       "</g>\n",
       "</svg>"
      ],
      "text/plain": [
       "<IPython.core.display.SVG object>"
      ]
     },
     "execution_count": 8,
     "metadata": {},
     "output_type": "execute_result"
    }
   ],
   "source": [
    "SVG(model_to_dot(vae, show_shapes=True, show_layer_names=True).create(prog='dot', format='svg'))"
   ]
  },
  {
   "cell_type": "code",
   "execution_count": 9,
   "metadata": {
    "collapsed": true
   },
   "outputs": [],
   "source": [
    "# Build Encoder and Generator models\n",
    "\n",
    "# Generator, from latent space to reconstructed inputs\n",
    "decoder_input = Input(shape=(n_z,))\n",
    "_h_decoded = decoder_hidden(decoder_input)\n",
    "_x_decoded_mean = decoder_out(_h_decoded)\n",
    "generator = Model(decoder_input, _x_decoded_mean)\n",
    "\n",
    "encoder = Model(X, mu)"
   ]
  },
  {
   "cell_type": "code",
   "execution_count": 10,
   "metadata": {
    "collapsed": true
   },
   "outputs": [],
   "source": [
    "vae.compile(optimizer=optim,\n",
    "            loss=vae_loss,\n",
    "            metrics = [KL_loss, recon_loss])"
   ]
  },
  {
   "cell_type": "code",
   "execution_count": 11,
   "metadata": {},
   "outputs": [
    {
     "data": {
      "application/vnd.jupyter.widget-view+json": {
       "model_id": "32d6684f7d0f403480c1a9a37aa9b5c1"
      }
     },
     "metadata": {},
     "output_type": "display_data"
    },
    {
     "data": {
      "application/vnd.jupyter.widget-view+json": {
       "model_id": "6c8282d9d6b14b72be23744297f1dca3"
      }
     },
     "metadata": {},
     "output_type": "display_data"
    },
    {
     "data": {
      "application/vnd.jupyter.widget-view+json": {
       "model_id": "98cf37fb3c484b0bb8330baab3ec5ef6"
      }
     },
     "metadata": {},
     "output_type": "display_data"
    },
    {
     "data": {
      "application/vnd.jupyter.widget-view+json": {
       "model_id": "94cd122d1d9c45978558362f8eec1ee9"
      }
     },
     "metadata": {},
     "output_type": "display_data"
    },
    {
     "data": {
      "application/vnd.jupyter.widget-view+json": {
       "model_id": "6f41ce9452e34280a6448687865d9d37"
      }
     },
     "metadata": {},
     "output_type": "display_data"
    },
    {
     "data": {
      "application/vnd.jupyter.widget-view+json": {
       "model_id": "00d0ac352310481989a883402d58452d"
      }
     },
     "metadata": {},
     "output_type": "display_data"
    },
    {
     "data": {
      "application/vnd.jupyter.widget-view+json": {
       "model_id": "00028b063a0a4139bf1feb4d1df53d01"
      }
     },
     "metadata": {},
     "output_type": "display_data"
    },
    {
     "data": {
      "application/vnd.jupyter.widget-view+json": {
       "model_id": "193a1efbdd384878a5deef8c1b116923"
      }
     },
     "metadata": {},
     "output_type": "display_data"
    },
    {
     "data": {
      "application/vnd.jupyter.widget-view+json": {
       "model_id": "7cccfcca757c4819925c5aa6140c1c65"
      }
     },
     "metadata": {},
     "output_type": "display_data"
    },
    {
     "name": "stdout",
     "output_type": "stream",
     "text": [
      "\n"
     ]
    }
   ],
   "source": [
    "vae_hist = vae.fit(data_['y_train_c'], \n",
    "                   data_['y_train_c'],\n",
    "                   verbose = 0,\n",
    "                   shuffle=False,\n",
    "                   batch_size=m,\n",
    "                   epochs=n_epoch,\n",
    "                   validation_data = (\n",
    "                       data_['y_test_c'],\n",
    "                       data_['y_test_c']),\n",
    "                   callbacks = [\n",
    "                       EarlyStopping(patience = 5),\n",
    "                       TQDMNotebookCallback(metric_format=\"{name}: {value:0.4f}\",\n",
    "                                                              leave_outer=True,\n",
    "                                                              leave_inner=True)]\n",
    "                  )"
   ]
  },
  {
   "cell_type": "markdown",
   "metadata": {
    "collapsed": true
   },
   "source": [
    "### Viewing the latent space on entire dataset:"
   ]
  },
  {
   "cell_type": "code",
   "execution_count": 12,
   "metadata": {},
   "outputs": [
    {
     "name": "stdout",
     "output_type": "stream",
     "text": [
      "(18280, 2)\n"
     ]
    }
   ],
   "source": [
    "z_train = encoder.predict(data_['yc'])\n",
    "encodings= np.asarray(z_train)\n",
    "encodings = encodings.reshape(data_['yc'].shape[0], n_z)\n",
    "print(encodings.shape)"
   ]
  },
  {
   "cell_type": "code",
   "execution_count": 13,
   "metadata": {},
   "outputs": [
    {
     "data": {
      "text/html": [
       "<iframe id=\"igraph\" scrolling=\"no\" style=\"border:none;\" seamless=\"seamless\" src=\"https://plot.ly/~asturkmanics/71.embed\" height=\"525px\" width=\"100%\"></iframe>"
      ],
      "text/plain": [
       "<plotly.tools.PlotlyDisplay object>"
      ]
     },
     "execution_count": 13,
     "metadata": {},
     "output_type": "execute_result"
    }
   ],
   "source": [
    "x = encodings[:,0]\n",
    "y = encodings[:,1]\n",
    "t = ['<br>'.join(json.dumps(x).split(',')) for x in data_['y_labels']]\n",
    "\n",
    "trace1 = go.Scatter(\n",
    "    x=x,\n",
    "    y=y, \n",
    "    mode='markers',\n",
    "    marker=dict(color = data_['yc_colors'], opacity=0.8),\n",
    "    text = t\n",
    ")\n",
    "data = [trace1]\n",
    "layout = go.Layout(margin=dict(l=0,r=0,b=0,t=0))\n",
    "fig = go.Figure(data=data, layout=layout)\n",
    "py.iplot(fig, filename='VAE-Data')\n",
    "\n",
    "# plt.figure(figsize=(7, 7))\n",
    "# plt.scatter(encodings[:, 0], encodings[:, 1], c=data_['yc_colors'])\n",
    "# plt.show()"
   ]
  },
  {
   "cell_type": "markdown",
   "metadata": {
    "collapsed": true
   },
   "source": [
    "# Conditional VAE"
   ]
  },
  {
   "cell_type": "markdown",
   "metadata": {},
   "source": [
    "### Condition VAE on Time"
   ]
  },
  {
   "cell_type": "code",
   "execution_count": 36,
   "metadata": {
    "collapsed": true
   },
   "outputs": [],
   "source": [
    "m = 20 # batch size\n",
    "n_z = 2 # latent space size\n",
    "encoder_dim1 = 10 # dim of encoder hidden layer\n",
    "decoder_dim = 10 # dim of decoder hidden layer\n",
    "decoder_out_dim = len(data_['popular_apps']) # dim of decoder output layer\n",
    "activ = 'relu'\n",
    "optim = Adam(lr=0.0005)\n",
    "\n",
    "\n",
    "n_x = len(data_['popular_apps'])\n",
    "n_y = data_['time']\n",
    "\n",
    "\n",
    "n_epoch = 100"
   ]
  },
  {
   "cell_type": "code",
   "execution_count": 47,
   "metadata": {
    "collapsed": true
   },
   "outputs": [],
   "source": [
    "X = Input(shape=(n_x,), name='Input')\n",
    "label = Input(shape=(n_y,), name='Time')\n",
    "inputs = Concatenate()([X, label])\n",
    "\n",
    "encoder_h = Dense(encoder_dim1, activation=activ, name='Encoder_H')(inputs)\n",
    "mu = Dense(n_z, activation='linear', name='mu')(encoder_h)\n",
    "l_sigma = Dense(n_z, activation='linear', name='l_sigma')(encoder_h)\n",
    "\n",
    "\n",
    "# Sampling latent space\n",
    "z = Lambda(sample_z, output_shape = (n_z, ), name='Sampling')([mu, l_sigma])\n",
    "zc = Concatenate()([z, label])\n",
    "\n",
    "decoder_hidden = Dense(decoder_dim, activation=activ, name='Decoder_H')\n",
    "decoder_out = Dense(decoder_out_dim, activation='sigmoid', name='Output')\n",
    "h_p = decoder_hidden(zc)\n",
    "outputs = decoder_out(h_p)\n",
    "\n",
    "def vae_loss(y_true, y_pred):\n",
    "    recon = K.sum(K.binary_crossentropy(y_pred, y_true), axis=1)\n",
    "    kl = 0.5 * K.sum(K.exp(l_sigma) + K.square(mu) - 1. - l_sigma, axis=1)\n",
    "    return recon + kl\n",
    "\n",
    "def KL_loss(y_true, y_pred):\n",
    "    return(0.5 * K.sum(K.exp(l_sigma) + K.square(mu) - 1. - l_sigma, axis=1))\n",
    "\n",
    "def recon_loss(y_true, y_pred):\n",
    "    return(K.sum(K.binary_crossentropy(y_pred, y_true), axis=1))\n",
    "\n",
    "# build a model to project inputs on the latent space\n",
    "c_t_vae = Model([X, label], outputs)\n",
    "encoder_t = Model([X, label], mu)\n",
    "\n",
    "d_in = Input(shape=(n_z+n_y,))\n",
    "d_h = decoder_hidden(d_in)\n",
    "d_out = decoder_out(d_h)\n",
    "decoder_t = Model(d_in, d_out)\n",
    "\n",
    "print(c_t_vae.summary())"
   ]
  },
  {
   "cell_type": "code",
   "execution_count": 38,
   "metadata": {},
   "outputs": [
    {
     "data": {
      "image/svg+xml": [
       "<svg height=\"636pt\" viewBox=\"0.00 0.00 767.50 636.00\" width=\"768pt\" xmlns=\"http://www.w3.org/2000/svg\" xmlns:xlink=\"http://www.w3.org/1999/xlink\">\n",
       "<g class=\"graph\" id=\"graph0\" transform=\"scale(1 1) rotate(0) translate(4 632)\">\n",
       "<title>G</title>\n",
       "<polygon fill=\"white\" points=\"-4,4 -4,-632 763.5,-632 763.5,4 -4,4\" stroke=\"none\"/>\n",
       "<!-- 140152368364512 -->\n",
       "<g class=\"node\" id=\"node1\"><title>140152368364512</title>\n",
       "<polygon fill=\"none\" points=\"135.5,-581.5 135.5,-627.5 440.5,-627.5 440.5,-581.5 135.5,-581.5\" stroke=\"black\"/>\n",
       "<text font-family=\"Times,serif\" font-size=\"14.00\" text-anchor=\"middle\" x=\"208\" y=\"-600.8\">Input: InputLayer</text>\n",
       "<polyline fill=\"none\" points=\"280.5,-581.5 280.5,-627.5 \" stroke=\"black\"/>\n",
       "<text font-family=\"Times,serif\" font-size=\"14.00\" text-anchor=\"middle\" x=\"314.5\" y=\"-612.3\">input:</text>\n",
       "<polyline fill=\"none\" points=\"280.5,-604.5 348.5,-604.5 \" stroke=\"black\"/>\n",
       "<text font-family=\"Times,serif\" font-size=\"14.00\" text-anchor=\"middle\" x=\"314.5\" y=\"-589.3\">output:</text>\n",
       "<polyline fill=\"none\" points=\"348.5,-581.5 348.5,-627.5 \" stroke=\"black\"/>\n",
       "<text font-family=\"Times,serif\" font-size=\"14.00\" text-anchor=\"middle\" x=\"394.5\" y=\"-612.3\">(None, 15)</text>\n",
       "<polyline fill=\"none\" points=\"348.5,-604.5 440.5,-604.5 \" stroke=\"black\"/>\n",
       "<text font-family=\"Times,serif\" font-size=\"14.00\" text-anchor=\"middle\" x=\"394.5\" y=\"-589.3\">(None, 15)</text>\n",
       "</g>\n",
       "<!-- 140152368365520 -->\n",
       "<g class=\"node\" id=\"node3\"><title>140152368365520</title>\n",
       "<polygon fill=\"none\" points=\"76.5,-498.5 76.5,-544.5 553.5,-544.5 553.5,-498.5 76.5,-498.5\" stroke=\"black\"/>\n",
       "<text font-family=\"Times,serif\" font-size=\"14.00\" text-anchor=\"middle\" x=\"187\" y=\"-517.8\">concatenate_7: Concatenate</text>\n",
       "<polyline fill=\"none\" points=\"297.5,-498.5 297.5,-544.5 \" stroke=\"black\"/>\n",
       "<text font-family=\"Times,serif\" font-size=\"14.00\" text-anchor=\"middle\" x=\"331.5\" y=\"-529.3\">input:</text>\n",
       "<polyline fill=\"none\" points=\"297.5,-521.5 365.5,-521.5 \" stroke=\"black\"/>\n",
       "<text font-family=\"Times,serif\" font-size=\"14.00\" text-anchor=\"middle\" x=\"331.5\" y=\"-506.3\">output:</text>\n",
       "<polyline fill=\"none\" points=\"365.5,-498.5 365.5,-544.5 \" stroke=\"black\"/>\n",
       "<text font-family=\"Times,serif\" font-size=\"14.00\" text-anchor=\"middle\" x=\"459.5\" y=\"-529.3\">[(None, 15), (None, 24)]</text>\n",
       "<polyline fill=\"none\" points=\"365.5,-521.5 553.5,-521.5 \" stroke=\"black\"/>\n",
       "<text font-family=\"Times,serif\" font-size=\"14.00\" text-anchor=\"middle\" x=\"459.5\" y=\"-506.3\">(None, 39)</text>\n",
       "</g>\n",
       "<!-- 140152368364512&#45;&gt;140152368365520 -->\n",
       "<g class=\"edge\" id=\"edge1\"><title>140152368364512-&gt;140152368365520</title>\n",
       "<path d=\"M295.378,-581.366C298.176,-572.973 301.418,-563.245 304.452,-554.143\" fill=\"none\" stroke=\"black\"/>\n",
       "<polygon fill=\"black\" points=\"307.789,-555.201 307.631,-544.607 301.148,-552.987 307.789,-555.201\" stroke=\"black\"/>\n",
       "</g>\n",
       "<!-- 140152368364792 -->\n",
       "<g class=\"node\" id=\"node2\"><title>140152368364792</title>\n",
       "<polygon fill=\"none\" points=\"458.5,-581.5 458.5,-627.5 759.5,-627.5 759.5,-581.5 458.5,-581.5\" stroke=\"black\"/>\n",
       "<text font-family=\"Times,serif\" font-size=\"14.00\" text-anchor=\"middle\" x=\"529\" y=\"-600.8\">Time: InputLayer</text>\n",
       "<polyline fill=\"none\" points=\"599.5,-581.5 599.5,-627.5 \" stroke=\"black\"/>\n",
       "<text font-family=\"Times,serif\" font-size=\"14.00\" text-anchor=\"middle\" x=\"633.5\" y=\"-612.3\">input:</text>\n",
       "<polyline fill=\"none\" points=\"599.5,-604.5 667.5,-604.5 \" stroke=\"black\"/>\n",
       "<text font-family=\"Times,serif\" font-size=\"14.00\" text-anchor=\"middle\" x=\"633.5\" y=\"-589.3\">output:</text>\n",
       "<polyline fill=\"none\" points=\"667.5,-581.5 667.5,-627.5 \" stroke=\"black\"/>\n",
       "<text font-family=\"Times,serif\" font-size=\"14.00\" text-anchor=\"middle\" x=\"713.5\" y=\"-612.3\">(None, 24)</text>\n",
       "<polyline fill=\"none\" points=\"667.5,-604.5 759.5,-604.5 \" stroke=\"black\"/>\n",
       "<text font-family=\"Times,serif\" font-size=\"14.00\" text-anchor=\"middle\" x=\"713.5\" y=\"-589.3\">(None, 24)</text>\n",
       "</g>\n",
       "<!-- 140152368364792&#45;&gt;140152368365520 -->\n",
       "<g class=\"edge\" id=\"edge2\"><title>140152368364792-&gt;140152368365520</title>\n",
       "<path d=\"M529.052,-581.473C490.566,-570.87 444.276,-558.117 404.603,-547.187\" fill=\"none\" stroke=\"black\"/>\n",
       "<polygon fill=\"black\" points=\"405.503,-543.804 394.933,-544.522 403.644,-550.553 405.503,-543.804\" stroke=\"black\"/>\n",
       "</g>\n",
       "<!-- 140152367780864 -->\n",
       "<g class=\"node\" id=\"node8\"><title>140152367780864</title>\n",
       "<polygon fill=\"none\" points=\"264,-166.5 264,-212.5 732,-212.5 732,-166.5 264,-166.5\" stroke=\"black\"/>\n",
       "<text font-family=\"Times,serif\" font-size=\"14.00\" text-anchor=\"middle\" x=\"374.5\" y=\"-185.8\">concatenate_8: Concatenate</text>\n",
       "<polyline fill=\"none\" points=\"485,-166.5 485,-212.5 \" stroke=\"black\"/>\n",
       "<text font-family=\"Times,serif\" font-size=\"14.00\" text-anchor=\"middle\" x=\"519\" y=\"-197.3\">input:</text>\n",
       "<polyline fill=\"none\" points=\"485,-189.5 553,-189.5 \" stroke=\"black\"/>\n",
       "<text font-family=\"Times,serif\" font-size=\"14.00\" text-anchor=\"middle\" x=\"519\" y=\"-174.3\">output:</text>\n",
       "<polyline fill=\"none\" points=\"553,-166.5 553,-212.5 \" stroke=\"black\"/>\n",
       "<text font-family=\"Times,serif\" font-size=\"14.00\" text-anchor=\"middle\" x=\"642.5\" y=\"-197.3\">[(None, 2), (None, 24)]</text>\n",
       "<polyline fill=\"none\" points=\"553,-189.5 732,-189.5 \" stroke=\"black\"/>\n",
       "<text font-family=\"Times,serif\" font-size=\"14.00\" text-anchor=\"middle\" x=\"642.5\" y=\"-174.3\">(None, 26)</text>\n",
       "</g>\n",
       "<!-- 140152368364792&#45;&gt;140152367780864 -->\n",
       "<g class=\"edge\" id=\"edge9\"><title>140152368364792-&gt;140152367780864</title>\n",
       "<path d=\"M609,-581.483C609,-550.005 609,-490.323 609,-439.5 609,-439.5 609,-439.5 609,-354.5 609,-306.857 616.558,-288.554 590,-249 581.684,-236.615 569.769,-226.312 557.259,-217.981\" fill=\"none\" stroke=\"black\"/>\n",
       "<polygon fill=\"black\" points=\"558.874,-214.863 548.54,-212.528 555.162,-220.798 558.874,-214.863\" stroke=\"black\"/>\n",
       "</g>\n",
       "<!-- 140152368364848 -->\n",
       "<g class=\"node\" id=\"node4\"><title>140152368364848</title>\n",
       "<polygon fill=\"none\" points=\"160,-415.5 160,-461.5 470,-461.5 470,-415.5 160,-415.5\" stroke=\"black\"/>\n",
       "<text font-family=\"Times,serif\" font-size=\"14.00\" text-anchor=\"middle\" x=\"235\" y=\"-434.8\">Encoder_H: Dense</text>\n",
       "<polyline fill=\"none\" points=\"310,-415.5 310,-461.5 \" stroke=\"black\"/>\n",
       "<text font-family=\"Times,serif\" font-size=\"14.00\" text-anchor=\"middle\" x=\"344\" y=\"-446.3\">input:</text>\n",
       "<polyline fill=\"none\" points=\"310,-438.5 378,-438.5 \" stroke=\"black\"/>\n",
       "<text font-family=\"Times,serif\" font-size=\"14.00\" text-anchor=\"middle\" x=\"344\" y=\"-423.3\">output:</text>\n",
       "<polyline fill=\"none\" points=\"378,-415.5 378,-461.5 \" stroke=\"black\"/>\n",
       "<text font-family=\"Times,serif\" font-size=\"14.00\" text-anchor=\"middle\" x=\"424\" y=\"-446.3\">(None, 39)</text>\n",
       "<polyline fill=\"none\" points=\"378,-438.5 470,-438.5 \" stroke=\"black\"/>\n",
       "<text font-family=\"Times,serif\" font-size=\"14.00\" text-anchor=\"middle\" x=\"424\" y=\"-423.3\">(None, 10)</text>\n",
       "</g>\n",
       "<!-- 140152368365520&#45;&gt;140152368364848 -->\n",
       "<g class=\"edge\" id=\"edge3\"><title>140152368365520-&gt;140152368364848</title>\n",
       "<path d=\"M315,-498.366C315,-490.152 315,-480.658 315,-471.725\" fill=\"none\" stroke=\"black\"/>\n",
       "<polygon fill=\"black\" points=\"318.5,-471.607 315,-461.607 311.5,-471.607 318.5,-471.607\" stroke=\"black\"/>\n",
       "</g>\n",
       "<!-- 140152368365240 -->\n",
       "<g class=\"node\" id=\"node5\"><title>140152368365240</title>\n",
       "<polygon fill=\"none\" points=\"0,-332.5 0,-378.5 252,-378.5 252,-332.5 0,-332.5\" stroke=\"black\"/>\n",
       "<text font-family=\"Times,serif\" font-size=\"14.00\" text-anchor=\"middle\" x=\"46\" y=\"-351.8\">mu: Dense</text>\n",
       "<polyline fill=\"none\" points=\"92,-332.5 92,-378.5 \" stroke=\"black\"/>\n",
       "<text font-family=\"Times,serif\" font-size=\"14.00\" text-anchor=\"middle\" x=\"126\" y=\"-363.3\">input:</text>\n",
       "<polyline fill=\"none\" points=\"92,-355.5 160,-355.5 \" stroke=\"black\"/>\n",
       "<text font-family=\"Times,serif\" font-size=\"14.00\" text-anchor=\"middle\" x=\"126\" y=\"-340.3\">output:</text>\n",
       "<polyline fill=\"none\" points=\"160,-332.5 160,-378.5 \" stroke=\"black\"/>\n",
       "<text font-family=\"Times,serif\" font-size=\"14.00\" text-anchor=\"middle\" x=\"206\" y=\"-363.3\">(None, 10)</text>\n",
       "<polyline fill=\"none\" points=\"160,-355.5 252,-355.5 \" stroke=\"black\"/>\n",
       "<text font-family=\"Times,serif\" font-size=\"14.00\" text-anchor=\"middle\" x=\"206\" y=\"-340.3\">(None, 2)</text>\n",
       "</g>\n",
       "<!-- 140152368364848&#45;&gt;140152368365240 -->\n",
       "<g class=\"edge\" id=\"edge4\"><title>140152368364848-&gt;140152368365240</title>\n",
       "<path d=\"M263.355,-415.366C239.708,-405.232 211.518,-393.151 186.849,-382.578\" fill=\"none\" stroke=\"black\"/>\n",
       "<polygon fill=\"black\" points=\"188.153,-379.329 177.583,-378.607 185.395,-385.763 188.153,-379.329\" stroke=\"black\"/>\n",
       "</g>\n",
       "<!-- 140152368022080 -->\n",
       "<g class=\"node\" id=\"node6\"><title>140152368022080</title>\n",
       "<polygon fill=\"none\" points=\"270.5,-332.5 270.5,-378.5 555.5,-378.5 555.5,-332.5 270.5,-332.5\" stroke=\"black\"/>\n",
       "<text font-family=\"Times,serif\" font-size=\"14.00\" text-anchor=\"middle\" x=\"333\" y=\"-351.8\">l_sigma: Dense</text>\n",
       "<polyline fill=\"none\" points=\"395.5,-332.5 395.5,-378.5 \" stroke=\"black\"/>\n",
       "<text font-family=\"Times,serif\" font-size=\"14.00\" text-anchor=\"middle\" x=\"429.5\" y=\"-363.3\">input:</text>\n",
       "<polyline fill=\"none\" points=\"395.5,-355.5 463.5,-355.5 \" stroke=\"black\"/>\n",
       "<text font-family=\"Times,serif\" font-size=\"14.00\" text-anchor=\"middle\" x=\"429.5\" y=\"-340.3\">output:</text>\n",
       "<polyline fill=\"none\" points=\"463.5,-332.5 463.5,-378.5 \" stroke=\"black\"/>\n",
       "<text font-family=\"Times,serif\" font-size=\"14.00\" text-anchor=\"middle\" x=\"509.5\" y=\"-363.3\">(None, 10)</text>\n",
       "<polyline fill=\"none\" points=\"463.5,-355.5 555.5,-355.5 \" stroke=\"black\"/>\n",
       "<text font-family=\"Times,serif\" font-size=\"14.00\" text-anchor=\"middle\" x=\"509.5\" y=\"-340.3\">(None, 2)</text>\n",
       "</g>\n",
       "<!-- 140152368364848&#45;&gt;140152368022080 -->\n",
       "<g class=\"edge\" id=\"edge5\"><title>140152368364848-&gt;140152368022080</title>\n",
       "<path d=\"M341.779,-415.366C353.014,-406.08 366.227,-395.16 378.201,-385.262\" fill=\"none\" stroke=\"black\"/>\n",
       "<polygon fill=\"black\" points=\"380.775,-387.676 386.253,-378.607 376.316,-382.28 380.775,-387.676\" stroke=\"black\"/>\n",
       "</g>\n",
       "<!-- 140152367988464 -->\n",
       "<g class=\"node\" id=\"node7\"><title>140152367988464</title>\n",
       "<polygon fill=\"none\" points=\"193,-249.5 193,-295.5 581,-295.5 581,-249.5 193,-249.5\" stroke=\"black\"/>\n",
       "<text font-family=\"Times,serif\" font-size=\"14.00\" text-anchor=\"middle\" x=\"268\" y=\"-268.8\">Sampling: Lambda</text>\n",
       "<polyline fill=\"none\" points=\"343,-249.5 343,-295.5 \" stroke=\"black\"/>\n",
       "<text font-family=\"Times,serif\" font-size=\"14.00\" text-anchor=\"middle\" x=\"377\" y=\"-280.3\">input:</text>\n",
       "<polyline fill=\"none\" points=\"343,-272.5 411,-272.5 \" stroke=\"black\"/>\n",
       "<text font-family=\"Times,serif\" font-size=\"14.00\" text-anchor=\"middle\" x=\"377\" y=\"-257.3\">output:</text>\n",
       "<polyline fill=\"none\" points=\"411,-249.5 411,-295.5 \" stroke=\"black\"/>\n",
       "<text font-family=\"Times,serif\" font-size=\"14.00\" text-anchor=\"middle\" x=\"496\" y=\"-280.3\">[(None, 2), (None, 2)]</text>\n",
       "<polyline fill=\"none\" points=\"411,-272.5 581,-272.5 \" stroke=\"black\"/>\n",
       "<text font-family=\"Times,serif\" font-size=\"14.00\" text-anchor=\"middle\" x=\"496\" y=\"-257.3\">(None, 2)</text>\n",
       "</g>\n",
       "<!-- 140152368365240&#45;&gt;140152367988464 -->\n",
       "<g class=\"edge\" id=\"edge6\"><title>140152368365240-&gt;140152367988464</title>\n",
       "<path d=\"M196.975,-332.473C230.78,-321.982 271.367,-309.386 306.336,-298.534\" fill=\"none\" stroke=\"black\"/>\n",
       "<polygon fill=\"black\" points=\"307.526,-301.829 316.039,-295.522 305.451,-295.144 307.526,-301.829\" stroke=\"black\"/>\n",
       "</g>\n",
       "<!-- 140152368022080&#45;&gt;140152367988464 -->\n",
       "<g class=\"edge\" id=\"edge7\"><title>140152368022080-&gt;140152367988464</title>\n",
       "<path d=\"M405.895,-332.366C403.201,-323.973 400.078,-314.245 397.157,-305.143\" fill=\"none\" stroke=\"black\"/>\n",
       "<polygon fill=\"black\" points=\"400.485,-304.059 394.096,-295.607 393.82,-306.198 400.485,-304.059\" stroke=\"black\"/>\n",
       "</g>\n",
       "<!-- 140152367988464&#45;&gt;140152367780864 -->\n",
       "<g class=\"edge\" id=\"edge8\"><title>140152367988464-&gt;140152367780864</title>\n",
       "<path d=\"M417.331,-249.366C430.302,-239.902 445.599,-228.739 459.366,-218.693\" fill=\"none\" stroke=\"black\"/>\n",
       "<polygon fill=\"black\" points=\"461.691,-221.329 467.705,-212.607 457.564,-215.674 461.691,-221.329\" stroke=\"black\"/>\n",
       "</g>\n",
       "<!-- 140152367782544 -->\n",
       "<g class=\"node\" id=\"node9\"><title>140152367782544</title>\n",
       "<polygon fill=\"none\" points=\"343,-83.5 343,-129.5 653,-129.5 653,-83.5 343,-83.5\" stroke=\"black\"/>\n",
       "<text font-family=\"Times,serif\" font-size=\"14.00\" text-anchor=\"middle\" x=\"418\" y=\"-102.8\">Decoder_H: Dense</text>\n",
       "<polyline fill=\"none\" points=\"493,-83.5 493,-129.5 \" stroke=\"black\"/>\n",
       "<text font-family=\"Times,serif\" font-size=\"14.00\" text-anchor=\"middle\" x=\"527\" y=\"-114.3\">input:</text>\n",
       "<polyline fill=\"none\" points=\"493,-106.5 561,-106.5 \" stroke=\"black\"/>\n",
       "<text font-family=\"Times,serif\" font-size=\"14.00\" text-anchor=\"middle\" x=\"527\" y=\"-91.3\">output:</text>\n",
       "<polyline fill=\"none\" points=\"561,-83.5 561,-129.5 \" stroke=\"black\"/>\n",
       "<text font-family=\"Times,serif\" font-size=\"14.00\" text-anchor=\"middle\" x=\"607\" y=\"-114.3\">(None, 26)</text>\n",
       "<polyline fill=\"none\" points=\"561,-106.5 653,-106.5 \" stroke=\"black\"/>\n",
       "<text font-family=\"Times,serif\" font-size=\"14.00\" text-anchor=\"middle\" x=\"607\" y=\"-91.3\">(None, 10)</text>\n",
       "</g>\n",
       "<!-- 140152367780864&#45;&gt;140152367782544 -->\n",
       "<g class=\"edge\" id=\"edge10\"><title>140152367780864-&gt;140152367782544</title>\n",
       "<path d=\"M498,-166.366C498,-158.152 498,-148.658 498,-139.725\" fill=\"none\" stroke=\"black\"/>\n",
       "<polygon fill=\"black\" points=\"501.5,-139.607 498,-129.607 494.5,-139.607 501.5,-139.607\" stroke=\"black\"/>\n",
       "</g>\n",
       "<!-- 140152367812224 -->\n",
       "<g class=\"node\" id=\"node10\"><title>140152367812224</title>\n",
       "<polygon fill=\"none\" points=\"358,-0.5 358,-46.5 638,-46.5 638,-0.5 358,-0.5\" stroke=\"black\"/>\n",
       "<text font-family=\"Times,serif\" font-size=\"14.00\" text-anchor=\"middle\" x=\"418\" y=\"-19.8\">Output: Dense</text>\n",
       "<polyline fill=\"none\" points=\"478,-0.5 478,-46.5 \" stroke=\"black\"/>\n",
       "<text font-family=\"Times,serif\" font-size=\"14.00\" text-anchor=\"middle\" x=\"512\" y=\"-31.3\">input:</text>\n",
       "<polyline fill=\"none\" points=\"478,-23.5 546,-23.5 \" stroke=\"black\"/>\n",
       "<text font-family=\"Times,serif\" font-size=\"14.00\" text-anchor=\"middle\" x=\"512\" y=\"-8.3\">output:</text>\n",
       "<polyline fill=\"none\" points=\"546,-0.5 546,-46.5 \" stroke=\"black\"/>\n",
       "<text font-family=\"Times,serif\" font-size=\"14.00\" text-anchor=\"middle\" x=\"592\" y=\"-31.3\">(None, 10)</text>\n",
       "<polyline fill=\"none\" points=\"546,-23.5 638,-23.5 \" stroke=\"black\"/>\n",
       "<text font-family=\"Times,serif\" font-size=\"14.00\" text-anchor=\"middle\" x=\"592\" y=\"-8.3\">(None, 15)</text>\n",
       "</g>\n",
       "<!-- 140152367782544&#45;&gt;140152367812224 -->\n",
       "<g class=\"edge\" id=\"edge11\"><title>140152367782544-&gt;140152367812224</title>\n",
       "<path d=\"M498,-83.3664C498,-75.1516 498,-65.6579 498,-56.7252\" fill=\"none\" stroke=\"black\"/>\n",
       "<polygon fill=\"black\" points=\"501.5,-56.6068 498,-46.6068 494.5,-56.6069 501.5,-56.6068\" stroke=\"black\"/>\n",
       "</g>\n",
       "</g>\n",
       "</svg>"
      ],
      "text/plain": [
       "<IPython.core.display.SVG object>"
      ]
     },
     "execution_count": 38,
     "metadata": {},
     "output_type": "execute_result"
    }
   ],
   "source": [
    "SVG(model_to_dot(cvae, show_shapes=True, show_layer_names=True).create(prog='dot', format='svg'))"
   ]
  },
  {
   "cell_type": "code",
   "execution_count": 39,
   "metadata": {
    "collapsed": true
   },
   "outputs": [],
   "source": [
    "cvae.compile(optimizer=optim, loss=vae_loss, metrics = [KL_loss, recon_loss])"
   ]
  },
  {
   "cell_type": "code",
   "execution_count": 40,
   "metadata": {},
   "outputs": [
    {
     "data": {
      "application/vnd.jupyter.widget-view+json": {
       "model_id": "0b2cc6de558545a28a6dd5e64d460b58"
      }
     },
     "metadata": {},
     "output_type": "display_data"
    },
    {
     "data": {
      "application/vnd.jupyter.widget-view+json": {
       "model_id": "07015e24d83a44bbb45e282bc9b5c763"
      }
     },
     "metadata": {},
     "output_type": "display_data"
    },
    {
     "data": {
      "application/vnd.jupyter.widget-view+json": {
       "model_id": "255ea95d0abf4b1c80f07484a05b1096"
      }
     },
     "metadata": {},
     "output_type": "display_data"
    },
    {
     "data": {
      "application/vnd.jupyter.widget-view+json": {
       "model_id": "76fbd3fce2074997918ec91d870c8341"
      }
     },
     "metadata": {},
     "output_type": "display_data"
    },
    {
     "data": {
      "application/vnd.jupyter.widget-view+json": {
       "model_id": "385c823d59a44f6088003fcde0f4531c"
      }
     },
     "metadata": {},
     "output_type": "display_data"
    },
    {
     "data": {
      "application/vnd.jupyter.widget-view+json": {
       "model_id": "d3703c6b695e4b2f959c8e96fe7b7c2d"
      }
     },
     "metadata": {},
     "output_type": "display_data"
    },
    {
     "data": {
      "application/vnd.jupyter.widget-view+json": {
       "model_id": "78deb1f64d2c4e88a776c05618dc99a6"
      }
     },
     "metadata": {},
     "output_type": "display_data"
    },
    {
     "data": {
      "application/vnd.jupyter.widget-view+json": {
       "model_id": "9255596848c3420795f99fa8c41553cc"
      }
     },
     "metadata": {},
     "output_type": "display_data"
    },
    {
     "data": {
      "application/vnd.jupyter.widget-view+json": {
       "model_id": "f97d81fe6ce0451fbc37ed11042c25a3"
      }
     },
     "metadata": {},
     "output_type": "display_data"
    },
    {
     "name": "stdout",
     "output_type": "stream",
     "text": [
      "\n"
     ]
    }
   ],
   "source": [
    "# compile and fit\n",
    "cvae_hist = cvae.fit([data_['y_train_c'], to_categorical(data_['y_train_t'])], data_['y_train_c'], verbose = 0, batch_size=m, epochs=n_epoch,\n",
    "                            validation_data = ([data_['y_test_c'], to_categorical(data_['y_test_t'])], data_['y_test_c']),\n",
    "                            callbacks = [EarlyStopping(patience = 5),\n",
    "                                         TQDMNotebookCallback(metric_format=\"{name}: {value:0.4f}\",\n",
    "                                                              leave_outer=True)])"
   ]
  },
  {
   "cell_type": "code",
   "execution_count": 41,
   "metadata": {},
   "outputs": [
    {
     "name": "stdout",
     "output_type": "stream",
     "text": [
      "(18280, 2)\n"
     ]
    }
   ],
   "source": [
    "z_train = encoder.predict([data_['yc'], to_categorical(data_['yt'])])\n",
    "encodings_t= np.asarray(z_train)\n",
    "encodings_t = encodings_t.reshape(data_['yc'].shape[0], n_z)\n",
    "print(encodings_t.shape)"
   ]
  },
  {
   "cell_type": "code",
   "execution_count": 42,
   "metadata": {},
   "outputs": [
    {
     "data": {
      "text/html": [
       "<iframe id=\"igraph\" scrolling=\"no\" style=\"border:none;\" seamless=\"seamless\" src=\"https://plot.ly/~asturkmanics/71.embed\" height=\"525px\" width=\"100%\"></iframe>"
      ],
      "text/plain": [
       "<plotly.tools.PlotlyDisplay object>"
      ]
     },
     "execution_count": 42,
     "metadata": {},
     "output_type": "execute_result"
    }
   ],
   "source": [
    "x = encodings_t[:,0]\n",
    "y = encodings_t[:,1]\n",
    "t = ['<br>'.join(json.dumps(x).split(',')) for x in data_['y_labels']]\n",
    "\n",
    "trace1 = go.Scatter(\n",
    "    x=x,\n",
    "    y=y, \n",
    "    mode='markers',\n",
    "    marker=dict(color = data_['yc_colors'], opacity=0.8),\n",
    "    text = t\n",
    ")\n",
    "data = [trace1]\n",
    "layout = go.Layout(margin=dict(l=0,r=0,b=0,t=0))\n",
    "fig = go.Figure(data=data, layout=layout)\n",
    "py.iplot(fig, filename='VAE-Data')\n",
    "\n",
    "# plt.figure(figsize=(7, 7))\n",
    "# plt.scatter(encodings[:, 0], encodings[:, 1], c=data_['yc_colors'])\n",
    "# plt.show()"
   ]
  },
  {
   "cell_type": "markdown",
   "metadata": {},
   "source": [
    "### Condition VAE on Day"
   ]
  },
  {
   "cell_type": "code",
   "execution_count": 44,
   "metadata": {
    "collapsed": true
   },
   "outputs": [],
   "source": [
    "m = 20 # batch size\n",
    "n_z = 2 # latent space size\n",
    "encoder_dim1 = 10 # dim of encoder hidden layer\n",
    "decoder_dim = 10 # dim of decoder hidden layer\n",
    "decoder_out_dim = len(data_['popular_apps']) # dim of decoder output layer\n",
    "activ = 'relu'\n",
    "optim = Adam(lr=0.0005)\n",
    "\n",
    "\n",
    "n_x = len(data_['popular_apps'])\n",
    "n_y = data_['days']\n",
    "\n",
    "\n",
    "n_epoch = 100"
   ]
  },
  {
   "cell_type": "code",
   "execution_count": 49,
   "metadata": {
    "collapsed": true
   },
   "outputs": [],
   "source": [
    "X = Input(shape=(n_x,), name='Input')\n",
    "label = Input(shape=(n_y,), name='Time')\n",
    "inputs = Concatenate()([X, label])\n",
    "\n",
    "encoder_h = Dense(encoder_dim1, activation=activ, name='Encoder_H')(inputs)\n",
    "mu = Dense(n_z, activation='linear', name='mu')(encoder_h)\n",
    "l_sigma = Dense(n_z, activation='linear', name='l_sigma')(encoder_h)\n",
    "\n",
    "\n",
    "# Sampling latent space\n",
    "z = Lambda(sample_z, output_shape = (n_z, ), name='Sampling')([mu, l_sigma])\n",
    "zc = Concatenate()([z, label])\n",
    "\n",
    "decoder_hidden = Dense(decoder_dim, activation=activ, name='Decoder_H')\n",
    "decoder_out = Dense(decoder_out_dim, activation='sigmoid', name='Output')\n",
    "h_p = decoder_hidden(zc)\n",
    "outputs = decoder_out(h_p)\n",
    "\n",
    "def vae_loss(y_true, y_pred):\n",
    "    recon = K.sum(K.binary_crossentropy(y_pred, y_true), axis=1)\n",
    "    kl = 0.5 * K.sum(K.exp(l_sigma) + K.square(mu) - 1. - l_sigma, axis=1)\n",
    "    return recon + kl\n",
    "\n",
    "def KL_loss(y_true, y_pred):\n",
    "    return(0.5 * K.sum(K.exp(l_sigma) + K.square(mu) - 1. - l_sigma, axis=1))\n",
    "\n",
    "def recon_loss(y_true, y_pred):\n",
    "    return(K.sum(K.binary_crossentropy(y_pred, y_true), axis=1))\n",
    "\n",
    "# build a model to project inputs on the latent space\n",
    "c_d_vae = Model([X, label], outputs)\n",
    "encoder_d = Model([X, label], mu)\n",
    "\n",
    "d_in = Input(shape=(n_z+n_y,))\n",
    "d_h = decoder_hidden(d_in)\n",
    "d_out = decoder_out(d_h)\n",
    "decoder_d = Model(d_in, d_out)\n",
    "\n",
    "print(c_d_vae.summary())"
   ]
  },
  {
   "cell_type": "code",
   "execution_count": 50,
   "metadata": {},
   "outputs": [
    {
     "data": {
      "image/svg+xml": [
       "<svg height=\"636pt\" viewBox=\"0.00 0.00 763.00 636.00\" width=\"763pt\" xmlns=\"http://www.w3.org/2000/svg\" xmlns:xlink=\"http://www.w3.org/1999/xlink\">\n",
       "<g class=\"graph\" id=\"graph0\" transform=\"scale(1 1) rotate(0) translate(4 632)\">\n",
       "<title>G</title>\n",
       "<polygon fill=\"white\" points=\"-4,4 -4,-632 759,-632 759,4 -4,4\" stroke=\"none\"/>\n",
       "<!-- 140150525504368 -->\n",
       "<g class=\"node\" id=\"node1\"><title>140150525504368</title>\n",
       "<polygon fill=\"none\" points=\"139.5,-581.5 139.5,-627.5 444.5,-627.5 444.5,-581.5 139.5,-581.5\" stroke=\"black\"/>\n",
       "<text font-family=\"Times,serif\" font-size=\"14.00\" text-anchor=\"middle\" x=\"212\" y=\"-600.8\">Input: InputLayer</text>\n",
       "<polyline fill=\"none\" points=\"284.5,-581.5 284.5,-627.5 \" stroke=\"black\"/>\n",
       "<text font-family=\"Times,serif\" font-size=\"14.00\" text-anchor=\"middle\" x=\"318.5\" y=\"-612.3\">input:</text>\n",
       "<polyline fill=\"none\" points=\"284.5,-604.5 352.5,-604.5 \" stroke=\"black\"/>\n",
       "<text font-family=\"Times,serif\" font-size=\"14.00\" text-anchor=\"middle\" x=\"318.5\" y=\"-589.3\">output:</text>\n",
       "<polyline fill=\"none\" points=\"352.5,-581.5 352.5,-627.5 \" stroke=\"black\"/>\n",
       "<text font-family=\"Times,serif\" font-size=\"14.00\" text-anchor=\"middle\" x=\"398.5\" y=\"-612.3\">(None, 15)</text>\n",
       "<polyline fill=\"none\" points=\"352.5,-604.5 444.5,-604.5 \" stroke=\"black\"/>\n",
       "<text font-family=\"Times,serif\" font-size=\"14.00\" text-anchor=\"middle\" x=\"398.5\" y=\"-589.3\">(None, 15)</text>\n",
       "</g>\n",
       "<!-- 140150525505264 -->\n",
       "<g class=\"node\" id=\"node3\"><title>140150525505264</title>\n",
       "<polygon fill=\"none\" points=\"78.5,-498.5 78.5,-544.5 555.5,-544.5 555.5,-498.5 78.5,-498.5\" stroke=\"black\"/>\n",
       "<text font-family=\"Times,serif\" font-size=\"14.00\" text-anchor=\"middle\" x=\"193.5\" y=\"-517.8\">concatenate_13: Concatenate</text>\n",
       "<polyline fill=\"none\" points=\"308.5,-498.5 308.5,-544.5 \" stroke=\"black\"/>\n",
       "<text font-family=\"Times,serif\" font-size=\"14.00\" text-anchor=\"middle\" x=\"342.5\" y=\"-529.3\">input:</text>\n",
       "<polyline fill=\"none\" points=\"308.5,-521.5 376.5,-521.5 \" stroke=\"black\"/>\n",
       "<text font-family=\"Times,serif\" font-size=\"14.00\" text-anchor=\"middle\" x=\"342.5\" y=\"-506.3\">output:</text>\n",
       "<polyline fill=\"none\" points=\"376.5,-498.5 376.5,-544.5 \" stroke=\"black\"/>\n",
       "<text font-family=\"Times,serif\" font-size=\"14.00\" text-anchor=\"middle\" x=\"466\" y=\"-529.3\">[(None, 15), (None, 7)]</text>\n",
       "<polyline fill=\"none\" points=\"376.5,-521.5 555.5,-521.5 \" stroke=\"black\"/>\n",
       "<text font-family=\"Times,serif\" font-size=\"14.00\" text-anchor=\"middle\" x=\"466\" y=\"-506.3\">(None, 22)</text>\n",
       "</g>\n",
       "<!-- 140150525504368&#45;&gt;140150525505264 -->\n",
       "<g class=\"edge\" id=\"edge1\"><title>140150525504368-&gt;140150525505264</title>\n",
       "<path d=\"M298.831,-581.366C301.394,-573.062 304.361,-563.451 307.144,-554.434\" fill=\"none\" stroke=\"black\"/>\n",
       "<polygon fill=\"black\" points=\"310.572,-555.194 310.177,-544.607 303.883,-553.13 310.572,-555.194\" stroke=\"black\"/>\n",
       "</g>\n",
       "<!-- 140150525504424 -->\n",
       "<g class=\"node\" id=\"node2\"><title>140150525504424</title>\n",
       "<polygon fill=\"none\" points=\"463,-581.5 463,-627.5 755,-627.5 755,-581.5 463,-581.5\" stroke=\"black\"/>\n",
       "<text font-family=\"Times,serif\" font-size=\"14.00\" text-anchor=\"middle\" x=\"533.5\" y=\"-600.8\">Time: InputLayer</text>\n",
       "<polyline fill=\"none\" points=\"604,-581.5 604,-627.5 \" stroke=\"black\"/>\n",
       "<text font-family=\"Times,serif\" font-size=\"14.00\" text-anchor=\"middle\" x=\"638\" y=\"-612.3\">input:</text>\n",
       "<polyline fill=\"none\" points=\"604,-604.5 672,-604.5 \" stroke=\"black\"/>\n",
       "<text font-family=\"Times,serif\" font-size=\"14.00\" text-anchor=\"middle\" x=\"638\" y=\"-589.3\">output:</text>\n",
       "<polyline fill=\"none\" points=\"672,-581.5 672,-627.5 \" stroke=\"black\"/>\n",
       "<text font-family=\"Times,serif\" font-size=\"14.00\" text-anchor=\"middle\" x=\"713.5\" y=\"-612.3\">(None, 7)</text>\n",
       "<polyline fill=\"none\" points=\"672,-604.5 755,-604.5 \" stroke=\"black\"/>\n",
       "<text font-family=\"Times,serif\" font-size=\"14.00\" text-anchor=\"middle\" x=\"713.5\" y=\"-589.3\">(None, 7)</text>\n",
       "</g>\n",
       "<!-- 140150525504424&#45;&gt;140150525505264 -->\n",
       "<g class=\"edge\" id=\"edge2\"><title>140150525504424-&gt;140150525505264</title>\n",
       "<path d=\"M529.595,-581.473C491.452,-570.893 445.591,-558.171 406.243,-547.256\" fill=\"none\" stroke=\"black\"/>\n",
       "<polygon fill=\"black\" points=\"406.96,-543.823 396.389,-544.522 405.089,-550.568 406.96,-543.823\" stroke=\"black\"/>\n",
       "</g>\n",
       "<!-- 140150524434360 -->\n",
       "<g class=\"node\" id=\"node8\"><title>140150524434360</title>\n",
       "<polygon fill=\"none\" points=\"264,-166.5 264,-212.5 732,-212.5 732,-166.5 264,-166.5\" stroke=\"black\"/>\n",
       "<text font-family=\"Times,serif\" font-size=\"14.00\" text-anchor=\"middle\" x=\"379\" y=\"-185.8\">concatenate_14: Concatenate</text>\n",
       "<polyline fill=\"none\" points=\"494,-166.5 494,-212.5 \" stroke=\"black\"/>\n",
       "<text font-family=\"Times,serif\" font-size=\"14.00\" text-anchor=\"middle\" x=\"528\" y=\"-197.3\">input:</text>\n",
       "<polyline fill=\"none\" points=\"494,-189.5 562,-189.5 \" stroke=\"black\"/>\n",
       "<text font-family=\"Times,serif\" font-size=\"14.00\" text-anchor=\"middle\" x=\"528\" y=\"-174.3\">output:</text>\n",
       "<polyline fill=\"none\" points=\"562,-166.5 562,-212.5 \" stroke=\"black\"/>\n",
       "<text font-family=\"Times,serif\" font-size=\"14.00\" text-anchor=\"middle\" x=\"647\" y=\"-197.3\">[(None, 2), (None, 7)]</text>\n",
       "<polyline fill=\"none\" points=\"562,-189.5 732,-189.5 \" stroke=\"black\"/>\n",
       "<text font-family=\"Times,serif\" font-size=\"14.00\" text-anchor=\"middle\" x=\"647\" y=\"-174.3\">(None, 9)</text>\n",
       "</g>\n",
       "<!-- 140150525504424&#45;&gt;140150524434360 -->\n",
       "<g class=\"edge\" id=\"edge9\"><title>140150525504424-&gt;140150524434360</title>\n",
       "<path d=\"M609,-581.483C609,-550.005 609,-490.323 609,-439.5 609,-439.5 609,-439.5 609,-354.5 609,-306.857 616.558,-288.554 590,-249 581.684,-236.615 569.769,-226.312 557.259,-217.981\" fill=\"none\" stroke=\"black\"/>\n",
       "<polygon fill=\"black\" points=\"558.874,-214.863 548.54,-212.528 555.162,-220.798 558.874,-214.863\" stroke=\"black\"/>\n",
       "</g>\n",
       "<!-- 140150525504928 -->\n",
       "<g class=\"node\" id=\"node4\"><title>140150525504928</title>\n",
       "<polygon fill=\"none\" points=\"162,-415.5 162,-461.5 472,-461.5 472,-415.5 162,-415.5\" stroke=\"black\"/>\n",
       "<text font-family=\"Times,serif\" font-size=\"14.00\" text-anchor=\"middle\" x=\"237\" y=\"-434.8\">Encoder_H: Dense</text>\n",
       "<polyline fill=\"none\" points=\"312,-415.5 312,-461.5 \" stroke=\"black\"/>\n",
       "<text font-family=\"Times,serif\" font-size=\"14.00\" text-anchor=\"middle\" x=\"346\" y=\"-446.3\">input:</text>\n",
       "<polyline fill=\"none\" points=\"312,-438.5 380,-438.5 \" stroke=\"black\"/>\n",
       "<text font-family=\"Times,serif\" font-size=\"14.00\" text-anchor=\"middle\" x=\"346\" y=\"-423.3\">output:</text>\n",
       "<polyline fill=\"none\" points=\"380,-415.5 380,-461.5 \" stroke=\"black\"/>\n",
       "<text font-family=\"Times,serif\" font-size=\"14.00\" text-anchor=\"middle\" x=\"426\" y=\"-446.3\">(None, 22)</text>\n",
       "<polyline fill=\"none\" points=\"380,-438.5 472,-438.5 \" stroke=\"black\"/>\n",
       "<text font-family=\"Times,serif\" font-size=\"14.00\" text-anchor=\"middle\" x=\"426\" y=\"-423.3\">(None, 10)</text>\n",
       "</g>\n",
       "<!-- 140150525505264&#45;&gt;140150525504928 -->\n",
       "<g class=\"edge\" id=\"edge3\"><title>140150525505264-&gt;140150525504928</title>\n",
       "<path d=\"M317,-498.366C317,-490.152 317,-480.658 317,-471.725\" fill=\"none\" stroke=\"black\"/>\n",
       "<polygon fill=\"black\" points=\"320.5,-471.607 317,-461.607 313.5,-471.607 320.5,-471.607\" stroke=\"black\"/>\n",
       "</g>\n",
       "<!-- 140150525505320 -->\n",
       "<g class=\"node\" id=\"node5\"><title>140150525505320</title>\n",
       "<polygon fill=\"none\" points=\"0,-332.5 0,-378.5 252,-378.5 252,-332.5 0,-332.5\" stroke=\"black\"/>\n",
       "<text font-family=\"Times,serif\" font-size=\"14.00\" text-anchor=\"middle\" x=\"46\" y=\"-351.8\">mu: Dense</text>\n",
       "<polyline fill=\"none\" points=\"92,-332.5 92,-378.5 \" stroke=\"black\"/>\n",
       "<text font-family=\"Times,serif\" font-size=\"14.00\" text-anchor=\"middle\" x=\"126\" y=\"-363.3\">input:</text>\n",
       "<polyline fill=\"none\" points=\"92,-355.5 160,-355.5 \" stroke=\"black\"/>\n",
       "<text font-family=\"Times,serif\" font-size=\"14.00\" text-anchor=\"middle\" x=\"126\" y=\"-340.3\">output:</text>\n",
       "<polyline fill=\"none\" points=\"160,-332.5 160,-378.5 \" stroke=\"black\"/>\n",
       "<text font-family=\"Times,serif\" font-size=\"14.00\" text-anchor=\"middle\" x=\"206\" y=\"-363.3\">(None, 10)</text>\n",
       "<polyline fill=\"none\" points=\"160,-355.5 252,-355.5 \" stroke=\"black\"/>\n",
       "<text font-family=\"Times,serif\" font-size=\"14.00\" text-anchor=\"middle\" x=\"206\" y=\"-340.3\">(None, 2)</text>\n",
       "</g>\n",
       "<!-- 140150525504928&#45;&gt;140150525505320 -->\n",
       "<g class=\"edge\" id=\"edge4\"><title>140150525504928-&gt;140150525505320</title>\n",
       "<path d=\"M265.061,-415.473C241.062,-405.296 212.393,-393.138 187.338,-382.512\" fill=\"none\" stroke=\"black\"/>\n",
       "<polygon fill=\"black\" points=\"188.502,-379.204 177.929,-378.522 185.769,-385.649 188.502,-379.204\" stroke=\"black\"/>\n",
       "</g>\n",
       "<!-- 140150524762320 -->\n",
       "<g class=\"node\" id=\"node6\"><title>140150524762320</title>\n",
       "<polygon fill=\"none\" points=\"270.5,-332.5 270.5,-378.5 555.5,-378.5 555.5,-332.5 270.5,-332.5\" stroke=\"black\"/>\n",
       "<text font-family=\"Times,serif\" font-size=\"14.00\" text-anchor=\"middle\" x=\"333\" y=\"-351.8\">l_sigma: Dense</text>\n",
       "<polyline fill=\"none\" points=\"395.5,-332.5 395.5,-378.5 \" stroke=\"black\"/>\n",
       "<text font-family=\"Times,serif\" font-size=\"14.00\" text-anchor=\"middle\" x=\"429.5\" y=\"-363.3\">input:</text>\n",
       "<polyline fill=\"none\" points=\"395.5,-355.5 463.5,-355.5 \" stroke=\"black\"/>\n",
       "<text font-family=\"Times,serif\" font-size=\"14.00\" text-anchor=\"middle\" x=\"429.5\" y=\"-340.3\">output:</text>\n",
       "<polyline fill=\"none\" points=\"463.5,-332.5 463.5,-378.5 \" stroke=\"black\"/>\n",
       "<text font-family=\"Times,serif\" font-size=\"14.00\" text-anchor=\"middle\" x=\"509.5\" y=\"-363.3\">(None, 10)</text>\n",
       "<polyline fill=\"none\" points=\"463.5,-355.5 555.5,-355.5 \" stroke=\"black\"/>\n",
       "<text font-family=\"Times,serif\" font-size=\"14.00\" text-anchor=\"middle\" x=\"509.5\" y=\"-340.3\">(None, 2)</text>\n",
       "</g>\n",
       "<!-- 140150525504928&#45;&gt;140150524762320 -->\n",
       "<g class=\"edge\" id=\"edge5\"><title>140150525504928-&gt;140150524762320</title>\n",
       "<path d=\"M343.232,-415.366C354.238,-406.08 367.181,-395.16 378.911,-385.262\" fill=\"none\" stroke=\"black\"/>\n",
       "<polygon fill=\"black\" points=\"381.413,-387.731 386.799,-378.607 376.899,-382.381 381.413,-387.731\" stroke=\"black\"/>\n",
       "</g>\n",
       "<!-- 140150524800416 -->\n",
       "<g class=\"node\" id=\"node7\"><title>140150524800416</title>\n",
       "<polygon fill=\"none\" points=\"193,-249.5 193,-295.5 581,-295.5 581,-249.5 193,-249.5\" stroke=\"black\"/>\n",
       "<text font-family=\"Times,serif\" font-size=\"14.00\" text-anchor=\"middle\" x=\"268\" y=\"-268.8\">Sampling: Lambda</text>\n",
       "<polyline fill=\"none\" points=\"343,-249.5 343,-295.5 \" stroke=\"black\"/>\n",
       "<text font-family=\"Times,serif\" font-size=\"14.00\" text-anchor=\"middle\" x=\"377\" y=\"-280.3\">input:</text>\n",
       "<polyline fill=\"none\" points=\"343,-272.5 411,-272.5 \" stroke=\"black\"/>\n",
       "<text font-family=\"Times,serif\" font-size=\"14.00\" text-anchor=\"middle\" x=\"377\" y=\"-257.3\">output:</text>\n",
       "<polyline fill=\"none\" points=\"411,-249.5 411,-295.5 \" stroke=\"black\"/>\n",
       "<text font-family=\"Times,serif\" font-size=\"14.00\" text-anchor=\"middle\" x=\"496\" y=\"-280.3\">[(None, 2), (None, 2)]</text>\n",
       "<polyline fill=\"none\" points=\"411,-272.5 581,-272.5 \" stroke=\"black\"/>\n",
       "<text font-family=\"Times,serif\" font-size=\"14.00\" text-anchor=\"middle\" x=\"496\" y=\"-257.3\">(None, 2)</text>\n",
       "</g>\n",
       "<!-- 140150525505320&#45;&gt;140150524800416 -->\n",
       "<g class=\"edge\" id=\"edge6\"><title>140150525505320-&gt;140150524800416</title>\n",
       "<path d=\"M196.975,-332.473C230.78,-321.982 271.367,-309.386 306.336,-298.534\" fill=\"none\" stroke=\"black\"/>\n",
       "<polygon fill=\"black\" points=\"307.526,-301.829 316.039,-295.522 305.451,-295.144 307.526,-301.829\" stroke=\"black\"/>\n",
       "</g>\n",
       "<!-- 140150524762320&#45;&gt;140150524800416 -->\n",
       "<g class=\"edge\" id=\"edge7\"><title>140150524762320-&gt;140150524800416</title>\n",
       "<path d=\"M405.895,-332.366C403.201,-323.973 400.078,-314.245 397.157,-305.143\" fill=\"none\" stroke=\"black\"/>\n",
       "<polygon fill=\"black\" points=\"400.485,-304.059 394.096,-295.607 393.82,-306.198 400.485,-304.059\" stroke=\"black\"/>\n",
       "</g>\n",
       "<!-- 140150524800416&#45;&gt;140150524434360 -->\n",
       "<g class=\"edge\" id=\"edge8\"><title>140150524800416-&gt;140150524434360</title>\n",
       "<path d=\"M417.331,-249.366C430.302,-239.902 445.599,-228.739 459.366,-218.693\" fill=\"none\" stroke=\"black\"/>\n",
       "<polygon fill=\"black\" points=\"461.691,-221.329 467.705,-212.607 457.564,-215.674 461.691,-221.329\" stroke=\"black\"/>\n",
       "</g>\n",
       "<!-- 140150524434192 -->\n",
       "<g class=\"node\" id=\"node9\"><title>140150524434192</title>\n",
       "<polygon fill=\"none\" points=\"343,-83.5 343,-129.5 653,-129.5 653,-83.5 343,-83.5\" stroke=\"black\"/>\n",
       "<text font-family=\"Times,serif\" font-size=\"14.00\" text-anchor=\"middle\" x=\"418\" y=\"-102.8\">Decoder_H: Dense</text>\n",
       "<polyline fill=\"none\" points=\"493,-83.5 493,-129.5 \" stroke=\"black\"/>\n",
       "<text font-family=\"Times,serif\" font-size=\"14.00\" text-anchor=\"middle\" x=\"527\" y=\"-114.3\">input:</text>\n",
       "<polyline fill=\"none\" points=\"493,-106.5 561,-106.5 \" stroke=\"black\"/>\n",
       "<text font-family=\"Times,serif\" font-size=\"14.00\" text-anchor=\"middle\" x=\"527\" y=\"-91.3\">output:</text>\n",
       "<polyline fill=\"none\" points=\"561,-83.5 561,-129.5 \" stroke=\"black\"/>\n",
       "<text font-family=\"Times,serif\" font-size=\"14.00\" text-anchor=\"middle\" x=\"607\" y=\"-114.3\">(None, 9)</text>\n",
       "<polyline fill=\"none\" points=\"561,-106.5 653,-106.5 \" stroke=\"black\"/>\n",
       "<text font-family=\"Times,serif\" font-size=\"14.00\" text-anchor=\"middle\" x=\"607\" y=\"-91.3\">(None, 10)</text>\n",
       "</g>\n",
       "<!-- 140150524434360&#45;&gt;140150524434192 -->\n",
       "<g class=\"edge\" id=\"edge10\"><title>140150524434360-&gt;140150524434192</title>\n",
       "<path d=\"M498,-166.366C498,-158.152 498,-148.658 498,-139.725\" fill=\"none\" stroke=\"black\"/>\n",
       "<polygon fill=\"black\" points=\"501.5,-139.607 498,-129.607 494.5,-139.607 501.5,-139.607\" stroke=\"black\"/>\n",
       "</g>\n",
       "<!-- 140150524494960 -->\n",
       "<g class=\"node\" id=\"node10\"><title>140150524494960</title>\n",
       "<polygon fill=\"none\" points=\"358,-0.5 358,-46.5 638,-46.5 638,-0.5 358,-0.5\" stroke=\"black\"/>\n",
       "<text font-family=\"Times,serif\" font-size=\"14.00\" text-anchor=\"middle\" x=\"418\" y=\"-19.8\">Output: Dense</text>\n",
       "<polyline fill=\"none\" points=\"478,-0.5 478,-46.5 \" stroke=\"black\"/>\n",
       "<text font-family=\"Times,serif\" font-size=\"14.00\" text-anchor=\"middle\" x=\"512\" y=\"-31.3\">input:</text>\n",
       "<polyline fill=\"none\" points=\"478,-23.5 546,-23.5 \" stroke=\"black\"/>\n",
       "<text font-family=\"Times,serif\" font-size=\"14.00\" text-anchor=\"middle\" x=\"512\" y=\"-8.3\">output:</text>\n",
       "<polyline fill=\"none\" points=\"546,-0.5 546,-46.5 \" stroke=\"black\"/>\n",
       "<text font-family=\"Times,serif\" font-size=\"14.00\" text-anchor=\"middle\" x=\"592\" y=\"-31.3\">(None, 10)</text>\n",
       "<polyline fill=\"none\" points=\"546,-23.5 638,-23.5 \" stroke=\"black\"/>\n",
       "<text font-family=\"Times,serif\" font-size=\"14.00\" text-anchor=\"middle\" x=\"592\" y=\"-8.3\">(None, 15)</text>\n",
       "</g>\n",
       "<!-- 140150524434192&#45;&gt;140150524494960 -->\n",
       "<g class=\"edge\" id=\"edge11\"><title>140150524434192-&gt;140150524494960</title>\n",
       "<path d=\"M498,-83.3664C498,-75.1516 498,-65.6579 498,-56.7252\" fill=\"none\" stroke=\"black\"/>\n",
       "<polygon fill=\"black\" points=\"501.5,-56.6068 498,-46.6068 494.5,-56.6069 501.5,-56.6068\" stroke=\"black\"/>\n",
       "</g>\n",
       "</g>\n",
       "</svg>"
      ],
      "text/plain": [
       "<IPython.core.display.SVG object>"
      ]
     },
     "execution_count": 50,
     "metadata": {},
     "output_type": "execute_result"
    }
   ],
   "source": [
    "SVG(model_to_dot(c_d_vae, show_shapes=True, show_layer_names=True).create(prog='dot', format='svg'))"
   ]
  },
  {
   "cell_type": "code",
   "execution_count": 52,
   "metadata": {},
   "outputs": [
    {
     "data": {
      "application/vnd.jupyter.widget-view+json": {
       "model_id": "181f5ca141794ee7a393ff786dd99d8d"
      }
     },
     "metadata": {},
     "output_type": "display_data"
    },
    {
     "data": {
      "application/vnd.jupyter.widget-view+json": {
       "model_id": "5667be0bf3f8480d8a50f72601dec928"
      }
     },
     "metadata": {},
     "output_type": "display_data"
    },
    {
     "data": {
      "application/vnd.jupyter.widget-view+json": {
       "model_id": "4025e676f9984ebe8f3dd84b3d7a17a6"
      }
     },
     "metadata": {},
     "output_type": "display_data"
    },
    {
     "data": {
      "application/vnd.jupyter.widget-view+json": {
       "model_id": "ce17d8e36b1c49b3b4aef64330a28b46"
      }
     },
     "metadata": {},
     "output_type": "display_data"
    },
    {
     "data": {
      "application/vnd.jupyter.widget-view+json": {
       "model_id": "e6b86c09a08946a597fad2ea45ff702f"
      }
     },
     "metadata": {},
     "output_type": "display_data"
    },
    {
     "data": {
      "application/vnd.jupyter.widget-view+json": {
       "model_id": "a47f6bd5c6184e3ba2e18932d3f534b6"
      }
     },
     "metadata": {},
     "output_type": "display_data"
    },
    {
     "data": {
      "application/vnd.jupyter.widget-view+json": {
       "model_id": "9fe7167007154e2ba924ffb56e5c0c13"
      }
     },
     "metadata": {},
     "output_type": "display_data"
    },
    {
     "data": {
      "application/vnd.jupyter.widget-view+json": {
       "model_id": "3d5c98032f814d41bed1e4a5526a5226"
      }
     },
     "metadata": {},
     "output_type": "display_data"
    },
    {
     "data": {
      "application/vnd.jupyter.widget-view+json": {
       "model_id": "3da61e2db80a4cb3bec3e41a34052255"
      }
     },
     "metadata": {},
     "output_type": "display_data"
    },
    {
     "name": "stdout",
     "output_type": "stream",
     "text": [
      "\n"
     ]
    }
   ],
   "source": [
    "# compile and fit\n",
    "c_d_vae.compile(optimizer=optim, loss=vae_loss, metrics = [KL_loss, recon_loss])\n",
    "c_d_vae_hist = c_d_vae.fit([data_['y_train_c'], to_categorical(data_['y_train_d'])], data_['y_train_c'], verbose = 0, batch_size=m, epochs=n_epoch,\n",
    "                            validation_data = ([data_['y_test_c'], to_categorical(data_['y_test_d'])], data_['y_test_c']),\n",
    "                            callbacks = [EarlyStopping(patience = 5),\n",
    "                                         TQDMNotebookCallback(metric_format=\"{name}: {value:0.4f}\",\n",
    "                                                              leave_outer=True)])"
   ]
  },
  {
   "cell_type": "code",
   "execution_count": 58,
   "metadata": {},
   "outputs": [
    {
     "name": "stdout",
     "output_type": "stream",
     "text": [
      "(18280, 2)\n"
     ]
    }
   ],
   "source": [
    "z_train = encoder_d.predict([data_['yc'], to_categorical(data_['yd'])])\n",
    "encodings_d = np.asarray(z_train)\n",
    "encodings_d = encodings_d.reshape(data_['yc'].shape[0], n_z)\n",
    "print(encodings_d.shape)"
   ]
  },
  {
   "cell_type": "code",
   "execution_count": 59,
   "metadata": {},
   "outputs": [
    {
     "data": {
      "text/html": [
       "<iframe id=\"igraph\" scrolling=\"no\" style=\"border:none;\" seamless=\"seamless\" src=\"https://plot.ly/~asturkmanics/73.embed\" height=\"525px\" width=\"100%\"></iframe>"
      ],
      "text/plain": [
       "<plotly.tools.PlotlyDisplay object>"
      ]
     },
     "execution_count": 59,
     "metadata": {},
     "output_type": "execute_result"
    }
   ],
   "source": [
    "x = encodings_d[:,0]\n",
    "y = encodings_d[:,1]\n",
    "t = ['<br>'.join(json.dumps(x).split(',')) for x in data_['y_labels']]\n",
    "\n",
    "trace1 = go.Scatter(\n",
    "    x=x,\n",
    "    y=y, \n",
    "    mode='markers',\n",
    "    marker=dict(color = data_['yc_colors'], opacity=0.8),\n",
    "    text = t\n",
    ")\n",
    "data = [trace1]\n",
    "layout = go.Layout(margin=dict(l=0,r=0,b=0,t=0))\n",
    "fig = go.Figure(data=data, layout=layout)\n",
    "py.iplot(fig, filename='C_d_VAE-Data')\n",
    "\n",
    "# plt.figure(figsize=(7, 7))\n",
    "# plt.scatter(encodings[:, 0], encodings[:, 1], c=data_['yc_colors'])\n",
    "# plt.show()"
   ]
  },
  {
   "cell_type": "markdown",
   "metadata": {},
   "source": [
    "### Condition VAE on Time and Day"
   ]
  },
  {
   "cell_type": "code",
   "execution_count": 19,
   "metadata": {
    "collapsed": true
   },
   "outputs": [],
   "source": [
    "m = 20 # batch size\n",
    "n_z = 2 # latent space size\n",
    "encoder_dim1 = 8 # dim of encoder hidden layer\n",
    "decoder_dim = 8 # dim of decoder hidden layer\n",
    "decoder_out_dim = len(data_['popular_apps']) # dim of decoder output layer\n",
    "activ = 'relu'\n",
    "optim = Adam(lr=0.0005)\n",
    "\n",
    "\n",
    "n_x = len(data_['popular_apps'])\n",
    "n_d = data_['days']\n",
    "n_t = data_['time']\n",
    "\n",
    "\n",
    "n_epoch = 100"
   ]
  },
  {
   "cell_type": "code",
   "execution_count": 20,
   "metadata": {
    "collapsed": true
   },
   "outputs": [],
   "source": [
    "X = Input(shape=(n_x,), name='Input')\n",
    "day = Input(shape=(n_d,), name='Day')\n",
    "time = Input(shape=(n_t,), name='Time')\n",
    "inputs = Concatenate()([X, day, time])\n",
    "\n",
    "encoder_h = Dense(encoder_dim1, activation=activ, name='Encoder_H')(inputs)\n",
    "mu = Dense(n_z, activation='linear', name='mu')(encoder_h)\n",
    "l_sigma = Dense(n_z, activation='linear', name='l_sigma')(encoder_h)\n",
    "\n",
    "\n",
    "# Sampling latent space\n",
    "z = Lambda(sample_z, output_shape = (n_z, ), name='Sampling')([mu, l_sigma])\n",
    "zc = Concatenate()([z, day, time])\n",
    "\n",
    "decoder_hidden = Dense(decoder_dim, activation=activ, name='Decoder_H')\n",
    "decoder_out = Dense(decoder_out_dim, activation='sigmoid', name='Output')\n",
    "h_p = decoder_hidden(zc)\n",
    "outputs = decoder_out(h_p)\n",
    "\n",
    "def vae_loss(y_true, y_pred):\n",
    "    recon = K.sum(K.binary_crossentropy(y_pred, y_true), axis=1)\n",
    "    kl = 0.5 * K.sum(K.exp(l_sigma) + K.square(mu) - 1. - l_sigma, axis=1)\n",
    "    return recon + kl\n",
    "\n",
    "def KL_loss(y_true, y_pred):\n",
    "    return(0.5 * K.sum(K.exp(l_sigma) + K.square(mu) - 1. - l_sigma, axis=1))\n",
    "\n",
    "def recon_loss(y_true, y_pred):\n",
    "    return(K.sum(K.binary_crossentropy(y_pred, y_true), axis=1))\n",
    "\n",
    "# build a model to project inputs on the latent space\n",
    "c_dt_vae = Model([X, day, time], outputs)\n",
    "encoder_dt = Model([X, day, time], mu)\n",
    "\n",
    "d_in = Input(shape=(n_z+n_t+n_d,))\n",
    "d_h = decoder_hidden(d_in)\n",
    "d_out = decoder_out(d_h)\n",
    "decoder_dt = Model(d_in, d_out)\n",
    "\n",
    "print(c_dt_vae.summary())"
   ]
  },
  {
   "cell_type": "code",
   "execution_count": 21,
   "metadata": {},
   "outputs": [
    {
     "data": {
      "image/svg+xml": [
       "<svg height=\"636pt\" viewBox=\"0.00 0.00 935.00 636.00\" width=\"935pt\" xmlns=\"http://www.w3.org/2000/svg\" xmlns:xlink=\"http://www.w3.org/1999/xlink\">\n",
       "<g class=\"graph\" id=\"graph0\" transform=\"scale(1 1) rotate(0) translate(4 632)\">\n",
       "<title>G</title>\n",
       "<polygon fill=\"white\" points=\"-4,4 -4,-632 931,-632 931,4 -4,4\" stroke=\"none\"/>\n",
       "<!-- 140104716057456 -->\n",
       "<g class=\"node\" id=\"node1\"><title>140104716057456</title>\n",
       "<polygon fill=\"none\" points=\"303,-581.5 303,-627.5 608,-627.5 608,-581.5 303,-581.5\" stroke=\"black\"/>\n",
       "<text font-family=\"Times,serif\" font-size=\"14.00\" text-anchor=\"middle\" x=\"375.5\" y=\"-600.8\">Input: InputLayer</text>\n",
       "<polyline fill=\"none\" points=\"448,-581.5 448,-627.5 \" stroke=\"black\"/>\n",
       "<text font-family=\"Times,serif\" font-size=\"14.00\" text-anchor=\"middle\" x=\"482\" y=\"-612.3\">input:</text>\n",
       "<polyline fill=\"none\" points=\"448,-604.5 516,-604.5 \" stroke=\"black\"/>\n",
       "<text font-family=\"Times,serif\" font-size=\"14.00\" text-anchor=\"middle\" x=\"482\" y=\"-589.3\">output:</text>\n",
       "<polyline fill=\"none\" points=\"516,-581.5 516,-627.5 \" stroke=\"black\"/>\n",
       "<text font-family=\"Times,serif\" font-size=\"14.00\" text-anchor=\"middle\" x=\"562\" y=\"-612.3\">(None, 15)</text>\n",
       "<polyline fill=\"none\" points=\"516,-604.5 608,-604.5 \" stroke=\"black\"/>\n",
       "<text font-family=\"Times,serif\" font-size=\"14.00\" text-anchor=\"middle\" x=\"562\" y=\"-589.3\">(None, 15)</text>\n",
       "</g>\n",
       "<!-- 140104716056616 -->\n",
       "<g class=\"node\" id=\"node4\"><title>140104716056616</title>\n",
       "<polygon fill=\"none\" points=\"179.5,-498.5 179.5,-544.5 731.5,-544.5 731.5,-498.5 179.5,-498.5\" stroke=\"black\"/>\n",
       "<text font-family=\"Times,serif\" font-size=\"14.00\" text-anchor=\"middle\" x=\"290\" y=\"-517.8\">concatenate_4: Concatenate</text>\n",
       "<polyline fill=\"none\" points=\"400.5,-498.5 400.5,-544.5 \" stroke=\"black\"/>\n",
       "<text font-family=\"Times,serif\" font-size=\"14.00\" text-anchor=\"middle\" x=\"434.5\" y=\"-529.3\">input:</text>\n",
       "<polyline fill=\"none\" points=\"400.5,-521.5 468.5,-521.5 \" stroke=\"black\"/>\n",
       "<text font-family=\"Times,serif\" font-size=\"14.00\" text-anchor=\"middle\" x=\"434.5\" y=\"-506.3\">output:</text>\n",
       "<polyline fill=\"none\" points=\"468.5,-498.5 468.5,-544.5 \" stroke=\"black\"/>\n",
       "<text font-family=\"Times,serif\" font-size=\"14.00\" text-anchor=\"middle\" x=\"600\" y=\"-529.3\">[(None, 15), (None, 7), (None, 24)]</text>\n",
       "<polyline fill=\"none\" points=\"468.5,-521.5 731.5,-521.5 \" stroke=\"black\"/>\n",
       "<text font-family=\"Times,serif\" font-size=\"14.00\" text-anchor=\"middle\" x=\"600\" y=\"-506.3\">(None, 46)</text>\n",
       "</g>\n",
       "<!-- 140104716057456&#45;&gt;140104716056616 -->\n",
       "<g class=\"edge\" id=\"edge1\"><title>140104716057456-&gt;140104716056616</title>\n",
       "<path d=\"M455.5,-581.366C455.5,-573.152 455.5,-563.658 455.5,-554.725\" fill=\"none\" stroke=\"black\"/>\n",
       "<polygon fill=\"black\" points=\"459,-554.607 455.5,-544.607 452,-554.607 459,-554.607\" stroke=\"black\"/>\n",
       "</g>\n",
       "<!-- 140104716057792 -->\n",
       "<g class=\"node\" id=\"node2\"><title>140104716057792</title>\n",
       "<polygon fill=\"none\" points=\"0,-581.5 0,-627.5 285,-627.5 285,-581.5 0,-581.5\" stroke=\"black\"/>\n",
       "<text font-family=\"Times,serif\" font-size=\"14.00\" text-anchor=\"middle\" x=\"67\" y=\"-600.8\">Day: InputLayer</text>\n",
       "<polyline fill=\"none\" points=\"134,-581.5 134,-627.5 \" stroke=\"black\"/>\n",
       "<text font-family=\"Times,serif\" font-size=\"14.00\" text-anchor=\"middle\" x=\"168\" y=\"-612.3\">input:</text>\n",
       "<polyline fill=\"none\" points=\"134,-604.5 202,-604.5 \" stroke=\"black\"/>\n",
       "<text font-family=\"Times,serif\" font-size=\"14.00\" text-anchor=\"middle\" x=\"168\" y=\"-589.3\">output:</text>\n",
       "<polyline fill=\"none\" points=\"202,-581.5 202,-627.5 \" stroke=\"black\"/>\n",
       "<text font-family=\"Times,serif\" font-size=\"14.00\" text-anchor=\"middle\" x=\"243.5\" y=\"-612.3\">(None, 7)</text>\n",
       "<polyline fill=\"none\" points=\"202,-604.5 285,-604.5 \" stroke=\"black\"/>\n",
       "<text font-family=\"Times,serif\" font-size=\"14.00\" text-anchor=\"middle\" x=\"243.5\" y=\"-589.3\">(None, 7)</text>\n",
       "</g>\n",
       "<!-- 140104716057792&#45;&gt;140104716056616 -->\n",
       "<g class=\"edge\" id=\"edge2\"><title>140104716057792-&gt;140104716056616</title>\n",
       "<path d=\"M227.615,-581.473C268.762,-570.825 318.286,-558.009 360.642,-547.048\" fill=\"none\" stroke=\"black\"/>\n",
       "<polygon fill=\"black\" points=\"361.598,-550.416 370.402,-544.522 359.844,-543.639 361.598,-550.416\" stroke=\"black\"/>\n",
       "</g>\n",
       "<!-- 140104718446832 -->\n",
       "<g class=\"node\" id=\"node9\"><title>140104718446832</title>\n",
       "<polygon fill=\"none\" points=\"183,-166.5 183,-212.5 726,-212.5 726,-166.5 183,-166.5\" stroke=\"black\"/>\n",
       "<text font-family=\"Times,serif\" font-size=\"14.00\" text-anchor=\"middle\" x=\"293.5\" y=\"-185.8\">concatenate_5: Concatenate</text>\n",
       "<polyline fill=\"none\" points=\"404,-166.5 404,-212.5 \" stroke=\"black\"/>\n",
       "<text font-family=\"Times,serif\" font-size=\"14.00\" text-anchor=\"middle\" x=\"438\" y=\"-197.3\">input:</text>\n",
       "<polyline fill=\"none\" points=\"404,-189.5 472,-189.5 \" stroke=\"black\"/>\n",
       "<text font-family=\"Times,serif\" font-size=\"14.00\" text-anchor=\"middle\" x=\"438\" y=\"-174.3\">output:</text>\n",
       "<polyline fill=\"none\" points=\"472,-166.5 472,-212.5 \" stroke=\"black\"/>\n",
       "<text font-family=\"Times,serif\" font-size=\"14.00\" text-anchor=\"middle\" x=\"599\" y=\"-197.3\">[(None, 2), (None, 7), (None, 24)]</text>\n",
       "<polyline fill=\"none\" points=\"472,-189.5 726,-189.5 \" stroke=\"black\"/>\n",
       "<text font-family=\"Times,serif\" font-size=\"14.00\" text-anchor=\"middle\" x=\"599\" y=\"-174.3\">(None, 33)</text>\n",
       "</g>\n",
       "<!-- 140104716057792&#45;&gt;140104718446832 -->\n",
       "<g class=\"edge\" id=\"edge10\"><title>140104716057792-&gt;140104718446832</title>\n",
       "<path d=\"M143.378,-581.487C144.555,-550.014 146.5,-490.338 146.5,-439.5 146.5,-439.5 146.5,-439.5 146.5,-354.5 146.5,-278.105 221.239,-237.179 297.083,-215.315\" fill=\"none\" stroke=\"black\"/>\n",
       "<polygon fill=\"black\" points=\"298.116,-218.661 306.815,-212.613 296.243,-211.916 298.116,-218.661\" stroke=\"black\"/>\n",
       "</g>\n",
       "<!-- 140104925191192 -->\n",
       "<g class=\"node\" id=\"node3\"><title>140104925191192</title>\n",
       "<polygon fill=\"none\" points=\"626,-581.5 626,-627.5 927,-627.5 927,-581.5 626,-581.5\" stroke=\"black\"/>\n",
       "<text font-family=\"Times,serif\" font-size=\"14.00\" text-anchor=\"middle\" x=\"696.5\" y=\"-600.8\">Time: InputLayer</text>\n",
       "<polyline fill=\"none\" points=\"767,-581.5 767,-627.5 \" stroke=\"black\"/>\n",
       "<text font-family=\"Times,serif\" font-size=\"14.00\" text-anchor=\"middle\" x=\"801\" y=\"-612.3\">input:</text>\n",
       "<polyline fill=\"none\" points=\"767,-604.5 835,-604.5 \" stroke=\"black\"/>\n",
       "<text font-family=\"Times,serif\" font-size=\"14.00\" text-anchor=\"middle\" x=\"801\" y=\"-589.3\">output:</text>\n",
       "<polyline fill=\"none\" points=\"835,-581.5 835,-627.5 \" stroke=\"black\"/>\n",
       "<text font-family=\"Times,serif\" font-size=\"14.00\" text-anchor=\"middle\" x=\"881\" y=\"-612.3\">(None, 24)</text>\n",
       "<polyline fill=\"none\" points=\"835,-604.5 927,-604.5 \" stroke=\"black\"/>\n",
       "<text font-family=\"Times,serif\" font-size=\"14.00\" text-anchor=\"middle\" x=\"881\" y=\"-589.3\">(None, 24)</text>\n",
       "</g>\n",
       "<!-- 140104925191192&#45;&gt;140104716056616 -->\n",
       "<g class=\"edge\" id=\"edge3\"><title>140104925191192-&gt;140104716056616</title>\n",
       "<path d=\"M689.209,-581.473C646.922,-570.803 596.007,-557.955 552.508,-546.979\" fill=\"none\" stroke=\"black\"/>\n",
       "<polygon fill=\"black\" points=\"553.326,-543.575 542.773,-544.522 551.613,-550.363 553.326,-543.575\" stroke=\"black\"/>\n",
       "</g>\n",
       "<!-- 140104925191192&#45;&gt;140104718446832 -->\n",
       "<g class=\"edge\" id=\"edge11\"><title>140104925191192-&gt;140104718446832</title>\n",
       "<path d=\"M774.503,-581.239C771.851,-549.717 767.5,-490.257 767.5,-439.5 767.5,-439.5 767.5,-439.5 767.5,-354.5 767.5,-278.019 693.271,-237.135 617.11,-215.315\" fill=\"none\" stroke=\"black\"/>\n",
       "<polygon fill=\"black\" points=\"617.903,-211.903 607.332,-212.619 616.042,-218.652 617.903,-211.903\" stroke=\"black\"/>\n",
       "</g>\n",
       "<!-- 140104700620192 -->\n",
       "<g class=\"node\" id=\"node5\"><title>140104700620192</title>\n",
       "<polygon fill=\"none\" points=\"300.5,-415.5 300.5,-461.5 610.5,-461.5 610.5,-415.5 300.5,-415.5\" stroke=\"black\"/>\n",
       "<text font-family=\"Times,serif\" font-size=\"14.00\" text-anchor=\"middle\" x=\"375.5\" y=\"-434.8\">Encoder_H: Dense</text>\n",
       "<polyline fill=\"none\" points=\"450.5,-415.5 450.5,-461.5 \" stroke=\"black\"/>\n",
       "<text font-family=\"Times,serif\" font-size=\"14.00\" text-anchor=\"middle\" x=\"484.5\" y=\"-446.3\">input:</text>\n",
       "<polyline fill=\"none\" points=\"450.5,-438.5 518.5,-438.5 \" stroke=\"black\"/>\n",
       "<text font-family=\"Times,serif\" font-size=\"14.00\" text-anchor=\"middle\" x=\"484.5\" y=\"-423.3\">output:</text>\n",
       "<polyline fill=\"none\" points=\"518.5,-415.5 518.5,-461.5 \" stroke=\"black\"/>\n",
       "<text font-family=\"Times,serif\" font-size=\"14.00\" text-anchor=\"middle\" x=\"564.5\" y=\"-446.3\">(None, 46)</text>\n",
       "<polyline fill=\"none\" points=\"518.5,-438.5 610.5,-438.5 \" stroke=\"black\"/>\n",
       "<text font-family=\"Times,serif\" font-size=\"14.00\" text-anchor=\"middle\" x=\"564.5\" y=\"-423.3\">(None, 8)</text>\n",
       "</g>\n",
       "<!-- 140104716056616&#45;&gt;140104700620192 -->\n",
       "<g class=\"edge\" id=\"edge4\"><title>140104716056616-&gt;140104700620192</title>\n",
       "<path d=\"M455.5,-498.366C455.5,-490.152 455.5,-480.658 455.5,-471.725\" fill=\"none\" stroke=\"black\"/>\n",
       "<polygon fill=\"black\" points=\"459,-471.607 455.5,-461.607 452,-471.607 459,-471.607\" stroke=\"black\"/>\n",
       "</g>\n",
       "<!-- 140104700618624 -->\n",
       "<g class=\"node\" id=\"node6\"><title>140104700618624</title>\n",
       "<polygon fill=\"none\" points=\"191,-332.5 191,-378.5 434,-378.5 434,-332.5 191,-332.5\" stroke=\"black\"/>\n",
       "<text font-family=\"Times,serif\" font-size=\"14.00\" text-anchor=\"middle\" x=\"237\" y=\"-351.8\">mu: Dense</text>\n",
       "<polyline fill=\"none\" points=\"283,-332.5 283,-378.5 \" stroke=\"black\"/>\n",
       "<text font-family=\"Times,serif\" font-size=\"14.00\" text-anchor=\"middle\" x=\"317\" y=\"-363.3\">input:</text>\n",
       "<polyline fill=\"none\" points=\"283,-355.5 351,-355.5 \" stroke=\"black\"/>\n",
       "<text font-family=\"Times,serif\" font-size=\"14.00\" text-anchor=\"middle\" x=\"317\" y=\"-340.3\">output:</text>\n",
       "<polyline fill=\"none\" points=\"351,-332.5 351,-378.5 \" stroke=\"black\"/>\n",
       "<text font-family=\"Times,serif\" font-size=\"14.00\" text-anchor=\"middle\" x=\"392.5\" y=\"-363.3\">(None, 8)</text>\n",
       "<polyline fill=\"none\" points=\"351,-355.5 434,-355.5 \" stroke=\"black\"/>\n",
       "<text font-family=\"Times,serif\" font-size=\"14.00\" text-anchor=\"middle\" x=\"392.5\" y=\"-340.3\">(None, 2)</text>\n",
       "</g>\n",
       "<!-- 140104700620192&#45;&gt;140104700618624 -->\n",
       "<g class=\"edge\" id=\"edge5\"><title>140104700620192-&gt;140104700618624</title>\n",
       "<path d=\"M416.425,-415.366C399.085,-405.544 378.517,-393.894 360.273,-383.56\" fill=\"none\" stroke=\"black\"/>\n",
       "<polygon fill=\"black\" points=\"361.954,-380.49 351.528,-378.607 358.504,-386.581 361.954,-380.49\" stroke=\"black\"/>\n",
       "</g>\n",
       "<!-- 140104715978176 -->\n",
       "<g class=\"node\" id=\"node7\"><title>140104715978176</title>\n",
       "<polygon fill=\"none\" points=\"452.5,-332.5 452.5,-378.5 728.5,-378.5 728.5,-332.5 452.5,-332.5\" stroke=\"black\"/>\n",
       "<text font-family=\"Times,serif\" font-size=\"14.00\" text-anchor=\"middle\" x=\"515\" y=\"-351.8\">l_sigma: Dense</text>\n",
       "<polyline fill=\"none\" points=\"577.5,-332.5 577.5,-378.5 \" stroke=\"black\"/>\n",
       "<text font-family=\"Times,serif\" font-size=\"14.00\" text-anchor=\"middle\" x=\"611.5\" y=\"-363.3\">input:</text>\n",
       "<polyline fill=\"none\" points=\"577.5,-355.5 645.5,-355.5 \" stroke=\"black\"/>\n",
       "<text font-family=\"Times,serif\" font-size=\"14.00\" text-anchor=\"middle\" x=\"611.5\" y=\"-340.3\">output:</text>\n",
       "<polyline fill=\"none\" points=\"645.5,-332.5 645.5,-378.5 \" stroke=\"black\"/>\n",
       "<text font-family=\"Times,serif\" font-size=\"14.00\" text-anchor=\"middle\" x=\"687\" y=\"-363.3\">(None, 8)</text>\n",
       "<polyline fill=\"none\" points=\"645.5,-355.5 728.5,-355.5 \" stroke=\"black\"/>\n",
       "<text font-family=\"Times,serif\" font-size=\"14.00\" text-anchor=\"middle\" x=\"687\" y=\"-340.3\">(None, 2)</text>\n",
       "</g>\n",
       "<!-- 140104700620192&#45;&gt;140104715978176 -->\n",
       "<g class=\"edge\" id=\"edge6\"><title>140104700620192-&gt;140104715978176</title>\n",
       "<path d=\"M492.389,-415.366C508.61,-405.634 527.824,-394.106 544.929,-383.842\" fill=\"none\" stroke=\"black\"/>\n",
       "<polygon fill=\"black\" points=\"546.881,-386.753 553.655,-378.607 543.28,-380.751 546.881,-386.753\" stroke=\"black\"/>\n",
       "</g>\n",
       "<!-- 140104716056840 -->\n",
       "<g class=\"node\" id=\"node8\"><title>140104716056840</title>\n",
       "<polygon fill=\"none\" points=\"260.5,-249.5 260.5,-295.5 648.5,-295.5 648.5,-249.5 260.5,-249.5\" stroke=\"black\"/>\n",
       "<text font-family=\"Times,serif\" font-size=\"14.00\" text-anchor=\"middle\" x=\"335.5\" y=\"-268.8\">Sampling: Lambda</text>\n",
       "<polyline fill=\"none\" points=\"410.5,-249.5 410.5,-295.5 \" stroke=\"black\"/>\n",
       "<text font-family=\"Times,serif\" font-size=\"14.00\" text-anchor=\"middle\" x=\"444.5\" y=\"-280.3\">input:</text>\n",
       "<polyline fill=\"none\" points=\"410.5,-272.5 478.5,-272.5 \" stroke=\"black\"/>\n",
       "<text font-family=\"Times,serif\" font-size=\"14.00\" text-anchor=\"middle\" x=\"444.5\" y=\"-257.3\">output:</text>\n",
       "<polyline fill=\"none\" points=\"478.5,-249.5 478.5,-295.5 \" stroke=\"black\"/>\n",
       "<text font-family=\"Times,serif\" font-size=\"14.00\" text-anchor=\"middle\" x=\"563.5\" y=\"-280.3\">[(None, 2), (None, 2)]</text>\n",
       "<polyline fill=\"none\" points=\"478.5,-272.5 648.5,-272.5 \" stroke=\"black\"/>\n",
       "<text font-family=\"Times,serif\" font-size=\"14.00\" text-anchor=\"middle\" x=\"563.5\" y=\"-257.3\">(None, 2)</text>\n",
       "</g>\n",
       "<!-- 140104700618624&#45;&gt;140104716056840 -->\n",
       "<g class=\"edge\" id=\"edge7\"><title>140104700618624-&gt;140104716056840</title>\n",
       "<path d=\"M351.302,-332.366C368.364,-322.634 388.574,-311.106 406.566,-300.842\" fill=\"none\" stroke=\"black\"/>\n",
       "<polygon fill=\"black\" points=\"408.793,-303.602 415.745,-295.607 405.324,-297.522 408.793,-303.602\" stroke=\"black\"/>\n",
       "</g>\n",
       "<!-- 140104715978176&#45;&gt;140104716056840 -->\n",
       "<g class=\"edge\" id=\"edge8\"><title>140104715978176-&gt;140104716056840</title>\n",
       "<path d=\"M553.337,-332.366C536.996,-322.634 517.64,-311.106 500.408,-300.842\" fill=\"none\" stroke=\"black\"/>\n",
       "<polygon fill=\"black\" points=\"502,-297.717 491.618,-295.607 498.418,-303.731 502,-297.717\" stroke=\"black\"/>\n",
       "</g>\n",
       "<!-- 140104716056840&#45;&gt;140104718446832 -->\n",
       "<g class=\"edge\" id=\"edge9\"><title>140104716056840-&gt;140104718446832</title>\n",
       "<path d=\"M454.5,-249.366C454.5,-241.152 454.5,-231.658 454.5,-222.725\" fill=\"none\" stroke=\"black\"/>\n",
       "<polygon fill=\"black\" points=\"458,-222.607 454.5,-212.607 451,-222.607 458,-222.607\" stroke=\"black\"/>\n",
       "</g>\n",
       "<!-- 140104718449688 -->\n",
       "<g class=\"node\" id=\"node10\"><title>140104718449688</title>\n",
       "<polygon fill=\"none\" points=\"299.5,-83.5 299.5,-129.5 609.5,-129.5 609.5,-83.5 299.5,-83.5\" stroke=\"black\"/>\n",
       "<text font-family=\"Times,serif\" font-size=\"14.00\" text-anchor=\"middle\" x=\"374.5\" y=\"-102.8\">Decoder_H: Dense</text>\n",
       "<polyline fill=\"none\" points=\"449.5,-83.5 449.5,-129.5 \" stroke=\"black\"/>\n",
       "<text font-family=\"Times,serif\" font-size=\"14.00\" text-anchor=\"middle\" x=\"483.5\" y=\"-114.3\">input:</text>\n",
       "<polyline fill=\"none\" points=\"449.5,-106.5 517.5,-106.5 \" stroke=\"black\"/>\n",
       "<text font-family=\"Times,serif\" font-size=\"14.00\" text-anchor=\"middle\" x=\"483.5\" y=\"-91.3\">output:</text>\n",
       "<polyline fill=\"none\" points=\"517.5,-83.5 517.5,-129.5 \" stroke=\"black\"/>\n",
       "<text font-family=\"Times,serif\" font-size=\"14.00\" text-anchor=\"middle\" x=\"563.5\" y=\"-114.3\">(None, 33)</text>\n",
       "<polyline fill=\"none\" points=\"517.5,-106.5 609.5,-106.5 \" stroke=\"black\"/>\n",
       "<text font-family=\"Times,serif\" font-size=\"14.00\" text-anchor=\"middle\" x=\"563.5\" y=\"-91.3\">(None, 8)</text>\n",
       "</g>\n",
       "<!-- 140104718446832&#45;&gt;140104718449688 -->\n",
       "<g class=\"edge\" id=\"edge12\"><title>140104718446832-&gt;140104718449688</title>\n",
       "<path d=\"M454.5,-166.366C454.5,-158.152 454.5,-148.658 454.5,-139.725\" fill=\"none\" stroke=\"black\"/>\n",
       "<polygon fill=\"black\" points=\"458,-139.607 454.5,-129.607 451,-139.607 458,-139.607\" stroke=\"black\"/>\n",
       "</g>\n",
       "<!-- 140104959450136 -->\n",
       "<g class=\"node\" id=\"node11\"><title>140104959450136</title>\n",
       "<polygon fill=\"none\" points=\"314.5,-0.5 314.5,-46.5 594.5,-46.5 594.5,-0.5 314.5,-0.5\" stroke=\"black\"/>\n",
       "<text font-family=\"Times,serif\" font-size=\"14.00\" text-anchor=\"middle\" x=\"374.5\" y=\"-19.8\">Output: Dense</text>\n",
       "<polyline fill=\"none\" points=\"434.5,-0.5 434.5,-46.5 \" stroke=\"black\"/>\n",
       "<text font-family=\"Times,serif\" font-size=\"14.00\" text-anchor=\"middle\" x=\"468.5\" y=\"-31.3\">input:</text>\n",
       "<polyline fill=\"none\" points=\"434.5,-23.5 502.5,-23.5 \" stroke=\"black\"/>\n",
       "<text font-family=\"Times,serif\" font-size=\"14.00\" text-anchor=\"middle\" x=\"468.5\" y=\"-8.3\">output:</text>\n",
       "<polyline fill=\"none\" points=\"502.5,-0.5 502.5,-46.5 \" stroke=\"black\"/>\n",
       "<text font-family=\"Times,serif\" font-size=\"14.00\" text-anchor=\"middle\" x=\"548.5\" y=\"-31.3\">(None, 8)</text>\n",
       "<polyline fill=\"none\" points=\"502.5,-23.5 594.5,-23.5 \" stroke=\"black\"/>\n",
       "<text font-family=\"Times,serif\" font-size=\"14.00\" text-anchor=\"middle\" x=\"548.5\" y=\"-8.3\">(None, 15)</text>\n",
       "</g>\n",
       "<!-- 140104718449688&#45;&gt;140104959450136 -->\n",
       "<g class=\"edge\" id=\"edge13\"><title>140104718449688-&gt;140104959450136</title>\n",
       "<path d=\"M454.5,-83.3664C454.5,-75.1516 454.5,-65.6579 454.5,-56.7252\" fill=\"none\" stroke=\"black\"/>\n",
       "<polygon fill=\"black\" points=\"458,-56.6068 454.5,-46.6068 451,-56.6069 458,-56.6068\" stroke=\"black\"/>\n",
       "</g>\n",
       "</g>\n",
       "</svg>"
      ],
      "text/plain": [
       "<IPython.core.display.SVG object>"
      ]
     },
     "execution_count": 21,
     "metadata": {},
     "output_type": "execute_result"
    }
   ],
   "source": [
    "SVG(model_to_dot(c_dt_vae, show_shapes=True, show_layer_names=True).create(prog='dot', format='svg'))"
   ]
  },
  {
   "cell_type": "code",
   "execution_count": 22,
   "metadata": {},
   "outputs": [
    {
     "data": {
      "application/vnd.jupyter.widget-view+json": {
       "model_id": "140bb77668e14af0a1ecceb94f36a59a"
      }
     },
     "metadata": {},
     "output_type": "display_data"
    },
    {
     "data": {
      "application/vnd.jupyter.widget-view+json": {
       "model_id": "37cedb5aedee42f584f1be5494c58277"
      }
     },
     "metadata": {},
     "output_type": "display_data"
    },
    {
     "data": {
      "application/vnd.jupyter.widget-view+json": {
       "model_id": "c0100ef7bac046e481d82c33df82da18"
      }
     },
     "metadata": {},
     "output_type": "display_data"
    },
    {
     "data": {
      "application/vnd.jupyter.widget-view+json": {
       "model_id": "255cffa16f0e44a6ac0d258ccdbc1e80"
      }
     },
     "metadata": {},
     "output_type": "display_data"
    },
    {
     "data": {
      "application/vnd.jupyter.widget-view+json": {
       "model_id": "4e4915552e384748b587a8cec0cfd8f1"
      }
     },
     "metadata": {},
     "output_type": "display_data"
    },
    {
     "data": {
      "application/vnd.jupyter.widget-view+json": {
       "model_id": "b6b2bdc0317f42168b119f00281e93e1"
      }
     },
     "metadata": {},
     "output_type": "display_data"
    },
    {
     "data": {
      "application/vnd.jupyter.widget-view+json": {
       "model_id": "29846625432448c48840e53e8bdb68a0"
      }
     },
     "metadata": {},
     "output_type": "display_data"
    },
    {
     "data": {
      "application/vnd.jupyter.widget-view+json": {
       "model_id": "f8bcf5a3ba5b4e45811ae91d06475fe9"
      }
     },
     "metadata": {},
     "output_type": "display_data"
    },
    {
     "data": {
      "application/vnd.jupyter.widget-view+json": {
       "model_id": "d02f5bb329b04602a5efc17ff6179b8f"
      }
     },
     "metadata": {},
     "output_type": "display_data"
    },
    {
     "name": "stdout",
     "output_type": "stream",
     "text": [
      "\n"
     ]
    }
   ],
   "source": [
    "# compile and fit\n",
    "c_dt_vae.compile(optimizer=optim, loss=vae_loss, metrics = [KL_loss, recon_loss])\n",
    "c_dt_vae_hist = c_dt_vae.fit([data_['y_train_c'], \n",
    "                             to_categorical(data_['y_train_d']), \n",
    "                             to_categorical(data_['y_train_t'])], \n",
    "                            data_['y_train_c'], \n",
    "                            verbose = 0, \n",
    "                            batch_size=m, \n",
    "                            epochs=n_epoch,\n",
    "                            validation_data = (\n",
    "                                [data_['y_test_c'], \n",
    "                                 to_categorical(data_['y_test_d']),\n",
    "                                 to_categorical(data_['y_test_t'])], \n",
    "                                data_['y_test_c']),\n",
    "                            callbacks = [EarlyStopping(patience = 5),\n",
    "                                         TQDMNotebookCallback(metric_format=\"{name}: {value:0.4f}\",\n",
    "                                                              leave_outer=True)])"
   ]
  },
  {
   "cell_type": "code",
   "execution_count": 23,
   "metadata": {},
   "outputs": [
    {
     "name": "stdout",
     "output_type": "stream",
     "text": [
      "(18280, 2)\n"
     ]
    }
   ],
   "source": [
    "z_train = encoder_dt.predict([data_['yc'], to_categorical(data_['yd']), to_categorical(data_['yt'])])\n",
    "encodings_dt = np.asarray(z_train)\n",
    "encodings_dt = encodings_dt.reshape(data_['yc'].shape[0], n_z)\n",
    "print(encodings_dt.shape)"
   ]
  },
  {
   "cell_type": "code",
   "execution_count": 24,
   "metadata": {},
   "outputs": [
    {
     "data": {
      "text/html": [
       "<iframe id=\"igraph\" scrolling=\"no\" style=\"border:none;\" seamless=\"seamless\" src=\"https://plot.ly/~asturkmanics/73.embed\" height=\"525px\" width=\"100%\"></iframe>"
      ],
      "text/plain": [
       "<plotly.tools.PlotlyDisplay object>"
      ]
     },
     "execution_count": 24,
     "metadata": {},
     "output_type": "execute_result"
    }
   ],
   "source": [
    "x = encodings_dt[:,0]\n",
    "y = encodings_dt[:,1]\n",
    "t = ['<br>'.join(json.dumps(x).split(',')) for x in data_['y_labels']]\n",
    "\n",
    "trace1 = go.Scatter(\n",
    "    x=x,\n",
    "    y=y, \n",
    "    mode='markers',\n",
    "    marker=dict(color = data_['yc_colors'], opacity=0.8),\n",
    "    text = t\n",
    ")\n",
    "data = [trace1]\n",
    "layout = go.Layout(margin=dict(l=0,r=0,b=0,t=0))\n",
    "fig = go.Figure(data=data, layout=layout)\n",
    "py.iplot(fig, filename='C_d_VAE-Data')\n",
    "\n",
    "# plt.figure(figsize=(7, 7))\n",
    "# plt.scatter(encodings[:, 0], encodings[:, 1], c=data_['yc_colors'])\n",
    "# plt.show()"
   ]
  },
  {
   "cell_type": "markdown",
   "metadata": {},
   "source": [
    "## Analysis of VAE latent spaces\n",
    "    1. VAE: The model tries to find a latent space that clusters the data well as that is the most important information required to reconstruct the data points\n",
    "    2. VAE with time/day: we observe that the model drifts away from models with sharp modal properties and moves towards more gaussian shapes - this indicates the model benefits from the information in time/day conditionals which allow reconstruction to happen with drifting too much away from the standard normal prior.\n",
    "    3. VAE with time & day: here we observe the model moves attains a fairly acc"
   ]
  },
  {
   "cell_type": "code",
   "execution_count": 49,
   "metadata": {
    "collapsed": true
   },
   "outputs": [],
   "source": [
    "def construct_numvec(t,d, z = None):\n",
    "    out = np.zeros((1, n_z + n_d + n_t))\n",
    "    out[:, d + n_z] = 1.\n",
    "    out[:, 7 + n_z + t] = 1.\n",
    "    if z is None:\n",
    "        return(out)\n",
    "    else:\n",
    "        for i in range(len(z)):\n",
    "            out[:,i] = z[i]\n",
    "        return(out)"
   ]
  },
  {
   "cell_type": "code",
   "execution_count": 50,
   "metadata": {
    "collapsed": true
   },
   "outputs": [],
   "source": [
    "d = list()\n",
    "for day in range(7):\n",
    "    t = list()\n",
    "    for time in range(24):\n",
    "        t.append(decoder_dt.predict(construct_numvec(time, day)))\n",
    "    d.append(t)\n",
    "d = np.asarray(d).reshape((7,24,15))\n",
    "d_colors = list()\n",
    "for day in d:\n",
    "    d_colors.append(np.einsum('ij,jk->ik', day, data_['cmap']))\n",
    "d_colors = np.asarray(d_colors)*256"
   ]
  },
  {
   "cell_type": "markdown",
   "metadata": {},
   "source": [
    "## What the average week looks like"
   ]
  },
  {
   "cell_type": "code",
   "execution_count": 28,
   "metadata": {},
   "outputs": [
    {
     "name": "stderr",
     "output_type": "stream",
     "text": [
      "/home/asturkmani/anaconda3/lib/python3.6/site-packages/matplotlib/font_manager.py:1297: UserWarning:\n",
      "\n",
      "findfont: Font family ['sans-serif'] not found. Falling back to DejaVu Sans\n",
      "\n"
     ]
    },
    {
     "data": {
      "image/png": "[encoded data removed]",
      "text/plain": [
       "<matplotlib.figure.Figure at 0x7f6cb94d8be0>"
      ]
     },
     "metadata": {},
     "output_type": "display_data"
    }
   ],
   "source": [
    "plt.figure(figsize=(10, 10))\n",
    "plt.imshow(d_colors)\n",
    "plt.show()"
   ]
  },
  {
   "cell_type": "markdown",
   "metadata": {},
   "source": [
    "## What a Monday afternoon could look like"
   ]
  },
  {
   "cell_type": "code",
   "execution_count": 85,
   "metadata": {
    "collapsed": true
   },
   "outputs": [],
   "source": [
    "day = 1\n",
    "time = 12\n",
    "sides = 8\n",
    "max_z = 1\n",
    "\n",
    "img_it = 0\n",
    "imz = np.zeros((8,8,3))\n",
    "for i in range(0, sides):\n",
    "    z1 = (((i / (sides-1)) * max_z)*2) - max_z\n",
    "    for j in range(0, sides):\n",
    "        z2 = (((j / (sides-1)) * max_z)*2) - max_z\n",
    "        z_ = [z1, z2]\n",
    "        vec = construct_numvec(12, 1, z_)\n",
    "        decoded = decoder_dt.predict(vec)\n",
    "        decoded = np.einsum('ij,jk->ik', decoded, data_['cmap'])\n",
    "        img_it +=1\n",
    "        imz[i,j,:] = decoded\n",
    "imz = np.asarray(imz)"
   ]
  },
  {
   "cell_type": "code",
   "execution_count": 86,
   "metadata": {},
   "outputs": [
    {
     "name": "stderr",
     "output_type": "stream",
     "text": [
      "/home/asturkmani/anaconda3/lib/python3.6/site-packages/matplotlib/font_manager.py:1297: UserWarning:\n",
      "\n",
      "findfont: Font family ['sans-serif'] not found. Falling back to DejaVu Sans\n",
      "\n"
     ]
    },
    {
     "data": {
      "image/png": "[encoded data removed]",
      "text/plain": [
       "<matplotlib.figure.Figure at 0x7f6cb9064908>"
      ]
     },
     "metadata": {},
     "output_type": "display_data"
    }
   ],
   "source": [
    "plt.figure(figsize=(10, 10))\n",
    "plt.imshow(imz, extent=[-max_z,max_z,-max_z,max_z])\n",
    "plt.show()"
   ]
  },
  {
   "cell_type": "markdown",
   "metadata": {},
   "source": [
    "# Analysis:\n",
    "    1. While more structure certainly exists with this encoding, it clearly is not enough and simply using static point in time samples doesn't convey embedded structure. Statics points lack temporal information which is essential in modeling and understanding app-usage behaviour. Next, we train an LSTM and encode the hidden state to explore whether that includes more/better information\n"
   ]
  }
 ],
 "metadata": {
  "kernelspec": {
   "display_name": "Python [default]",
   "language": "python",
   "name": "python3"
  },
  "language_info": {
   "codemirror_mode": {
    "name": "ipython",
    "version": 3
   },
   "file_extension": ".py",
   "mimetype": "text/x-python",
   "name": "python",
   "nbconvert_exporter": "python",
   "pygments_lexer": "ipython3",
   "version": "3.5.3"
  }
 },
 "nbformat": 4,
 "nbformat_minor": 2
}
